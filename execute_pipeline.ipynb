{
 "cells": [
  {
   "cell_type": "markdown",
   "metadata": {},
   "source": [
    "### Process Tiff Stack"
   ]
  },
  {
   "cell_type": "code",
   "execution_count": 1,
   "metadata": {},
   "outputs": [],
   "source": [
    "from pvd_par import PVD"
   ]
  },
  {
   "cell_type": "code",
   "execution_count": 2,
   "metadata": {},
   "outputs": [],
   "source": [
    "# Set paths\n",
    "data_path = 'S:/pvd_data/'\n",
    "dataset = 'DataSet04'\n",
    "session = 'expDS4_30'\n",
    "tiff_stack_path = f\"{data_path}/{dataset}/{session}_/{session}.tif\"\n",
    "\n",
    "output_path = f\"output/{dataset}/{session}/\"\n",
    "\n",
    "# Original test worm: exp240202_01_E\n",
    "#tiff_stack_path = 'A:/Git Repos/worm-warp/stacks/exp240202_01_E.tif'"
   ]
  },
  {
   "cell_type": "code",
   "execution_count": 3,
   "metadata": {},
   "outputs": [],
   "source": [
    "# Plotly scatter3d of skeleton/nodes\n",
    "save_plot = False\n",
    "show_plot = False"
   ]
  },
  {
   "cell_type": "code",
   "execution_count": 4,
   "metadata": {},
   "outputs": [
    {
     "name": "stdout",
     "output_type": "stream",
     "text": [
      "Starting pipeline\n",
      "Loaded raw data with shape: (4, 84, 2044, 2042)\n",
      "Skeletonizing timepoint 0\n",
      "Skeletonizing timepoint 1\n",
      "Skeletonizing timepoint 2\n",
      "Skeletonizing timepoint 3\n",
      "Completed skeletonizing timepoint 0\n",
      "Completed skeletonizing timepoint 1\n",
      "Completed skeletonizing timepoint 2\n",
      "Completed skeletonizing timepoint 3\n",
      "Skeletonized data shape: [(84, 2044, 2042), (84, 2044, 2042), (84, 2044, 2042), (84, 2044, 2042)]\n",
      "Number of tips per timepoint: [55, 64, 74, 71]\n",
      "Number of knots per timepoint: [82, 116, 112, 112]\n",
      "Pipeline completed\n"
     ]
    }
   ],
   "source": [
    "# Execute pipeline\n",
    "pvd = PVD(tiff_stack_path)\n",
    "pvd.run_pipeline()"
   ]
  },
  {
   "cell_type": "code",
   "execution_count": 5,
   "metadata": {},
   "outputs": [],
   "source": [
    "# Save relevant numpy arrays\n",
    "pvd.save_results(output_path, save_tiff=False)  # Add a folder creator for the specific data"
   ]
  },
  {
   "cell_type": "markdown",
   "metadata": {},
   "source": [
    "### Visualize Output"
   ]
  },
  {
   "cell_type": "code",
   "execution_count": 6,
   "metadata": {},
   "outputs": [],
   "source": [
    "import matplotlib.pyplot as plt\n",
    "import plotly.graph_objects as go\n",
    "import plotly.io as pio\n",
    "import numpy as np"
   ]
  },
  {
   "cell_type": "code",
   "execution_count": 7,
   "metadata": {},
   "outputs": [],
   "source": [
    "# # Check out MIP Masks\n",
    "# fig, axs = plt.subplots(2, 2, figsize=(12, 12))\n",
    "# axs = axs.ravel()  # Flatten the axis array if necessary\n",
    "\n",
    "# for ii in range(4):\n",
    "#     axs[ii].imshow(pvd.mip_masks[ii].astype(np.uint8))\n",
    "#     axs[ii].set_title(f'Timepoint {ii}')\n",
    "#     axs[ii].axis('off')"
   ]
  },
  {
   "cell_type": "markdown",
   "metadata": {},
   "source": [
    "### Skeleton and Nodes"
   ]
  },
  {
   "cell_type": "code",
   "execution_count": 8,
   "metadata": {},
   "outputs": [],
   "source": [
    "# Timepoint of interest (0 to 3)\n",
    "timepoint = 3\n",
    "\n",
    "# Prepare skeleton data for plotting\n",
    "image_stack = np.transpose(pvd.skeletonized_data[timepoint], (1, 2, 0))\n",
    "x, y, z = image_stack.shape\n",
    "Y, X, Z = np.meshgrid(np.arange(y), np.arange(x), np.arange(z))\n",
    "colors = image_stack.ravel()\n",
    "\n",
    "# Extract background points\n",
    "visible_mask = colors != 0\n",
    "\n",
    "# Extract coordinates for skeleton tips\n",
    "tips_z = [point[0] for point in pvd.tips[timepoint]]\n",
    "tips_x = [point[1] for point in pvd.tips[timepoint]]\n",
    "tips_y = [point[2] for point in pvd.tips[timepoint]]\n",
    "\n",
    "# Extract coordinates for skeleton knots\n",
    "knot_z = [point[0] for point in pvd.knots[timepoint]]\n",
    "knot_x = [point[1] for point in pvd.knots[timepoint]]\n",
    "knot_y = [point[2] for point in pvd.knots[timepoint]]\n",
    "\n",
    "# Plotly figure\n",
    "fig = go.Figure()\n",
    "\n",
    "# Skeleton tips\n",
    "fig.add_trace(go.Scatter3d(\n",
    "    x=tips_x,\n",
    "    y=tips_y,\n",
    "    z=tips_z,\n",
    "    mode='markers',  # Use 'lines' for a line plot or 'markers+lines' for both\n",
    "    marker=dict(\n",
    "        size=5,\n",
    "        color='red',  # You can customize the color\n",
    "        opacity=.9\n",
    "    )\n",
    "))\n",
    "\n",
    "# Skeleton knots\n",
    "fig.add_trace(go.Scatter3d(\n",
    "    x=knot_x,\n",
    "    y=knot_y,\n",
    "    z=knot_z,\n",
    "    mode='markers',  # Use 'lines' for a line plot or 'markers+lines' for both\n",
    "    marker=dict(\n",
    "        size=4,\n",
    "        color='blue',  # You can customize the color\n",
    "        opacity=.9\n",
    "    )\n",
    "))\n",
    "\n",
    "# Skeleton structure\n",
    "fig.add_trace(go.Scatter3d(\n",
    "    x=X.ravel()[visible_mask],\n",
    "    y=Y.ravel()[visible_mask],\n",
    "    z=Z.ravel()[visible_mask],\n",
    "    mode='markers',\n",
    "    marker=dict(\n",
    "        size=2,\n",
    "        color='black',\n",
    "        colorscale='Viridis',\n",
    "        opacity=.1\n",
    "    )\n",
    "))\n",
    "\n",
    "# Update layout\n",
    "fig.update_layout(\n",
    "    title=f\"C. Elegans PVD Neuron: <b>{session}</b><br>Timepoint: <b>{timepoint}</b>\",\n",
    "    scene=dict(\n",
    "        xaxis_title='X (pixels)',\n",
    "        yaxis_title='Y (pixels)',\n",
    "        zaxis_title='Z (image index)',\n",
    "        aspectmode='manual',\n",
    "        aspectratio=dict(x=1, y=1, z=.2),  # Adjust z-axis scale if desired\n",
    "        zaxis=dict(range=[0, pvd.skeletonized_data[timepoint].shape[0]]),  # Set z-axis bounds\n",
    "        xaxis=dict(range=[0, pvd.skeletonized_data[timepoint].shape[1]]),  # Set x-axis bounds\n",
    "        yaxis=dict(range=[0, pvd.skeletonized_data[timepoint].shape[2]]),  # Set y-axis bounds\n",
    "\n",
    "    ),\n",
    "    autosize=True\n",
    "\n",
    ")\n",
    "\n",
    "# Save the plot to an HTML file\n",
    "if save_plot:\n",
    "    pio.write_html(fig, file=f'plots/{session}_skeleton_{timepoint}.html', auto_open=True)\n",
    "\n",
    "# Show plot\n",
    "if show_plot:\n",
    "    fig.show()"
   ]
  }
 ],
 "metadata": {
  "kernelspec": {
   "display_name": "base",
   "language": "python",
   "name": "python3"
  },
  "language_info": {
   "codemirror_mode": {
    "name": "ipython",
    "version": 3
   },
   "file_extension": ".py",
   "mimetype": "text/x-python",
   "name": "python",
   "nbconvert_exporter": "python",
   "pygments_lexer": "ipython3",
   "version": "3.11.4"
  }
 },
 "nbformat": 4,
 "nbformat_minor": 2
}
