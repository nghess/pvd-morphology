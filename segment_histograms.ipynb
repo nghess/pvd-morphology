{
 "cells": [
  {
   "cell_type": "code",
   "execution_count": 274,
   "metadata": {},
   "outputs": [],
   "source": [
    "import json\n",
    "import pickle\n",
    "import numpy as np\n",
    "import pandas as pd\n",
    "import plotly.express as px\n",
    "from pvd_io import *"
   ]
  },
  {
   "cell_type": "markdown",
   "metadata": {},
   "source": [
    "### Load Pairwise Segment Data"
   ]
  },
  {
   "cell_type": "code",
   "execution_count": 275,
   "metadata": {},
   "outputs": [
    {
     "name": "stdout",
     "output_type": "stream",
     "text": [
      "Located 47 matched segment lists.\n"
     ]
    }
   ],
   "source": [
    "data_dir = 'pvd_analysis/'\n",
    "min_file_size = 1e3  # 1 kb\n",
    "datasets, sessions, files = scan_directories(data_dir, min_file_size, filetype='voxels.pkl')\n",
    "print(f\"Located {len(files)} matched segment lists.\")"
   ]
  },
  {
   "cell_type": "code",
   "execution_count": 276,
   "metadata": {},
   "outputs": [],
   "source": [
    "# Load Pickled lists of change matrices\n",
    "matched_segments_voxels = []\n",
    "matched_segments_spline = []\n",
    "\n",
    "for ii, session in enumerate(sessions):\n",
    "\n",
    "    file_path_vx = f\"{data_dir}/{datasets[ii]}/{session}/length_change_voxels.pkl\"\n",
    "    file_path_sp = f\"{data_dir}/{datasets[ii]}/{session}/length_change_spline.pkl\"\n",
    "\n",
    "    with open(file_path_vx, 'rb') as file:\n",
    "        session_segments_vx = pickle.load(file)\n",
    "    with open(file_path_sp, 'rb') as file:\n",
    "        session_segments_sp = pickle.load(file)\n",
    "\n",
    "    matched_segments_voxels.append(session_segments_vx)\n",
    "    matched_segments_spline.append(session_segments_sp)"
   ]
  },
  {
   "cell_type": "markdown",
   "metadata": {},
   "source": [
    "### Create Dataframe"
   ]
  },
  {
   "cell_type": "code",
   "execution_count": 277,
   "metadata": {},
   "outputs": [],
   "source": [
    "# Take all sessions and extract pairwise changes to a pandas df\n",
    "seg_changes = []\n",
    "seg_dataset = []\n",
    "seg_session = []\n",
    "seg_timept = []\n",
    "seg_id = []\n",
    "\n",
    "# Calculate pairwise changes and populate related lists for columns\n",
    "for ii, matched_segments in enumerate(matched_segments_voxels):\n",
    "    for kk, segment in enumerate(matched_segments):\n",
    "        for vv in range(segment.shape[0]-1):\n",
    "            change = segment[vv+1, vv]\n",
    "            seg_changes.append(change)\n",
    "            seg_dataset.append(datasets[ii])\n",
    "            seg_session.append(sessions[ii])\n",
    "            seg_timept.append(vv+1)\n",
    "            seg_id.append(kk)\n",
    "\n",
    "# Create pandas dataframe from lists\n",
    "seg_change_df = pd.DataFrame({'pairwise_change': seg_changes, 'timepoint': seg_timept, 'segment_id': seg_id, 'dataset': seg_dataset, 'session': seg_session})\n",
    "\n",
    "# Remove underscores from session directory names, if needed.\n",
    "def remove_trailing_underscore(value):\n",
    "    if isinstance(value, str) and value.endswith('_'):\n",
    "        return value[:-1]\n",
    "    return value\n",
    "\n",
    "seg_change_df = seg_change_df.map(remove_trailing_underscore)\n",
    "\n",
    "# Load conditions key and map to session values\n",
    "with open('session_conditions.json', 'rb') as f:\n",
    "    session_conditions = json.load(f)\n",
    "\n",
    "seg_change_df['condition'] = seg_change_df['session'].map(session_conditions)"
   ]
  },
  {
   "cell_type": "code",
   "execution_count": 278,
   "metadata": {},
   "outputs": [
    {
     "data": {
      "text/html": [
       "<div>\n",
       "<style scoped>\n",
       "    .dataframe tbody tr th:only-of-type {\n",
       "        vertical-align: middle;\n",
       "    }\n",
       "\n",
       "    .dataframe tbody tr th {\n",
       "        vertical-align: top;\n",
       "    }\n",
       "\n",
       "    .dataframe thead th {\n",
       "        text-align: right;\n",
       "    }\n",
       "</style>\n",
       "<table border=\"1\" class=\"dataframe\">\n",
       "  <thead>\n",
       "    <tr style=\"text-align: right;\">\n",
       "      <th></th>\n",
       "      <th>pairwise_change</th>\n",
       "      <th>timepoint</th>\n",
       "      <th>segment_id</th>\n",
       "      <th>dataset</th>\n",
       "      <th>session</th>\n",
       "      <th>condition</th>\n",
       "    </tr>\n",
       "  </thead>\n",
       "  <tbody>\n",
       "    <tr>\n",
       "      <th>3024</th>\n",
       "      <td>-4</td>\n",
       "      <td>1</td>\n",
       "      <td>0</td>\n",
       "      <td>DataSet04</td>\n",
       "      <td>expDS4_35</td>\n",
       "      <td>Control</td>\n",
       "    </tr>\n",
       "    <tr>\n",
       "      <th>3025</th>\n",
       "      <td>1</td>\n",
       "      <td>2</td>\n",
       "      <td>0</td>\n",
       "      <td>DataSet04</td>\n",
       "      <td>expDS4_35</td>\n",
       "      <td>Control</td>\n",
       "    </tr>\n",
       "    <tr>\n",
       "      <th>3026</th>\n",
       "      <td>-4</td>\n",
       "      <td>3</td>\n",
       "      <td>0</td>\n",
       "      <td>DataSet04</td>\n",
       "      <td>expDS4_35</td>\n",
       "      <td>Control</td>\n",
       "    </tr>\n",
       "    <tr>\n",
       "      <th>3027</th>\n",
       "      <td>2</td>\n",
       "      <td>1</td>\n",
       "      <td>1</td>\n",
       "      <td>DataSet04</td>\n",
       "      <td>expDS4_35</td>\n",
       "      <td>Control</td>\n",
       "    </tr>\n",
       "    <tr>\n",
       "      <th>3028</th>\n",
       "      <td>-2</td>\n",
       "      <td>2</td>\n",
       "      <td>1</td>\n",
       "      <td>DataSet04</td>\n",
       "      <td>expDS4_35</td>\n",
       "      <td>Control</td>\n",
       "    </tr>\n",
       "    <tr>\n",
       "      <th>...</th>\n",
       "      <td>...</td>\n",
       "      <td>...</td>\n",
       "      <td>...</td>\n",
       "      <td>...</td>\n",
       "      <td>...</td>\n",
       "      <td>...</td>\n",
       "    </tr>\n",
       "    <tr>\n",
       "      <th>3115</th>\n",
       "      <td>4</td>\n",
       "      <td>2</td>\n",
       "      <td>30</td>\n",
       "      <td>DataSet04</td>\n",
       "      <td>expDS4_35</td>\n",
       "      <td>Control</td>\n",
       "    </tr>\n",
       "    <tr>\n",
       "      <th>3116</th>\n",
       "      <td>0</td>\n",
       "      <td>3</td>\n",
       "      <td>30</td>\n",
       "      <td>DataSet04</td>\n",
       "      <td>expDS4_35</td>\n",
       "      <td>Control</td>\n",
       "    </tr>\n",
       "    <tr>\n",
       "      <th>3117</th>\n",
       "      <td>0</td>\n",
       "      <td>1</td>\n",
       "      <td>31</td>\n",
       "      <td>DataSet04</td>\n",
       "      <td>expDS4_35</td>\n",
       "      <td>Control</td>\n",
       "    </tr>\n",
       "    <tr>\n",
       "      <th>3118</th>\n",
       "      <td>-3</td>\n",
       "      <td>2</td>\n",
       "      <td>31</td>\n",
       "      <td>DataSet04</td>\n",
       "      <td>expDS4_35</td>\n",
       "      <td>Control</td>\n",
       "    </tr>\n",
       "    <tr>\n",
       "      <th>3119</th>\n",
       "      <td>-30</td>\n",
       "      <td>3</td>\n",
       "      <td>31</td>\n",
       "      <td>DataSet04</td>\n",
       "      <td>expDS4_35</td>\n",
       "      <td>Control</td>\n",
       "    </tr>\n",
       "  </tbody>\n",
       "</table>\n",
       "<p>96 rows × 6 columns</p>\n",
       "</div>"
      ],
      "text/plain": [
       "      pairwise_change  timepoint  segment_id    dataset    session condition\n",
       "3024               -4          1           0  DataSet04  expDS4_35   Control\n",
       "3025                1          2           0  DataSet04  expDS4_35   Control\n",
       "3026               -4          3           0  DataSet04  expDS4_35   Control\n",
       "3027                2          1           1  DataSet04  expDS4_35   Control\n",
       "3028               -2          2           1  DataSet04  expDS4_35   Control\n",
       "...               ...        ...         ...        ...        ...       ...\n",
       "3115                4          2          30  DataSet04  expDS4_35   Control\n",
       "3116                0          3          30  DataSet04  expDS4_35   Control\n",
       "3117                0          1          31  DataSet04  expDS4_35   Control\n",
       "3118               -3          2          31  DataSet04  expDS4_35   Control\n",
       "3119              -30          3          31  DataSet04  expDS4_35   Control\n",
       "\n",
       "[96 rows x 6 columns]"
      ]
     },
     "execution_count": 278,
     "metadata": {},
     "output_type": "execute_result"
    }
   ],
   "source": [
    "# Preview the dataframe\n",
    "seg_change_df.loc[seg_change_df['session'] == 'expDS4_35']"
   ]
  },
  {
   "cell_type": "code",
   "execution_count": 279,
   "metadata": {},
   "outputs": [
    {
     "data": {
      "text/html": [
       "<div>\n",
       "<style scoped>\n",
       "    .dataframe tbody tr th:only-of-type {\n",
       "        vertical-align: middle;\n",
       "    }\n",
       "\n",
       "    .dataframe tbody tr th {\n",
       "        vertical-align: top;\n",
       "    }\n",
       "\n",
       "    .dataframe thead th {\n",
       "        text-align: right;\n",
       "    }\n",
       "</style>\n",
       "<table border=\"1\" class=\"dataframe\">\n",
       "  <thead>\n",
       "    <tr style=\"text-align: right;\">\n",
       "      <th></th>\n",
       "      <th>pairwise_change</th>\n",
       "      <th>timepoint</th>\n",
       "      <th>segment_id</th>\n",
       "      <th>dataset</th>\n",
       "      <th>session</th>\n",
       "      <th>condition</th>\n",
       "    </tr>\n",
       "  </thead>\n",
       "  <tbody>\n",
       "    <tr>\n",
       "      <th>3024</th>\n",
       "      <td>-4</td>\n",
       "      <td>1</td>\n",
       "      <td>0</td>\n",
       "      <td>DataSet04</td>\n",
       "      <td>expDS4_35</td>\n",
       "      <td>Control</td>\n",
       "    </tr>\n",
       "    <tr>\n",
       "      <th>3025</th>\n",
       "      <td>1</td>\n",
       "      <td>2</td>\n",
       "      <td>0</td>\n",
       "      <td>DataSet04</td>\n",
       "      <td>expDS4_35</td>\n",
       "      <td>Control</td>\n",
       "    </tr>\n",
       "    <tr>\n",
       "      <th>3026</th>\n",
       "      <td>-4</td>\n",
       "      <td>3</td>\n",
       "      <td>0</td>\n",
       "      <td>DataSet04</td>\n",
       "      <td>expDS4_35</td>\n",
       "      <td>Control</td>\n",
       "    </tr>\n",
       "    <tr>\n",
       "      <th>3027</th>\n",
       "      <td>2</td>\n",
       "      <td>1</td>\n",
       "      <td>1</td>\n",
       "      <td>DataSet04</td>\n",
       "      <td>expDS4_35</td>\n",
       "      <td>Control</td>\n",
       "    </tr>\n",
       "    <tr>\n",
       "      <th>3028</th>\n",
       "      <td>-2</td>\n",
       "      <td>2</td>\n",
       "      <td>1</td>\n",
       "      <td>DataSet04</td>\n",
       "      <td>expDS4_35</td>\n",
       "      <td>Control</td>\n",
       "    </tr>\n",
       "    <tr>\n",
       "      <th>...</th>\n",
       "      <td>...</td>\n",
       "      <td>...</td>\n",
       "      <td>...</td>\n",
       "      <td>...</td>\n",
       "      <td>...</td>\n",
       "      <td>...</td>\n",
       "    </tr>\n",
       "    <tr>\n",
       "      <th>3115</th>\n",
       "      <td>4</td>\n",
       "      <td>2</td>\n",
       "      <td>30</td>\n",
       "      <td>DataSet04</td>\n",
       "      <td>expDS4_35</td>\n",
       "      <td>Control</td>\n",
       "    </tr>\n",
       "    <tr>\n",
       "      <th>3116</th>\n",
       "      <td>0</td>\n",
       "      <td>3</td>\n",
       "      <td>30</td>\n",
       "      <td>DataSet04</td>\n",
       "      <td>expDS4_35</td>\n",
       "      <td>Control</td>\n",
       "    </tr>\n",
       "    <tr>\n",
       "      <th>3117</th>\n",
       "      <td>0</td>\n",
       "      <td>1</td>\n",
       "      <td>31</td>\n",
       "      <td>DataSet04</td>\n",
       "      <td>expDS4_35</td>\n",
       "      <td>Control</td>\n",
       "    </tr>\n",
       "    <tr>\n",
       "      <th>3118</th>\n",
       "      <td>-3</td>\n",
       "      <td>2</td>\n",
       "      <td>31</td>\n",
       "      <td>DataSet04</td>\n",
       "      <td>expDS4_35</td>\n",
       "      <td>Control</td>\n",
       "    </tr>\n",
       "    <tr>\n",
       "      <th>3119</th>\n",
       "      <td>-30</td>\n",
       "      <td>3</td>\n",
       "      <td>31</td>\n",
       "      <td>DataSet04</td>\n",
       "      <td>expDS4_35</td>\n",
       "      <td>Control</td>\n",
       "    </tr>\n",
       "  </tbody>\n",
       "</table>\n",
       "<p>96 rows × 6 columns</p>\n",
       "</div>"
      ],
      "text/plain": [
       "      pairwise_change  timepoint  segment_id    dataset    session condition\n",
       "3024               -4          1           0  DataSet04  expDS4_35   Control\n",
       "3025                1          2           0  DataSet04  expDS4_35   Control\n",
       "3026               -4          3           0  DataSet04  expDS4_35   Control\n",
       "3027                2          1           1  DataSet04  expDS4_35   Control\n",
       "3028               -2          2           1  DataSet04  expDS4_35   Control\n",
       "...               ...        ...         ...        ...        ...       ...\n",
       "3115                4          2          30  DataSet04  expDS4_35   Control\n",
       "3116                0          3          30  DataSet04  expDS4_35   Control\n",
       "3117                0          1          31  DataSet04  expDS4_35   Control\n",
       "3118               -3          2          31  DataSet04  expDS4_35   Control\n",
       "3119              -30          3          31  DataSet04  expDS4_35   Control\n",
       "\n",
       "[96 rows x 6 columns]"
      ]
     },
     "execution_count": 279,
     "metadata": {},
     "output_type": "execute_result"
    }
   ],
   "source": [
    "# Preview a single segment\n",
    "seg_change_df.loc[(seg_change_df['session'] == 'expDS4_35') & (seg_change_df['session'])]"
   ]
  },
  {
   "cell_type": "code",
   "execution_count": 280,
   "metadata": {},
   "outputs": [],
   "source": [
    "# Aggressively remove outliers as a test\n",
    "#seg_change_df = seg_change_df[(seg_change_df['pairwise_change'] < 30) & (seg_change_df['pairwise_change'] > -30)]"
   ]
  },
  {
   "cell_type": "code",
   "execution_count": 281,
   "metadata": {},
   "outputs": [
    {
     "data": {
      "text/html": [
       "<div>\n",
       "<style scoped>\n",
       "    .dataframe tbody tr th:only-of-type {\n",
       "        vertical-align: middle;\n",
       "    }\n",
       "\n",
       "    .dataframe tbody tr th {\n",
       "        vertical-align: top;\n",
       "    }\n",
       "\n",
       "    .dataframe thead th {\n",
       "        text-align: right;\n",
       "    }\n",
       "</style>\n",
       "<table border=\"1\" class=\"dataframe\">\n",
       "  <thead>\n",
       "    <tr style=\"text-align: right;\">\n",
       "      <th></th>\n",
       "      <th>pairwise_change</th>\n",
       "      <th>timepoint</th>\n",
       "      <th>segment_id</th>\n",
       "      <th>dataset</th>\n",
       "      <th>session</th>\n",
       "      <th>condition</th>\n",
       "    </tr>\n",
       "  </thead>\n",
       "  <tbody>\n",
       "    <tr>\n",
       "      <th>170</th>\n",
       "      <td>-31</td>\n",
       "      <td>3</td>\n",
       "      <td>21</td>\n",
       "      <td>DataSet00</td>\n",
       "      <td>exp240129_01_01</td>\n",
       "      <td>Control</td>\n",
       "    </tr>\n",
       "    <tr>\n",
       "      <th>196</th>\n",
       "      <td>33</td>\n",
       "      <td>2</td>\n",
       "      <td>30</td>\n",
       "      <td>DataSet00</td>\n",
       "      <td>exp240129_01_01</td>\n",
       "      <td>Control</td>\n",
       "    </tr>\n",
       "    <tr>\n",
       "      <th>316</th>\n",
       "      <td>33</td>\n",
       "      <td>2</td>\n",
       "      <td>13</td>\n",
       "      <td>DataSet00</td>\n",
       "      <td>exp240104_01_03</td>\n",
       "      <td>DOI</td>\n",
       "    </tr>\n",
       "    <tr>\n",
       "      <th>506</th>\n",
       "      <td>35</td>\n",
       "      <td>3</td>\n",
       "      <td>17</td>\n",
       "      <td>DataSet00</td>\n",
       "      <td>exp240104_00_02</td>\n",
       "      <td>Control</td>\n",
       "    </tr>\n",
       "    <tr>\n",
       "      <th>1118</th>\n",
       "      <td>-31</td>\n",
       "      <td>3</td>\n",
       "      <td>1</td>\n",
       "      <td>DataSet01</td>\n",
       "      <td>exp240202_00_E</td>\n",
       "      <td>Control</td>\n",
       "    </tr>\n",
       "    <tr>\n",
       "      <th>1335</th>\n",
       "      <td>-31</td>\n",
       "      <td>1</td>\n",
       "      <td>28</td>\n",
       "      <td>DataSet01</td>\n",
       "      <td>exp240202_00_G</td>\n",
       "      <td>Control</td>\n",
       "    </tr>\n",
       "    <tr>\n",
       "      <th>1359</th>\n",
       "      <td>-42</td>\n",
       "      <td>1</td>\n",
       "      <td>7</td>\n",
       "      <td>DataSet04</td>\n",
       "      <td>expDS4_31</td>\n",
       "      <td>DOI</td>\n",
       "    </tr>\n",
       "    <tr>\n",
       "      <th>1461</th>\n",
       "      <td>36</td>\n",
       "      <td>1</td>\n",
       "      <td>14</td>\n",
       "      <td>DataSet04</td>\n",
       "      <td>expDS4_06</td>\n",
       "      <td>DOI</td>\n",
       "    </tr>\n",
       "    <tr>\n",
       "      <th>1576</th>\n",
       "      <td>33</td>\n",
       "      <td>2</td>\n",
       "      <td>13</td>\n",
       "      <td>DataSet04</td>\n",
       "      <td>expDS4_14</td>\n",
       "      <td>DOI</td>\n",
       "    </tr>\n",
       "    <tr>\n",
       "      <th>1590</th>\n",
       "      <td>-31</td>\n",
       "      <td>1</td>\n",
       "      <td>18</td>\n",
       "      <td>DataSet04</td>\n",
       "      <td>expDS4_14</td>\n",
       "      <td>DOI</td>\n",
       "    </tr>\n",
       "    <tr>\n",
       "      <th>1630</th>\n",
       "      <td>32</td>\n",
       "      <td>2</td>\n",
       "      <td>0</td>\n",
       "      <td>DataSet04</td>\n",
       "      <td>expDS4_05</td>\n",
       "      <td>DOI</td>\n",
       "    </tr>\n",
       "    <tr>\n",
       "      <th>1703</th>\n",
       "      <td>33</td>\n",
       "      <td>3</td>\n",
       "      <td>24</td>\n",
       "      <td>DataSet04</td>\n",
       "      <td>expDS4_05</td>\n",
       "      <td>DOI</td>\n",
       "    </tr>\n",
       "    <tr>\n",
       "      <th>1842</th>\n",
       "      <td>-31</td>\n",
       "      <td>1</td>\n",
       "      <td>25</td>\n",
       "      <td>DataSet04</td>\n",
       "      <td>expDS4_26</td>\n",
       "      <td>DOI</td>\n",
       "    </tr>\n",
       "    <tr>\n",
       "      <th>2034</th>\n",
       "      <td>-37</td>\n",
       "      <td>1</td>\n",
       "      <td>19</td>\n",
       "      <td>DataSet04</td>\n",
       "      <td>expDS4_25</td>\n",
       "      <td>DOI</td>\n",
       "    </tr>\n",
       "    <tr>\n",
       "      <th>2118</th>\n",
       "      <td>33</td>\n",
       "      <td>1</td>\n",
       "      <td>18</td>\n",
       "      <td>DataSet04</td>\n",
       "      <td>expDS4_32</td>\n",
       "      <td>DOI</td>\n",
       "    </tr>\n",
       "    <tr>\n",
       "      <th>2182</th>\n",
       "      <td>-32</td>\n",
       "      <td>2</td>\n",
       "      <td>19</td>\n",
       "      <td>DataSet04</td>\n",
       "      <td>expDS4_10</td>\n",
       "      <td>DOI</td>\n",
       "    </tr>\n",
       "    <tr>\n",
       "      <th>2200</th>\n",
       "      <td>31</td>\n",
       "      <td>2</td>\n",
       "      <td>25</td>\n",
       "      <td>DataSet04</td>\n",
       "      <td>expDS4_10</td>\n",
       "      <td>DOI</td>\n",
       "    </tr>\n",
       "    <tr>\n",
       "      <th>2278</th>\n",
       "      <td>40</td>\n",
       "      <td>2</td>\n",
       "      <td>16</td>\n",
       "      <td>DataSet04</td>\n",
       "      <td>expDS4_17</td>\n",
       "      <td>DOI</td>\n",
       "    </tr>\n",
       "    <tr>\n",
       "      <th>2300</th>\n",
       "      <td>31</td>\n",
       "      <td>3</td>\n",
       "      <td>6</td>\n",
       "      <td>DataSet04</td>\n",
       "      <td>expDS4_30</td>\n",
       "      <td>Control</td>\n",
       "    </tr>\n",
       "    <tr>\n",
       "      <th>2384</th>\n",
       "      <td>38</td>\n",
       "      <td>3</td>\n",
       "      <td>34</td>\n",
       "      <td>DataSet04</td>\n",
       "      <td>expDS4_30</td>\n",
       "      <td>Control</td>\n",
       "    </tr>\n",
       "    <tr>\n",
       "      <th>2435</th>\n",
       "      <td>36</td>\n",
       "      <td>3</td>\n",
       "      <td>14</td>\n",
       "      <td>DataSet04</td>\n",
       "      <td>expDS4_28</td>\n",
       "      <td>Control</td>\n",
       "    </tr>\n",
       "    <tr>\n",
       "      <th>2706</th>\n",
       "      <td>36</td>\n",
       "      <td>1</td>\n",
       "      <td>7</td>\n",
       "      <td>DataSet04</td>\n",
       "      <td>expDS4_33</td>\n",
       "      <td>Control</td>\n",
       "    </tr>\n",
       "    <tr>\n",
       "      <th>2715</th>\n",
       "      <td>33</td>\n",
       "      <td>1</td>\n",
       "      <td>10</td>\n",
       "      <td>DataSet04</td>\n",
       "      <td>expDS4_33</td>\n",
       "      <td>Control</td>\n",
       "    </tr>\n",
       "    <tr>\n",
       "      <th>3113</th>\n",
       "      <td>-59</td>\n",
       "      <td>3</td>\n",
       "      <td>29</td>\n",
       "      <td>DataSet04</td>\n",
       "      <td>expDS4_35</td>\n",
       "      <td>Control</td>\n",
       "    </tr>\n",
       "  </tbody>\n",
       "</table>\n",
       "</div>"
      ],
      "text/plain": [
       "      pairwise_change  timepoint  segment_id    dataset          session  \\\n",
       "170               -31          3          21  DataSet00  exp240129_01_01   \n",
       "196                33          2          30  DataSet00  exp240129_01_01   \n",
       "316                33          2          13  DataSet00  exp240104_01_03   \n",
       "506                35          3          17  DataSet00  exp240104_00_02   \n",
       "1118              -31          3           1  DataSet01   exp240202_00_E   \n",
       "1335              -31          1          28  DataSet01   exp240202_00_G   \n",
       "1359              -42          1           7  DataSet04        expDS4_31   \n",
       "1461               36          1          14  DataSet04        expDS4_06   \n",
       "1576               33          2          13  DataSet04        expDS4_14   \n",
       "1590              -31          1          18  DataSet04        expDS4_14   \n",
       "1630               32          2           0  DataSet04        expDS4_05   \n",
       "1703               33          3          24  DataSet04        expDS4_05   \n",
       "1842              -31          1          25  DataSet04        expDS4_26   \n",
       "2034              -37          1          19  DataSet04        expDS4_25   \n",
       "2118               33          1          18  DataSet04        expDS4_32   \n",
       "2182              -32          2          19  DataSet04        expDS4_10   \n",
       "2200               31          2          25  DataSet04        expDS4_10   \n",
       "2278               40          2          16  DataSet04        expDS4_17   \n",
       "2300               31          3           6  DataSet04        expDS4_30   \n",
       "2384               38          3          34  DataSet04        expDS4_30   \n",
       "2435               36          3          14  DataSet04        expDS4_28   \n",
       "2706               36          1           7  DataSet04        expDS4_33   \n",
       "2715               33          1          10  DataSet04        expDS4_33   \n",
       "3113              -59          3          29  DataSet04        expDS4_35   \n",
       "\n",
       "     condition  \n",
       "170    Control  \n",
       "196    Control  \n",
       "316        DOI  \n",
       "506    Control  \n",
       "1118   Control  \n",
       "1335   Control  \n",
       "1359       DOI  \n",
       "1461       DOI  \n",
       "1576       DOI  \n",
       "1590       DOI  \n",
       "1630       DOI  \n",
       "1703       DOI  \n",
       "1842       DOI  \n",
       "2034       DOI  \n",
       "2118       DOI  \n",
       "2182       DOI  \n",
       "2200       DOI  \n",
       "2278       DOI  \n",
       "2300   Control  \n",
       "2384   Control  \n",
       "2435   Control  \n",
       "2706   Control  \n",
       "2715   Control  \n",
       "3113   Control  "
      ]
     },
     "execution_count": 281,
     "metadata": {},
     "output_type": "execute_result"
    }
   ],
   "source": [
    "# Identify some outliers for visual inspection\n",
    "outlier_df = seg_change_df[(seg_change_df['pairwise_change'] > 30) | (seg_change_df['pairwise_change'] < -30)]\n",
    "outlier_df"
   ]
  },
  {
   "cell_type": "code",
   "execution_count": 282,
   "metadata": {},
   "outputs": [
    {
     "data": {
      "application/vnd.plotly.v1+json": {
       "config": {
        "plotlyServerURL": "https://plot.ly"
       },
       "data": [
        {
         "alignmentgroup": "True",
         "bingroup": "x",
         "histnorm": "probability density",
         "hovertemplate": "pairwise_change=%{x}<br>probability density=%{y}<extra></extra>",
         "legendgroup": "",
         "marker": {
          "color": "#636efa",
          "pattern": {
           "shape": ""
          }
         },
         "name": "",
         "offsetgroup": "",
         "orientation": "v",
         "showlegend": false,
         "type": "histogram",
         "x": [
          12,
          7,
          7,
          -8,
          1,
          6,
          7,
          -1,
          3,
          -23,
          4,
          0,
          -4,
          2,
          5,
          1,
          4,
          -3,
          6,
          -4,
          6,
          9,
          -4,
          3,
          -7,
          -8,
          1,
          11,
          -1,
          2,
          4,
          -7,
          -7,
          3,
          11,
          0,
          -2,
          -8,
          -13,
          5,
          3,
          -1,
          6,
          1,
          -5,
          -1,
          -10,
          -3,
          5,
          -6,
          5,
          0,
          2,
          10,
          9,
          -4,
          1,
          9,
          0,
          1,
          1,
          6,
          3,
          -21,
          23,
          5,
          -9,
          14,
          -7,
          2,
          1,
          -3,
          -5,
          9,
          6,
          -1,
          -3,
          2,
          13,
          -7,
          3,
          2,
          0,
          1,
          5,
          1,
          7,
          -14,
          -4,
          0,
          7,
          -10,
          9,
          -2,
          1,
          2,
          -6,
          -3,
          4,
          -1,
          -13,
          -7,
          6,
          -1,
          0,
          -3,
          1,
          6,
          -8,
          -4,
          -2,
          0,
          -5,
          3,
          1,
          0,
          -9,
          -7,
          0,
          3,
          3,
          6,
          0,
          -15,
          -4,
          2,
          1,
          3,
          -3,
          0,
          -5,
          0,
          0,
          -2,
          -1,
          -2,
          -3,
          1,
          -1,
          -3,
          -3,
          2,
          -5,
          0,
          -1,
          -2,
          2,
          -4,
          1,
          -6,
          1,
          2,
          -10,
          3,
          -5,
          -2,
          4,
          8,
          13,
          -4,
          1,
          -1,
          -5,
          -5,
          1,
          -8,
          -2,
          -2,
          11,
          12,
          -31,
          12,
          -30,
          -4,
          0,
          0,
          8,
          0,
          -7,
          -1,
          -2,
          -5,
          1,
          -2,
          1,
          -5,
          0,
          -1,
          2,
          4,
          0,
          -1,
          0,
          3,
          -3,
          -1,
          33,
          -30,
          -2,
          -9,
          -3,
          -8,
          -1,
          5,
          4,
          -3,
          -2,
          -8,
          0,
          -24,
          9,
          2,
          -9,
          -12,
          14,
          -16,
          -5,
          2,
          -9,
          -1,
          0,
          -2,
          -2,
          2,
          0,
          -9,
          27,
          -5,
          4,
          -12,
          8,
          -2,
          7,
          5,
          1,
          -1,
          5,
          2,
          5,
          11,
          1,
          -10,
          4,
          10,
          2,
          0,
          -2,
          4,
          11,
          -1,
          7,
          -1,
          2,
          -3,
          0,
          -3,
          -5,
          -2,
          3,
          -2,
          1,
          -9,
          2,
          -2,
          -5,
          -1,
          2,
          -4,
          -1,
          3,
          3,
          5,
          2,
          12,
          1,
          2,
          -4,
          5,
          -2,
          -2,
          1,
          -6,
          7,
          9,
          -3,
          9,
          1,
          3,
          2,
          -1,
          3,
          -4,
          9,
          -4,
          -3,
          -2,
          5,
          4,
          1,
          3,
          -3,
          0,
          -18,
          9,
          14,
          1,
          4,
          -3,
          -1,
          6,
          1,
          1,
          5,
          6,
          -3,
          11,
          33,
          2,
          6,
          6,
          7,
          0,
          0,
          2,
          1,
          -4,
          -5,
          0,
          0,
          -2,
          8,
          13,
          1,
          7,
          -13,
          14,
          26,
          -21,
          8,
          4,
          6,
          2,
          1,
          -10,
          17,
          26,
          8,
          -1,
          5,
          1,
          9,
          6,
          -1,
          8,
          3,
          6,
          -8,
          5,
          6,
          -8,
          7,
          -16,
          18,
          6,
          1,
          4,
          -16,
          17,
          -12,
          -13,
          11,
          3,
          -7,
          2,
          5,
          -5,
          3,
          -5,
          -4,
          5,
          -5,
          -7,
          -22,
          -4,
          4,
          -4,
          0,
          0,
          2,
          -2,
          7,
          10,
          -1,
          -4,
          -13,
          -15,
          -9,
          -1,
          1,
          0,
          -5,
          -1,
          10,
          3,
          3,
          -1,
          0,
          -8,
          12,
          19,
          8,
          2,
          3,
          4,
          3,
          -5,
          10,
          3,
          0,
          -3,
          6,
          -2,
          -5,
          1,
          -3,
          1,
          -10,
          17,
          -4,
          1,
          -2,
          -2,
          -1,
          3,
          1,
          9,
          0,
          2,
          0,
          3,
          10,
          5,
          7,
          -4,
          1,
          -8,
          4,
          2,
          1,
          7,
          0,
          2,
          12,
          -5,
          -1,
          9,
          -1,
          1,
          3,
          1,
          -1,
          4,
          5,
          3,
          -1,
          5,
          -2,
          1,
          -3,
          -1,
          3,
          4,
          7,
          -2,
          10,
          5,
          0,
          10,
          3,
          8,
          4,
          6,
          -5,
          -23,
          12,
          -7,
          3,
          1,
          1,
          6,
          -1,
          3,
          3,
          8,
          3,
          6,
          7,
          5,
          0,
          4,
          1,
          1,
          5,
          22,
          -3,
          6,
          35,
          7,
          0,
          4,
          20,
          0,
          -1,
          0,
          -3,
          6,
          3,
          8,
          -9,
          -2,
          -5,
          4,
          2,
          -6,
          9,
          10,
          -1,
          -7,
          -29,
          0,
          0,
          4,
          -2,
          0,
          0,
          -1,
          2,
          0,
          0,
          -2,
          -1,
          0,
          0,
          2,
          9,
          -4,
          0,
          -2,
          1,
          9,
          1,
          -12,
          -8,
          1,
          -12,
          9,
          3,
          -7,
          2,
          -6,
          9,
          -7,
          -6,
          9,
          -1,
          1,
          1,
          -4,
          -1,
          1,
          -2,
          0,
          -1,
          1,
          -2,
          0,
          6,
          -2,
          1,
          2,
          1,
          1,
          -1,
          1,
          0,
          2,
          -1,
          0,
          6,
          7,
          4,
          6,
          2,
          -1,
          5,
          2,
          -4,
          9,
          0,
          -25,
          -4,
          2,
          2,
          -9,
          -3,
          0,
          -17,
          -2,
          11,
          3,
          -5,
          0,
          6,
          4,
          -3,
          5,
          4,
          3,
          -10,
          -15,
          2,
          -22,
          6,
          -5,
          1,
          -2,
          0,
          25,
          0,
          4,
          14,
          2,
          20,
          -4,
          0,
          4,
          4,
          -1,
          -2,
          -1,
          6,
          4,
          0,
          3,
          -1,
          12,
          2,
          8,
          2,
          -2,
          4,
          0,
          -3,
          16,
          3,
          -1,
          -3,
          6,
          2,
          2,
          -5,
          -2,
          13,
          -18,
          17,
          -16,
          0,
          7,
          -5,
          -3,
          6,
          3,
          -2,
          1,
          4,
          0,
          -2,
          5,
          1,
          -2,
          -10,
          4,
          9,
          4,
          -4,
          2,
          6,
          1,
          0,
          10,
          -3,
          -2,
          6,
          4,
          -4,
          1,
          2,
          -3,
          19,
          -2,
          -2,
          1,
          -3,
          1,
          1,
          2,
          -9,
          2,
          -2,
          -6,
          12,
          -8,
          -27,
          25,
          6,
          -3,
          -1,
          4,
          3,
          -2,
          -1,
          -1,
          4,
          -1,
          -1,
          9,
          -3,
          11,
          -2,
          -2,
          -3,
          5,
          2,
          -1,
          -5,
          5,
          -2,
          3,
          5,
          18,
          2,
          1,
          1,
          0,
          -1,
          3,
          -4,
          -3,
          -17,
          10,
          0,
          5,
          0,
          4,
          4,
          -3,
          -4,
          2,
          5,
          3,
          7,
          8,
          24,
          -4,
          5,
          0,
          -1,
          -1,
          3,
          5,
          0,
          0,
          11,
          17,
          8,
          0,
          0,
          2,
          0,
          3,
          7,
          11,
          -1,
          11,
          -3,
          3,
          1,
          0,
          2,
          3,
          -6,
          -2,
          4,
          -4,
          4,
          -2,
          19,
          -19,
          1,
          1,
          14,
          -1,
          -7,
          2,
          -6,
          8,
          14,
          -1,
          3,
          0,
          -14,
          5,
          -5,
          0,
          5,
          -3,
          7,
          -6,
          6,
          1,
          5,
          -3,
          5,
          1,
          5,
          -2,
          1,
          5,
          22,
          -14,
          6,
          7,
          3,
          -1,
          11,
          6,
          10,
          -26,
          8,
          0,
          9,
          6,
          -4,
          2,
          3,
          -1,
          3,
          -7,
          7,
          10,
          12,
          5,
          14,
          -14,
          6,
          2,
          1,
          4,
          3,
          -6,
          6,
          -7,
          1,
          4,
          -2,
          -2,
          5,
          -3,
          -6,
          -2,
          5,
          -8,
          8,
          -4,
          14,
          3,
          13,
          2,
          1,
          0,
          0,
          -7,
          -1,
          4,
          0,
          -3,
          -5,
          2,
          -5,
          1,
          -2,
          7,
          -15,
          25,
          4,
          4,
          -4,
          4,
          6,
          0,
          1,
          0,
          -3,
          -5,
          3,
          -1,
          7,
          0,
          17,
          4,
          1,
          -2,
          -3,
          4,
          2,
          4,
          -2,
          -1,
          -5,
          3,
          1,
          4,
          -1,
          30,
          3,
          3,
          -4,
          -6,
          5,
          1,
          2,
          -26,
          29,
          -20,
          -20,
          22,
          5,
          -15,
          6,
          10,
          5,
          2,
          -2,
          0,
          4,
          3,
          -3,
          1,
          3,
          -1,
          -1,
          -5,
          8,
          -5,
          24,
          -1,
          -4,
          1,
          -22,
          18,
          6,
          0,
          4,
          1,
          -3,
          26,
          1,
          9,
          -26,
          -1,
          8,
          -6,
          7,
          -17,
          3,
          -2,
          -14,
          14,
          1,
          6,
          12,
          -11,
          0,
          19,
          10,
          -9,
          -1,
          -5,
          12,
          -11,
          1,
          -1,
          3,
          9,
          8,
          -8,
          16,
          -18,
          2,
          11,
          5,
          3,
          5,
          2,
          -6,
          1,
          0,
          -2,
          16,
          -18,
          2,
          -3,
          1,
          9,
          14,
          -9,
          -2,
          -4,
          -8,
          -3,
          6,
          7,
          4,
          -4,
          -18,
          19,
          -1,
          4,
          -8,
          -5,
          1,
          -2,
          -5,
          14,
          -10,
          -1,
          0,
          5,
          -3,
          6,
          -9,
          -5,
          -3,
          -6,
          -1,
          25,
          -29,
          22,
          0,
          -3,
          -11,
          4,
          4,
          9,
          2,
          -4,
          -15,
          12,
          9,
          -15,
          -2,
          -5,
          6,
          -10,
          -3,
          -21,
          -12,
          23,
          0,
          -5,
          -1,
          -2,
          -2,
          1,
          3,
          -1,
          -2,
          -1,
          5,
          3,
          0,
          -3,
          5,
          -4,
          2,
          -2,
          5,
          -2,
          -9,
          -1,
          -1,
          18,
          4,
          1,
          -12,
          2,
          4,
          -8,
          -2,
          -13,
          -2,
          9,
          -2,
          -16,
          -3,
          -1,
          -1,
          2,
          0,
          -25,
          6,
          -23,
          19,
          5,
          -2,
          2,
          -8,
          13,
          -31,
          7,
          3,
          -8,
          3,
          -2,
          0,
          24,
          -16,
          -10,
          2,
          6,
          2,
          0,
          5,
          -3,
          -4,
          -4,
          -3,
          6,
          -2,
          -6,
          -1,
          3,
          0,
          -2,
          -3,
          2,
          -10,
          4,
          10,
          3,
          1,
          -1,
          22,
          5,
          -1,
          3,
          -4,
          3,
          -1,
          -16,
          -1,
          1,
          -1,
          0,
          9,
          0,
          7,
          -2,
          6,
          -2,
          1,
          -26,
          -3,
          -5,
          -4,
          -5,
          -4,
          -1,
          -1,
          -1,
          4,
          1,
          2,
          2,
          1,
          1,
          2,
          -1,
          0,
          3,
          4,
          -1,
          5,
          2,
          2,
          6,
          -3,
          3,
          3,
          -2,
          -3,
          -6,
          10,
          -2,
          8,
          2,
          3,
          1,
          1,
          7,
          -2,
          5,
          1,
          0,
          7,
          -1,
          4,
          -7,
          2,
          21,
          -21,
          -2,
          9,
          -6,
          9,
          3,
          -1,
          4,
          1,
          0,
          0,
          -4,
          8,
          1,
          0,
          3,
          0,
          7,
          7,
          -8,
          -4,
          12,
          -16,
          0,
          18,
          -14,
          4,
          -2,
          -13,
          -1,
          20,
          1,
          15,
          19,
          6,
          -12,
          4,
          -16,
          -7,
          12,
          -1,
          15,
          19,
          2,
          -2,
          -3,
          3,
          -3,
          3,
          4,
          -4,
          3,
          6,
          1,
          -1,
          12,
          -1,
          -2,
          4,
          8,
          3,
          6,
          -8,
          -8,
          16,
          2,
          1,
          2,
          12,
          -1,
          -6,
          -6,
          5,
          -3,
          -1,
          -2,
          -4,
          2,
          -8,
          2,
          -2,
          5,
          2,
          -1,
          -5,
          5,
          -1,
          4,
          1,
          7,
          -7,
          -3,
          -3,
          2,
          1,
          0,
          -1,
          -1,
          1,
          -20,
          -6,
          9,
          -3,
          4,
          -6,
          -3,
          -7,
          -1,
          2,
          1,
          -8,
          -2,
          -17,
          2,
          1,
          -31,
          -1,
          0,
          2,
          -11,
          17,
          13,
          -9,
          -10,
          0,
          4,
          -4,
          -2,
          0,
          1,
          19,
          -9,
          -10,
          -2,
          -1,
          -1,
          1,
          -1,
          -1,
          -42,
          0,
          1,
          3,
          -8,
          6,
          -18,
          19,
          -1,
          -1,
          2,
          -1,
          -6,
          1,
          -1,
          0,
          1,
          0,
          -2,
          -5,
          4,
          12,
          2,
          -1,
          -1,
          2,
          -7,
          -3,
          9,
          -9,
          0,
          -3,
          -4,
          -7,
          6,
          -2,
          16,
          1,
          1,
          -2,
          1,
          -2,
          28,
          -24,
          26,
          -3,
          -4,
          -4,
          0,
          -3,
          -3,
          0,
          -8,
          5,
          11,
          -11,
          17,
          13,
          -9,
          -10,
          -1,
          -7,
          0,
          23,
          -20,
          12,
          4,
          -7,
          0,
          -2,
          15,
          1,
          -6,
          7,
          8,
          16,
          2,
          3,
          7,
          2,
          -7,
          7,
          0,
          2,
          8,
          7,
          0,
          -2,
          -1,
          -1,
          0,
          -1,
          -3,
          1,
          1,
          -9,
          6,
          3,
          6,
          -2,
          3,
          2,
          36,
          -4,
          9,
          1,
          1,
          -19,
          2,
          -8,
          2,
          -1,
          -1,
          0,
          11,
          0,
          -2,
          -2,
          5,
          3,
          -9,
          1,
          11,
          4,
          0,
          -1,
          3,
          -1,
          -3,
          5,
          -20,
          12,
          3,
          -6,
          4,
          30,
          5,
          -27,
          5,
          -1,
          0,
          -6,
          -1,
          -8,
          -18,
          15,
          1,
          -7,
          -3,
          0,
          2,
          -14,
          0,
          1,
          0,
          1,
          -10,
          -1,
          1,
          1,
          -15,
          10,
          -7,
          -1,
          2,
          -1,
          0,
          1,
          4,
          -2,
          -1,
          3,
          -2,
          15,
          0,
          5,
          -1,
          2,
          -1,
          -4,
          13,
          -1,
          0,
          4,
          2,
          -6,
          -3,
          -1,
          2,
          3,
          1,
          1,
          4,
          -3,
          1,
          4,
          3,
          0,
          16,
          0,
          0,
          8,
          -3,
          1,
          -2,
          0,
          0,
          -6,
          7,
          -1,
          1,
          -1,
          5,
          7,
          2,
          2,
          3,
          33,
          -28,
          -2,
          -19,
          15,
          11,
          -11,
          0,
          0,
          -3,
          0,
          -5,
          -4,
          -1,
          -31,
          17,
          2,
          -26,
          24,
          3,
          2,
          0,
          28,
          -5,
          1,
          -12,
          -2,
          6,
          -1,
          -2,
          -7,
          2,
          -6,
          -3,
          2,
          5,
          -10,
          3,
          -5,
          2,
          -3,
          7,
          0,
          0,
          -2,
          -5,
          -3,
          13,
          -17,
          10,
          1,
          1,
          0,
          2,
          32,
          3,
          3,
          -3,
          1,
          -6,
          3,
          7,
          2,
          -3,
          1,
          12,
          3,
          7,
          -2,
          1,
          -5,
          0,
          0,
          -1,
          1,
          -22,
          21,
          3,
          -4,
          -4,
          26,
          0,
          0,
          0,
          -2,
          1,
          -1,
          1,
          -1,
          1,
          1,
          -2,
          3,
          -12,
          -2,
          -3,
          -4,
          5,
          0,
          0,
          -1,
          -7,
          0,
          -2,
          -14,
          -5,
          5,
          0,
          -12,
          4,
          2,
          2,
          0,
          5,
          -9,
          8,
          19,
          -1,
          -4,
          -2,
          0,
          0,
          29,
          2,
          -5,
          -13,
          -24,
          33,
          -9,
          -10,
          11,
          -3,
          -1,
          1,
          -5,
          -2,
          -1,
          3,
          3,
          2,
          1,
          -9,
          2,
          -9,
          -2,
          -7,
          -5,
          3,
          2,
          1,
          0,
          6,
          -1,
          2,
          2,
          6,
          4,
          -4,
          -9,
          0,
          -2,
          3,
          1,
          9,
          1,
          1,
          3,
          1,
          1,
          5,
          -3,
          -2,
          7,
          1,
          0,
          0,
          -2,
          4,
          -5,
          7,
          -7,
          1,
          14,
          -2,
          2,
          -4,
          -1,
          1,
          6,
          3,
          2,
          -9,
          9,
          -3,
          5,
          -2,
          -8,
          3,
          14,
          -17,
          3,
          -4,
          -1,
          0,
          -5,
          0,
          6,
          8,
          -1,
          3,
          10,
          -1,
          9,
          0,
          -1,
          -2,
          0,
          1,
          6,
          0,
          0,
          6,
          5,
          -1,
          4,
          -2,
          10,
          5,
          3,
          7,
          -1,
          -1,
          1,
          -5,
          0,
          -5,
          -1,
          2,
          -1,
          -3,
          3,
          5,
          20,
          -3,
          3,
          5,
          -5,
          3,
          -5,
          12,
          -4,
          -3,
          0,
          1,
          2,
          0,
          -1,
          -10,
          0,
          8,
          -3,
          11,
          2,
          -4,
          0,
          4,
          -31,
          3,
          5,
          -5,
          3,
          3,
          0,
          -2,
          3,
          4,
          1,
          0,
          -1,
          5,
          1,
          -2,
          3,
          -1,
          -2,
          3,
          -2,
          2,
          3,
          3,
          -1,
          0,
          2,
          5,
          8,
          -1,
          -2,
          5,
          3,
          2,
          2,
          -1,
          -3,
          -3,
          10,
          -2,
          26,
          -10,
          5,
          -4,
          -10,
          3,
          -4,
          5,
          -2,
          3,
          6,
          7,
          -1,
          -10,
          6,
          10,
          -15,
          -1,
          11,
          -3,
          -4,
          9,
          7,
          -16,
          0,
          3,
          7,
          21,
          17,
          -5,
          2,
          1,
          -8,
          1,
          0,
          -3,
          2,
          1,
          1,
          -2,
          3,
          -1,
          1,
          26,
          2,
          1,
          3,
          -1,
          2,
          5,
          3,
          -25,
          22,
          -4,
          3,
          0,
          -3,
          2,
          2,
          5,
          -5,
          5,
          3,
          -2,
          -3,
          -9,
          -26,
          18,
          15,
          5,
          -1,
          4,
          7,
          1,
          5,
          1,
          -1,
          0,
          -2,
          1,
          -3,
          -1,
          -2,
          -5,
          9,
          -4,
          -12,
          7,
          1,
          14,
          29,
          1,
          -2,
          5,
          1,
          -13,
          6,
          0,
          -8,
          14,
          8,
          -9,
          14,
          8,
          -22,
          10,
          3,
          2,
          1,
          -1,
          -8,
          3,
          3,
          15,
          -3,
          -10,
          0,
          0,
          -5,
          2,
          -1,
          -1,
          -1,
          0,
          -1,
          3,
          -3,
          3,
          6,
          -2,
          1,
          -1,
          0,
          3,
          -1,
          0,
          5,
          7,
          -1,
          -3,
          -2,
          -2,
          -1,
          2,
          -3,
          -1,
          9,
          1,
          -1,
          -6,
          -5,
          -1,
          -37,
          4,
          28,
          11,
          21,
          1,
          2,
          14,
          8,
          5,
          4,
          0,
          12,
          -18,
          4,
          -2,
          -1,
          2,
          6,
          1,
          -1,
          -3,
          4,
          -6,
          -13,
          14,
          8,
          -6,
          14,
          8,
          1,
          -1,
          -1,
          3,
          -2,
          -1,
          -4,
          3,
          2,
          0,
          3,
          0,
          1,
          4,
          -7,
          -4,
          10,
          -1,
          -1,
          0,
          3,
          4,
          14,
          -28,
          3,
          -2,
          4,
          -1,
          1,
          0,
          -3,
          -11,
          0,
          -4,
          9,
          -5,
          -5,
          3,
          1,
          -5,
          2,
          0,
          5,
          -7,
          8,
          3,
          -7,
          5,
          -1,
          0,
          0,
          -7,
          10,
          3,
          33,
          3,
          0,
          -12,
          -9,
          6,
          3,
          -2,
          6,
          0,
          -4,
          1,
          1,
          0,
          -3,
          2,
          -6,
          12,
          -6,
          8,
          -6,
          -2,
          -1,
          -5,
          -5,
          6,
          5,
          1,
          4,
          5,
          -1,
          15,
          3,
          6,
          1,
          3,
          5,
          -4,
          1,
          3,
          1,
          6,
          -9,
          -8,
          -5,
          -27,
          3,
          -3,
          3,
          6,
          0,
          -4,
          0,
          -1,
          -11,
          1,
          3,
          -2,
          8,
          -3,
          -5,
          17,
          1,
          -1,
          -32,
          27,
          0,
          -1,
          6,
          7,
          9,
          13,
          5,
          -6,
          2,
          -6,
          1,
          6,
          4,
          -3,
          4,
          -30,
          31,
          -12,
          -4,
          4,
          -21,
          1,
          5,
          -6,
          3,
          -4,
          1,
          3,
          0,
          0,
          0,
          -2,
          4,
          -1,
          1,
          -1,
          -15,
          1,
          6,
          -1,
          -1,
          1,
          -10,
          0,
          6,
          2,
          0,
          -1,
          12,
          -2,
          -4,
          -3,
          -2,
          1,
          -1,
          -2,
          26,
          2,
          2,
          4,
          -3,
          1,
          -3,
          -19,
          1,
          -3,
          0,
          -4,
          3,
          2,
          -9,
          8,
          1,
          -5,
          7,
          -2,
          1,
          5,
          -3,
          3,
          -2,
          -11,
          14,
          0,
          -2,
          7,
          -1,
          -4,
          8,
          22,
          2,
          1,
          0,
          -5,
          40,
          -24,
          -12,
          5,
          -17,
          4,
          -12,
          0,
          7,
          -12,
          0,
          13,
          -9,
          -3,
          4,
          -4,
          -20,
          11,
          -9,
          -3,
          -12,
          -10,
          31,
          0,
          2,
          0,
          2,
          4,
          -5,
          1,
          -3,
          -1,
          -5,
          6,
          0,
          2,
          -2,
          -2,
          -15,
          -1,
          23,
          -4,
          3,
          -4,
          0,
          -1,
          -3,
          -14,
          12,
          -19,
          1,
          -5,
          2,
          -4,
          -3,
          -3,
          5,
          -5,
          0,
          1,
          -2,
          -1,
          -3,
          -4,
          2,
          2,
          0,
          -4,
          25,
          -22,
          -5,
          1,
          0,
          0,
          -12,
          4,
          -2,
          -5,
          -1,
          2,
          -1,
          1,
          3,
          11,
          -2,
          2,
          -5,
          4,
          -12,
          -1,
          -6,
          -3,
          -3,
          5,
          0,
          20,
          3,
          -5,
          9,
          -9,
          -3,
          5,
          -4,
          10,
          -1,
          -6,
          38,
          11,
          1,
          -1,
          -6,
          12,
          -12,
          -1,
          -1,
          -3,
          9,
          -2,
          0,
          -2,
          0,
          2,
          -5,
          5,
          -3,
          -3,
          0,
          2,
          3,
          -1,
          0,
          3,
          0,
          1,
          1,
          4,
          1,
          3,
          -3,
          -2,
          11,
          -3,
          -2,
          0,
          0,
          0,
          -28,
          0,
          2,
          1,
          -1,
          0,
          -8,
          1,
          -6,
          0,
          3,
          36,
          -6,
          8,
          -2,
          2,
          2,
          -1,
          2,
          0,
          2,
          1,
          1,
          -2,
          -1,
          -2,
          -4,
          -1,
          0,
          -3,
          -2,
          -3,
          -3,
          15,
          -1,
          -3,
          -2,
          4,
          1,
          0,
          -1,
          0,
          1,
          1,
          -1,
          2,
          -2,
          1,
          -1,
          -1,
          -1,
          -4,
          -1,
          -4,
          -4,
          0,
          -5,
          -5,
          -2,
          0,
          0,
          1,
          -1,
          -4,
          1,
          -1,
          5,
          0,
          3,
          -2,
          -7,
          3,
          3,
          -5,
          1,
          5,
          -2,
          2,
          1,
          0,
          1,
          -3,
          -2,
          2,
          -5,
          -3,
          -9,
          11,
          -4,
          5,
          0,
          12,
          5,
          -4,
          10,
          1,
          4,
          9,
          -1,
          3,
          1,
          6,
          1,
          3,
          12,
          1,
          4,
          1,
          -9,
          -3,
          3,
          -5,
          -2,
          -27,
          1,
          2,
          -1,
          4,
          -1,
          1,
          2,
          6,
          -2,
          6,
          1,
          -2,
          3,
          -7,
          0,
          1,
          -2,
          6,
          7,
          0,
          1,
          -4,
          -18,
          1,
          3,
          3,
          -3,
          0,
          2,
          -2,
          -2,
          6,
          0,
          11,
          -6,
          -4,
          0,
          -2,
          3,
          4,
          3,
          1,
          0,
          -2,
          -1,
          3,
          0,
          -1,
          3,
          0,
          -1,
          0,
          0,
          -1,
          16,
          -7,
          5,
          0,
          4,
          1,
          2,
          1,
          -6,
          4,
          -3,
          -1,
          -1,
          -2,
          1,
          13,
          -13,
          12,
          -13,
          0,
          -1,
          -4,
          3,
          -1,
          2,
          -3,
          -2,
          10,
          -2,
          -3,
          0,
          -1,
          -2,
          1,
          5,
          0,
          -6,
          -1,
          -2,
          -1,
          1,
          2,
          -3,
          0,
          -9,
          -2,
          0,
          -2,
          2,
          6,
          -3,
          0,
          1,
          -1,
          -4,
          4,
          -4,
          -3,
          6,
          0,
          5,
          -1,
          -5,
          30,
          0,
          2,
          1,
          2,
          -2,
          -3,
          4,
          2,
          3,
          2,
          1,
          -8,
          2,
          4,
          -4,
          2,
          -3,
          3,
          3,
          -4,
          -3,
          -3,
          -2,
          3,
          -16,
          0,
          -28,
          6,
          0,
          -2,
          8,
          -7,
          -8,
          3,
          11,
          -10,
          7,
          11,
          6,
          1,
          -3,
          -1,
          16,
          -18,
          5,
          1,
          -3,
          8,
          4,
          3,
          36,
          8,
          0,
          7,
          6,
          2,
          5,
          10,
          1,
          33,
          -13,
          -7,
          6,
          -16,
          6,
          14,
          4,
          -6,
          8,
          5,
          5,
          0,
          -6,
          2,
          2,
          4,
          -11,
          2,
          2,
          -4,
          -17,
          -1,
          1,
          9,
          -7,
          -1,
          8,
          -7,
          -1,
          5,
          -7,
          -1,
          -18,
          2,
          2,
          -18,
          29,
          -16,
          -23,
          3,
          -6,
          1,
          18,
          9,
          2,
          7,
          -14,
          -9,
          8,
          12,
          -1,
          26,
          -11,
          1,
          1,
          3,
          3,
          -1,
          -11,
          -1,
          -1,
          -1,
          5,
          -2,
          0,
          -1,
          2,
          -3,
          -8,
          1,
          -6,
          1,
          -14,
          14,
          1,
          0,
          -1,
          4,
          -1,
          3,
          2,
          -1,
          2,
          3,
          -1,
          1,
          -2,
          1,
          -1,
          -3,
          3,
          -6,
          1,
          0,
          3,
          3,
          -2,
          0,
          -1,
          -2,
          0,
          1,
          3,
          -8,
          -9,
          18,
          9,
          -4,
          2,
          -1,
          2,
          -2,
          0,
          -7,
          8,
          -2,
          5,
          0,
          2,
          0,
          0,
          0,
          -6,
          0,
          12,
          16,
          -11,
          15,
          -8,
          2,
          1,
          -24,
          -7,
          10,
          1,
          0,
          9,
          -1,
          -1,
          -7,
          -3,
          -2,
          1,
          -5,
          -3,
          2,
          -4,
          -4,
          0,
          1,
          -1,
          0,
          0,
          -1,
          -2,
          -2,
          0,
          -1,
          3,
          -1,
          6,
          0,
          2,
          -1,
          0,
          2,
          3,
          -28,
          -2,
          -1,
          -5,
          1,
          -4,
          3,
          -1,
          -3,
          -5,
          7,
          -8,
          2,
          -5,
          1,
          0,
          0,
          -1,
          3,
          1,
          0,
          -8,
          -6,
          4,
          7,
          25,
          -19,
          -3,
          0,
          1,
          0,
          1,
          -4,
          -3,
          3,
          -4,
          3,
          -6,
          -3,
          0,
          -1,
          -1,
          0,
          2,
          0,
          3,
          -3,
          3,
          -4,
          2,
          3,
          5,
          2,
          -3,
          -6,
          0,
          4,
          1,
          0,
          2,
          -5,
          3,
          -5,
          -1,
          25,
          -2,
          -13,
          14,
          -9,
          -4,
          0,
          -11,
          -1,
          1,
          -8,
          -3,
          1,
          -2,
          -13,
          1,
          3,
          -4,
          -1,
          0,
          -2,
          3,
          -1,
          0,
          -2,
          -3,
          -3,
          1,
          0,
          4,
          -5,
          3,
          3,
          1,
          0,
          -1,
          2,
          0,
          27,
          3,
          -1,
          -3,
          3,
          -1,
          -1,
          3,
          0,
          1,
          -5,
          -2,
          3,
          2,
          -3,
          7,
          0,
          -1,
          1,
          0,
          0,
          -3,
          -3,
          -1,
          1,
          -6,
          0,
          7,
          -4,
          4,
          5,
          -7,
          2,
          -1,
          4,
          -4,
          -2,
          -7,
          -2,
          -4,
          1,
          -4,
          2,
          -2,
          -3,
          -1,
          -3,
          5,
          6,
          -1,
          4,
          1,
          2,
          1,
          -5,
          0,
          0,
          5,
          -3,
          0,
          -30,
          29,
          -4,
          -1,
          1,
          1,
          2,
          -6,
          2,
          6,
          0,
          -7,
          2,
          -6,
          -2,
          0,
          1,
          0,
          4,
          1,
          -1,
          3,
          -1,
          -3,
          0,
          -1,
          -7,
          20,
          -13,
          9,
          1,
          -3,
          0,
          8,
          3,
          -3,
          1,
          4,
          -1,
          5,
          -1,
          2,
          2,
          0,
          2,
          -2,
          3,
          -20,
          -2,
          -1,
          3,
          2,
          -1,
          -6,
          2,
          -2,
          -1,
          16,
          -1,
          -6,
          -3,
          5,
          -3,
          0,
          -2,
          -16,
          2,
          7,
          -59,
          1,
          4,
          0,
          0,
          -3,
          -30,
          -24,
          -1,
          -7,
          5,
          1,
          -8,
          2,
          -9,
          7,
          -25,
          16,
          10,
          -5,
          15,
          -3,
          -3,
          5,
          -4,
          12,
          -4,
          -5,
          1,
          -3,
          -4,
          20,
          -5,
          -5,
          1,
          -5,
          12,
          2,
          -3,
          2,
          5,
          1,
          -6,
          1,
          -2,
          0,
          -2,
          0,
          1,
          7,
          -1,
          -8,
          -1,
          -7,
          -1,
          2,
          -3,
          0,
          2,
          3,
          6,
          4,
          -27,
          25,
          -1,
          1,
          -7,
          9,
          -5,
          -4
         ],
         "xaxis": "x",
         "yaxis": "y"
        }
       ],
       "layout": {
        "annotations": [
         {
          "showarrow": false,
          "text": "0.48",
          "x": 0.48036443606660384,
          "xanchor": "center",
          "xref": "x",
          "y": 1,
          "yanchor": "bottom",
          "yref": "y domain"
         },
         {
          "showarrow": false,
          "text": "7.93",
          "x": 23.798786755201803,
          "xanchor": "center",
          "xref": "x",
          "y": 1,
          "yanchor": "bottom",
          "yref": "y domain"
         },
         {
          "showarrow": false,
          "text": "7.93",
          "x": -23.798786755201803,
          "xanchor": "center",
          "xref": "x",
          "y": 1,
          "yanchor": "bottom",
          "yref": "y domain"
         }
        ],
        "barmode": "relative",
        "legend": {
         "tracegroupgap": 0
        },
        "margin": {
         "t": 60
        },
        "shapes": [
         {
          "line": {
           "color": "black",
           "dash": "dash",
           "width": 1
          },
          "type": "line",
          "x0": 0.48036443606660384,
          "x1": 0.48036443606660384,
          "xref": "x",
          "y0": 0,
          "y1": 1,
          "yref": "y domain"
         },
         {
          "line": {
           "color": "red",
           "dash": "dash",
           "width": 1
          },
          "type": "line",
          "x0": 23.798786755201803,
          "x1": 23.798786755201803,
          "xref": "x",
          "y0": 0,
          "y1": 1,
          "yref": "y domain"
         },
         {
          "line": {
           "color": "red",
           "dash": "dash",
           "width": 1
          },
          "type": "line",
          "x0": -23.798786755201803,
          "x1": -23.798786755201803,
          "xref": "x",
          "y0": 0,
          "y1": 1,
          "yref": "y domain"
         }
        ],
        "template": {
         "data": {
          "bar": [
           {
            "error_x": {
             "color": "#2a3f5f"
            },
            "error_y": {
             "color": "#2a3f5f"
            },
            "marker": {
             "line": {
              "color": "#E5ECF6",
              "width": 0.5
             },
             "pattern": {
              "fillmode": "overlay",
              "size": 10,
              "solidity": 0.2
             }
            },
            "type": "bar"
           }
          ],
          "barpolar": [
           {
            "marker": {
             "line": {
              "color": "#E5ECF6",
              "width": 0.5
             },
             "pattern": {
              "fillmode": "overlay",
              "size": 10,
              "solidity": 0.2
             }
            },
            "type": "barpolar"
           }
          ],
          "carpet": [
           {
            "aaxis": {
             "endlinecolor": "#2a3f5f",
             "gridcolor": "white",
             "linecolor": "white",
             "minorgridcolor": "white",
             "startlinecolor": "#2a3f5f"
            },
            "baxis": {
             "endlinecolor": "#2a3f5f",
             "gridcolor": "white",
             "linecolor": "white",
             "minorgridcolor": "white",
             "startlinecolor": "#2a3f5f"
            },
            "type": "carpet"
           }
          ],
          "choropleth": [
           {
            "colorbar": {
             "outlinewidth": 0,
             "ticks": ""
            },
            "type": "choropleth"
           }
          ],
          "contour": [
           {
            "colorbar": {
             "outlinewidth": 0,
             "ticks": ""
            },
            "colorscale": [
             [
              0,
              "#0d0887"
             ],
             [
              0.1111111111111111,
              "#46039f"
             ],
             [
              0.2222222222222222,
              "#7201a8"
             ],
             [
              0.3333333333333333,
              "#9c179e"
             ],
             [
              0.4444444444444444,
              "#bd3786"
             ],
             [
              0.5555555555555556,
              "#d8576b"
             ],
             [
              0.6666666666666666,
              "#ed7953"
             ],
             [
              0.7777777777777778,
              "#fb9f3a"
             ],
             [
              0.8888888888888888,
              "#fdca26"
             ],
             [
              1,
              "#f0f921"
             ]
            ],
            "type": "contour"
           }
          ],
          "contourcarpet": [
           {
            "colorbar": {
             "outlinewidth": 0,
             "ticks": ""
            },
            "type": "contourcarpet"
           }
          ],
          "heatmap": [
           {
            "colorbar": {
             "outlinewidth": 0,
             "ticks": ""
            },
            "colorscale": [
             [
              0,
              "#0d0887"
             ],
             [
              0.1111111111111111,
              "#46039f"
             ],
             [
              0.2222222222222222,
              "#7201a8"
             ],
             [
              0.3333333333333333,
              "#9c179e"
             ],
             [
              0.4444444444444444,
              "#bd3786"
             ],
             [
              0.5555555555555556,
              "#d8576b"
             ],
             [
              0.6666666666666666,
              "#ed7953"
             ],
             [
              0.7777777777777778,
              "#fb9f3a"
             ],
             [
              0.8888888888888888,
              "#fdca26"
             ],
             [
              1,
              "#f0f921"
             ]
            ],
            "type": "heatmap"
           }
          ],
          "heatmapgl": [
           {
            "colorbar": {
             "outlinewidth": 0,
             "ticks": ""
            },
            "colorscale": [
             [
              0,
              "#0d0887"
             ],
             [
              0.1111111111111111,
              "#46039f"
             ],
             [
              0.2222222222222222,
              "#7201a8"
             ],
             [
              0.3333333333333333,
              "#9c179e"
             ],
             [
              0.4444444444444444,
              "#bd3786"
             ],
             [
              0.5555555555555556,
              "#d8576b"
             ],
             [
              0.6666666666666666,
              "#ed7953"
             ],
             [
              0.7777777777777778,
              "#fb9f3a"
             ],
             [
              0.8888888888888888,
              "#fdca26"
             ],
             [
              1,
              "#f0f921"
             ]
            ],
            "type": "heatmapgl"
           }
          ],
          "histogram": [
           {
            "marker": {
             "pattern": {
              "fillmode": "overlay",
              "size": 10,
              "solidity": 0.2
             }
            },
            "type": "histogram"
           }
          ],
          "histogram2d": [
           {
            "colorbar": {
             "outlinewidth": 0,
             "ticks": ""
            },
            "colorscale": [
             [
              0,
              "#0d0887"
             ],
             [
              0.1111111111111111,
              "#46039f"
             ],
             [
              0.2222222222222222,
              "#7201a8"
             ],
             [
              0.3333333333333333,
              "#9c179e"
             ],
             [
              0.4444444444444444,
              "#bd3786"
             ],
             [
              0.5555555555555556,
              "#d8576b"
             ],
             [
              0.6666666666666666,
              "#ed7953"
             ],
             [
              0.7777777777777778,
              "#fb9f3a"
             ],
             [
              0.8888888888888888,
              "#fdca26"
             ],
             [
              1,
              "#f0f921"
             ]
            ],
            "type": "histogram2d"
           }
          ],
          "histogram2dcontour": [
           {
            "colorbar": {
             "outlinewidth": 0,
             "ticks": ""
            },
            "colorscale": [
             [
              0,
              "#0d0887"
             ],
             [
              0.1111111111111111,
              "#46039f"
             ],
             [
              0.2222222222222222,
              "#7201a8"
             ],
             [
              0.3333333333333333,
              "#9c179e"
             ],
             [
              0.4444444444444444,
              "#bd3786"
             ],
             [
              0.5555555555555556,
              "#d8576b"
             ],
             [
              0.6666666666666666,
              "#ed7953"
             ],
             [
              0.7777777777777778,
              "#fb9f3a"
             ],
             [
              0.8888888888888888,
              "#fdca26"
             ],
             [
              1,
              "#f0f921"
             ]
            ],
            "type": "histogram2dcontour"
           }
          ],
          "mesh3d": [
           {
            "colorbar": {
             "outlinewidth": 0,
             "ticks": ""
            },
            "type": "mesh3d"
           }
          ],
          "parcoords": [
           {
            "line": {
             "colorbar": {
              "outlinewidth": 0,
              "ticks": ""
             }
            },
            "type": "parcoords"
           }
          ],
          "pie": [
           {
            "automargin": true,
            "type": "pie"
           }
          ],
          "scatter": [
           {
            "fillpattern": {
             "fillmode": "overlay",
             "size": 10,
             "solidity": 0.2
            },
            "type": "scatter"
           }
          ],
          "scatter3d": [
           {
            "line": {
             "colorbar": {
              "outlinewidth": 0,
              "ticks": ""
             }
            },
            "marker": {
             "colorbar": {
              "outlinewidth": 0,
              "ticks": ""
             }
            },
            "type": "scatter3d"
           }
          ],
          "scattercarpet": [
           {
            "marker": {
             "colorbar": {
              "outlinewidth": 0,
              "ticks": ""
             }
            },
            "type": "scattercarpet"
           }
          ],
          "scattergeo": [
           {
            "marker": {
             "colorbar": {
              "outlinewidth": 0,
              "ticks": ""
             }
            },
            "type": "scattergeo"
           }
          ],
          "scattergl": [
           {
            "marker": {
             "colorbar": {
              "outlinewidth": 0,
              "ticks": ""
             }
            },
            "type": "scattergl"
           }
          ],
          "scattermapbox": [
           {
            "marker": {
             "colorbar": {
              "outlinewidth": 0,
              "ticks": ""
             }
            },
            "type": "scattermapbox"
           }
          ],
          "scatterpolar": [
           {
            "marker": {
             "colorbar": {
              "outlinewidth": 0,
              "ticks": ""
             }
            },
            "type": "scatterpolar"
           }
          ],
          "scatterpolargl": [
           {
            "marker": {
             "colorbar": {
              "outlinewidth": 0,
              "ticks": ""
             }
            },
            "type": "scatterpolargl"
           }
          ],
          "scatterternary": [
           {
            "marker": {
             "colorbar": {
              "outlinewidth": 0,
              "ticks": ""
             }
            },
            "type": "scatterternary"
           }
          ],
          "surface": [
           {
            "colorbar": {
             "outlinewidth": 0,
             "ticks": ""
            },
            "colorscale": [
             [
              0,
              "#0d0887"
             ],
             [
              0.1111111111111111,
              "#46039f"
             ],
             [
              0.2222222222222222,
              "#7201a8"
             ],
             [
              0.3333333333333333,
              "#9c179e"
             ],
             [
              0.4444444444444444,
              "#bd3786"
             ],
             [
              0.5555555555555556,
              "#d8576b"
             ],
             [
              0.6666666666666666,
              "#ed7953"
             ],
             [
              0.7777777777777778,
              "#fb9f3a"
             ],
             [
              0.8888888888888888,
              "#fdca26"
             ],
             [
              1,
              "#f0f921"
             ]
            ],
            "type": "surface"
           }
          ],
          "table": [
           {
            "cells": {
             "fill": {
              "color": "#EBF0F8"
             },
             "line": {
              "color": "white"
             }
            },
            "header": {
             "fill": {
              "color": "#C8D4E3"
             },
             "line": {
              "color": "white"
             }
            },
            "type": "table"
           }
          ]
         },
         "layout": {
          "annotationdefaults": {
           "arrowcolor": "#2a3f5f",
           "arrowhead": 0,
           "arrowwidth": 1
          },
          "autotypenumbers": "strict",
          "coloraxis": {
           "colorbar": {
            "outlinewidth": 0,
            "ticks": ""
           }
          },
          "colorscale": {
           "diverging": [
            [
             0,
             "#8e0152"
            ],
            [
             0.1,
             "#c51b7d"
            ],
            [
             0.2,
             "#de77ae"
            ],
            [
             0.3,
             "#f1b6da"
            ],
            [
             0.4,
             "#fde0ef"
            ],
            [
             0.5,
             "#f7f7f7"
            ],
            [
             0.6,
             "#e6f5d0"
            ],
            [
             0.7,
             "#b8e186"
            ],
            [
             0.8,
             "#7fbc41"
            ],
            [
             0.9,
             "#4d9221"
            ],
            [
             1,
             "#276419"
            ]
           ],
           "sequential": [
            [
             0,
             "#0d0887"
            ],
            [
             0.1111111111111111,
             "#46039f"
            ],
            [
             0.2222222222222222,
             "#7201a8"
            ],
            [
             0.3333333333333333,
             "#9c179e"
            ],
            [
             0.4444444444444444,
             "#bd3786"
            ],
            [
             0.5555555555555556,
             "#d8576b"
            ],
            [
             0.6666666666666666,
             "#ed7953"
            ],
            [
             0.7777777777777778,
             "#fb9f3a"
            ],
            [
             0.8888888888888888,
             "#fdca26"
            ],
            [
             1,
             "#f0f921"
            ]
           ],
           "sequentialminus": [
            [
             0,
             "#0d0887"
            ],
            [
             0.1111111111111111,
             "#46039f"
            ],
            [
             0.2222222222222222,
             "#7201a8"
            ],
            [
             0.3333333333333333,
             "#9c179e"
            ],
            [
             0.4444444444444444,
             "#bd3786"
            ],
            [
             0.5555555555555556,
             "#d8576b"
            ],
            [
             0.6666666666666666,
             "#ed7953"
            ],
            [
             0.7777777777777778,
             "#fb9f3a"
            ],
            [
             0.8888888888888888,
             "#fdca26"
            ],
            [
             1,
             "#f0f921"
            ]
           ]
          },
          "colorway": [
           "#636efa",
           "#EF553B",
           "#00cc96",
           "#ab63fa",
           "#FFA15A",
           "#19d3f3",
           "#FF6692",
           "#B6E880",
           "#FF97FF",
           "#FECB52"
          ],
          "font": {
           "color": "#2a3f5f"
          },
          "geo": {
           "bgcolor": "white",
           "lakecolor": "white",
           "landcolor": "#E5ECF6",
           "showlakes": true,
           "showland": true,
           "subunitcolor": "white"
          },
          "hoverlabel": {
           "align": "left"
          },
          "hovermode": "closest",
          "mapbox": {
           "style": "light"
          },
          "paper_bgcolor": "white",
          "plot_bgcolor": "#E5ECF6",
          "polar": {
           "angularaxis": {
            "gridcolor": "white",
            "linecolor": "white",
            "ticks": ""
           },
           "bgcolor": "#E5ECF6",
           "radialaxis": {
            "gridcolor": "white",
            "linecolor": "white",
            "ticks": ""
           }
          },
          "scene": {
           "xaxis": {
            "backgroundcolor": "#E5ECF6",
            "gridcolor": "white",
            "gridwidth": 2,
            "linecolor": "white",
            "showbackground": true,
            "ticks": "",
            "zerolinecolor": "white"
           },
           "yaxis": {
            "backgroundcolor": "#E5ECF6",
            "gridcolor": "white",
            "gridwidth": 2,
            "linecolor": "white",
            "showbackground": true,
            "ticks": "",
            "zerolinecolor": "white"
           },
           "zaxis": {
            "backgroundcolor": "#E5ECF6",
            "gridcolor": "white",
            "gridwidth": 2,
            "linecolor": "white",
            "showbackground": true,
            "ticks": "",
            "zerolinecolor": "white"
           }
          },
          "shapedefaults": {
           "line": {
            "color": "#2a3f5f"
           }
          },
          "ternary": {
           "aaxis": {
            "gridcolor": "white",
            "linecolor": "white",
            "ticks": ""
           },
           "baxis": {
            "gridcolor": "white",
            "linecolor": "white",
            "ticks": ""
           },
           "bgcolor": "#E5ECF6",
           "caxis": {
            "gridcolor": "white",
            "linecolor": "white",
            "ticks": ""
           }
          },
          "title": {
           "x": 0.05
          },
          "xaxis": {
           "automargin": true,
           "gridcolor": "white",
           "linecolor": "white",
           "ticks": "",
           "title": {
            "standoff": 15
           },
           "zerolinecolor": "white",
           "zerolinewidth": 2
          },
          "yaxis": {
           "automargin": true,
           "gridcolor": "white",
           "linecolor": "white",
           "ticks": "",
           "title": {
            "standoff": 15
           },
           "zerolinecolor": "white",
           "zerolinewidth": 2
          }
         }
        },
        "xaxis": {
         "anchor": "y",
         "domain": [
          0,
          1
         ],
         "title": {
          "text": "pairwise_change"
         }
        },
        "yaxis": {
         "anchor": "x",
         "domain": [
          0,
          1
         ],
         "title": {
          "text": "probability density"
         }
        }
       }
      },
      "text/html": [
       "<div>                            <div id=\"41f70d1b-daa0-4487-beec-b11870749e7c\" class=\"plotly-graph-div\" style=\"height:525px; width:100%;\"></div>            <script type=\"text/javascript\">                require([\"plotly\"], function(Plotly) {                    window.PLOTLYENV=window.PLOTLYENV || {};                                    if (document.getElementById(\"41f70d1b-daa0-4487-beec-b11870749e7c\")) {                    Plotly.newPlot(                        \"41f70d1b-daa0-4487-beec-b11870749e7c\",                        [{\"alignmentgroup\":\"True\",\"bingroup\":\"x\",\"histnorm\":\"probability density\",\"hovertemplate\":\"pairwise_change=%{x}\\u003cbr\\u003eprobability density=%{y}\\u003cextra\\u003e\\u003c\\u002fextra\\u003e\",\"legendgroup\":\"\",\"marker\":{\"color\":\"#636efa\",\"pattern\":{\"shape\":\"\"}},\"name\":\"\",\"offsetgroup\":\"\",\"orientation\":\"v\",\"showlegend\":false,\"x\":[12,7,7,-8,1,6,7,-1,3,-23,4,0,-4,2,5,1,4,-3,6,-4,6,9,-4,3,-7,-8,1,11,-1,2,4,-7,-7,3,11,0,-2,-8,-13,5,3,-1,6,1,-5,-1,-10,-3,5,-6,5,0,2,10,9,-4,1,9,0,1,1,6,3,-21,23,5,-9,14,-7,2,1,-3,-5,9,6,-1,-3,2,13,-7,3,2,0,1,5,1,7,-14,-4,0,7,-10,9,-2,1,2,-6,-3,4,-1,-13,-7,6,-1,0,-3,1,6,-8,-4,-2,0,-5,3,1,0,-9,-7,0,3,3,6,0,-15,-4,2,1,3,-3,0,-5,0,0,-2,-1,-2,-3,1,-1,-3,-3,2,-5,0,-1,-2,2,-4,1,-6,1,2,-10,3,-5,-2,4,8,13,-4,1,-1,-5,-5,1,-8,-2,-2,11,12,-31,12,-30,-4,0,0,8,0,-7,-1,-2,-5,1,-2,1,-5,0,-1,2,4,0,-1,0,3,-3,-1,33,-30,-2,-9,-3,-8,-1,5,4,-3,-2,-8,0,-24,9,2,-9,-12,14,-16,-5,2,-9,-1,0,-2,-2,2,0,-9,27,-5,4,-12,8,-2,7,5,1,-1,5,2,5,11,1,-10,4,10,2,0,-2,4,11,-1,7,-1,2,-3,0,-3,-5,-2,3,-2,1,-9,2,-2,-5,-1,2,-4,-1,3,3,5,2,12,1,2,-4,5,-2,-2,1,-6,7,9,-3,9,1,3,2,-1,3,-4,9,-4,-3,-2,5,4,1,3,-3,0,-18,9,14,1,4,-3,-1,6,1,1,5,6,-3,11,33,2,6,6,7,0,0,2,1,-4,-5,0,0,-2,8,13,1,7,-13,14,26,-21,8,4,6,2,1,-10,17,26,8,-1,5,1,9,6,-1,8,3,6,-8,5,6,-8,7,-16,18,6,1,4,-16,17,-12,-13,11,3,-7,2,5,-5,3,-5,-4,5,-5,-7,-22,-4,4,-4,0,0,2,-2,7,10,-1,-4,-13,-15,-9,-1,1,0,-5,-1,10,3,3,-1,0,-8,12,19,8,2,3,4,3,-5,10,3,0,-3,6,-2,-5,1,-3,1,-10,17,-4,1,-2,-2,-1,3,1,9,0,2,0,3,10,5,7,-4,1,-8,4,2,1,7,0,2,12,-5,-1,9,-1,1,3,1,-1,4,5,3,-1,5,-2,1,-3,-1,3,4,7,-2,10,5,0,10,3,8,4,6,-5,-23,12,-7,3,1,1,6,-1,3,3,8,3,6,7,5,0,4,1,1,5,22,-3,6,35,7,0,4,20,0,-1,0,-3,6,3,8,-9,-2,-5,4,2,-6,9,10,-1,-7,-29,0,0,4,-2,0,0,-1,2,0,0,-2,-1,0,0,2,9,-4,0,-2,1,9,1,-12,-8,1,-12,9,3,-7,2,-6,9,-7,-6,9,-1,1,1,-4,-1,1,-2,0,-1,1,-2,0,6,-2,1,2,1,1,-1,1,0,2,-1,0,6,7,4,6,2,-1,5,2,-4,9,0,-25,-4,2,2,-9,-3,0,-17,-2,11,3,-5,0,6,4,-3,5,4,3,-10,-15,2,-22,6,-5,1,-2,0,25,0,4,14,2,20,-4,0,4,4,-1,-2,-1,6,4,0,3,-1,12,2,8,2,-2,4,0,-3,16,3,-1,-3,6,2,2,-5,-2,13,-18,17,-16,0,7,-5,-3,6,3,-2,1,4,0,-2,5,1,-2,-10,4,9,4,-4,2,6,1,0,10,-3,-2,6,4,-4,1,2,-3,19,-2,-2,1,-3,1,1,2,-9,2,-2,-6,12,-8,-27,25,6,-3,-1,4,3,-2,-1,-1,4,-1,-1,9,-3,11,-2,-2,-3,5,2,-1,-5,5,-2,3,5,18,2,1,1,0,-1,3,-4,-3,-17,10,0,5,0,4,4,-3,-4,2,5,3,7,8,24,-4,5,0,-1,-1,3,5,0,0,11,17,8,0,0,2,0,3,7,11,-1,11,-3,3,1,0,2,3,-6,-2,4,-4,4,-2,19,-19,1,1,14,-1,-7,2,-6,8,14,-1,3,0,-14,5,-5,0,5,-3,7,-6,6,1,5,-3,5,1,5,-2,1,5,22,-14,6,7,3,-1,11,6,10,-26,8,0,9,6,-4,2,3,-1,3,-7,7,10,12,5,14,-14,6,2,1,4,3,-6,6,-7,1,4,-2,-2,5,-3,-6,-2,5,-8,8,-4,14,3,13,2,1,0,0,-7,-1,4,0,-3,-5,2,-5,1,-2,7,-15,25,4,4,-4,4,6,0,1,0,-3,-5,3,-1,7,0,17,4,1,-2,-3,4,2,4,-2,-1,-5,3,1,4,-1,30,3,3,-4,-6,5,1,2,-26,29,-20,-20,22,5,-15,6,10,5,2,-2,0,4,3,-3,1,3,-1,-1,-5,8,-5,24,-1,-4,1,-22,18,6,0,4,1,-3,26,1,9,-26,-1,8,-6,7,-17,3,-2,-14,14,1,6,12,-11,0,19,10,-9,-1,-5,12,-11,1,-1,3,9,8,-8,16,-18,2,11,5,3,5,2,-6,1,0,-2,16,-18,2,-3,1,9,14,-9,-2,-4,-8,-3,6,7,4,-4,-18,19,-1,4,-8,-5,1,-2,-5,14,-10,-1,0,5,-3,6,-9,-5,-3,-6,-1,25,-29,22,0,-3,-11,4,4,9,2,-4,-15,12,9,-15,-2,-5,6,-10,-3,-21,-12,23,0,-5,-1,-2,-2,1,3,-1,-2,-1,5,3,0,-3,5,-4,2,-2,5,-2,-9,-1,-1,18,4,1,-12,2,4,-8,-2,-13,-2,9,-2,-16,-3,-1,-1,2,0,-25,6,-23,19,5,-2,2,-8,13,-31,7,3,-8,3,-2,0,24,-16,-10,2,6,2,0,5,-3,-4,-4,-3,6,-2,-6,-1,3,0,-2,-3,2,-10,4,10,3,1,-1,22,5,-1,3,-4,3,-1,-16,-1,1,-1,0,9,0,7,-2,6,-2,1,-26,-3,-5,-4,-5,-4,-1,-1,-1,4,1,2,2,1,1,2,-1,0,3,4,-1,5,2,2,6,-3,3,3,-2,-3,-6,10,-2,8,2,3,1,1,7,-2,5,1,0,7,-1,4,-7,2,21,-21,-2,9,-6,9,3,-1,4,1,0,0,-4,8,1,0,3,0,7,7,-8,-4,12,-16,0,18,-14,4,-2,-13,-1,20,1,15,19,6,-12,4,-16,-7,12,-1,15,19,2,-2,-3,3,-3,3,4,-4,3,6,1,-1,12,-1,-2,4,8,3,6,-8,-8,16,2,1,2,12,-1,-6,-6,5,-3,-1,-2,-4,2,-8,2,-2,5,2,-1,-5,5,-1,4,1,7,-7,-3,-3,2,1,0,-1,-1,1,-20,-6,9,-3,4,-6,-3,-7,-1,2,1,-8,-2,-17,2,1,-31,-1,0,2,-11,17,13,-9,-10,0,4,-4,-2,0,1,19,-9,-10,-2,-1,-1,1,-1,-1,-42,0,1,3,-8,6,-18,19,-1,-1,2,-1,-6,1,-1,0,1,0,-2,-5,4,12,2,-1,-1,2,-7,-3,9,-9,0,-3,-4,-7,6,-2,16,1,1,-2,1,-2,28,-24,26,-3,-4,-4,0,-3,-3,0,-8,5,11,-11,17,13,-9,-10,-1,-7,0,23,-20,12,4,-7,0,-2,15,1,-6,7,8,16,2,3,7,2,-7,7,0,2,8,7,0,-2,-1,-1,0,-1,-3,1,1,-9,6,3,6,-2,3,2,36,-4,9,1,1,-19,2,-8,2,-1,-1,0,11,0,-2,-2,5,3,-9,1,11,4,0,-1,3,-1,-3,5,-20,12,3,-6,4,30,5,-27,5,-1,0,-6,-1,-8,-18,15,1,-7,-3,0,2,-14,0,1,0,1,-10,-1,1,1,-15,10,-7,-1,2,-1,0,1,4,-2,-1,3,-2,15,0,5,-1,2,-1,-4,13,-1,0,4,2,-6,-3,-1,2,3,1,1,4,-3,1,4,3,0,16,0,0,8,-3,1,-2,0,0,-6,7,-1,1,-1,5,7,2,2,3,33,-28,-2,-19,15,11,-11,0,0,-3,0,-5,-4,-1,-31,17,2,-26,24,3,2,0,28,-5,1,-12,-2,6,-1,-2,-7,2,-6,-3,2,5,-10,3,-5,2,-3,7,0,0,-2,-5,-3,13,-17,10,1,1,0,2,32,3,3,-3,1,-6,3,7,2,-3,1,12,3,7,-2,1,-5,0,0,-1,1,-22,21,3,-4,-4,26,0,0,0,-2,1,-1,1,-1,1,1,-2,3,-12,-2,-3,-4,5,0,0,-1,-7,0,-2,-14,-5,5,0,-12,4,2,2,0,5,-9,8,19,-1,-4,-2,0,0,29,2,-5,-13,-24,33,-9,-10,11,-3,-1,1,-5,-2,-1,3,3,2,1,-9,2,-9,-2,-7,-5,3,2,1,0,6,-1,2,2,6,4,-4,-9,0,-2,3,1,9,1,1,3,1,1,5,-3,-2,7,1,0,0,-2,4,-5,7,-7,1,14,-2,2,-4,-1,1,6,3,2,-9,9,-3,5,-2,-8,3,14,-17,3,-4,-1,0,-5,0,6,8,-1,3,10,-1,9,0,-1,-2,0,1,6,0,0,6,5,-1,4,-2,10,5,3,7,-1,-1,1,-5,0,-5,-1,2,-1,-3,3,5,20,-3,3,5,-5,3,-5,12,-4,-3,0,1,2,0,-1,-10,0,8,-3,11,2,-4,0,4,-31,3,5,-5,3,3,0,-2,3,4,1,0,-1,5,1,-2,3,-1,-2,3,-2,2,3,3,-1,0,2,5,8,-1,-2,5,3,2,2,-1,-3,-3,10,-2,26,-10,5,-4,-10,3,-4,5,-2,3,6,7,-1,-10,6,10,-15,-1,11,-3,-4,9,7,-16,0,3,7,21,17,-5,2,1,-8,1,0,-3,2,1,1,-2,3,-1,1,26,2,1,3,-1,2,5,3,-25,22,-4,3,0,-3,2,2,5,-5,5,3,-2,-3,-9,-26,18,15,5,-1,4,7,1,5,1,-1,0,-2,1,-3,-1,-2,-5,9,-4,-12,7,1,14,29,1,-2,5,1,-13,6,0,-8,14,8,-9,14,8,-22,10,3,2,1,-1,-8,3,3,15,-3,-10,0,0,-5,2,-1,-1,-1,0,-1,3,-3,3,6,-2,1,-1,0,3,-1,0,5,7,-1,-3,-2,-2,-1,2,-3,-1,9,1,-1,-6,-5,-1,-37,4,28,11,21,1,2,14,8,5,4,0,12,-18,4,-2,-1,2,6,1,-1,-3,4,-6,-13,14,8,-6,14,8,1,-1,-1,3,-2,-1,-4,3,2,0,3,0,1,4,-7,-4,10,-1,-1,0,3,4,14,-28,3,-2,4,-1,1,0,-3,-11,0,-4,9,-5,-5,3,1,-5,2,0,5,-7,8,3,-7,5,-1,0,0,-7,10,3,33,3,0,-12,-9,6,3,-2,6,0,-4,1,1,0,-3,2,-6,12,-6,8,-6,-2,-1,-5,-5,6,5,1,4,5,-1,15,3,6,1,3,5,-4,1,3,1,6,-9,-8,-5,-27,3,-3,3,6,0,-4,0,-1,-11,1,3,-2,8,-3,-5,17,1,-1,-32,27,0,-1,6,7,9,13,5,-6,2,-6,1,6,4,-3,4,-30,31,-12,-4,4,-21,1,5,-6,3,-4,1,3,0,0,0,-2,4,-1,1,-1,-15,1,6,-1,-1,1,-10,0,6,2,0,-1,12,-2,-4,-3,-2,1,-1,-2,26,2,2,4,-3,1,-3,-19,1,-3,0,-4,3,2,-9,8,1,-5,7,-2,1,5,-3,3,-2,-11,14,0,-2,7,-1,-4,8,22,2,1,0,-5,40,-24,-12,5,-17,4,-12,0,7,-12,0,13,-9,-3,4,-4,-20,11,-9,-3,-12,-10,31,0,2,0,2,4,-5,1,-3,-1,-5,6,0,2,-2,-2,-15,-1,23,-4,3,-4,0,-1,-3,-14,12,-19,1,-5,2,-4,-3,-3,5,-5,0,1,-2,-1,-3,-4,2,2,0,-4,25,-22,-5,1,0,0,-12,4,-2,-5,-1,2,-1,1,3,11,-2,2,-5,4,-12,-1,-6,-3,-3,5,0,20,3,-5,9,-9,-3,5,-4,10,-1,-6,38,11,1,-1,-6,12,-12,-1,-1,-3,9,-2,0,-2,0,2,-5,5,-3,-3,0,2,3,-1,0,3,0,1,1,4,1,3,-3,-2,11,-3,-2,0,0,0,-28,0,2,1,-1,0,-8,1,-6,0,3,36,-6,8,-2,2,2,-1,2,0,2,1,1,-2,-1,-2,-4,-1,0,-3,-2,-3,-3,15,-1,-3,-2,4,1,0,-1,0,1,1,-1,2,-2,1,-1,-1,-1,-4,-1,-4,-4,0,-5,-5,-2,0,0,1,-1,-4,1,-1,5,0,3,-2,-7,3,3,-5,1,5,-2,2,1,0,1,-3,-2,2,-5,-3,-9,11,-4,5,0,12,5,-4,10,1,4,9,-1,3,1,6,1,3,12,1,4,1,-9,-3,3,-5,-2,-27,1,2,-1,4,-1,1,2,6,-2,6,1,-2,3,-7,0,1,-2,6,7,0,1,-4,-18,1,3,3,-3,0,2,-2,-2,6,0,11,-6,-4,0,-2,3,4,3,1,0,-2,-1,3,0,-1,3,0,-1,0,0,-1,16,-7,5,0,4,1,2,1,-6,4,-3,-1,-1,-2,1,13,-13,12,-13,0,-1,-4,3,-1,2,-3,-2,10,-2,-3,0,-1,-2,1,5,0,-6,-1,-2,-1,1,2,-3,0,-9,-2,0,-2,2,6,-3,0,1,-1,-4,4,-4,-3,6,0,5,-1,-5,30,0,2,1,2,-2,-3,4,2,3,2,1,-8,2,4,-4,2,-3,3,3,-4,-3,-3,-2,3,-16,0,-28,6,0,-2,8,-7,-8,3,11,-10,7,11,6,1,-3,-1,16,-18,5,1,-3,8,4,3,36,8,0,7,6,2,5,10,1,33,-13,-7,6,-16,6,14,4,-6,8,5,5,0,-6,2,2,4,-11,2,2,-4,-17,-1,1,9,-7,-1,8,-7,-1,5,-7,-1,-18,2,2,-18,29,-16,-23,3,-6,1,18,9,2,7,-14,-9,8,12,-1,26,-11,1,1,3,3,-1,-11,-1,-1,-1,5,-2,0,-1,2,-3,-8,1,-6,1,-14,14,1,0,-1,4,-1,3,2,-1,2,3,-1,1,-2,1,-1,-3,3,-6,1,0,3,3,-2,0,-1,-2,0,1,3,-8,-9,18,9,-4,2,-1,2,-2,0,-7,8,-2,5,0,2,0,0,0,-6,0,12,16,-11,15,-8,2,1,-24,-7,10,1,0,9,-1,-1,-7,-3,-2,1,-5,-3,2,-4,-4,0,1,-1,0,0,-1,-2,-2,0,-1,3,-1,6,0,2,-1,0,2,3,-28,-2,-1,-5,1,-4,3,-1,-3,-5,7,-8,2,-5,1,0,0,-1,3,1,0,-8,-6,4,7,25,-19,-3,0,1,0,1,-4,-3,3,-4,3,-6,-3,0,-1,-1,0,2,0,3,-3,3,-4,2,3,5,2,-3,-6,0,4,1,0,2,-5,3,-5,-1,25,-2,-13,14,-9,-4,0,-11,-1,1,-8,-3,1,-2,-13,1,3,-4,-1,0,-2,3,-1,0,-2,-3,-3,1,0,4,-5,3,3,1,0,-1,2,0,27,3,-1,-3,3,-1,-1,3,0,1,-5,-2,3,2,-3,7,0,-1,1,0,0,-3,-3,-1,1,-6,0,7,-4,4,5,-7,2,-1,4,-4,-2,-7,-2,-4,1,-4,2,-2,-3,-1,-3,5,6,-1,4,1,2,1,-5,0,0,5,-3,0,-30,29,-4,-1,1,1,2,-6,2,6,0,-7,2,-6,-2,0,1,0,4,1,-1,3,-1,-3,0,-1,-7,20,-13,9,1,-3,0,8,3,-3,1,4,-1,5,-1,2,2,0,2,-2,3,-20,-2,-1,3,2,-1,-6,2,-2,-1,16,-1,-6,-3,5,-3,0,-2,-16,2,7,-59,1,4,0,0,-3,-30,-24,-1,-7,5,1,-8,2,-9,7,-25,16,10,-5,15,-3,-3,5,-4,12,-4,-5,1,-3,-4,20,-5,-5,1,-5,12,2,-3,2,5,1,-6,1,-2,0,-2,0,1,7,-1,-8,-1,-7,-1,2,-3,0,2,3,6,4,-27,25,-1,1,-7,9,-5,-4],\"xaxis\":\"x\",\"yaxis\":\"y\",\"type\":\"histogram\"}],                        {\"template\":{\"data\":{\"histogram2dcontour\":[{\"type\":\"histogram2dcontour\",\"colorbar\":{\"outlinewidth\":0,\"ticks\":\"\"},\"colorscale\":[[0.0,\"#0d0887\"],[0.1111111111111111,\"#46039f\"],[0.2222222222222222,\"#7201a8\"],[0.3333333333333333,\"#9c179e\"],[0.4444444444444444,\"#bd3786\"],[0.5555555555555556,\"#d8576b\"],[0.6666666666666666,\"#ed7953\"],[0.7777777777777778,\"#fb9f3a\"],[0.8888888888888888,\"#fdca26\"],[1.0,\"#f0f921\"]]}],\"choropleth\":[{\"type\":\"choropleth\",\"colorbar\":{\"outlinewidth\":0,\"ticks\":\"\"}}],\"histogram2d\":[{\"type\":\"histogram2d\",\"colorbar\":{\"outlinewidth\":0,\"ticks\":\"\"},\"colorscale\":[[0.0,\"#0d0887\"],[0.1111111111111111,\"#46039f\"],[0.2222222222222222,\"#7201a8\"],[0.3333333333333333,\"#9c179e\"],[0.4444444444444444,\"#bd3786\"],[0.5555555555555556,\"#d8576b\"],[0.6666666666666666,\"#ed7953\"],[0.7777777777777778,\"#fb9f3a\"],[0.8888888888888888,\"#fdca26\"],[1.0,\"#f0f921\"]]}],\"heatmap\":[{\"type\":\"heatmap\",\"colorbar\":{\"outlinewidth\":0,\"ticks\":\"\"},\"colorscale\":[[0.0,\"#0d0887\"],[0.1111111111111111,\"#46039f\"],[0.2222222222222222,\"#7201a8\"],[0.3333333333333333,\"#9c179e\"],[0.4444444444444444,\"#bd3786\"],[0.5555555555555556,\"#d8576b\"],[0.6666666666666666,\"#ed7953\"],[0.7777777777777778,\"#fb9f3a\"],[0.8888888888888888,\"#fdca26\"],[1.0,\"#f0f921\"]]}],\"heatmapgl\":[{\"type\":\"heatmapgl\",\"colorbar\":{\"outlinewidth\":0,\"ticks\":\"\"},\"colorscale\":[[0.0,\"#0d0887\"],[0.1111111111111111,\"#46039f\"],[0.2222222222222222,\"#7201a8\"],[0.3333333333333333,\"#9c179e\"],[0.4444444444444444,\"#bd3786\"],[0.5555555555555556,\"#d8576b\"],[0.6666666666666666,\"#ed7953\"],[0.7777777777777778,\"#fb9f3a\"],[0.8888888888888888,\"#fdca26\"],[1.0,\"#f0f921\"]]}],\"contourcarpet\":[{\"type\":\"contourcarpet\",\"colorbar\":{\"outlinewidth\":0,\"ticks\":\"\"}}],\"contour\":[{\"type\":\"contour\",\"colorbar\":{\"outlinewidth\":0,\"ticks\":\"\"},\"colorscale\":[[0.0,\"#0d0887\"],[0.1111111111111111,\"#46039f\"],[0.2222222222222222,\"#7201a8\"],[0.3333333333333333,\"#9c179e\"],[0.4444444444444444,\"#bd3786\"],[0.5555555555555556,\"#d8576b\"],[0.6666666666666666,\"#ed7953\"],[0.7777777777777778,\"#fb9f3a\"],[0.8888888888888888,\"#fdca26\"],[1.0,\"#f0f921\"]]}],\"surface\":[{\"type\":\"surface\",\"colorbar\":{\"outlinewidth\":0,\"ticks\":\"\"},\"colorscale\":[[0.0,\"#0d0887\"],[0.1111111111111111,\"#46039f\"],[0.2222222222222222,\"#7201a8\"],[0.3333333333333333,\"#9c179e\"],[0.4444444444444444,\"#bd3786\"],[0.5555555555555556,\"#d8576b\"],[0.6666666666666666,\"#ed7953\"],[0.7777777777777778,\"#fb9f3a\"],[0.8888888888888888,\"#fdca26\"],[1.0,\"#f0f921\"]]}],\"mesh3d\":[{\"type\":\"mesh3d\",\"colorbar\":{\"outlinewidth\":0,\"ticks\":\"\"}}],\"scatter\":[{\"fillpattern\":{\"fillmode\":\"overlay\",\"size\":10,\"solidity\":0.2},\"type\":\"scatter\"}],\"parcoords\":[{\"type\":\"parcoords\",\"line\":{\"colorbar\":{\"outlinewidth\":0,\"ticks\":\"\"}}}],\"scatterpolargl\":[{\"type\":\"scatterpolargl\",\"marker\":{\"colorbar\":{\"outlinewidth\":0,\"ticks\":\"\"}}}],\"bar\":[{\"error_x\":{\"color\":\"#2a3f5f\"},\"error_y\":{\"color\":\"#2a3f5f\"},\"marker\":{\"line\":{\"color\":\"#E5ECF6\",\"width\":0.5},\"pattern\":{\"fillmode\":\"overlay\",\"size\":10,\"solidity\":0.2}},\"type\":\"bar\"}],\"scattergeo\":[{\"type\":\"scattergeo\",\"marker\":{\"colorbar\":{\"outlinewidth\":0,\"ticks\":\"\"}}}],\"scatterpolar\":[{\"type\":\"scatterpolar\",\"marker\":{\"colorbar\":{\"outlinewidth\":0,\"ticks\":\"\"}}}],\"histogram\":[{\"marker\":{\"pattern\":{\"fillmode\":\"overlay\",\"size\":10,\"solidity\":0.2}},\"type\":\"histogram\"}],\"scattergl\":[{\"type\":\"scattergl\",\"marker\":{\"colorbar\":{\"outlinewidth\":0,\"ticks\":\"\"}}}],\"scatter3d\":[{\"type\":\"scatter3d\",\"line\":{\"colorbar\":{\"outlinewidth\":0,\"ticks\":\"\"}},\"marker\":{\"colorbar\":{\"outlinewidth\":0,\"ticks\":\"\"}}}],\"scattermapbox\":[{\"type\":\"scattermapbox\",\"marker\":{\"colorbar\":{\"outlinewidth\":0,\"ticks\":\"\"}}}],\"scatterternary\":[{\"type\":\"scatterternary\",\"marker\":{\"colorbar\":{\"outlinewidth\":0,\"ticks\":\"\"}}}],\"scattercarpet\":[{\"type\":\"scattercarpet\",\"marker\":{\"colorbar\":{\"outlinewidth\":0,\"ticks\":\"\"}}}],\"carpet\":[{\"aaxis\":{\"endlinecolor\":\"#2a3f5f\",\"gridcolor\":\"white\",\"linecolor\":\"white\",\"minorgridcolor\":\"white\",\"startlinecolor\":\"#2a3f5f\"},\"baxis\":{\"endlinecolor\":\"#2a3f5f\",\"gridcolor\":\"white\",\"linecolor\":\"white\",\"minorgridcolor\":\"white\",\"startlinecolor\":\"#2a3f5f\"},\"type\":\"carpet\"}],\"table\":[{\"cells\":{\"fill\":{\"color\":\"#EBF0F8\"},\"line\":{\"color\":\"white\"}},\"header\":{\"fill\":{\"color\":\"#C8D4E3\"},\"line\":{\"color\":\"white\"}},\"type\":\"table\"}],\"barpolar\":[{\"marker\":{\"line\":{\"color\":\"#E5ECF6\",\"width\":0.5},\"pattern\":{\"fillmode\":\"overlay\",\"size\":10,\"solidity\":0.2}},\"type\":\"barpolar\"}],\"pie\":[{\"automargin\":true,\"type\":\"pie\"}]},\"layout\":{\"autotypenumbers\":\"strict\",\"colorway\":[\"#636efa\",\"#EF553B\",\"#00cc96\",\"#ab63fa\",\"#FFA15A\",\"#19d3f3\",\"#FF6692\",\"#B6E880\",\"#FF97FF\",\"#FECB52\"],\"font\":{\"color\":\"#2a3f5f\"},\"hovermode\":\"closest\",\"hoverlabel\":{\"align\":\"left\"},\"paper_bgcolor\":\"white\",\"plot_bgcolor\":\"#E5ECF6\",\"polar\":{\"bgcolor\":\"#E5ECF6\",\"angularaxis\":{\"gridcolor\":\"white\",\"linecolor\":\"white\",\"ticks\":\"\"},\"radialaxis\":{\"gridcolor\":\"white\",\"linecolor\":\"white\",\"ticks\":\"\"}},\"ternary\":{\"bgcolor\":\"#E5ECF6\",\"aaxis\":{\"gridcolor\":\"white\",\"linecolor\":\"white\",\"ticks\":\"\"},\"baxis\":{\"gridcolor\":\"white\",\"linecolor\":\"white\",\"ticks\":\"\"},\"caxis\":{\"gridcolor\":\"white\",\"linecolor\":\"white\",\"ticks\":\"\"}},\"coloraxis\":{\"colorbar\":{\"outlinewidth\":0,\"ticks\":\"\"}},\"colorscale\":{\"sequential\":[[0.0,\"#0d0887\"],[0.1111111111111111,\"#46039f\"],[0.2222222222222222,\"#7201a8\"],[0.3333333333333333,\"#9c179e\"],[0.4444444444444444,\"#bd3786\"],[0.5555555555555556,\"#d8576b\"],[0.6666666666666666,\"#ed7953\"],[0.7777777777777778,\"#fb9f3a\"],[0.8888888888888888,\"#fdca26\"],[1.0,\"#f0f921\"]],\"sequentialminus\":[[0.0,\"#0d0887\"],[0.1111111111111111,\"#46039f\"],[0.2222222222222222,\"#7201a8\"],[0.3333333333333333,\"#9c179e\"],[0.4444444444444444,\"#bd3786\"],[0.5555555555555556,\"#d8576b\"],[0.6666666666666666,\"#ed7953\"],[0.7777777777777778,\"#fb9f3a\"],[0.8888888888888888,\"#fdca26\"],[1.0,\"#f0f921\"]],\"diverging\":[[0,\"#8e0152\"],[0.1,\"#c51b7d\"],[0.2,\"#de77ae\"],[0.3,\"#f1b6da\"],[0.4,\"#fde0ef\"],[0.5,\"#f7f7f7\"],[0.6,\"#e6f5d0\"],[0.7,\"#b8e186\"],[0.8,\"#7fbc41\"],[0.9,\"#4d9221\"],[1,\"#276419\"]]},\"xaxis\":{\"gridcolor\":\"white\",\"linecolor\":\"white\",\"ticks\":\"\",\"title\":{\"standoff\":15},\"zerolinecolor\":\"white\",\"automargin\":true,\"zerolinewidth\":2},\"yaxis\":{\"gridcolor\":\"white\",\"linecolor\":\"white\",\"ticks\":\"\",\"title\":{\"standoff\":15},\"zerolinecolor\":\"white\",\"automargin\":true,\"zerolinewidth\":2},\"scene\":{\"xaxis\":{\"backgroundcolor\":\"#E5ECF6\",\"gridcolor\":\"white\",\"linecolor\":\"white\",\"showbackground\":true,\"ticks\":\"\",\"zerolinecolor\":\"white\",\"gridwidth\":2},\"yaxis\":{\"backgroundcolor\":\"#E5ECF6\",\"gridcolor\":\"white\",\"linecolor\":\"white\",\"showbackground\":true,\"ticks\":\"\",\"zerolinecolor\":\"white\",\"gridwidth\":2},\"zaxis\":{\"backgroundcolor\":\"#E5ECF6\",\"gridcolor\":\"white\",\"linecolor\":\"white\",\"showbackground\":true,\"ticks\":\"\",\"zerolinecolor\":\"white\",\"gridwidth\":2}},\"shapedefaults\":{\"line\":{\"color\":\"#2a3f5f\"}},\"annotationdefaults\":{\"arrowcolor\":\"#2a3f5f\",\"arrowhead\":0,\"arrowwidth\":1},\"geo\":{\"bgcolor\":\"white\",\"landcolor\":\"#E5ECF6\",\"subunitcolor\":\"white\",\"showland\":true,\"showlakes\":true,\"lakecolor\":\"white\"},\"title\":{\"x\":0.05},\"mapbox\":{\"style\":\"light\"}}},\"xaxis\":{\"anchor\":\"y\",\"domain\":[0.0,1.0],\"title\":{\"text\":\"pairwise_change\"}},\"yaxis\":{\"anchor\":\"x\",\"domain\":[0.0,1.0],\"title\":{\"text\":\"probability density\"}},\"legend\":{\"tracegroupgap\":0},\"margin\":{\"t\":60},\"barmode\":\"relative\",\"shapes\":[{\"line\":{\"color\":\"black\",\"dash\":\"dash\",\"width\":1},\"type\":\"line\",\"x0\":0.48036443606660384,\"x1\":0.48036443606660384,\"xref\":\"x\",\"y0\":0,\"y1\":1,\"yref\":\"y domain\"},{\"line\":{\"color\":\"red\",\"dash\":\"dash\",\"width\":1},\"type\":\"line\",\"x0\":23.798786755201803,\"x1\":23.798786755201803,\"xref\":\"x\",\"y0\":0,\"y1\":1,\"yref\":\"y domain\"},{\"line\":{\"color\":\"red\",\"dash\":\"dash\",\"width\":1},\"type\":\"line\",\"x0\":-23.798786755201803,\"x1\":-23.798786755201803,\"xref\":\"x\",\"y0\":0,\"y1\":1,\"yref\":\"y domain\"}],\"annotations\":[{\"showarrow\":false,\"text\":\"0.48\",\"x\":0.48036443606660384,\"xanchor\":\"center\",\"xref\":\"x\",\"y\":1,\"yanchor\":\"bottom\",\"yref\":\"y domain\"},{\"showarrow\":false,\"text\":\"7.93\",\"x\":23.798786755201803,\"xanchor\":\"center\",\"xref\":\"x\",\"y\":1,\"yanchor\":\"bottom\",\"yref\":\"y domain\"},{\"showarrow\":false,\"text\":\"7.93\",\"x\":-23.798786755201803,\"xanchor\":\"center\",\"xref\":\"x\",\"y\":1,\"yanchor\":\"bottom\",\"yref\":\"y domain\"}]},                        {\"responsive\": true}                    ).then(function(){\n",
       "                            \n",
       "var gd = document.getElementById('41f70d1b-daa0-4487-beec-b11870749e7c');\n",
       "var x = new MutationObserver(function (mutations, observer) {{\n",
       "        var display = window.getComputedStyle(gd).display;\n",
       "        if (!display || display === 'none') {{\n",
       "            console.log([gd, 'removed!']);\n",
       "            Plotly.purge(gd);\n",
       "            observer.disconnect();\n",
       "        }}\n",
       "}});\n",
       "\n",
       "// Listen for the removal of the full notebook cells\n",
       "var notebookContainer = gd.closest('#notebook-container');\n",
       "if (notebookContainer) {{\n",
       "    x.observe(notebookContainer, {childList: true});\n",
       "}}\n",
       "\n",
       "// Listen for the clearing of the current output cell\n",
       "var outputEl = gd.closest('.output');\n",
       "if (outputEl) {{\n",
       "    x.observe(outputEl, {childList: true});\n",
       "}}\n",
       "\n",
       "                        })                };                });            </script>        </div>"
      ]
     },
     "metadata": {},
     "output_type": "display_data"
    }
   ],
   "source": [
    "# Plot absolutely everything\n",
    "fig = px.histogram(seg_change_df, x='pairwise_change', histnorm='probability density')\n",
    "\n",
    "# Get the mean\n",
    "mean_value = np.mean(seg_change_df['pairwise_change'])\n",
    "std_value = np.std(seg_change_df['pairwise_change'])\n",
    "\n",
    "# Add a vertical line for the mean\n",
    "fig.add_vline(x=mean_value, \n",
    "              line_width=1, \n",
    "              line_dash=\"dash\", \n",
    "              line_color=\"black\", \n",
    "              annotation_text=f\"{mean_value:.2f}\", \n",
    "              annotation_position=\"top\")\n",
    "\n",
    "fig.add_vline(x=std_value*3, \n",
    "              line_width=1, \n",
    "              line_dash=\"dash\", \n",
    "              line_color=\"red\", \n",
    "              annotation_text=f\"{std_value:.2f}\", \n",
    "              annotation_position=\"top\")\n",
    "\n",
    "fig.add_vline(x=std_value*-3, \n",
    "              line_width=1, \n",
    "              line_dash=\"dash\", \n",
    "              line_color=\"red\", \n",
    "              annotation_text=f\"{std_value:.2f}\", \n",
    "              annotation_position=\"top\")\n",
    "\n",
    "fig.show()"
   ]
  },
  {
   "cell_type": "code",
   "execution_count": 283,
   "metadata": {},
   "outputs": [],
   "source": [
    "def pairwise_change_histogram(dataset, condition, nbins=None, pdf=True):\n",
    "    # Filter dataframe\n",
    "    drug_df = seg_change_df[(seg_change_df['condition'] == condition ) & (seg_change_df['dataset'] == dataset)]\n",
    "    # Make histogram\n",
    "    if pdf:\n",
    "        fig = px.histogram(drug_df, x='pairwise_change', histnorm='probability density', nbins=nbins)\n",
    "    else:\n",
    "        fig = px.histogram(drug_df, x='pairwise_change')\n",
    "    # Get the mean\n",
    "    mean_value = np.mean(drug_df['pairwise_change'])\n",
    "    std_value = np.std(drug_df['pairwise_change'])\n",
    "    # Add a vertical line for the mean\n",
    "    fig.add_vline(x=mean_value, line_width=1, line_dash=\"dash\", line_color=\"black\", annotation_text=f\"{mean_value:.2f}\", annotation_position=\"top\")\n",
    "    # Add a vertical lines for 3 sigma\n",
    "    multipliers = [3,-3]\n",
    "    for mult in multipliers:\n",
    "        fig.add_vline(x=std_value*mult, line_width=1, line_dash=\"dash\", line_color=\"red\", annotation_text=f\"\", annotation_position=\"top\")\n",
    "\n",
    "    fig.update_layout(title_text=f\"{dataset}<br>Condition: <b>{condition}</b><br>\")\n",
    "\n",
    "    fig.show()"
   ]
  },
  {
   "cell_type": "code",
   "execution_count": 284,
   "metadata": {},
   "outputs": [
    {
     "data": {
      "application/vnd.plotly.v1+json": {
       "config": {
        "plotlyServerURL": "https://plot.ly"
       },
       "data": [
        {
         "alignmentgroup": "True",
         "bingroup": "x",
         "histnorm": "probability density",
         "hovertemplate": "pairwise_change=%{x}<br>probability density=%{y}<extra></extra>",
         "legendgroup": "",
         "marker": {
          "color": "#636efa",
          "pattern": {
           "shape": ""
          }
         },
         "name": "",
         "offsetgroup": "",
         "orientation": "v",
         "showlegend": false,
         "type": "histogram",
         "x": [
          11,
          -1,
          2,
          4,
          -7,
          -7,
          3,
          11,
          0,
          -2,
          -8,
          -13,
          5,
          3,
          -1,
          6,
          1,
          -5,
          -1,
          -10,
          -3,
          5,
          -6,
          5,
          0,
          2,
          10,
          9,
          -4,
          1,
          9,
          0,
          1,
          1,
          6,
          3,
          -21,
          23,
          5,
          -9,
          14,
          -7,
          2,
          1,
          -3,
          -5,
          9,
          6,
          -1,
          -3,
          2,
          13,
          -7,
          3,
          2,
          0,
          1,
          5,
          1,
          7,
          -14,
          -4,
          0,
          7,
          -10,
          9,
          -2,
          1,
          2,
          -6,
          -3,
          4,
          -1,
          -13,
          -7,
          6,
          -1,
          0,
          -3,
          1,
          6,
          -8,
          -4,
          -2,
          0,
          -5,
          3,
          1,
          0,
          -9,
          -7,
          0,
          3,
          3,
          6,
          0,
          -15,
          -4,
          2,
          1,
          3,
          -3,
          0,
          -5,
          0,
          0,
          -2,
          -1,
          -2,
          -3,
          1,
          -1,
          -3,
          -3,
          2,
          -5,
          0,
          -1,
          -2,
          2,
          -4,
          1,
          -6,
          1,
          2,
          -10,
          3,
          -5,
          -2,
          4,
          8,
          13,
          -4,
          1,
          -1,
          -5,
          -5,
          1,
          -8,
          -2,
          -2,
          11,
          12,
          -31,
          12,
          -30,
          -4,
          0,
          0,
          8,
          0,
          -7,
          -1,
          -2,
          -5,
          1,
          -2,
          1,
          -5,
          0,
          -1,
          2,
          4,
          0,
          -1,
          0,
          3,
          -3,
          -1,
          33,
          -30,
          -2,
          -9,
          -3,
          -8,
          -1,
          5,
          4,
          -3,
          -2,
          -8,
          0,
          -24,
          9,
          2,
          -9,
          -12,
          14,
          -16,
          -5,
          2,
          -9,
          -5,
          3,
          -5,
          -4,
          5,
          -5,
          -7,
          -22,
          -4,
          4,
          -4,
          0,
          0,
          2,
          -2,
          7,
          10,
          -1,
          -4,
          -13,
          -15,
          -9,
          -1,
          1,
          0,
          -5,
          -1,
          10,
          3,
          3,
          -1,
          0,
          -8,
          -5,
          -1,
          9,
          -1,
          1,
          3,
          1,
          -1,
          4,
          5,
          3,
          -1,
          5,
          -2,
          1,
          -3,
          -1,
          3,
          4,
          7,
          -2,
          10,
          5,
          0,
          10,
          3,
          8,
          4,
          6,
          -5,
          -23,
          12,
          -7,
          3,
          1,
          1,
          6,
          -1,
          3,
          3,
          8,
          3,
          6,
          7,
          5,
          0,
          4,
          1,
          1,
          5,
          22,
          -3,
          6,
          35,
          7,
          0,
          4,
          20,
          0,
          -1,
          0,
          -3,
          6,
          3,
          8,
          -9,
          -2,
          -5,
          4,
          2,
          -6,
          9,
          10,
          -1,
          -7,
          -29,
          0,
          0,
          4,
          -2,
          0,
          0,
          -1,
          2,
          0,
          0,
          -2,
          -1,
          0,
          0,
          2,
          9,
          -4,
          0,
          -2,
          1,
          9,
          1,
          -12,
          -8,
          1,
          -12,
          9,
          3,
          -7,
          2,
          -6,
          9,
          -7,
          -6,
          9,
          -1,
          1,
          1,
          -4,
          -1,
          1,
          -2,
          0,
          -1,
          1,
          -2,
          0,
          6,
          -2,
          1,
          2,
          1,
          1,
          -1,
          1,
          0,
          2,
          -1,
          0,
          6,
          7,
          4,
          6,
          2,
          -1,
          5,
          2,
          -4,
          9,
          0,
          -25,
          -4,
          2,
          2,
          -9,
          -3,
          0,
          -17,
          -2,
          11,
          3,
          -5,
          0,
          6,
          4,
          -3,
          5,
          4,
          3,
          -10,
          -15,
          2,
          -22,
          6,
          -5,
          1,
          -2,
          0,
          25,
          0,
          4,
          14,
          2,
          20,
          -4,
          0,
          4,
          4,
          -1,
          -2,
          -1,
          6,
          4,
          0,
          5,
          -3,
          7,
          -6,
          6,
          1,
          5,
          -3,
          5,
          1,
          5,
          -2,
          1,
          5,
          22,
          -14,
          6,
          7,
          3,
          -1,
          11,
          6,
          10,
          -26,
          8,
          0,
          9,
          6,
          -4,
          2,
          3,
          -1,
          3,
          -7,
          7,
          10,
          12,
          5,
          14,
          -14,
          6,
          2,
          1,
          4,
          3,
          -6,
          6,
          -7,
          1,
          4,
          -2,
          -2,
          5
         ],
         "xaxis": "x",
         "yaxis": "y"
        }
       ],
       "layout": {
        "annotations": [
         {
          "showarrow": false,
          "text": "0.24",
          "x": 0.23931623931623933,
          "xanchor": "center",
          "xref": "x",
          "y": 1,
          "yanchor": "bottom",
          "yref": "y domain"
         },
         {
          "showarrow": false,
          "text": "",
          "x": 22.43503295037807,
          "xanchor": "center",
          "xref": "x",
          "y": 1,
          "yanchor": "bottom",
          "yref": "y domain"
         },
         {
          "showarrow": false,
          "text": "",
          "x": -22.43503295037807,
          "xanchor": "center",
          "xref": "x",
          "y": 1,
          "yanchor": "bottom",
          "yref": "y domain"
         }
        ],
        "barmode": "relative",
        "legend": {
         "tracegroupgap": 0
        },
        "margin": {
         "t": 60
        },
        "shapes": [
         {
          "line": {
           "color": "black",
           "dash": "dash",
           "width": 1
          },
          "type": "line",
          "x0": 0.23931623931623933,
          "x1": 0.23931623931623933,
          "xref": "x",
          "y0": 0,
          "y1": 1,
          "yref": "y domain"
         },
         {
          "line": {
           "color": "red",
           "dash": "dash",
           "width": 1
          },
          "type": "line",
          "x0": 22.43503295037807,
          "x1": 22.43503295037807,
          "xref": "x",
          "y0": 0,
          "y1": 1,
          "yref": "y domain"
         },
         {
          "line": {
           "color": "red",
           "dash": "dash",
           "width": 1
          },
          "type": "line",
          "x0": -22.43503295037807,
          "x1": -22.43503295037807,
          "xref": "x",
          "y0": 0,
          "y1": 1,
          "yref": "y domain"
         }
        ],
        "template": {
         "data": {
          "bar": [
           {
            "error_x": {
             "color": "#2a3f5f"
            },
            "error_y": {
             "color": "#2a3f5f"
            },
            "marker": {
             "line": {
              "color": "#E5ECF6",
              "width": 0.5
             },
             "pattern": {
              "fillmode": "overlay",
              "size": 10,
              "solidity": 0.2
             }
            },
            "type": "bar"
           }
          ],
          "barpolar": [
           {
            "marker": {
             "line": {
              "color": "#E5ECF6",
              "width": 0.5
             },
             "pattern": {
              "fillmode": "overlay",
              "size": 10,
              "solidity": 0.2
             }
            },
            "type": "barpolar"
           }
          ],
          "carpet": [
           {
            "aaxis": {
             "endlinecolor": "#2a3f5f",
             "gridcolor": "white",
             "linecolor": "white",
             "minorgridcolor": "white",
             "startlinecolor": "#2a3f5f"
            },
            "baxis": {
             "endlinecolor": "#2a3f5f",
             "gridcolor": "white",
             "linecolor": "white",
             "minorgridcolor": "white",
             "startlinecolor": "#2a3f5f"
            },
            "type": "carpet"
           }
          ],
          "choropleth": [
           {
            "colorbar": {
             "outlinewidth": 0,
             "ticks": ""
            },
            "type": "choropleth"
           }
          ],
          "contour": [
           {
            "colorbar": {
             "outlinewidth": 0,
             "ticks": ""
            },
            "colorscale": [
             [
              0,
              "#0d0887"
             ],
             [
              0.1111111111111111,
              "#46039f"
             ],
             [
              0.2222222222222222,
              "#7201a8"
             ],
             [
              0.3333333333333333,
              "#9c179e"
             ],
             [
              0.4444444444444444,
              "#bd3786"
             ],
             [
              0.5555555555555556,
              "#d8576b"
             ],
             [
              0.6666666666666666,
              "#ed7953"
             ],
             [
              0.7777777777777778,
              "#fb9f3a"
             ],
             [
              0.8888888888888888,
              "#fdca26"
             ],
             [
              1,
              "#f0f921"
             ]
            ],
            "type": "contour"
           }
          ],
          "contourcarpet": [
           {
            "colorbar": {
             "outlinewidth": 0,
             "ticks": ""
            },
            "type": "contourcarpet"
           }
          ],
          "heatmap": [
           {
            "colorbar": {
             "outlinewidth": 0,
             "ticks": ""
            },
            "colorscale": [
             [
              0,
              "#0d0887"
             ],
             [
              0.1111111111111111,
              "#46039f"
             ],
             [
              0.2222222222222222,
              "#7201a8"
             ],
             [
              0.3333333333333333,
              "#9c179e"
             ],
             [
              0.4444444444444444,
              "#bd3786"
             ],
             [
              0.5555555555555556,
              "#d8576b"
             ],
             [
              0.6666666666666666,
              "#ed7953"
             ],
             [
              0.7777777777777778,
              "#fb9f3a"
             ],
             [
              0.8888888888888888,
              "#fdca26"
             ],
             [
              1,
              "#f0f921"
             ]
            ],
            "type": "heatmap"
           }
          ],
          "heatmapgl": [
           {
            "colorbar": {
             "outlinewidth": 0,
             "ticks": ""
            },
            "colorscale": [
             [
              0,
              "#0d0887"
             ],
             [
              0.1111111111111111,
              "#46039f"
             ],
             [
              0.2222222222222222,
              "#7201a8"
             ],
             [
              0.3333333333333333,
              "#9c179e"
             ],
             [
              0.4444444444444444,
              "#bd3786"
             ],
             [
              0.5555555555555556,
              "#d8576b"
             ],
             [
              0.6666666666666666,
              "#ed7953"
             ],
             [
              0.7777777777777778,
              "#fb9f3a"
             ],
             [
              0.8888888888888888,
              "#fdca26"
             ],
             [
              1,
              "#f0f921"
             ]
            ],
            "type": "heatmapgl"
           }
          ],
          "histogram": [
           {
            "marker": {
             "pattern": {
              "fillmode": "overlay",
              "size": 10,
              "solidity": 0.2
             }
            },
            "type": "histogram"
           }
          ],
          "histogram2d": [
           {
            "colorbar": {
             "outlinewidth": 0,
             "ticks": ""
            },
            "colorscale": [
             [
              0,
              "#0d0887"
             ],
             [
              0.1111111111111111,
              "#46039f"
             ],
             [
              0.2222222222222222,
              "#7201a8"
             ],
             [
              0.3333333333333333,
              "#9c179e"
             ],
             [
              0.4444444444444444,
              "#bd3786"
             ],
             [
              0.5555555555555556,
              "#d8576b"
             ],
             [
              0.6666666666666666,
              "#ed7953"
             ],
             [
              0.7777777777777778,
              "#fb9f3a"
             ],
             [
              0.8888888888888888,
              "#fdca26"
             ],
             [
              1,
              "#f0f921"
             ]
            ],
            "type": "histogram2d"
           }
          ],
          "histogram2dcontour": [
           {
            "colorbar": {
             "outlinewidth": 0,
             "ticks": ""
            },
            "colorscale": [
             [
              0,
              "#0d0887"
             ],
             [
              0.1111111111111111,
              "#46039f"
             ],
             [
              0.2222222222222222,
              "#7201a8"
             ],
             [
              0.3333333333333333,
              "#9c179e"
             ],
             [
              0.4444444444444444,
              "#bd3786"
             ],
             [
              0.5555555555555556,
              "#d8576b"
             ],
             [
              0.6666666666666666,
              "#ed7953"
             ],
             [
              0.7777777777777778,
              "#fb9f3a"
             ],
             [
              0.8888888888888888,
              "#fdca26"
             ],
             [
              1,
              "#f0f921"
             ]
            ],
            "type": "histogram2dcontour"
           }
          ],
          "mesh3d": [
           {
            "colorbar": {
             "outlinewidth": 0,
             "ticks": ""
            },
            "type": "mesh3d"
           }
          ],
          "parcoords": [
           {
            "line": {
             "colorbar": {
              "outlinewidth": 0,
              "ticks": ""
             }
            },
            "type": "parcoords"
           }
          ],
          "pie": [
           {
            "automargin": true,
            "type": "pie"
           }
          ],
          "scatter": [
           {
            "fillpattern": {
             "fillmode": "overlay",
             "size": 10,
             "solidity": 0.2
            },
            "type": "scatter"
           }
          ],
          "scatter3d": [
           {
            "line": {
             "colorbar": {
              "outlinewidth": 0,
              "ticks": ""
             }
            },
            "marker": {
             "colorbar": {
              "outlinewidth": 0,
              "ticks": ""
             }
            },
            "type": "scatter3d"
           }
          ],
          "scattercarpet": [
           {
            "marker": {
             "colorbar": {
              "outlinewidth": 0,
              "ticks": ""
             }
            },
            "type": "scattercarpet"
           }
          ],
          "scattergeo": [
           {
            "marker": {
             "colorbar": {
              "outlinewidth": 0,
              "ticks": ""
             }
            },
            "type": "scattergeo"
           }
          ],
          "scattergl": [
           {
            "marker": {
             "colorbar": {
              "outlinewidth": 0,
              "ticks": ""
             }
            },
            "type": "scattergl"
           }
          ],
          "scattermapbox": [
           {
            "marker": {
             "colorbar": {
              "outlinewidth": 0,
              "ticks": ""
             }
            },
            "type": "scattermapbox"
           }
          ],
          "scatterpolar": [
           {
            "marker": {
             "colorbar": {
              "outlinewidth": 0,
              "ticks": ""
             }
            },
            "type": "scatterpolar"
           }
          ],
          "scatterpolargl": [
           {
            "marker": {
             "colorbar": {
              "outlinewidth": 0,
              "ticks": ""
             }
            },
            "type": "scatterpolargl"
           }
          ],
          "scatterternary": [
           {
            "marker": {
             "colorbar": {
              "outlinewidth": 0,
              "ticks": ""
             }
            },
            "type": "scatterternary"
           }
          ],
          "surface": [
           {
            "colorbar": {
             "outlinewidth": 0,
             "ticks": ""
            },
            "colorscale": [
             [
              0,
              "#0d0887"
             ],
             [
              0.1111111111111111,
              "#46039f"
             ],
             [
              0.2222222222222222,
              "#7201a8"
             ],
             [
              0.3333333333333333,
              "#9c179e"
             ],
             [
              0.4444444444444444,
              "#bd3786"
             ],
             [
              0.5555555555555556,
              "#d8576b"
             ],
             [
              0.6666666666666666,
              "#ed7953"
             ],
             [
              0.7777777777777778,
              "#fb9f3a"
             ],
             [
              0.8888888888888888,
              "#fdca26"
             ],
             [
              1,
              "#f0f921"
             ]
            ],
            "type": "surface"
           }
          ],
          "table": [
           {
            "cells": {
             "fill": {
              "color": "#EBF0F8"
             },
             "line": {
              "color": "white"
             }
            },
            "header": {
             "fill": {
              "color": "#C8D4E3"
             },
             "line": {
              "color": "white"
             }
            },
            "type": "table"
           }
          ]
         },
         "layout": {
          "annotationdefaults": {
           "arrowcolor": "#2a3f5f",
           "arrowhead": 0,
           "arrowwidth": 1
          },
          "autotypenumbers": "strict",
          "coloraxis": {
           "colorbar": {
            "outlinewidth": 0,
            "ticks": ""
           }
          },
          "colorscale": {
           "diverging": [
            [
             0,
             "#8e0152"
            ],
            [
             0.1,
             "#c51b7d"
            ],
            [
             0.2,
             "#de77ae"
            ],
            [
             0.3,
             "#f1b6da"
            ],
            [
             0.4,
             "#fde0ef"
            ],
            [
             0.5,
             "#f7f7f7"
            ],
            [
             0.6,
             "#e6f5d0"
            ],
            [
             0.7,
             "#b8e186"
            ],
            [
             0.8,
             "#7fbc41"
            ],
            [
             0.9,
             "#4d9221"
            ],
            [
             1,
             "#276419"
            ]
           ],
           "sequential": [
            [
             0,
             "#0d0887"
            ],
            [
             0.1111111111111111,
             "#46039f"
            ],
            [
             0.2222222222222222,
             "#7201a8"
            ],
            [
             0.3333333333333333,
             "#9c179e"
            ],
            [
             0.4444444444444444,
             "#bd3786"
            ],
            [
             0.5555555555555556,
             "#d8576b"
            ],
            [
             0.6666666666666666,
             "#ed7953"
            ],
            [
             0.7777777777777778,
             "#fb9f3a"
            ],
            [
             0.8888888888888888,
             "#fdca26"
            ],
            [
             1,
             "#f0f921"
            ]
           ],
           "sequentialminus": [
            [
             0,
             "#0d0887"
            ],
            [
             0.1111111111111111,
             "#46039f"
            ],
            [
             0.2222222222222222,
             "#7201a8"
            ],
            [
             0.3333333333333333,
             "#9c179e"
            ],
            [
             0.4444444444444444,
             "#bd3786"
            ],
            [
             0.5555555555555556,
             "#d8576b"
            ],
            [
             0.6666666666666666,
             "#ed7953"
            ],
            [
             0.7777777777777778,
             "#fb9f3a"
            ],
            [
             0.8888888888888888,
             "#fdca26"
            ],
            [
             1,
             "#f0f921"
            ]
           ]
          },
          "colorway": [
           "#636efa",
           "#EF553B",
           "#00cc96",
           "#ab63fa",
           "#FFA15A",
           "#19d3f3",
           "#FF6692",
           "#B6E880",
           "#FF97FF",
           "#FECB52"
          ],
          "font": {
           "color": "#2a3f5f"
          },
          "geo": {
           "bgcolor": "white",
           "lakecolor": "white",
           "landcolor": "#E5ECF6",
           "showlakes": true,
           "showland": true,
           "subunitcolor": "white"
          },
          "hoverlabel": {
           "align": "left"
          },
          "hovermode": "closest",
          "mapbox": {
           "style": "light"
          },
          "paper_bgcolor": "white",
          "plot_bgcolor": "#E5ECF6",
          "polar": {
           "angularaxis": {
            "gridcolor": "white",
            "linecolor": "white",
            "ticks": ""
           },
           "bgcolor": "#E5ECF6",
           "radialaxis": {
            "gridcolor": "white",
            "linecolor": "white",
            "ticks": ""
           }
          },
          "scene": {
           "xaxis": {
            "backgroundcolor": "#E5ECF6",
            "gridcolor": "white",
            "gridwidth": 2,
            "linecolor": "white",
            "showbackground": true,
            "ticks": "",
            "zerolinecolor": "white"
           },
           "yaxis": {
            "backgroundcolor": "#E5ECF6",
            "gridcolor": "white",
            "gridwidth": 2,
            "linecolor": "white",
            "showbackground": true,
            "ticks": "",
            "zerolinecolor": "white"
           },
           "zaxis": {
            "backgroundcolor": "#E5ECF6",
            "gridcolor": "white",
            "gridwidth": 2,
            "linecolor": "white",
            "showbackground": true,
            "ticks": "",
            "zerolinecolor": "white"
           }
          },
          "shapedefaults": {
           "line": {
            "color": "#2a3f5f"
           }
          },
          "ternary": {
           "aaxis": {
            "gridcolor": "white",
            "linecolor": "white",
            "ticks": ""
           },
           "baxis": {
            "gridcolor": "white",
            "linecolor": "white",
            "ticks": ""
           },
           "bgcolor": "#E5ECF6",
           "caxis": {
            "gridcolor": "white",
            "linecolor": "white",
            "ticks": ""
           }
          },
          "title": {
           "x": 0.05
          },
          "xaxis": {
           "automargin": true,
           "gridcolor": "white",
           "linecolor": "white",
           "ticks": "",
           "title": {
            "standoff": 15
           },
           "zerolinecolor": "white",
           "zerolinewidth": 2
          },
          "yaxis": {
           "automargin": true,
           "gridcolor": "white",
           "linecolor": "white",
           "ticks": "",
           "title": {
            "standoff": 15
           },
           "zerolinecolor": "white",
           "zerolinewidth": 2
          }
         }
        },
        "title": {
         "text": "DataSet00<br>Condition: <b>Control</b><br>"
        },
        "xaxis": {
         "anchor": "y",
         "domain": [
          0,
          1
         ],
         "title": {
          "text": "pairwise_change"
         }
        },
        "yaxis": {
         "anchor": "x",
         "domain": [
          0,
          1
         ],
         "title": {
          "text": "probability density"
         }
        }
       }
      },
      "text/html": [
       "<div>                            <div id=\"ea56f8a9-de66-42fe-ae11-973461069986\" class=\"plotly-graph-div\" style=\"height:525px; width:100%;\"></div>            <script type=\"text/javascript\">                require([\"plotly\"], function(Plotly) {                    window.PLOTLYENV=window.PLOTLYENV || {};                                    if (document.getElementById(\"ea56f8a9-de66-42fe-ae11-973461069986\")) {                    Plotly.newPlot(                        \"ea56f8a9-de66-42fe-ae11-973461069986\",                        [{\"alignmentgroup\":\"True\",\"bingroup\":\"x\",\"histnorm\":\"probability density\",\"hovertemplate\":\"pairwise_change=%{x}\\u003cbr\\u003eprobability density=%{y}\\u003cextra\\u003e\\u003c\\u002fextra\\u003e\",\"legendgroup\":\"\",\"marker\":{\"color\":\"#636efa\",\"pattern\":{\"shape\":\"\"}},\"name\":\"\",\"offsetgroup\":\"\",\"orientation\":\"v\",\"showlegend\":false,\"x\":[11,-1,2,4,-7,-7,3,11,0,-2,-8,-13,5,3,-1,6,1,-5,-1,-10,-3,5,-6,5,0,2,10,9,-4,1,9,0,1,1,6,3,-21,23,5,-9,14,-7,2,1,-3,-5,9,6,-1,-3,2,13,-7,3,2,0,1,5,1,7,-14,-4,0,7,-10,9,-2,1,2,-6,-3,4,-1,-13,-7,6,-1,0,-3,1,6,-8,-4,-2,0,-5,3,1,0,-9,-7,0,3,3,6,0,-15,-4,2,1,3,-3,0,-5,0,0,-2,-1,-2,-3,1,-1,-3,-3,2,-5,0,-1,-2,2,-4,1,-6,1,2,-10,3,-5,-2,4,8,13,-4,1,-1,-5,-5,1,-8,-2,-2,11,12,-31,12,-30,-4,0,0,8,0,-7,-1,-2,-5,1,-2,1,-5,0,-1,2,4,0,-1,0,3,-3,-1,33,-30,-2,-9,-3,-8,-1,5,4,-3,-2,-8,0,-24,9,2,-9,-12,14,-16,-5,2,-9,-5,3,-5,-4,5,-5,-7,-22,-4,4,-4,0,0,2,-2,7,10,-1,-4,-13,-15,-9,-1,1,0,-5,-1,10,3,3,-1,0,-8,-5,-1,9,-1,1,3,1,-1,4,5,3,-1,5,-2,1,-3,-1,3,4,7,-2,10,5,0,10,3,8,4,6,-5,-23,12,-7,3,1,1,6,-1,3,3,8,3,6,7,5,0,4,1,1,5,22,-3,6,35,7,0,4,20,0,-1,0,-3,6,3,8,-9,-2,-5,4,2,-6,9,10,-1,-7,-29,0,0,4,-2,0,0,-1,2,0,0,-2,-1,0,0,2,9,-4,0,-2,1,9,1,-12,-8,1,-12,9,3,-7,2,-6,9,-7,-6,9,-1,1,1,-4,-1,1,-2,0,-1,1,-2,0,6,-2,1,2,1,1,-1,1,0,2,-1,0,6,7,4,6,2,-1,5,2,-4,9,0,-25,-4,2,2,-9,-3,0,-17,-2,11,3,-5,0,6,4,-3,5,4,3,-10,-15,2,-22,6,-5,1,-2,0,25,0,4,14,2,20,-4,0,4,4,-1,-2,-1,6,4,0,5,-3,7,-6,6,1,5,-3,5,1,5,-2,1,5,22,-14,6,7,3,-1,11,6,10,-26,8,0,9,6,-4,2,3,-1,3,-7,7,10,12,5,14,-14,6,2,1,4,3,-6,6,-7,1,4,-2,-2,5],\"xaxis\":\"x\",\"yaxis\":\"y\",\"type\":\"histogram\"}],                        {\"template\":{\"data\":{\"histogram2dcontour\":[{\"type\":\"histogram2dcontour\",\"colorbar\":{\"outlinewidth\":0,\"ticks\":\"\"},\"colorscale\":[[0.0,\"#0d0887\"],[0.1111111111111111,\"#46039f\"],[0.2222222222222222,\"#7201a8\"],[0.3333333333333333,\"#9c179e\"],[0.4444444444444444,\"#bd3786\"],[0.5555555555555556,\"#d8576b\"],[0.6666666666666666,\"#ed7953\"],[0.7777777777777778,\"#fb9f3a\"],[0.8888888888888888,\"#fdca26\"],[1.0,\"#f0f921\"]]}],\"choropleth\":[{\"type\":\"choropleth\",\"colorbar\":{\"outlinewidth\":0,\"ticks\":\"\"}}],\"histogram2d\":[{\"type\":\"histogram2d\",\"colorbar\":{\"outlinewidth\":0,\"ticks\":\"\"},\"colorscale\":[[0.0,\"#0d0887\"],[0.1111111111111111,\"#46039f\"],[0.2222222222222222,\"#7201a8\"],[0.3333333333333333,\"#9c179e\"],[0.4444444444444444,\"#bd3786\"],[0.5555555555555556,\"#d8576b\"],[0.6666666666666666,\"#ed7953\"],[0.7777777777777778,\"#fb9f3a\"],[0.8888888888888888,\"#fdca26\"],[1.0,\"#f0f921\"]]}],\"heatmap\":[{\"type\":\"heatmap\",\"colorbar\":{\"outlinewidth\":0,\"ticks\":\"\"},\"colorscale\":[[0.0,\"#0d0887\"],[0.1111111111111111,\"#46039f\"],[0.2222222222222222,\"#7201a8\"],[0.3333333333333333,\"#9c179e\"],[0.4444444444444444,\"#bd3786\"],[0.5555555555555556,\"#d8576b\"],[0.6666666666666666,\"#ed7953\"],[0.7777777777777778,\"#fb9f3a\"],[0.8888888888888888,\"#fdca26\"],[1.0,\"#f0f921\"]]}],\"heatmapgl\":[{\"type\":\"heatmapgl\",\"colorbar\":{\"outlinewidth\":0,\"ticks\":\"\"},\"colorscale\":[[0.0,\"#0d0887\"],[0.1111111111111111,\"#46039f\"],[0.2222222222222222,\"#7201a8\"],[0.3333333333333333,\"#9c179e\"],[0.4444444444444444,\"#bd3786\"],[0.5555555555555556,\"#d8576b\"],[0.6666666666666666,\"#ed7953\"],[0.7777777777777778,\"#fb9f3a\"],[0.8888888888888888,\"#fdca26\"],[1.0,\"#f0f921\"]]}],\"contourcarpet\":[{\"type\":\"contourcarpet\",\"colorbar\":{\"outlinewidth\":0,\"ticks\":\"\"}}],\"contour\":[{\"type\":\"contour\",\"colorbar\":{\"outlinewidth\":0,\"ticks\":\"\"},\"colorscale\":[[0.0,\"#0d0887\"],[0.1111111111111111,\"#46039f\"],[0.2222222222222222,\"#7201a8\"],[0.3333333333333333,\"#9c179e\"],[0.4444444444444444,\"#bd3786\"],[0.5555555555555556,\"#d8576b\"],[0.6666666666666666,\"#ed7953\"],[0.7777777777777778,\"#fb9f3a\"],[0.8888888888888888,\"#fdca26\"],[1.0,\"#f0f921\"]]}],\"surface\":[{\"type\":\"surface\",\"colorbar\":{\"outlinewidth\":0,\"ticks\":\"\"},\"colorscale\":[[0.0,\"#0d0887\"],[0.1111111111111111,\"#46039f\"],[0.2222222222222222,\"#7201a8\"],[0.3333333333333333,\"#9c179e\"],[0.4444444444444444,\"#bd3786\"],[0.5555555555555556,\"#d8576b\"],[0.6666666666666666,\"#ed7953\"],[0.7777777777777778,\"#fb9f3a\"],[0.8888888888888888,\"#fdca26\"],[1.0,\"#f0f921\"]]}],\"mesh3d\":[{\"type\":\"mesh3d\",\"colorbar\":{\"outlinewidth\":0,\"ticks\":\"\"}}],\"scatter\":[{\"fillpattern\":{\"fillmode\":\"overlay\",\"size\":10,\"solidity\":0.2},\"type\":\"scatter\"}],\"parcoords\":[{\"type\":\"parcoords\",\"line\":{\"colorbar\":{\"outlinewidth\":0,\"ticks\":\"\"}}}],\"scatterpolargl\":[{\"type\":\"scatterpolargl\",\"marker\":{\"colorbar\":{\"outlinewidth\":0,\"ticks\":\"\"}}}],\"bar\":[{\"error_x\":{\"color\":\"#2a3f5f\"},\"error_y\":{\"color\":\"#2a3f5f\"},\"marker\":{\"line\":{\"color\":\"#E5ECF6\",\"width\":0.5},\"pattern\":{\"fillmode\":\"overlay\",\"size\":10,\"solidity\":0.2}},\"type\":\"bar\"}],\"scattergeo\":[{\"type\":\"scattergeo\",\"marker\":{\"colorbar\":{\"outlinewidth\":0,\"ticks\":\"\"}}}],\"scatterpolar\":[{\"type\":\"scatterpolar\",\"marker\":{\"colorbar\":{\"outlinewidth\":0,\"ticks\":\"\"}}}],\"histogram\":[{\"marker\":{\"pattern\":{\"fillmode\":\"overlay\",\"size\":10,\"solidity\":0.2}},\"type\":\"histogram\"}],\"scattergl\":[{\"type\":\"scattergl\",\"marker\":{\"colorbar\":{\"outlinewidth\":0,\"ticks\":\"\"}}}],\"scatter3d\":[{\"type\":\"scatter3d\",\"line\":{\"colorbar\":{\"outlinewidth\":0,\"ticks\":\"\"}},\"marker\":{\"colorbar\":{\"outlinewidth\":0,\"ticks\":\"\"}}}],\"scattermapbox\":[{\"type\":\"scattermapbox\",\"marker\":{\"colorbar\":{\"outlinewidth\":0,\"ticks\":\"\"}}}],\"scatterternary\":[{\"type\":\"scatterternary\",\"marker\":{\"colorbar\":{\"outlinewidth\":0,\"ticks\":\"\"}}}],\"scattercarpet\":[{\"type\":\"scattercarpet\",\"marker\":{\"colorbar\":{\"outlinewidth\":0,\"ticks\":\"\"}}}],\"carpet\":[{\"aaxis\":{\"endlinecolor\":\"#2a3f5f\",\"gridcolor\":\"white\",\"linecolor\":\"white\",\"minorgridcolor\":\"white\",\"startlinecolor\":\"#2a3f5f\"},\"baxis\":{\"endlinecolor\":\"#2a3f5f\",\"gridcolor\":\"white\",\"linecolor\":\"white\",\"minorgridcolor\":\"white\",\"startlinecolor\":\"#2a3f5f\"},\"type\":\"carpet\"}],\"table\":[{\"cells\":{\"fill\":{\"color\":\"#EBF0F8\"},\"line\":{\"color\":\"white\"}},\"header\":{\"fill\":{\"color\":\"#C8D4E3\"},\"line\":{\"color\":\"white\"}},\"type\":\"table\"}],\"barpolar\":[{\"marker\":{\"line\":{\"color\":\"#E5ECF6\",\"width\":0.5},\"pattern\":{\"fillmode\":\"overlay\",\"size\":10,\"solidity\":0.2}},\"type\":\"barpolar\"}],\"pie\":[{\"automargin\":true,\"type\":\"pie\"}]},\"layout\":{\"autotypenumbers\":\"strict\",\"colorway\":[\"#636efa\",\"#EF553B\",\"#00cc96\",\"#ab63fa\",\"#FFA15A\",\"#19d3f3\",\"#FF6692\",\"#B6E880\",\"#FF97FF\",\"#FECB52\"],\"font\":{\"color\":\"#2a3f5f\"},\"hovermode\":\"closest\",\"hoverlabel\":{\"align\":\"left\"},\"paper_bgcolor\":\"white\",\"plot_bgcolor\":\"#E5ECF6\",\"polar\":{\"bgcolor\":\"#E5ECF6\",\"angularaxis\":{\"gridcolor\":\"white\",\"linecolor\":\"white\",\"ticks\":\"\"},\"radialaxis\":{\"gridcolor\":\"white\",\"linecolor\":\"white\",\"ticks\":\"\"}},\"ternary\":{\"bgcolor\":\"#E5ECF6\",\"aaxis\":{\"gridcolor\":\"white\",\"linecolor\":\"white\",\"ticks\":\"\"},\"baxis\":{\"gridcolor\":\"white\",\"linecolor\":\"white\",\"ticks\":\"\"},\"caxis\":{\"gridcolor\":\"white\",\"linecolor\":\"white\",\"ticks\":\"\"}},\"coloraxis\":{\"colorbar\":{\"outlinewidth\":0,\"ticks\":\"\"}},\"colorscale\":{\"sequential\":[[0.0,\"#0d0887\"],[0.1111111111111111,\"#46039f\"],[0.2222222222222222,\"#7201a8\"],[0.3333333333333333,\"#9c179e\"],[0.4444444444444444,\"#bd3786\"],[0.5555555555555556,\"#d8576b\"],[0.6666666666666666,\"#ed7953\"],[0.7777777777777778,\"#fb9f3a\"],[0.8888888888888888,\"#fdca26\"],[1.0,\"#f0f921\"]],\"sequentialminus\":[[0.0,\"#0d0887\"],[0.1111111111111111,\"#46039f\"],[0.2222222222222222,\"#7201a8\"],[0.3333333333333333,\"#9c179e\"],[0.4444444444444444,\"#bd3786\"],[0.5555555555555556,\"#d8576b\"],[0.6666666666666666,\"#ed7953\"],[0.7777777777777778,\"#fb9f3a\"],[0.8888888888888888,\"#fdca26\"],[1.0,\"#f0f921\"]],\"diverging\":[[0,\"#8e0152\"],[0.1,\"#c51b7d\"],[0.2,\"#de77ae\"],[0.3,\"#f1b6da\"],[0.4,\"#fde0ef\"],[0.5,\"#f7f7f7\"],[0.6,\"#e6f5d0\"],[0.7,\"#b8e186\"],[0.8,\"#7fbc41\"],[0.9,\"#4d9221\"],[1,\"#276419\"]]},\"xaxis\":{\"gridcolor\":\"white\",\"linecolor\":\"white\",\"ticks\":\"\",\"title\":{\"standoff\":15},\"zerolinecolor\":\"white\",\"automargin\":true,\"zerolinewidth\":2},\"yaxis\":{\"gridcolor\":\"white\",\"linecolor\":\"white\",\"ticks\":\"\",\"title\":{\"standoff\":15},\"zerolinecolor\":\"white\",\"automargin\":true,\"zerolinewidth\":2},\"scene\":{\"xaxis\":{\"backgroundcolor\":\"#E5ECF6\",\"gridcolor\":\"white\",\"linecolor\":\"white\",\"showbackground\":true,\"ticks\":\"\",\"zerolinecolor\":\"white\",\"gridwidth\":2},\"yaxis\":{\"backgroundcolor\":\"#E5ECF6\",\"gridcolor\":\"white\",\"linecolor\":\"white\",\"showbackground\":true,\"ticks\":\"\",\"zerolinecolor\":\"white\",\"gridwidth\":2},\"zaxis\":{\"backgroundcolor\":\"#E5ECF6\",\"gridcolor\":\"white\",\"linecolor\":\"white\",\"showbackground\":true,\"ticks\":\"\",\"zerolinecolor\":\"white\",\"gridwidth\":2}},\"shapedefaults\":{\"line\":{\"color\":\"#2a3f5f\"}},\"annotationdefaults\":{\"arrowcolor\":\"#2a3f5f\",\"arrowhead\":0,\"arrowwidth\":1},\"geo\":{\"bgcolor\":\"white\",\"landcolor\":\"#E5ECF6\",\"subunitcolor\":\"white\",\"showland\":true,\"showlakes\":true,\"lakecolor\":\"white\"},\"title\":{\"x\":0.05},\"mapbox\":{\"style\":\"light\"}}},\"xaxis\":{\"anchor\":\"y\",\"domain\":[0.0,1.0],\"title\":{\"text\":\"pairwise_change\"}},\"yaxis\":{\"anchor\":\"x\",\"domain\":[0.0,1.0],\"title\":{\"text\":\"probability density\"}},\"legend\":{\"tracegroupgap\":0},\"margin\":{\"t\":60},\"barmode\":\"relative\",\"shapes\":[{\"line\":{\"color\":\"black\",\"dash\":\"dash\",\"width\":1},\"type\":\"line\",\"x0\":0.23931623931623933,\"x1\":0.23931623931623933,\"xref\":\"x\",\"y0\":0,\"y1\":1,\"yref\":\"y domain\"},{\"line\":{\"color\":\"red\",\"dash\":\"dash\",\"width\":1},\"type\":\"line\",\"x0\":22.43503295037807,\"x1\":22.43503295037807,\"xref\":\"x\",\"y0\":0,\"y1\":1,\"yref\":\"y domain\"},{\"line\":{\"color\":\"red\",\"dash\":\"dash\",\"width\":1},\"type\":\"line\",\"x0\":-22.43503295037807,\"x1\":-22.43503295037807,\"xref\":\"x\",\"y0\":0,\"y1\":1,\"yref\":\"y domain\"}],\"annotations\":[{\"showarrow\":false,\"text\":\"0.24\",\"x\":0.23931623931623933,\"xanchor\":\"center\",\"xref\":\"x\",\"y\":1,\"yanchor\":\"bottom\",\"yref\":\"y domain\"},{\"showarrow\":false,\"text\":\"\",\"x\":22.43503295037807,\"xanchor\":\"center\",\"xref\":\"x\",\"y\":1,\"yanchor\":\"bottom\",\"yref\":\"y domain\"},{\"showarrow\":false,\"text\":\"\",\"x\":-22.43503295037807,\"xanchor\":\"center\",\"xref\":\"x\",\"y\":1,\"yanchor\":\"bottom\",\"yref\":\"y domain\"}],\"title\":{\"text\":\"DataSet00\\u003cbr\\u003eCondition: \\u003cb\\u003eControl\\u003c\\u002fb\\u003e\\u003cbr\\u003e\"}},                        {\"responsive\": true}                    ).then(function(){\n",
       "                            \n",
       "var gd = document.getElementById('ea56f8a9-de66-42fe-ae11-973461069986');\n",
       "var x = new MutationObserver(function (mutations, observer) {{\n",
       "        var display = window.getComputedStyle(gd).display;\n",
       "        if (!display || display === 'none') {{\n",
       "            console.log([gd, 'removed!']);\n",
       "            Plotly.purge(gd);\n",
       "            observer.disconnect();\n",
       "        }}\n",
       "}});\n",
       "\n",
       "// Listen for the removal of the full notebook cells\n",
       "var notebookContainer = gd.closest('#notebook-container');\n",
       "if (notebookContainer) {{\n",
       "    x.observe(notebookContainer, {childList: true});\n",
       "}}\n",
       "\n",
       "// Listen for the clearing of the current output cell\n",
       "var outputEl = gd.closest('.output');\n",
       "if (outputEl) {{\n",
       "    x.observe(outputEl, {childList: true});\n",
       "}}\n",
       "\n",
       "                        })                };                });            </script>        </div>"
      ]
     },
     "metadata": {},
     "output_type": "display_data"
    },
    {
     "data": {
      "application/vnd.plotly.v1+json": {
       "config": {
        "plotlyServerURL": "https://plot.ly"
       },
       "data": [
        {
         "alignmentgroup": "True",
         "bingroup": "x",
         "histnorm": "probability density",
         "hovertemplate": "pairwise_change=%{x}<br>probability density=%{y}<extra></extra>",
         "legendgroup": "",
         "marker": {
          "color": "#636efa",
          "pattern": {
           "shape": ""
          }
         },
         "name": "",
         "offsetgroup": "",
         "orientation": "v",
         "showlegend": false,
         "type": "histogram",
         "x": [
          12,
          7,
          7,
          -8,
          1,
          6,
          7,
          -1,
          3,
          -23,
          4,
          0,
          -4,
          2,
          5,
          1,
          4,
          -3,
          6,
          -4,
          6,
          9,
          -4,
          3,
          -7,
          -8,
          1,
          -1,
          0,
          -2,
          -2,
          2,
          0,
          -9,
          27,
          -5,
          4,
          -12,
          8,
          -2,
          7,
          5,
          1,
          -1,
          5,
          2,
          5,
          11,
          1,
          -10,
          4,
          10,
          2,
          0,
          -2,
          4,
          11,
          -1,
          7,
          -1,
          2,
          -3,
          0,
          -3,
          -5,
          -2,
          3,
          -2,
          1,
          -9,
          2,
          -2,
          -5,
          -1,
          2,
          -4,
          -1,
          3,
          3,
          5,
          2,
          12,
          1,
          2,
          -4,
          5,
          -2,
          -2,
          1,
          -6,
          7,
          9,
          -3,
          9,
          1,
          3,
          2,
          -1,
          3,
          -4,
          9,
          -4,
          -3,
          -2,
          5,
          4,
          1,
          3,
          -3,
          0,
          -18,
          9,
          14,
          1,
          4,
          -3,
          -1,
          6,
          1,
          1,
          5,
          6,
          -3,
          11,
          33,
          2,
          6,
          6,
          7,
          0,
          0,
          2,
          1,
          -4,
          -5,
          0,
          0,
          -2,
          8,
          13,
          1,
          7,
          -13,
          14,
          26,
          -21,
          8,
          4,
          6,
          2,
          1,
          -10,
          17,
          26,
          8,
          -1,
          5,
          1,
          9,
          6,
          -1,
          8,
          3,
          6,
          -8,
          5,
          6,
          -8,
          7,
          -16,
          18,
          6,
          1,
          4,
          -16,
          17,
          -12,
          -13,
          11,
          3,
          -7,
          2,
          5,
          12,
          19,
          8,
          2,
          3,
          4,
          3,
          -5,
          10,
          3,
          0,
          -3,
          6,
          -2,
          -5,
          1,
          -3,
          1,
          -10,
          17,
          -4,
          1,
          -2,
          -2,
          -1,
          3,
          1,
          9,
          0,
          2,
          0,
          3,
          10,
          5,
          7,
          -4,
          1,
          -8,
          4,
          2,
          1,
          7,
          0,
          2,
          12,
          0,
          3,
          -1,
          12,
          2,
          8,
          2,
          -2,
          4,
          0,
          -3,
          16,
          3,
          -1,
          -3,
          6,
          2,
          2,
          -5,
          -2,
          13,
          -18,
          17,
          -16,
          0,
          7,
          -5,
          -3,
          6,
          3,
          -2,
          1,
          4,
          0,
          -2,
          5,
          1,
          -2,
          -10,
          4,
          9,
          4,
          -4,
          2,
          6,
          1,
          0,
          10,
          -3,
          -2,
          6,
          4,
          -4,
          1,
          2,
          -3,
          19,
          -2,
          -2,
          1,
          -3,
          1,
          1,
          2,
          -9,
          2,
          -2,
          -6,
          12,
          -8,
          -27,
          25,
          6,
          -3,
          -1,
          4,
          3,
          -2,
          -1,
          -1,
          4,
          -1,
          -1,
          9,
          -3,
          11,
          -2,
          -2,
          -3,
          5,
          2,
          -1,
          -5,
          5,
          -2,
          3,
          5,
          18,
          2,
          1,
          1,
          0,
          -1,
          3,
          -4,
          -3,
          -17,
          10,
          0,
          5,
          0,
          4,
          4,
          -3,
          -4,
          2,
          5,
          3,
          7,
          8,
          24,
          -4,
          5,
          0,
          -1,
          -1,
          3,
          5,
          0,
          0,
          11,
          17,
          8,
          0,
          0,
          2,
          0,
          3,
          7,
          11,
          -1,
          11,
          -3,
          3,
          1,
          0,
          2,
          3,
          -6,
          -2,
          4,
          -4,
          4,
          -2,
          19,
          -19,
          1,
          1,
          14,
          -1,
          -7,
          2,
          -6,
          8,
          14,
          -1,
          3,
          0,
          -14,
          5,
          -5
         ],
         "xaxis": "x",
         "yaxis": "y"
        }
       ],
       "layout": {
        "annotations": [
         {
          "showarrow": false,
          "text": "1.78",
          "x": 1.7769423558897244,
          "xanchor": "center",
          "xref": "x",
          "y": 1,
          "yanchor": "bottom",
          "yref": "y domain"
         },
         {
          "showarrow": false,
          "text": "",
          "x": 21.626606352441843,
          "xanchor": "center",
          "xref": "x",
          "y": 1,
          "yanchor": "bottom",
          "yref": "y domain"
         },
         {
          "showarrow": false,
          "text": "",
          "x": -21.626606352441843,
          "xanchor": "center",
          "xref": "x",
          "y": 1,
          "yanchor": "bottom",
          "yref": "y domain"
         }
        ],
        "barmode": "relative",
        "legend": {
         "tracegroupgap": 0
        },
        "margin": {
         "t": 60
        },
        "shapes": [
         {
          "line": {
           "color": "black",
           "dash": "dash",
           "width": 1
          },
          "type": "line",
          "x0": 1.7769423558897244,
          "x1": 1.7769423558897244,
          "xref": "x",
          "y0": 0,
          "y1": 1,
          "yref": "y domain"
         },
         {
          "line": {
           "color": "red",
           "dash": "dash",
           "width": 1
          },
          "type": "line",
          "x0": 21.626606352441843,
          "x1": 21.626606352441843,
          "xref": "x",
          "y0": 0,
          "y1": 1,
          "yref": "y domain"
         },
         {
          "line": {
           "color": "red",
           "dash": "dash",
           "width": 1
          },
          "type": "line",
          "x0": -21.626606352441843,
          "x1": -21.626606352441843,
          "xref": "x",
          "y0": 0,
          "y1": 1,
          "yref": "y domain"
         }
        ],
        "template": {
         "data": {
          "bar": [
           {
            "error_x": {
             "color": "#2a3f5f"
            },
            "error_y": {
             "color": "#2a3f5f"
            },
            "marker": {
             "line": {
              "color": "#E5ECF6",
              "width": 0.5
             },
             "pattern": {
              "fillmode": "overlay",
              "size": 10,
              "solidity": 0.2
             }
            },
            "type": "bar"
           }
          ],
          "barpolar": [
           {
            "marker": {
             "line": {
              "color": "#E5ECF6",
              "width": 0.5
             },
             "pattern": {
              "fillmode": "overlay",
              "size": 10,
              "solidity": 0.2
             }
            },
            "type": "barpolar"
           }
          ],
          "carpet": [
           {
            "aaxis": {
             "endlinecolor": "#2a3f5f",
             "gridcolor": "white",
             "linecolor": "white",
             "minorgridcolor": "white",
             "startlinecolor": "#2a3f5f"
            },
            "baxis": {
             "endlinecolor": "#2a3f5f",
             "gridcolor": "white",
             "linecolor": "white",
             "minorgridcolor": "white",
             "startlinecolor": "#2a3f5f"
            },
            "type": "carpet"
           }
          ],
          "choropleth": [
           {
            "colorbar": {
             "outlinewidth": 0,
             "ticks": ""
            },
            "type": "choropleth"
           }
          ],
          "contour": [
           {
            "colorbar": {
             "outlinewidth": 0,
             "ticks": ""
            },
            "colorscale": [
             [
              0,
              "#0d0887"
             ],
             [
              0.1111111111111111,
              "#46039f"
             ],
             [
              0.2222222222222222,
              "#7201a8"
             ],
             [
              0.3333333333333333,
              "#9c179e"
             ],
             [
              0.4444444444444444,
              "#bd3786"
             ],
             [
              0.5555555555555556,
              "#d8576b"
             ],
             [
              0.6666666666666666,
              "#ed7953"
             ],
             [
              0.7777777777777778,
              "#fb9f3a"
             ],
             [
              0.8888888888888888,
              "#fdca26"
             ],
             [
              1,
              "#f0f921"
             ]
            ],
            "type": "contour"
           }
          ],
          "contourcarpet": [
           {
            "colorbar": {
             "outlinewidth": 0,
             "ticks": ""
            },
            "type": "contourcarpet"
           }
          ],
          "heatmap": [
           {
            "colorbar": {
             "outlinewidth": 0,
             "ticks": ""
            },
            "colorscale": [
             [
              0,
              "#0d0887"
             ],
             [
              0.1111111111111111,
              "#46039f"
             ],
             [
              0.2222222222222222,
              "#7201a8"
             ],
             [
              0.3333333333333333,
              "#9c179e"
             ],
             [
              0.4444444444444444,
              "#bd3786"
             ],
             [
              0.5555555555555556,
              "#d8576b"
             ],
             [
              0.6666666666666666,
              "#ed7953"
             ],
             [
              0.7777777777777778,
              "#fb9f3a"
             ],
             [
              0.8888888888888888,
              "#fdca26"
             ],
             [
              1,
              "#f0f921"
             ]
            ],
            "type": "heatmap"
           }
          ],
          "heatmapgl": [
           {
            "colorbar": {
             "outlinewidth": 0,
             "ticks": ""
            },
            "colorscale": [
             [
              0,
              "#0d0887"
             ],
             [
              0.1111111111111111,
              "#46039f"
             ],
             [
              0.2222222222222222,
              "#7201a8"
             ],
             [
              0.3333333333333333,
              "#9c179e"
             ],
             [
              0.4444444444444444,
              "#bd3786"
             ],
             [
              0.5555555555555556,
              "#d8576b"
             ],
             [
              0.6666666666666666,
              "#ed7953"
             ],
             [
              0.7777777777777778,
              "#fb9f3a"
             ],
             [
              0.8888888888888888,
              "#fdca26"
             ],
             [
              1,
              "#f0f921"
             ]
            ],
            "type": "heatmapgl"
           }
          ],
          "histogram": [
           {
            "marker": {
             "pattern": {
              "fillmode": "overlay",
              "size": 10,
              "solidity": 0.2
             }
            },
            "type": "histogram"
           }
          ],
          "histogram2d": [
           {
            "colorbar": {
             "outlinewidth": 0,
             "ticks": ""
            },
            "colorscale": [
             [
              0,
              "#0d0887"
             ],
             [
              0.1111111111111111,
              "#46039f"
             ],
             [
              0.2222222222222222,
              "#7201a8"
             ],
             [
              0.3333333333333333,
              "#9c179e"
             ],
             [
              0.4444444444444444,
              "#bd3786"
             ],
             [
              0.5555555555555556,
              "#d8576b"
             ],
             [
              0.6666666666666666,
              "#ed7953"
             ],
             [
              0.7777777777777778,
              "#fb9f3a"
             ],
             [
              0.8888888888888888,
              "#fdca26"
             ],
             [
              1,
              "#f0f921"
             ]
            ],
            "type": "histogram2d"
           }
          ],
          "histogram2dcontour": [
           {
            "colorbar": {
             "outlinewidth": 0,
             "ticks": ""
            },
            "colorscale": [
             [
              0,
              "#0d0887"
             ],
             [
              0.1111111111111111,
              "#46039f"
             ],
             [
              0.2222222222222222,
              "#7201a8"
             ],
             [
              0.3333333333333333,
              "#9c179e"
             ],
             [
              0.4444444444444444,
              "#bd3786"
             ],
             [
              0.5555555555555556,
              "#d8576b"
             ],
             [
              0.6666666666666666,
              "#ed7953"
             ],
             [
              0.7777777777777778,
              "#fb9f3a"
             ],
             [
              0.8888888888888888,
              "#fdca26"
             ],
             [
              1,
              "#f0f921"
             ]
            ],
            "type": "histogram2dcontour"
           }
          ],
          "mesh3d": [
           {
            "colorbar": {
             "outlinewidth": 0,
             "ticks": ""
            },
            "type": "mesh3d"
           }
          ],
          "parcoords": [
           {
            "line": {
             "colorbar": {
              "outlinewidth": 0,
              "ticks": ""
             }
            },
            "type": "parcoords"
           }
          ],
          "pie": [
           {
            "automargin": true,
            "type": "pie"
           }
          ],
          "scatter": [
           {
            "fillpattern": {
             "fillmode": "overlay",
             "size": 10,
             "solidity": 0.2
            },
            "type": "scatter"
           }
          ],
          "scatter3d": [
           {
            "line": {
             "colorbar": {
              "outlinewidth": 0,
              "ticks": ""
             }
            },
            "marker": {
             "colorbar": {
              "outlinewidth": 0,
              "ticks": ""
             }
            },
            "type": "scatter3d"
           }
          ],
          "scattercarpet": [
           {
            "marker": {
             "colorbar": {
              "outlinewidth": 0,
              "ticks": ""
             }
            },
            "type": "scattercarpet"
           }
          ],
          "scattergeo": [
           {
            "marker": {
             "colorbar": {
              "outlinewidth": 0,
              "ticks": ""
             }
            },
            "type": "scattergeo"
           }
          ],
          "scattergl": [
           {
            "marker": {
             "colorbar": {
              "outlinewidth": 0,
              "ticks": ""
             }
            },
            "type": "scattergl"
           }
          ],
          "scattermapbox": [
           {
            "marker": {
             "colorbar": {
              "outlinewidth": 0,
              "ticks": ""
             }
            },
            "type": "scattermapbox"
           }
          ],
          "scatterpolar": [
           {
            "marker": {
             "colorbar": {
              "outlinewidth": 0,
              "ticks": ""
             }
            },
            "type": "scatterpolar"
           }
          ],
          "scatterpolargl": [
           {
            "marker": {
             "colorbar": {
              "outlinewidth": 0,
              "ticks": ""
             }
            },
            "type": "scatterpolargl"
           }
          ],
          "scatterternary": [
           {
            "marker": {
             "colorbar": {
              "outlinewidth": 0,
              "ticks": ""
             }
            },
            "type": "scatterternary"
           }
          ],
          "surface": [
           {
            "colorbar": {
             "outlinewidth": 0,
             "ticks": ""
            },
            "colorscale": [
             [
              0,
              "#0d0887"
             ],
             [
              0.1111111111111111,
              "#46039f"
             ],
             [
              0.2222222222222222,
              "#7201a8"
             ],
             [
              0.3333333333333333,
              "#9c179e"
             ],
             [
              0.4444444444444444,
              "#bd3786"
             ],
             [
              0.5555555555555556,
              "#d8576b"
             ],
             [
              0.6666666666666666,
              "#ed7953"
             ],
             [
              0.7777777777777778,
              "#fb9f3a"
             ],
             [
              0.8888888888888888,
              "#fdca26"
             ],
             [
              1,
              "#f0f921"
             ]
            ],
            "type": "surface"
           }
          ],
          "table": [
           {
            "cells": {
             "fill": {
              "color": "#EBF0F8"
             },
             "line": {
              "color": "white"
             }
            },
            "header": {
             "fill": {
              "color": "#C8D4E3"
             },
             "line": {
              "color": "white"
             }
            },
            "type": "table"
           }
          ]
         },
         "layout": {
          "annotationdefaults": {
           "arrowcolor": "#2a3f5f",
           "arrowhead": 0,
           "arrowwidth": 1
          },
          "autotypenumbers": "strict",
          "coloraxis": {
           "colorbar": {
            "outlinewidth": 0,
            "ticks": ""
           }
          },
          "colorscale": {
           "diverging": [
            [
             0,
             "#8e0152"
            ],
            [
             0.1,
             "#c51b7d"
            ],
            [
             0.2,
             "#de77ae"
            ],
            [
             0.3,
             "#f1b6da"
            ],
            [
             0.4,
             "#fde0ef"
            ],
            [
             0.5,
             "#f7f7f7"
            ],
            [
             0.6,
             "#e6f5d0"
            ],
            [
             0.7,
             "#b8e186"
            ],
            [
             0.8,
             "#7fbc41"
            ],
            [
             0.9,
             "#4d9221"
            ],
            [
             1,
             "#276419"
            ]
           ],
           "sequential": [
            [
             0,
             "#0d0887"
            ],
            [
             0.1111111111111111,
             "#46039f"
            ],
            [
             0.2222222222222222,
             "#7201a8"
            ],
            [
             0.3333333333333333,
             "#9c179e"
            ],
            [
             0.4444444444444444,
             "#bd3786"
            ],
            [
             0.5555555555555556,
             "#d8576b"
            ],
            [
             0.6666666666666666,
             "#ed7953"
            ],
            [
             0.7777777777777778,
             "#fb9f3a"
            ],
            [
             0.8888888888888888,
             "#fdca26"
            ],
            [
             1,
             "#f0f921"
            ]
           ],
           "sequentialminus": [
            [
             0,
             "#0d0887"
            ],
            [
             0.1111111111111111,
             "#46039f"
            ],
            [
             0.2222222222222222,
             "#7201a8"
            ],
            [
             0.3333333333333333,
             "#9c179e"
            ],
            [
             0.4444444444444444,
             "#bd3786"
            ],
            [
             0.5555555555555556,
             "#d8576b"
            ],
            [
             0.6666666666666666,
             "#ed7953"
            ],
            [
             0.7777777777777778,
             "#fb9f3a"
            ],
            [
             0.8888888888888888,
             "#fdca26"
            ],
            [
             1,
             "#f0f921"
            ]
           ]
          },
          "colorway": [
           "#636efa",
           "#EF553B",
           "#00cc96",
           "#ab63fa",
           "#FFA15A",
           "#19d3f3",
           "#FF6692",
           "#B6E880",
           "#FF97FF",
           "#FECB52"
          ],
          "font": {
           "color": "#2a3f5f"
          },
          "geo": {
           "bgcolor": "white",
           "lakecolor": "white",
           "landcolor": "#E5ECF6",
           "showlakes": true,
           "showland": true,
           "subunitcolor": "white"
          },
          "hoverlabel": {
           "align": "left"
          },
          "hovermode": "closest",
          "mapbox": {
           "style": "light"
          },
          "paper_bgcolor": "white",
          "plot_bgcolor": "#E5ECF6",
          "polar": {
           "angularaxis": {
            "gridcolor": "white",
            "linecolor": "white",
            "ticks": ""
           },
           "bgcolor": "#E5ECF6",
           "radialaxis": {
            "gridcolor": "white",
            "linecolor": "white",
            "ticks": ""
           }
          },
          "scene": {
           "xaxis": {
            "backgroundcolor": "#E5ECF6",
            "gridcolor": "white",
            "gridwidth": 2,
            "linecolor": "white",
            "showbackground": true,
            "ticks": "",
            "zerolinecolor": "white"
           },
           "yaxis": {
            "backgroundcolor": "#E5ECF6",
            "gridcolor": "white",
            "gridwidth": 2,
            "linecolor": "white",
            "showbackground": true,
            "ticks": "",
            "zerolinecolor": "white"
           },
           "zaxis": {
            "backgroundcolor": "#E5ECF6",
            "gridcolor": "white",
            "gridwidth": 2,
            "linecolor": "white",
            "showbackground": true,
            "ticks": "",
            "zerolinecolor": "white"
           }
          },
          "shapedefaults": {
           "line": {
            "color": "#2a3f5f"
           }
          },
          "ternary": {
           "aaxis": {
            "gridcolor": "white",
            "linecolor": "white",
            "ticks": ""
           },
           "baxis": {
            "gridcolor": "white",
            "linecolor": "white",
            "ticks": ""
           },
           "bgcolor": "#E5ECF6",
           "caxis": {
            "gridcolor": "white",
            "linecolor": "white",
            "ticks": ""
           }
          },
          "title": {
           "x": 0.05
          },
          "xaxis": {
           "automargin": true,
           "gridcolor": "white",
           "linecolor": "white",
           "ticks": "",
           "title": {
            "standoff": 15
           },
           "zerolinecolor": "white",
           "zerolinewidth": 2
          },
          "yaxis": {
           "automargin": true,
           "gridcolor": "white",
           "linecolor": "white",
           "ticks": "",
           "title": {
            "standoff": 15
           },
           "zerolinecolor": "white",
           "zerolinewidth": 2
          }
         }
        },
        "title": {
         "text": "DataSet00<br>Condition: <b>DOI</b><br>"
        },
        "xaxis": {
         "anchor": "y",
         "domain": [
          0,
          1
         ],
         "title": {
          "text": "pairwise_change"
         }
        },
        "yaxis": {
         "anchor": "x",
         "domain": [
          0,
          1
         ],
         "title": {
          "text": "probability density"
         }
        }
       }
      },
      "text/html": [
       "<div>                            <div id=\"d56808c1-0c8a-4c46-be5a-917cd2c23a26\" class=\"plotly-graph-div\" style=\"height:525px; width:100%;\"></div>            <script type=\"text/javascript\">                require([\"plotly\"], function(Plotly) {                    window.PLOTLYENV=window.PLOTLYENV || {};                                    if (document.getElementById(\"d56808c1-0c8a-4c46-be5a-917cd2c23a26\")) {                    Plotly.newPlot(                        \"d56808c1-0c8a-4c46-be5a-917cd2c23a26\",                        [{\"alignmentgroup\":\"True\",\"bingroup\":\"x\",\"histnorm\":\"probability density\",\"hovertemplate\":\"pairwise_change=%{x}\\u003cbr\\u003eprobability density=%{y}\\u003cextra\\u003e\\u003c\\u002fextra\\u003e\",\"legendgroup\":\"\",\"marker\":{\"color\":\"#636efa\",\"pattern\":{\"shape\":\"\"}},\"name\":\"\",\"offsetgroup\":\"\",\"orientation\":\"v\",\"showlegend\":false,\"x\":[12,7,7,-8,1,6,7,-1,3,-23,4,0,-4,2,5,1,4,-3,6,-4,6,9,-4,3,-7,-8,1,-1,0,-2,-2,2,0,-9,27,-5,4,-12,8,-2,7,5,1,-1,5,2,5,11,1,-10,4,10,2,0,-2,4,11,-1,7,-1,2,-3,0,-3,-5,-2,3,-2,1,-9,2,-2,-5,-1,2,-4,-1,3,3,5,2,12,1,2,-4,5,-2,-2,1,-6,7,9,-3,9,1,3,2,-1,3,-4,9,-4,-3,-2,5,4,1,3,-3,0,-18,9,14,1,4,-3,-1,6,1,1,5,6,-3,11,33,2,6,6,7,0,0,2,1,-4,-5,0,0,-2,8,13,1,7,-13,14,26,-21,8,4,6,2,1,-10,17,26,8,-1,5,1,9,6,-1,8,3,6,-8,5,6,-8,7,-16,18,6,1,4,-16,17,-12,-13,11,3,-7,2,5,12,19,8,2,3,4,3,-5,10,3,0,-3,6,-2,-5,1,-3,1,-10,17,-4,1,-2,-2,-1,3,1,9,0,2,0,3,10,5,7,-4,1,-8,4,2,1,7,0,2,12,0,3,-1,12,2,8,2,-2,4,0,-3,16,3,-1,-3,6,2,2,-5,-2,13,-18,17,-16,0,7,-5,-3,6,3,-2,1,4,0,-2,5,1,-2,-10,4,9,4,-4,2,6,1,0,10,-3,-2,6,4,-4,1,2,-3,19,-2,-2,1,-3,1,1,2,-9,2,-2,-6,12,-8,-27,25,6,-3,-1,4,3,-2,-1,-1,4,-1,-1,9,-3,11,-2,-2,-3,5,2,-1,-5,5,-2,3,5,18,2,1,1,0,-1,3,-4,-3,-17,10,0,5,0,4,4,-3,-4,2,5,3,7,8,24,-4,5,0,-1,-1,3,5,0,0,11,17,8,0,0,2,0,3,7,11,-1,11,-3,3,1,0,2,3,-6,-2,4,-4,4,-2,19,-19,1,1,14,-1,-7,2,-6,8,14,-1,3,0,-14,5,-5],\"xaxis\":\"x\",\"yaxis\":\"y\",\"type\":\"histogram\"}],                        {\"template\":{\"data\":{\"histogram2dcontour\":[{\"type\":\"histogram2dcontour\",\"colorbar\":{\"outlinewidth\":0,\"ticks\":\"\"},\"colorscale\":[[0.0,\"#0d0887\"],[0.1111111111111111,\"#46039f\"],[0.2222222222222222,\"#7201a8\"],[0.3333333333333333,\"#9c179e\"],[0.4444444444444444,\"#bd3786\"],[0.5555555555555556,\"#d8576b\"],[0.6666666666666666,\"#ed7953\"],[0.7777777777777778,\"#fb9f3a\"],[0.8888888888888888,\"#fdca26\"],[1.0,\"#f0f921\"]]}],\"choropleth\":[{\"type\":\"choropleth\",\"colorbar\":{\"outlinewidth\":0,\"ticks\":\"\"}}],\"histogram2d\":[{\"type\":\"histogram2d\",\"colorbar\":{\"outlinewidth\":0,\"ticks\":\"\"},\"colorscale\":[[0.0,\"#0d0887\"],[0.1111111111111111,\"#46039f\"],[0.2222222222222222,\"#7201a8\"],[0.3333333333333333,\"#9c179e\"],[0.4444444444444444,\"#bd3786\"],[0.5555555555555556,\"#d8576b\"],[0.6666666666666666,\"#ed7953\"],[0.7777777777777778,\"#fb9f3a\"],[0.8888888888888888,\"#fdca26\"],[1.0,\"#f0f921\"]]}],\"heatmap\":[{\"type\":\"heatmap\",\"colorbar\":{\"outlinewidth\":0,\"ticks\":\"\"},\"colorscale\":[[0.0,\"#0d0887\"],[0.1111111111111111,\"#46039f\"],[0.2222222222222222,\"#7201a8\"],[0.3333333333333333,\"#9c179e\"],[0.4444444444444444,\"#bd3786\"],[0.5555555555555556,\"#d8576b\"],[0.6666666666666666,\"#ed7953\"],[0.7777777777777778,\"#fb9f3a\"],[0.8888888888888888,\"#fdca26\"],[1.0,\"#f0f921\"]]}],\"heatmapgl\":[{\"type\":\"heatmapgl\",\"colorbar\":{\"outlinewidth\":0,\"ticks\":\"\"},\"colorscale\":[[0.0,\"#0d0887\"],[0.1111111111111111,\"#46039f\"],[0.2222222222222222,\"#7201a8\"],[0.3333333333333333,\"#9c179e\"],[0.4444444444444444,\"#bd3786\"],[0.5555555555555556,\"#d8576b\"],[0.6666666666666666,\"#ed7953\"],[0.7777777777777778,\"#fb9f3a\"],[0.8888888888888888,\"#fdca26\"],[1.0,\"#f0f921\"]]}],\"contourcarpet\":[{\"type\":\"contourcarpet\",\"colorbar\":{\"outlinewidth\":0,\"ticks\":\"\"}}],\"contour\":[{\"type\":\"contour\",\"colorbar\":{\"outlinewidth\":0,\"ticks\":\"\"},\"colorscale\":[[0.0,\"#0d0887\"],[0.1111111111111111,\"#46039f\"],[0.2222222222222222,\"#7201a8\"],[0.3333333333333333,\"#9c179e\"],[0.4444444444444444,\"#bd3786\"],[0.5555555555555556,\"#d8576b\"],[0.6666666666666666,\"#ed7953\"],[0.7777777777777778,\"#fb9f3a\"],[0.8888888888888888,\"#fdca26\"],[1.0,\"#f0f921\"]]}],\"surface\":[{\"type\":\"surface\",\"colorbar\":{\"outlinewidth\":0,\"ticks\":\"\"},\"colorscale\":[[0.0,\"#0d0887\"],[0.1111111111111111,\"#46039f\"],[0.2222222222222222,\"#7201a8\"],[0.3333333333333333,\"#9c179e\"],[0.4444444444444444,\"#bd3786\"],[0.5555555555555556,\"#d8576b\"],[0.6666666666666666,\"#ed7953\"],[0.7777777777777778,\"#fb9f3a\"],[0.8888888888888888,\"#fdca26\"],[1.0,\"#f0f921\"]]}],\"mesh3d\":[{\"type\":\"mesh3d\",\"colorbar\":{\"outlinewidth\":0,\"ticks\":\"\"}}],\"scatter\":[{\"fillpattern\":{\"fillmode\":\"overlay\",\"size\":10,\"solidity\":0.2},\"type\":\"scatter\"}],\"parcoords\":[{\"type\":\"parcoords\",\"line\":{\"colorbar\":{\"outlinewidth\":0,\"ticks\":\"\"}}}],\"scatterpolargl\":[{\"type\":\"scatterpolargl\",\"marker\":{\"colorbar\":{\"outlinewidth\":0,\"ticks\":\"\"}}}],\"bar\":[{\"error_x\":{\"color\":\"#2a3f5f\"},\"error_y\":{\"color\":\"#2a3f5f\"},\"marker\":{\"line\":{\"color\":\"#E5ECF6\",\"width\":0.5},\"pattern\":{\"fillmode\":\"overlay\",\"size\":10,\"solidity\":0.2}},\"type\":\"bar\"}],\"scattergeo\":[{\"type\":\"scattergeo\",\"marker\":{\"colorbar\":{\"outlinewidth\":0,\"ticks\":\"\"}}}],\"scatterpolar\":[{\"type\":\"scatterpolar\",\"marker\":{\"colorbar\":{\"outlinewidth\":0,\"ticks\":\"\"}}}],\"histogram\":[{\"marker\":{\"pattern\":{\"fillmode\":\"overlay\",\"size\":10,\"solidity\":0.2}},\"type\":\"histogram\"}],\"scattergl\":[{\"type\":\"scattergl\",\"marker\":{\"colorbar\":{\"outlinewidth\":0,\"ticks\":\"\"}}}],\"scatter3d\":[{\"type\":\"scatter3d\",\"line\":{\"colorbar\":{\"outlinewidth\":0,\"ticks\":\"\"}},\"marker\":{\"colorbar\":{\"outlinewidth\":0,\"ticks\":\"\"}}}],\"scattermapbox\":[{\"type\":\"scattermapbox\",\"marker\":{\"colorbar\":{\"outlinewidth\":0,\"ticks\":\"\"}}}],\"scatterternary\":[{\"type\":\"scatterternary\",\"marker\":{\"colorbar\":{\"outlinewidth\":0,\"ticks\":\"\"}}}],\"scattercarpet\":[{\"type\":\"scattercarpet\",\"marker\":{\"colorbar\":{\"outlinewidth\":0,\"ticks\":\"\"}}}],\"carpet\":[{\"aaxis\":{\"endlinecolor\":\"#2a3f5f\",\"gridcolor\":\"white\",\"linecolor\":\"white\",\"minorgridcolor\":\"white\",\"startlinecolor\":\"#2a3f5f\"},\"baxis\":{\"endlinecolor\":\"#2a3f5f\",\"gridcolor\":\"white\",\"linecolor\":\"white\",\"minorgridcolor\":\"white\",\"startlinecolor\":\"#2a3f5f\"},\"type\":\"carpet\"}],\"table\":[{\"cells\":{\"fill\":{\"color\":\"#EBF0F8\"},\"line\":{\"color\":\"white\"}},\"header\":{\"fill\":{\"color\":\"#C8D4E3\"},\"line\":{\"color\":\"white\"}},\"type\":\"table\"}],\"barpolar\":[{\"marker\":{\"line\":{\"color\":\"#E5ECF6\",\"width\":0.5},\"pattern\":{\"fillmode\":\"overlay\",\"size\":10,\"solidity\":0.2}},\"type\":\"barpolar\"}],\"pie\":[{\"automargin\":true,\"type\":\"pie\"}]},\"layout\":{\"autotypenumbers\":\"strict\",\"colorway\":[\"#636efa\",\"#EF553B\",\"#00cc96\",\"#ab63fa\",\"#FFA15A\",\"#19d3f3\",\"#FF6692\",\"#B6E880\",\"#FF97FF\",\"#FECB52\"],\"font\":{\"color\":\"#2a3f5f\"},\"hovermode\":\"closest\",\"hoverlabel\":{\"align\":\"left\"},\"paper_bgcolor\":\"white\",\"plot_bgcolor\":\"#E5ECF6\",\"polar\":{\"bgcolor\":\"#E5ECF6\",\"angularaxis\":{\"gridcolor\":\"white\",\"linecolor\":\"white\",\"ticks\":\"\"},\"radialaxis\":{\"gridcolor\":\"white\",\"linecolor\":\"white\",\"ticks\":\"\"}},\"ternary\":{\"bgcolor\":\"#E5ECF6\",\"aaxis\":{\"gridcolor\":\"white\",\"linecolor\":\"white\",\"ticks\":\"\"},\"baxis\":{\"gridcolor\":\"white\",\"linecolor\":\"white\",\"ticks\":\"\"},\"caxis\":{\"gridcolor\":\"white\",\"linecolor\":\"white\",\"ticks\":\"\"}},\"coloraxis\":{\"colorbar\":{\"outlinewidth\":0,\"ticks\":\"\"}},\"colorscale\":{\"sequential\":[[0.0,\"#0d0887\"],[0.1111111111111111,\"#46039f\"],[0.2222222222222222,\"#7201a8\"],[0.3333333333333333,\"#9c179e\"],[0.4444444444444444,\"#bd3786\"],[0.5555555555555556,\"#d8576b\"],[0.6666666666666666,\"#ed7953\"],[0.7777777777777778,\"#fb9f3a\"],[0.8888888888888888,\"#fdca26\"],[1.0,\"#f0f921\"]],\"sequentialminus\":[[0.0,\"#0d0887\"],[0.1111111111111111,\"#46039f\"],[0.2222222222222222,\"#7201a8\"],[0.3333333333333333,\"#9c179e\"],[0.4444444444444444,\"#bd3786\"],[0.5555555555555556,\"#d8576b\"],[0.6666666666666666,\"#ed7953\"],[0.7777777777777778,\"#fb9f3a\"],[0.8888888888888888,\"#fdca26\"],[1.0,\"#f0f921\"]],\"diverging\":[[0,\"#8e0152\"],[0.1,\"#c51b7d\"],[0.2,\"#de77ae\"],[0.3,\"#f1b6da\"],[0.4,\"#fde0ef\"],[0.5,\"#f7f7f7\"],[0.6,\"#e6f5d0\"],[0.7,\"#b8e186\"],[0.8,\"#7fbc41\"],[0.9,\"#4d9221\"],[1,\"#276419\"]]},\"xaxis\":{\"gridcolor\":\"white\",\"linecolor\":\"white\",\"ticks\":\"\",\"title\":{\"standoff\":15},\"zerolinecolor\":\"white\",\"automargin\":true,\"zerolinewidth\":2},\"yaxis\":{\"gridcolor\":\"white\",\"linecolor\":\"white\",\"ticks\":\"\",\"title\":{\"standoff\":15},\"zerolinecolor\":\"white\",\"automargin\":true,\"zerolinewidth\":2},\"scene\":{\"xaxis\":{\"backgroundcolor\":\"#E5ECF6\",\"gridcolor\":\"white\",\"linecolor\":\"white\",\"showbackground\":true,\"ticks\":\"\",\"zerolinecolor\":\"white\",\"gridwidth\":2},\"yaxis\":{\"backgroundcolor\":\"#E5ECF6\",\"gridcolor\":\"white\",\"linecolor\":\"white\",\"showbackground\":true,\"ticks\":\"\",\"zerolinecolor\":\"white\",\"gridwidth\":2},\"zaxis\":{\"backgroundcolor\":\"#E5ECF6\",\"gridcolor\":\"white\",\"linecolor\":\"white\",\"showbackground\":true,\"ticks\":\"\",\"zerolinecolor\":\"white\",\"gridwidth\":2}},\"shapedefaults\":{\"line\":{\"color\":\"#2a3f5f\"}},\"annotationdefaults\":{\"arrowcolor\":\"#2a3f5f\",\"arrowhead\":0,\"arrowwidth\":1},\"geo\":{\"bgcolor\":\"white\",\"landcolor\":\"#E5ECF6\",\"subunitcolor\":\"white\",\"showland\":true,\"showlakes\":true,\"lakecolor\":\"white\"},\"title\":{\"x\":0.05},\"mapbox\":{\"style\":\"light\"}}},\"xaxis\":{\"anchor\":\"y\",\"domain\":[0.0,1.0],\"title\":{\"text\":\"pairwise_change\"}},\"yaxis\":{\"anchor\":\"x\",\"domain\":[0.0,1.0],\"title\":{\"text\":\"probability density\"}},\"legend\":{\"tracegroupgap\":0},\"margin\":{\"t\":60},\"barmode\":\"relative\",\"shapes\":[{\"line\":{\"color\":\"black\",\"dash\":\"dash\",\"width\":1},\"type\":\"line\",\"x0\":1.7769423558897244,\"x1\":1.7769423558897244,\"xref\":\"x\",\"y0\":0,\"y1\":1,\"yref\":\"y domain\"},{\"line\":{\"color\":\"red\",\"dash\":\"dash\",\"width\":1},\"type\":\"line\",\"x0\":21.626606352441843,\"x1\":21.626606352441843,\"xref\":\"x\",\"y0\":0,\"y1\":1,\"yref\":\"y domain\"},{\"line\":{\"color\":\"red\",\"dash\":\"dash\",\"width\":1},\"type\":\"line\",\"x0\":-21.626606352441843,\"x1\":-21.626606352441843,\"xref\":\"x\",\"y0\":0,\"y1\":1,\"yref\":\"y domain\"}],\"annotations\":[{\"showarrow\":false,\"text\":\"1.78\",\"x\":1.7769423558897244,\"xanchor\":\"center\",\"xref\":\"x\",\"y\":1,\"yanchor\":\"bottom\",\"yref\":\"y domain\"},{\"showarrow\":false,\"text\":\"\",\"x\":21.626606352441843,\"xanchor\":\"center\",\"xref\":\"x\",\"y\":1,\"yanchor\":\"bottom\",\"yref\":\"y domain\"},{\"showarrow\":false,\"text\":\"\",\"x\":-21.626606352441843,\"xanchor\":\"center\",\"xref\":\"x\",\"y\":1,\"yanchor\":\"bottom\",\"yref\":\"y domain\"}],\"title\":{\"text\":\"DataSet00\\u003cbr\\u003eCondition: \\u003cb\\u003eDOI\\u003c\\u002fb\\u003e\\u003cbr\\u003e\"}},                        {\"responsive\": true}                    ).then(function(){\n",
       "                            \n",
       "var gd = document.getElementById('d56808c1-0c8a-4c46-be5a-917cd2c23a26');\n",
       "var x = new MutationObserver(function (mutations, observer) {{\n",
       "        var display = window.getComputedStyle(gd).display;\n",
       "        if (!display || display === 'none') {{\n",
       "            console.log([gd, 'removed!']);\n",
       "            Plotly.purge(gd);\n",
       "            observer.disconnect();\n",
       "        }}\n",
       "}});\n",
       "\n",
       "// Listen for the removal of the full notebook cells\n",
       "var notebookContainer = gd.closest('#notebook-container');\n",
       "if (notebookContainer) {{\n",
       "    x.observe(notebookContainer, {childList: true});\n",
       "}}\n",
       "\n",
       "// Listen for the clearing of the current output cell\n",
       "var outputEl = gd.closest('.output');\n",
       "if (outputEl) {{\n",
       "    x.observe(outputEl, {childList: true});\n",
       "}}\n",
       "\n",
       "                        })                };                });            </script>        </div>"
      ]
     },
     "metadata": {},
     "output_type": "display_data"
    }
   ],
   "source": [
    "dataset = 'DataSet00'\n",
    "pairwise_change_histogram(dataset=dataset, condition='Control')\n",
    "pairwise_change_histogram(dataset=dataset, condition='DOI')"
   ]
  },
  {
   "cell_type": "code",
   "execution_count": 285,
   "metadata": {},
   "outputs": [
    {
     "data": {
      "application/vnd.plotly.v1+json": {
       "config": {
        "plotlyServerURL": "https://plot.ly"
       },
       "data": [
        {
         "alignmentgroup": "True",
         "bingroup": "x",
         "histnorm": "probability density",
         "hovertemplate": "pairwise_change=%{x}<br>probability density=%{y}<extra></extra>",
         "legendgroup": "",
         "marker": {
          "color": "#636efa",
          "pattern": {
           "shape": ""
          }
         },
         "name": "",
         "offsetgroup": "",
         "orientation": "v",
         "showlegend": false,
         "type": "histogram",
         "x": [
          3,
          -1,
          -1,
          -5,
          8,
          -5,
          24,
          -1,
          -4,
          1,
          -22,
          18,
          6,
          0,
          4,
          1,
          -3,
          26,
          1,
          9,
          -26,
          -1,
          8,
          -6,
          7,
          -17,
          3,
          -2,
          -14,
          14,
          1,
          6,
          12,
          -11,
          0,
          19,
          10,
          -9,
          -1,
          -5,
          12,
          -11,
          1,
          -1,
          3,
          9,
          8,
          -8,
          16,
          -18,
          2,
          11,
          5,
          3,
          5,
          2,
          -6,
          1,
          0,
          -2,
          16,
          -18,
          2,
          -3,
          1,
          9,
          14,
          -9,
          -2,
          -4,
          -8,
          -3,
          6,
          7,
          4,
          -4,
          -18,
          19,
          -1,
          4,
          -8,
          -5,
          1,
          -2,
          -5,
          14,
          -10,
          -1,
          0,
          5,
          -3,
          6,
          -9,
          -5,
          -3,
          -6,
          -1,
          25,
          -29,
          22,
          0,
          -3,
          -11,
          4,
          4,
          9,
          2,
          -4,
          -15,
          12,
          9,
          -15,
          -2,
          -5,
          6,
          -10,
          -3,
          -21,
          -12,
          23,
          5,
          -2,
          2,
          -8,
          13,
          -31,
          7,
          3,
          -8,
          3,
          -2,
          0,
          24,
          -16,
          -10,
          2,
          6,
          2,
          0,
          5,
          -3,
          -4,
          -4,
          -3,
          6,
          -2,
          -6,
          -1,
          3,
          0,
          -2,
          -3,
          2,
          -10,
          4,
          10,
          3,
          1,
          -1,
          22,
          5,
          -1,
          3,
          -4,
          3,
          -1,
          -16,
          -1,
          1,
          -1,
          0,
          9,
          0,
          7,
          -2,
          6,
          -2,
          1,
          -26,
          -3,
          -5,
          -4,
          -5,
          -4,
          -1,
          -1,
          1,
          15,
          19,
          6,
          -12,
          4,
          -16,
          -7,
          12,
          -1,
          15,
          19,
          2,
          -2,
          -3,
          3,
          -3,
          3,
          4,
          -4,
          3,
          6,
          1,
          -1,
          12,
          -1,
          -2,
          4,
          8,
          3,
          6,
          -8,
          -8,
          16,
          2,
          1,
          2,
          12,
          -1,
          -6,
          -6,
          5,
          -3,
          -1,
          -2,
          -4,
          2,
          -8,
          2,
          -2,
          5,
          2,
          -1,
          -5,
          5,
          -1,
          4,
          1,
          7,
          -7,
          -3,
          -3,
          2,
          1,
          0,
          -1,
          -1,
          1,
          -20,
          -6,
          9,
          -3,
          4,
          -6,
          -3,
          -7,
          -1,
          2,
          1,
          -8,
          -2,
          -17,
          2,
          1,
          -31,
          -1,
          0
         ],
         "xaxis": "x",
         "yaxis": "y"
        }
       ],
       "layout": {
        "annotations": [
         {
          "showarrow": false,
          "text": "0.06",
          "x": 0.06227106227106227,
          "xanchor": "center",
          "xref": "x",
          "y": 1,
          "yanchor": "bottom",
          "yref": "y domain"
         },
         {
          "showarrow": false,
          "text": "",
          "x": 27.140623656828232,
          "xanchor": "center",
          "xref": "x",
          "y": 1,
          "yanchor": "bottom",
          "yref": "y domain"
         },
         {
          "showarrow": false,
          "text": "",
          "x": -27.140623656828232,
          "xanchor": "center",
          "xref": "x",
          "y": 1,
          "yanchor": "bottom",
          "yref": "y domain"
         }
        ],
        "barmode": "relative",
        "legend": {
         "tracegroupgap": 0
        },
        "margin": {
         "t": 60
        },
        "shapes": [
         {
          "line": {
           "color": "black",
           "dash": "dash",
           "width": 1
          },
          "type": "line",
          "x0": 0.06227106227106227,
          "x1": 0.06227106227106227,
          "xref": "x",
          "y0": 0,
          "y1": 1,
          "yref": "y domain"
         },
         {
          "line": {
           "color": "red",
           "dash": "dash",
           "width": 1
          },
          "type": "line",
          "x0": 27.140623656828232,
          "x1": 27.140623656828232,
          "xref": "x",
          "y0": 0,
          "y1": 1,
          "yref": "y domain"
         },
         {
          "line": {
           "color": "red",
           "dash": "dash",
           "width": 1
          },
          "type": "line",
          "x0": -27.140623656828232,
          "x1": -27.140623656828232,
          "xref": "x",
          "y0": 0,
          "y1": 1,
          "yref": "y domain"
         }
        ],
        "template": {
         "data": {
          "bar": [
           {
            "error_x": {
             "color": "#2a3f5f"
            },
            "error_y": {
             "color": "#2a3f5f"
            },
            "marker": {
             "line": {
              "color": "#E5ECF6",
              "width": 0.5
             },
             "pattern": {
              "fillmode": "overlay",
              "size": 10,
              "solidity": 0.2
             }
            },
            "type": "bar"
           }
          ],
          "barpolar": [
           {
            "marker": {
             "line": {
              "color": "#E5ECF6",
              "width": 0.5
             },
             "pattern": {
              "fillmode": "overlay",
              "size": 10,
              "solidity": 0.2
             }
            },
            "type": "barpolar"
           }
          ],
          "carpet": [
           {
            "aaxis": {
             "endlinecolor": "#2a3f5f",
             "gridcolor": "white",
             "linecolor": "white",
             "minorgridcolor": "white",
             "startlinecolor": "#2a3f5f"
            },
            "baxis": {
             "endlinecolor": "#2a3f5f",
             "gridcolor": "white",
             "linecolor": "white",
             "minorgridcolor": "white",
             "startlinecolor": "#2a3f5f"
            },
            "type": "carpet"
           }
          ],
          "choropleth": [
           {
            "colorbar": {
             "outlinewidth": 0,
             "ticks": ""
            },
            "type": "choropleth"
           }
          ],
          "contour": [
           {
            "colorbar": {
             "outlinewidth": 0,
             "ticks": ""
            },
            "colorscale": [
             [
              0,
              "#0d0887"
             ],
             [
              0.1111111111111111,
              "#46039f"
             ],
             [
              0.2222222222222222,
              "#7201a8"
             ],
             [
              0.3333333333333333,
              "#9c179e"
             ],
             [
              0.4444444444444444,
              "#bd3786"
             ],
             [
              0.5555555555555556,
              "#d8576b"
             ],
             [
              0.6666666666666666,
              "#ed7953"
             ],
             [
              0.7777777777777778,
              "#fb9f3a"
             ],
             [
              0.8888888888888888,
              "#fdca26"
             ],
             [
              1,
              "#f0f921"
             ]
            ],
            "type": "contour"
           }
          ],
          "contourcarpet": [
           {
            "colorbar": {
             "outlinewidth": 0,
             "ticks": ""
            },
            "type": "contourcarpet"
           }
          ],
          "heatmap": [
           {
            "colorbar": {
             "outlinewidth": 0,
             "ticks": ""
            },
            "colorscale": [
             [
              0,
              "#0d0887"
             ],
             [
              0.1111111111111111,
              "#46039f"
             ],
             [
              0.2222222222222222,
              "#7201a8"
             ],
             [
              0.3333333333333333,
              "#9c179e"
             ],
             [
              0.4444444444444444,
              "#bd3786"
             ],
             [
              0.5555555555555556,
              "#d8576b"
             ],
             [
              0.6666666666666666,
              "#ed7953"
             ],
             [
              0.7777777777777778,
              "#fb9f3a"
             ],
             [
              0.8888888888888888,
              "#fdca26"
             ],
             [
              1,
              "#f0f921"
             ]
            ],
            "type": "heatmap"
           }
          ],
          "heatmapgl": [
           {
            "colorbar": {
             "outlinewidth": 0,
             "ticks": ""
            },
            "colorscale": [
             [
              0,
              "#0d0887"
             ],
             [
              0.1111111111111111,
              "#46039f"
             ],
             [
              0.2222222222222222,
              "#7201a8"
             ],
             [
              0.3333333333333333,
              "#9c179e"
             ],
             [
              0.4444444444444444,
              "#bd3786"
             ],
             [
              0.5555555555555556,
              "#d8576b"
             ],
             [
              0.6666666666666666,
              "#ed7953"
             ],
             [
              0.7777777777777778,
              "#fb9f3a"
             ],
             [
              0.8888888888888888,
              "#fdca26"
             ],
             [
              1,
              "#f0f921"
             ]
            ],
            "type": "heatmapgl"
           }
          ],
          "histogram": [
           {
            "marker": {
             "pattern": {
              "fillmode": "overlay",
              "size": 10,
              "solidity": 0.2
             }
            },
            "type": "histogram"
           }
          ],
          "histogram2d": [
           {
            "colorbar": {
             "outlinewidth": 0,
             "ticks": ""
            },
            "colorscale": [
             [
              0,
              "#0d0887"
             ],
             [
              0.1111111111111111,
              "#46039f"
             ],
             [
              0.2222222222222222,
              "#7201a8"
             ],
             [
              0.3333333333333333,
              "#9c179e"
             ],
             [
              0.4444444444444444,
              "#bd3786"
             ],
             [
              0.5555555555555556,
              "#d8576b"
             ],
             [
              0.6666666666666666,
              "#ed7953"
             ],
             [
              0.7777777777777778,
              "#fb9f3a"
             ],
             [
              0.8888888888888888,
              "#fdca26"
             ],
             [
              1,
              "#f0f921"
             ]
            ],
            "type": "histogram2d"
           }
          ],
          "histogram2dcontour": [
           {
            "colorbar": {
             "outlinewidth": 0,
             "ticks": ""
            },
            "colorscale": [
             [
              0,
              "#0d0887"
             ],
             [
              0.1111111111111111,
              "#46039f"
             ],
             [
              0.2222222222222222,
              "#7201a8"
             ],
             [
              0.3333333333333333,
              "#9c179e"
             ],
             [
              0.4444444444444444,
              "#bd3786"
             ],
             [
              0.5555555555555556,
              "#d8576b"
             ],
             [
              0.6666666666666666,
              "#ed7953"
             ],
             [
              0.7777777777777778,
              "#fb9f3a"
             ],
             [
              0.8888888888888888,
              "#fdca26"
             ],
             [
              1,
              "#f0f921"
             ]
            ],
            "type": "histogram2dcontour"
           }
          ],
          "mesh3d": [
           {
            "colorbar": {
             "outlinewidth": 0,
             "ticks": ""
            },
            "type": "mesh3d"
           }
          ],
          "parcoords": [
           {
            "line": {
             "colorbar": {
              "outlinewidth": 0,
              "ticks": ""
             }
            },
            "type": "parcoords"
           }
          ],
          "pie": [
           {
            "automargin": true,
            "type": "pie"
           }
          ],
          "scatter": [
           {
            "fillpattern": {
             "fillmode": "overlay",
             "size": 10,
             "solidity": 0.2
            },
            "type": "scatter"
           }
          ],
          "scatter3d": [
           {
            "line": {
             "colorbar": {
              "outlinewidth": 0,
              "ticks": ""
             }
            },
            "marker": {
             "colorbar": {
              "outlinewidth": 0,
              "ticks": ""
             }
            },
            "type": "scatter3d"
           }
          ],
          "scattercarpet": [
           {
            "marker": {
             "colorbar": {
              "outlinewidth": 0,
              "ticks": ""
             }
            },
            "type": "scattercarpet"
           }
          ],
          "scattergeo": [
           {
            "marker": {
             "colorbar": {
              "outlinewidth": 0,
              "ticks": ""
             }
            },
            "type": "scattergeo"
           }
          ],
          "scattergl": [
           {
            "marker": {
             "colorbar": {
              "outlinewidth": 0,
              "ticks": ""
             }
            },
            "type": "scattergl"
           }
          ],
          "scattermapbox": [
           {
            "marker": {
             "colorbar": {
              "outlinewidth": 0,
              "ticks": ""
             }
            },
            "type": "scattermapbox"
           }
          ],
          "scatterpolar": [
           {
            "marker": {
             "colorbar": {
              "outlinewidth": 0,
              "ticks": ""
             }
            },
            "type": "scatterpolar"
           }
          ],
          "scatterpolargl": [
           {
            "marker": {
             "colorbar": {
              "outlinewidth": 0,
              "ticks": ""
             }
            },
            "type": "scatterpolargl"
           }
          ],
          "scatterternary": [
           {
            "marker": {
             "colorbar": {
              "outlinewidth": 0,
              "ticks": ""
             }
            },
            "type": "scatterternary"
           }
          ],
          "surface": [
           {
            "colorbar": {
             "outlinewidth": 0,
             "ticks": ""
            },
            "colorscale": [
             [
              0,
              "#0d0887"
             ],
             [
              0.1111111111111111,
              "#46039f"
             ],
             [
              0.2222222222222222,
              "#7201a8"
             ],
             [
              0.3333333333333333,
              "#9c179e"
             ],
             [
              0.4444444444444444,
              "#bd3786"
             ],
             [
              0.5555555555555556,
              "#d8576b"
             ],
             [
              0.6666666666666666,
              "#ed7953"
             ],
             [
              0.7777777777777778,
              "#fb9f3a"
             ],
             [
              0.8888888888888888,
              "#fdca26"
             ],
             [
              1,
              "#f0f921"
             ]
            ],
            "type": "surface"
           }
          ],
          "table": [
           {
            "cells": {
             "fill": {
              "color": "#EBF0F8"
             },
             "line": {
              "color": "white"
             }
            },
            "header": {
             "fill": {
              "color": "#C8D4E3"
             },
             "line": {
              "color": "white"
             }
            },
            "type": "table"
           }
          ]
         },
         "layout": {
          "annotationdefaults": {
           "arrowcolor": "#2a3f5f",
           "arrowhead": 0,
           "arrowwidth": 1
          },
          "autotypenumbers": "strict",
          "coloraxis": {
           "colorbar": {
            "outlinewidth": 0,
            "ticks": ""
           }
          },
          "colorscale": {
           "diverging": [
            [
             0,
             "#8e0152"
            ],
            [
             0.1,
             "#c51b7d"
            ],
            [
             0.2,
             "#de77ae"
            ],
            [
             0.3,
             "#f1b6da"
            ],
            [
             0.4,
             "#fde0ef"
            ],
            [
             0.5,
             "#f7f7f7"
            ],
            [
             0.6,
             "#e6f5d0"
            ],
            [
             0.7,
             "#b8e186"
            ],
            [
             0.8,
             "#7fbc41"
            ],
            [
             0.9,
             "#4d9221"
            ],
            [
             1,
             "#276419"
            ]
           ],
           "sequential": [
            [
             0,
             "#0d0887"
            ],
            [
             0.1111111111111111,
             "#46039f"
            ],
            [
             0.2222222222222222,
             "#7201a8"
            ],
            [
             0.3333333333333333,
             "#9c179e"
            ],
            [
             0.4444444444444444,
             "#bd3786"
            ],
            [
             0.5555555555555556,
             "#d8576b"
            ],
            [
             0.6666666666666666,
             "#ed7953"
            ],
            [
             0.7777777777777778,
             "#fb9f3a"
            ],
            [
             0.8888888888888888,
             "#fdca26"
            ],
            [
             1,
             "#f0f921"
            ]
           ],
           "sequentialminus": [
            [
             0,
             "#0d0887"
            ],
            [
             0.1111111111111111,
             "#46039f"
            ],
            [
             0.2222222222222222,
             "#7201a8"
            ],
            [
             0.3333333333333333,
             "#9c179e"
            ],
            [
             0.4444444444444444,
             "#bd3786"
            ],
            [
             0.5555555555555556,
             "#d8576b"
            ],
            [
             0.6666666666666666,
             "#ed7953"
            ],
            [
             0.7777777777777778,
             "#fb9f3a"
            ],
            [
             0.8888888888888888,
             "#fdca26"
            ],
            [
             1,
             "#f0f921"
            ]
           ]
          },
          "colorway": [
           "#636efa",
           "#EF553B",
           "#00cc96",
           "#ab63fa",
           "#FFA15A",
           "#19d3f3",
           "#FF6692",
           "#B6E880",
           "#FF97FF",
           "#FECB52"
          ],
          "font": {
           "color": "#2a3f5f"
          },
          "geo": {
           "bgcolor": "white",
           "lakecolor": "white",
           "landcolor": "#E5ECF6",
           "showlakes": true,
           "showland": true,
           "subunitcolor": "white"
          },
          "hoverlabel": {
           "align": "left"
          },
          "hovermode": "closest",
          "mapbox": {
           "style": "light"
          },
          "paper_bgcolor": "white",
          "plot_bgcolor": "#E5ECF6",
          "polar": {
           "angularaxis": {
            "gridcolor": "white",
            "linecolor": "white",
            "ticks": ""
           },
           "bgcolor": "#E5ECF6",
           "radialaxis": {
            "gridcolor": "white",
            "linecolor": "white",
            "ticks": ""
           }
          },
          "scene": {
           "xaxis": {
            "backgroundcolor": "#E5ECF6",
            "gridcolor": "white",
            "gridwidth": 2,
            "linecolor": "white",
            "showbackground": true,
            "ticks": "",
            "zerolinecolor": "white"
           },
           "yaxis": {
            "backgroundcolor": "#E5ECF6",
            "gridcolor": "white",
            "gridwidth": 2,
            "linecolor": "white",
            "showbackground": true,
            "ticks": "",
            "zerolinecolor": "white"
           },
           "zaxis": {
            "backgroundcolor": "#E5ECF6",
            "gridcolor": "white",
            "gridwidth": 2,
            "linecolor": "white",
            "showbackground": true,
            "ticks": "",
            "zerolinecolor": "white"
           }
          },
          "shapedefaults": {
           "line": {
            "color": "#2a3f5f"
           }
          },
          "ternary": {
           "aaxis": {
            "gridcolor": "white",
            "linecolor": "white",
            "ticks": ""
           },
           "baxis": {
            "gridcolor": "white",
            "linecolor": "white",
            "ticks": ""
           },
           "bgcolor": "#E5ECF6",
           "caxis": {
            "gridcolor": "white",
            "linecolor": "white",
            "ticks": ""
           }
          },
          "title": {
           "x": 0.05
          },
          "xaxis": {
           "automargin": true,
           "gridcolor": "white",
           "linecolor": "white",
           "ticks": "",
           "title": {
            "standoff": 15
           },
           "zerolinecolor": "white",
           "zerolinewidth": 2
          },
          "yaxis": {
           "automargin": true,
           "gridcolor": "white",
           "linecolor": "white",
           "ticks": "",
           "title": {
            "standoff": 15
           },
           "zerolinecolor": "white",
           "zerolinewidth": 2
          }
         }
        },
        "title": {
         "text": "DataSet01<br>Condition: <b>Control</b><br>"
        },
        "xaxis": {
         "anchor": "y",
         "domain": [
          0,
          1
         ],
         "title": {
          "text": "pairwise_change"
         }
        },
        "yaxis": {
         "anchor": "x",
         "domain": [
          0,
          1
         ],
         "title": {
          "text": "probability density"
         }
        }
       }
      },
      "text/html": [
       "<div>                            <div id=\"6ba6bfdd-8527-434a-b0be-17dab520210f\" class=\"plotly-graph-div\" style=\"height:525px; width:100%;\"></div>            <script type=\"text/javascript\">                require([\"plotly\"], function(Plotly) {                    window.PLOTLYENV=window.PLOTLYENV || {};                                    if (document.getElementById(\"6ba6bfdd-8527-434a-b0be-17dab520210f\")) {                    Plotly.newPlot(                        \"6ba6bfdd-8527-434a-b0be-17dab520210f\",                        [{\"alignmentgroup\":\"True\",\"bingroup\":\"x\",\"histnorm\":\"probability density\",\"hovertemplate\":\"pairwise_change=%{x}\\u003cbr\\u003eprobability density=%{y}\\u003cextra\\u003e\\u003c\\u002fextra\\u003e\",\"legendgroup\":\"\",\"marker\":{\"color\":\"#636efa\",\"pattern\":{\"shape\":\"\"}},\"name\":\"\",\"offsetgroup\":\"\",\"orientation\":\"v\",\"showlegend\":false,\"x\":[3,-1,-1,-5,8,-5,24,-1,-4,1,-22,18,6,0,4,1,-3,26,1,9,-26,-1,8,-6,7,-17,3,-2,-14,14,1,6,12,-11,0,19,10,-9,-1,-5,12,-11,1,-1,3,9,8,-8,16,-18,2,11,5,3,5,2,-6,1,0,-2,16,-18,2,-3,1,9,14,-9,-2,-4,-8,-3,6,7,4,-4,-18,19,-1,4,-8,-5,1,-2,-5,14,-10,-1,0,5,-3,6,-9,-5,-3,-6,-1,25,-29,22,0,-3,-11,4,4,9,2,-4,-15,12,9,-15,-2,-5,6,-10,-3,-21,-12,23,5,-2,2,-8,13,-31,7,3,-8,3,-2,0,24,-16,-10,2,6,2,0,5,-3,-4,-4,-3,6,-2,-6,-1,3,0,-2,-3,2,-10,4,10,3,1,-1,22,5,-1,3,-4,3,-1,-16,-1,1,-1,0,9,0,7,-2,6,-2,1,-26,-3,-5,-4,-5,-4,-1,-1,1,15,19,6,-12,4,-16,-7,12,-1,15,19,2,-2,-3,3,-3,3,4,-4,3,6,1,-1,12,-1,-2,4,8,3,6,-8,-8,16,2,1,2,12,-1,-6,-6,5,-3,-1,-2,-4,2,-8,2,-2,5,2,-1,-5,5,-1,4,1,7,-7,-3,-3,2,1,0,-1,-1,1,-20,-6,9,-3,4,-6,-3,-7,-1,2,1,-8,-2,-17,2,1,-31,-1,0],\"xaxis\":\"x\",\"yaxis\":\"y\",\"type\":\"histogram\"}],                        {\"template\":{\"data\":{\"histogram2dcontour\":[{\"type\":\"histogram2dcontour\",\"colorbar\":{\"outlinewidth\":0,\"ticks\":\"\"},\"colorscale\":[[0.0,\"#0d0887\"],[0.1111111111111111,\"#46039f\"],[0.2222222222222222,\"#7201a8\"],[0.3333333333333333,\"#9c179e\"],[0.4444444444444444,\"#bd3786\"],[0.5555555555555556,\"#d8576b\"],[0.6666666666666666,\"#ed7953\"],[0.7777777777777778,\"#fb9f3a\"],[0.8888888888888888,\"#fdca26\"],[1.0,\"#f0f921\"]]}],\"choropleth\":[{\"type\":\"choropleth\",\"colorbar\":{\"outlinewidth\":0,\"ticks\":\"\"}}],\"histogram2d\":[{\"type\":\"histogram2d\",\"colorbar\":{\"outlinewidth\":0,\"ticks\":\"\"},\"colorscale\":[[0.0,\"#0d0887\"],[0.1111111111111111,\"#46039f\"],[0.2222222222222222,\"#7201a8\"],[0.3333333333333333,\"#9c179e\"],[0.4444444444444444,\"#bd3786\"],[0.5555555555555556,\"#d8576b\"],[0.6666666666666666,\"#ed7953\"],[0.7777777777777778,\"#fb9f3a\"],[0.8888888888888888,\"#fdca26\"],[1.0,\"#f0f921\"]]}],\"heatmap\":[{\"type\":\"heatmap\",\"colorbar\":{\"outlinewidth\":0,\"ticks\":\"\"},\"colorscale\":[[0.0,\"#0d0887\"],[0.1111111111111111,\"#46039f\"],[0.2222222222222222,\"#7201a8\"],[0.3333333333333333,\"#9c179e\"],[0.4444444444444444,\"#bd3786\"],[0.5555555555555556,\"#d8576b\"],[0.6666666666666666,\"#ed7953\"],[0.7777777777777778,\"#fb9f3a\"],[0.8888888888888888,\"#fdca26\"],[1.0,\"#f0f921\"]]}],\"heatmapgl\":[{\"type\":\"heatmapgl\",\"colorbar\":{\"outlinewidth\":0,\"ticks\":\"\"},\"colorscale\":[[0.0,\"#0d0887\"],[0.1111111111111111,\"#46039f\"],[0.2222222222222222,\"#7201a8\"],[0.3333333333333333,\"#9c179e\"],[0.4444444444444444,\"#bd3786\"],[0.5555555555555556,\"#d8576b\"],[0.6666666666666666,\"#ed7953\"],[0.7777777777777778,\"#fb9f3a\"],[0.8888888888888888,\"#fdca26\"],[1.0,\"#f0f921\"]]}],\"contourcarpet\":[{\"type\":\"contourcarpet\",\"colorbar\":{\"outlinewidth\":0,\"ticks\":\"\"}}],\"contour\":[{\"type\":\"contour\",\"colorbar\":{\"outlinewidth\":0,\"ticks\":\"\"},\"colorscale\":[[0.0,\"#0d0887\"],[0.1111111111111111,\"#46039f\"],[0.2222222222222222,\"#7201a8\"],[0.3333333333333333,\"#9c179e\"],[0.4444444444444444,\"#bd3786\"],[0.5555555555555556,\"#d8576b\"],[0.6666666666666666,\"#ed7953\"],[0.7777777777777778,\"#fb9f3a\"],[0.8888888888888888,\"#fdca26\"],[1.0,\"#f0f921\"]]}],\"surface\":[{\"type\":\"surface\",\"colorbar\":{\"outlinewidth\":0,\"ticks\":\"\"},\"colorscale\":[[0.0,\"#0d0887\"],[0.1111111111111111,\"#46039f\"],[0.2222222222222222,\"#7201a8\"],[0.3333333333333333,\"#9c179e\"],[0.4444444444444444,\"#bd3786\"],[0.5555555555555556,\"#d8576b\"],[0.6666666666666666,\"#ed7953\"],[0.7777777777777778,\"#fb9f3a\"],[0.8888888888888888,\"#fdca26\"],[1.0,\"#f0f921\"]]}],\"mesh3d\":[{\"type\":\"mesh3d\",\"colorbar\":{\"outlinewidth\":0,\"ticks\":\"\"}}],\"scatter\":[{\"fillpattern\":{\"fillmode\":\"overlay\",\"size\":10,\"solidity\":0.2},\"type\":\"scatter\"}],\"parcoords\":[{\"type\":\"parcoords\",\"line\":{\"colorbar\":{\"outlinewidth\":0,\"ticks\":\"\"}}}],\"scatterpolargl\":[{\"type\":\"scatterpolargl\",\"marker\":{\"colorbar\":{\"outlinewidth\":0,\"ticks\":\"\"}}}],\"bar\":[{\"error_x\":{\"color\":\"#2a3f5f\"},\"error_y\":{\"color\":\"#2a3f5f\"},\"marker\":{\"line\":{\"color\":\"#E5ECF6\",\"width\":0.5},\"pattern\":{\"fillmode\":\"overlay\",\"size\":10,\"solidity\":0.2}},\"type\":\"bar\"}],\"scattergeo\":[{\"type\":\"scattergeo\",\"marker\":{\"colorbar\":{\"outlinewidth\":0,\"ticks\":\"\"}}}],\"scatterpolar\":[{\"type\":\"scatterpolar\",\"marker\":{\"colorbar\":{\"outlinewidth\":0,\"ticks\":\"\"}}}],\"histogram\":[{\"marker\":{\"pattern\":{\"fillmode\":\"overlay\",\"size\":10,\"solidity\":0.2}},\"type\":\"histogram\"}],\"scattergl\":[{\"type\":\"scattergl\",\"marker\":{\"colorbar\":{\"outlinewidth\":0,\"ticks\":\"\"}}}],\"scatter3d\":[{\"type\":\"scatter3d\",\"line\":{\"colorbar\":{\"outlinewidth\":0,\"ticks\":\"\"}},\"marker\":{\"colorbar\":{\"outlinewidth\":0,\"ticks\":\"\"}}}],\"scattermapbox\":[{\"type\":\"scattermapbox\",\"marker\":{\"colorbar\":{\"outlinewidth\":0,\"ticks\":\"\"}}}],\"scatterternary\":[{\"type\":\"scatterternary\",\"marker\":{\"colorbar\":{\"outlinewidth\":0,\"ticks\":\"\"}}}],\"scattercarpet\":[{\"type\":\"scattercarpet\",\"marker\":{\"colorbar\":{\"outlinewidth\":0,\"ticks\":\"\"}}}],\"carpet\":[{\"aaxis\":{\"endlinecolor\":\"#2a3f5f\",\"gridcolor\":\"white\",\"linecolor\":\"white\",\"minorgridcolor\":\"white\",\"startlinecolor\":\"#2a3f5f\"},\"baxis\":{\"endlinecolor\":\"#2a3f5f\",\"gridcolor\":\"white\",\"linecolor\":\"white\",\"minorgridcolor\":\"white\",\"startlinecolor\":\"#2a3f5f\"},\"type\":\"carpet\"}],\"table\":[{\"cells\":{\"fill\":{\"color\":\"#EBF0F8\"},\"line\":{\"color\":\"white\"}},\"header\":{\"fill\":{\"color\":\"#C8D4E3\"},\"line\":{\"color\":\"white\"}},\"type\":\"table\"}],\"barpolar\":[{\"marker\":{\"line\":{\"color\":\"#E5ECF6\",\"width\":0.5},\"pattern\":{\"fillmode\":\"overlay\",\"size\":10,\"solidity\":0.2}},\"type\":\"barpolar\"}],\"pie\":[{\"automargin\":true,\"type\":\"pie\"}]},\"layout\":{\"autotypenumbers\":\"strict\",\"colorway\":[\"#636efa\",\"#EF553B\",\"#00cc96\",\"#ab63fa\",\"#FFA15A\",\"#19d3f3\",\"#FF6692\",\"#B6E880\",\"#FF97FF\",\"#FECB52\"],\"font\":{\"color\":\"#2a3f5f\"},\"hovermode\":\"closest\",\"hoverlabel\":{\"align\":\"left\"},\"paper_bgcolor\":\"white\",\"plot_bgcolor\":\"#E5ECF6\",\"polar\":{\"bgcolor\":\"#E5ECF6\",\"angularaxis\":{\"gridcolor\":\"white\",\"linecolor\":\"white\",\"ticks\":\"\"},\"radialaxis\":{\"gridcolor\":\"white\",\"linecolor\":\"white\",\"ticks\":\"\"}},\"ternary\":{\"bgcolor\":\"#E5ECF6\",\"aaxis\":{\"gridcolor\":\"white\",\"linecolor\":\"white\",\"ticks\":\"\"},\"baxis\":{\"gridcolor\":\"white\",\"linecolor\":\"white\",\"ticks\":\"\"},\"caxis\":{\"gridcolor\":\"white\",\"linecolor\":\"white\",\"ticks\":\"\"}},\"coloraxis\":{\"colorbar\":{\"outlinewidth\":0,\"ticks\":\"\"}},\"colorscale\":{\"sequential\":[[0.0,\"#0d0887\"],[0.1111111111111111,\"#46039f\"],[0.2222222222222222,\"#7201a8\"],[0.3333333333333333,\"#9c179e\"],[0.4444444444444444,\"#bd3786\"],[0.5555555555555556,\"#d8576b\"],[0.6666666666666666,\"#ed7953\"],[0.7777777777777778,\"#fb9f3a\"],[0.8888888888888888,\"#fdca26\"],[1.0,\"#f0f921\"]],\"sequentialminus\":[[0.0,\"#0d0887\"],[0.1111111111111111,\"#46039f\"],[0.2222222222222222,\"#7201a8\"],[0.3333333333333333,\"#9c179e\"],[0.4444444444444444,\"#bd3786\"],[0.5555555555555556,\"#d8576b\"],[0.6666666666666666,\"#ed7953\"],[0.7777777777777778,\"#fb9f3a\"],[0.8888888888888888,\"#fdca26\"],[1.0,\"#f0f921\"]],\"diverging\":[[0,\"#8e0152\"],[0.1,\"#c51b7d\"],[0.2,\"#de77ae\"],[0.3,\"#f1b6da\"],[0.4,\"#fde0ef\"],[0.5,\"#f7f7f7\"],[0.6,\"#e6f5d0\"],[0.7,\"#b8e186\"],[0.8,\"#7fbc41\"],[0.9,\"#4d9221\"],[1,\"#276419\"]]},\"xaxis\":{\"gridcolor\":\"white\",\"linecolor\":\"white\",\"ticks\":\"\",\"title\":{\"standoff\":15},\"zerolinecolor\":\"white\",\"automargin\":true,\"zerolinewidth\":2},\"yaxis\":{\"gridcolor\":\"white\",\"linecolor\":\"white\",\"ticks\":\"\",\"title\":{\"standoff\":15},\"zerolinecolor\":\"white\",\"automargin\":true,\"zerolinewidth\":2},\"scene\":{\"xaxis\":{\"backgroundcolor\":\"#E5ECF6\",\"gridcolor\":\"white\",\"linecolor\":\"white\",\"showbackground\":true,\"ticks\":\"\",\"zerolinecolor\":\"white\",\"gridwidth\":2},\"yaxis\":{\"backgroundcolor\":\"#E5ECF6\",\"gridcolor\":\"white\",\"linecolor\":\"white\",\"showbackground\":true,\"ticks\":\"\",\"zerolinecolor\":\"white\",\"gridwidth\":2},\"zaxis\":{\"backgroundcolor\":\"#E5ECF6\",\"gridcolor\":\"white\",\"linecolor\":\"white\",\"showbackground\":true,\"ticks\":\"\",\"zerolinecolor\":\"white\",\"gridwidth\":2}},\"shapedefaults\":{\"line\":{\"color\":\"#2a3f5f\"}},\"annotationdefaults\":{\"arrowcolor\":\"#2a3f5f\",\"arrowhead\":0,\"arrowwidth\":1},\"geo\":{\"bgcolor\":\"white\",\"landcolor\":\"#E5ECF6\",\"subunitcolor\":\"white\",\"showland\":true,\"showlakes\":true,\"lakecolor\":\"white\"},\"title\":{\"x\":0.05},\"mapbox\":{\"style\":\"light\"}}},\"xaxis\":{\"anchor\":\"y\",\"domain\":[0.0,1.0],\"title\":{\"text\":\"pairwise_change\"}},\"yaxis\":{\"anchor\":\"x\",\"domain\":[0.0,1.0],\"title\":{\"text\":\"probability density\"}},\"legend\":{\"tracegroupgap\":0},\"margin\":{\"t\":60},\"barmode\":\"relative\",\"shapes\":[{\"line\":{\"color\":\"black\",\"dash\":\"dash\",\"width\":1},\"type\":\"line\",\"x0\":0.06227106227106227,\"x1\":0.06227106227106227,\"xref\":\"x\",\"y0\":0,\"y1\":1,\"yref\":\"y domain\"},{\"line\":{\"color\":\"red\",\"dash\":\"dash\",\"width\":1},\"type\":\"line\",\"x0\":27.140623656828232,\"x1\":27.140623656828232,\"xref\":\"x\",\"y0\":0,\"y1\":1,\"yref\":\"y domain\"},{\"line\":{\"color\":\"red\",\"dash\":\"dash\",\"width\":1},\"type\":\"line\",\"x0\":-27.140623656828232,\"x1\":-27.140623656828232,\"xref\":\"x\",\"y0\":0,\"y1\":1,\"yref\":\"y domain\"}],\"annotations\":[{\"showarrow\":false,\"text\":\"0.06\",\"x\":0.06227106227106227,\"xanchor\":\"center\",\"xref\":\"x\",\"y\":1,\"yanchor\":\"bottom\",\"yref\":\"y domain\"},{\"showarrow\":false,\"text\":\"\",\"x\":27.140623656828232,\"xanchor\":\"center\",\"xref\":\"x\",\"y\":1,\"yanchor\":\"bottom\",\"yref\":\"y domain\"},{\"showarrow\":false,\"text\":\"\",\"x\":-27.140623656828232,\"xanchor\":\"center\",\"xref\":\"x\",\"y\":1,\"yanchor\":\"bottom\",\"yref\":\"y domain\"}],\"title\":{\"text\":\"DataSet01\\u003cbr\\u003eCondition: \\u003cb\\u003eControl\\u003c\\u002fb\\u003e\\u003cbr\\u003e\"}},                        {\"responsive\": true}                    ).then(function(){\n",
       "                            \n",
       "var gd = document.getElementById('6ba6bfdd-8527-434a-b0be-17dab520210f');\n",
       "var x = new MutationObserver(function (mutations, observer) {{\n",
       "        var display = window.getComputedStyle(gd).display;\n",
       "        if (!display || display === 'none') {{\n",
       "            console.log([gd, 'removed!']);\n",
       "            Plotly.purge(gd);\n",
       "            observer.disconnect();\n",
       "        }}\n",
       "}});\n",
       "\n",
       "// Listen for the removal of the full notebook cells\n",
       "var notebookContainer = gd.closest('#notebook-container');\n",
       "if (notebookContainer) {{\n",
       "    x.observe(notebookContainer, {childList: true});\n",
       "}}\n",
       "\n",
       "// Listen for the clearing of the current output cell\n",
       "var outputEl = gd.closest('.output');\n",
       "if (outputEl) {{\n",
       "    x.observe(outputEl, {childList: true});\n",
       "}}\n",
       "\n",
       "                        })                };                });            </script>        </div>"
      ]
     },
     "metadata": {},
     "output_type": "display_data"
    },
    {
     "data": {
      "application/vnd.plotly.v1+json": {
       "config": {
        "plotlyServerURL": "https://plot.ly"
       },
       "data": [
        {
         "alignmentgroup": "True",
         "bingroup": "x",
         "histnorm": "probability density",
         "hovertemplate": "pairwise_change=%{x}<br>probability density=%{y}<extra></extra>",
         "legendgroup": "",
         "marker": {
          "color": "#636efa",
          "pattern": {
           "shape": ""
          }
         },
         "name": "",
         "offsetgroup": "",
         "orientation": "v",
         "showlegend": false,
         "type": "histogram",
         "x": [
          -3,
          -6,
          -2,
          5,
          -8,
          8,
          -4,
          14,
          3,
          13,
          2,
          1,
          0,
          0,
          -7,
          -1,
          4,
          0,
          -3,
          -5,
          2,
          -5,
          1,
          -2,
          7,
          -15,
          25,
          4,
          4,
          -4,
          4,
          6,
          0,
          1,
          0,
          -3,
          -5,
          3,
          -1,
          7,
          0,
          17,
          4,
          1,
          -2,
          -3,
          4,
          2,
          4,
          -2,
          -1,
          -5,
          3,
          1,
          4,
          -1,
          30,
          3,
          3,
          -4,
          -6,
          5,
          1,
          2,
          -26,
          29,
          -20,
          -20,
          22,
          5,
          -15,
          6,
          10,
          5,
          2,
          -2,
          0,
          4,
          3,
          -3,
          1,
          0,
          -5,
          -1,
          -2,
          -2,
          1,
          3,
          -1,
          -2,
          -1,
          5,
          3,
          0,
          -3,
          5,
          -4,
          2,
          -2,
          5,
          -2,
          -9,
          -1,
          -1,
          18,
          4,
          1,
          -12,
          2,
          4,
          -8,
          -2,
          -13,
          -2,
          9,
          -2,
          -16,
          -3,
          -1,
          -1,
          2,
          0,
          -25,
          6,
          -23,
          19,
          -1,
          4,
          1,
          2,
          2,
          1,
          1,
          2,
          -1,
          0,
          3,
          4,
          -1,
          5,
          2,
          2,
          6,
          -3,
          3,
          3,
          -2,
          -3,
          -6,
          10,
          -2,
          8,
          2,
          3,
          1,
          1,
          7,
          -2,
          5,
          1,
          0,
          7,
          -1,
          4,
          -7,
          2,
          21,
          -21,
          -2,
          9,
          -6,
          9,
          3,
          -1,
          4,
          1,
          0,
          0,
          -4,
          8,
          1,
          0,
          3,
          0,
          7,
          7,
          -8,
          -4,
          12,
          -16,
          0,
          18,
          -14,
          4,
          -2,
          -13,
          -1,
          20
         ],
         "xaxis": "x",
         "yaxis": "y"
        }
       ],
       "layout": {
        "annotations": [
         {
          "showarrow": false,
          "text": "0.73",
          "x": 0.7272727272727273,
          "xanchor": "center",
          "xref": "x",
          "y": 1,
          "yanchor": "bottom",
          "yref": "y domain"
         },
         {
          "showarrow": false,
          "text": "",
          "x": 24.090051442709637,
          "xanchor": "center",
          "xref": "x",
          "y": 1,
          "yanchor": "bottom",
          "yref": "y domain"
         },
         {
          "showarrow": false,
          "text": "",
          "x": -24.090051442709637,
          "xanchor": "center",
          "xref": "x",
          "y": 1,
          "yanchor": "bottom",
          "yref": "y domain"
         }
        ],
        "barmode": "relative",
        "legend": {
         "tracegroupgap": 0
        },
        "margin": {
         "t": 60
        },
        "shapes": [
         {
          "line": {
           "color": "black",
           "dash": "dash",
           "width": 1
          },
          "type": "line",
          "x0": 0.7272727272727273,
          "x1": 0.7272727272727273,
          "xref": "x",
          "y0": 0,
          "y1": 1,
          "yref": "y domain"
         },
         {
          "line": {
           "color": "red",
           "dash": "dash",
           "width": 1
          },
          "type": "line",
          "x0": 24.090051442709637,
          "x1": 24.090051442709637,
          "xref": "x",
          "y0": 0,
          "y1": 1,
          "yref": "y domain"
         },
         {
          "line": {
           "color": "red",
           "dash": "dash",
           "width": 1
          },
          "type": "line",
          "x0": -24.090051442709637,
          "x1": -24.090051442709637,
          "xref": "x",
          "y0": 0,
          "y1": 1,
          "yref": "y domain"
         }
        ],
        "template": {
         "data": {
          "bar": [
           {
            "error_x": {
             "color": "#2a3f5f"
            },
            "error_y": {
             "color": "#2a3f5f"
            },
            "marker": {
             "line": {
              "color": "#E5ECF6",
              "width": 0.5
             },
             "pattern": {
              "fillmode": "overlay",
              "size": 10,
              "solidity": 0.2
             }
            },
            "type": "bar"
           }
          ],
          "barpolar": [
           {
            "marker": {
             "line": {
              "color": "#E5ECF6",
              "width": 0.5
             },
             "pattern": {
              "fillmode": "overlay",
              "size": 10,
              "solidity": 0.2
             }
            },
            "type": "barpolar"
           }
          ],
          "carpet": [
           {
            "aaxis": {
             "endlinecolor": "#2a3f5f",
             "gridcolor": "white",
             "linecolor": "white",
             "minorgridcolor": "white",
             "startlinecolor": "#2a3f5f"
            },
            "baxis": {
             "endlinecolor": "#2a3f5f",
             "gridcolor": "white",
             "linecolor": "white",
             "minorgridcolor": "white",
             "startlinecolor": "#2a3f5f"
            },
            "type": "carpet"
           }
          ],
          "choropleth": [
           {
            "colorbar": {
             "outlinewidth": 0,
             "ticks": ""
            },
            "type": "choropleth"
           }
          ],
          "contour": [
           {
            "colorbar": {
             "outlinewidth": 0,
             "ticks": ""
            },
            "colorscale": [
             [
              0,
              "#0d0887"
             ],
             [
              0.1111111111111111,
              "#46039f"
             ],
             [
              0.2222222222222222,
              "#7201a8"
             ],
             [
              0.3333333333333333,
              "#9c179e"
             ],
             [
              0.4444444444444444,
              "#bd3786"
             ],
             [
              0.5555555555555556,
              "#d8576b"
             ],
             [
              0.6666666666666666,
              "#ed7953"
             ],
             [
              0.7777777777777778,
              "#fb9f3a"
             ],
             [
              0.8888888888888888,
              "#fdca26"
             ],
             [
              1,
              "#f0f921"
             ]
            ],
            "type": "contour"
           }
          ],
          "contourcarpet": [
           {
            "colorbar": {
             "outlinewidth": 0,
             "ticks": ""
            },
            "type": "contourcarpet"
           }
          ],
          "heatmap": [
           {
            "colorbar": {
             "outlinewidth": 0,
             "ticks": ""
            },
            "colorscale": [
             [
              0,
              "#0d0887"
             ],
             [
              0.1111111111111111,
              "#46039f"
             ],
             [
              0.2222222222222222,
              "#7201a8"
             ],
             [
              0.3333333333333333,
              "#9c179e"
             ],
             [
              0.4444444444444444,
              "#bd3786"
             ],
             [
              0.5555555555555556,
              "#d8576b"
             ],
             [
              0.6666666666666666,
              "#ed7953"
             ],
             [
              0.7777777777777778,
              "#fb9f3a"
             ],
             [
              0.8888888888888888,
              "#fdca26"
             ],
             [
              1,
              "#f0f921"
             ]
            ],
            "type": "heatmap"
           }
          ],
          "heatmapgl": [
           {
            "colorbar": {
             "outlinewidth": 0,
             "ticks": ""
            },
            "colorscale": [
             [
              0,
              "#0d0887"
             ],
             [
              0.1111111111111111,
              "#46039f"
             ],
             [
              0.2222222222222222,
              "#7201a8"
             ],
             [
              0.3333333333333333,
              "#9c179e"
             ],
             [
              0.4444444444444444,
              "#bd3786"
             ],
             [
              0.5555555555555556,
              "#d8576b"
             ],
             [
              0.6666666666666666,
              "#ed7953"
             ],
             [
              0.7777777777777778,
              "#fb9f3a"
             ],
             [
              0.8888888888888888,
              "#fdca26"
             ],
             [
              1,
              "#f0f921"
             ]
            ],
            "type": "heatmapgl"
           }
          ],
          "histogram": [
           {
            "marker": {
             "pattern": {
              "fillmode": "overlay",
              "size": 10,
              "solidity": 0.2
             }
            },
            "type": "histogram"
           }
          ],
          "histogram2d": [
           {
            "colorbar": {
             "outlinewidth": 0,
             "ticks": ""
            },
            "colorscale": [
             [
              0,
              "#0d0887"
             ],
             [
              0.1111111111111111,
              "#46039f"
             ],
             [
              0.2222222222222222,
              "#7201a8"
             ],
             [
              0.3333333333333333,
              "#9c179e"
             ],
             [
              0.4444444444444444,
              "#bd3786"
             ],
             [
              0.5555555555555556,
              "#d8576b"
             ],
             [
              0.6666666666666666,
              "#ed7953"
             ],
             [
              0.7777777777777778,
              "#fb9f3a"
             ],
             [
              0.8888888888888888,
              "#fdca26"
             ],
             [
              1,
              "#f0f921"
             ]
            ],
            "type": "histogram2d"
           }
          ],
          "histogram2dcontour": [
           {
            "colorbar": {
             "outlinewidth": 0,
             "ticks": ""
            },
            "colorscale": [
             [
              0,
              "#0d0887"
             ],
             [
              0.1111111111111111,
              "#46039f"
             ],
             [
              0.2222222222222222,
              "#7201a8"
             ],
             [
              0.3333333333333333,
              "#9c179e"
             ],
             [
              0.4444444444444444,
              "#bd3786"
             ],
             [
              0.5555555555555556,
              "#d8576b"
             ],
             [
              0.6666666666666666,
              "#ed7953"
             ],
             [
              0.7777777777777778,
              "#fb9f3a"
             ],
             [
              0.8888888888888888,
              "#fdca26"
             ],
             [
              1,
              "#f0f921"
             ]
            ],
            "type": "histogram2dcontour"
           }
          ],
          "mesh3d": [
           {
            "colorbar": {
             "outlinewidth": 0,
             "ticks": ""
            },
            "type": "mesh3d"
           }
          ],
          "parcoords": [
           {
            "line": {
             "colorbar": {
              "outlinewidth": 0,
              "ticks": ""
             }
            },
            "type": "parcoords"
           }
          ],
          "pie": [
           {
            "automargin": true,
            "type": "pie"
           }
          ],
          "scatter": [
           {
            "fillpattern": {
             "fillmode": "overlay",
             "size": 10,
             "solidity": 0.2
            },
            "type": "scatter"
           }
          ],
          "scatter3d": [
           {
            "line": {
             "colorbar": {
              "outlinewidth": 0,
              "ticks": ""
             }
            },
            "marker": {
             "colorbar": {
              "outlinewidth": 0,
              "ticks": ""
             }
            },
            "type": "scatter3d"
           }
          ],
          "scattercarpet": [
           {
            "marker": {
             "colorbar": {
              "outlinewidth": 0,
              "ticks": ""
             }
            },
            "type": "scattercarpet"
           }
          ],
          "scattergeo": [
           {
            "marker": {
             "colorbar": {
              "outlinewidth": 0,
              "ticks": ""
             }
            },
            "type": "scattergeo"
           }
          ],
          "scattergl": [
           {
            "marker": {
             "colorbar": {
              "outlinewidth": 0,
              "ticks": ""
             }
            },
            "type": "scattergl"
           }
          ],
          "scattermapbox": [
           {
            "marker": {
             "colorbar": {
              "outlinewidth": 0,
              "ticks": ""
             }
            },
            "type": "scattermapbox"
           }
          ],
          "scatterpolar": [
           {
            "marker": {
             "colorbar": {
              "outlinewidth": 0,
              "ticks": ""
             }
            },
            "type": "scatterpolar"
           }
          ],
          "scatterpolargl": [
           {
            "marker": {
             "colorbar": {
              "outlinewidth": 0,
              "ticks": ""
             }
            },
            "type": "scatterpolargl"
           }
          ],
          "scatterternary": [
           {
            "marker": {
             "colorbar": {
              "outlinewidth": 0,
              "ticks": ""
             }
            },
            "type": "scatterternary"
           }
          ],
          "surface": [
           {
            "colorbar": {
             "outlinewidth": 0,
             "ticks": ""
            },
            "colorscale": [
             [
              0,
              "#0d0887"
             ],
             [
              0.1111111111111111,
              "#46039f"
             ],
             [
              0.2222222222222222,
              "#7201a8"
             ],
             [
              0.3333333333333333,
              "#9c179e"
             ],
             [
              0.4444444444444444,
              "#bd3786"
             ],
             [
              0.5555555555555556,
              "#d8576b"
             ],
             [
              0.6666666666666666,
              "#ed7953"
             ],
             [
              0.7777777777777778,
              "#fb9f3a"
             ],
             [
              0.8888888888888888,
              "#fdca26"
             ],
             [
              1,
              "#f0f921"
             ]
            ],
            "type": "surface"
           }
          ],
          "table": [
           {
            "cells": {
             "fill": {
              "color": "#EBF0F8"
             },
             "line": {
              "color": "white"
             }
            },
            "header": {
             "fill": {
              "color": "#C8D4E3"
             },
             "line": {
              "color": "white"
             }
            },
            "type": "table"
           }
          ]
         },
         "layout": {
          "annotationdefaults": {
           "arrowcolor": "#2a3f5f",
           "arrowhead": 0,
           "arrowwidth": 1
          },
          "autotypenumbers": "strict",
          "coloraxis": {
           "colorbar": {
            "outlinewidth": 0,
            "ticks": ""
           }
          },
          "colorscale": {
           "diverging": [
            [
             0,
             "#8e0152"
            ],
            [
             0.1,
             "#c51b7d"
            ],
            [
             0.2,
             "#de77ae"
            ],
            [
             0.3,
             "#f1b6da"
            ],
            [
             0.4,
             "#fde0ef"
            ],
            [
             0.5,
             "#f7f7f7"
            ],
            [
             0.6,
             "#e6f5d0"
            ],
            [
             0.7,
             "#b8e186"
            ],
            [
             0.8,
             "#7fbc41"
            ],
            [
             0.9,
             "#4d9221"
            ],
            [
             1,
             "#276419"
            ]
           ],
           "sequential": [
            [
             0,
             "#0d0887"
            ],
            [
             0.1111111111111111,
             "#46039f"
            ],
            [
             0.2222222222222222,
             "#7201a8"
            ],
            [
             0.3333333333333333,
             "#9c179e"
            ],
            [
             0.4444444444444444,
             "#bd3786"
            ],
            [
             0.5555555555555556,
             "#d8576b"
            ],
            [
             0.6666666666666666,
             "#ed7953"
            ],
            [
             0.7777777777777778,
             "#fb9f3a"
            ],
            [
             0.8888888888888888,
             "#fdca26"
            ],
            [
             1,
             "#f0f921"
            ]
           ],
           "sequentialminus": [
            [
             0,
             "#0d0887"
            ],
            [
             0.1111111111111111,
             "#46039f"
            ],
            [
             0.2222222222222222,
             "#7201a8"
            ],
            [
             0.3333333333333333,
             "#9c179e"
            ],
            [
             0.4444444444444444,
             "#bd3786"
            ],
            [
             0.5555555555555556,
             "#d8576b"
            ],
            [
             0.6666666666666666,
             "#ed7953"
            ],
            [
             0.7777777777777778,
             "#fb9f3a"
            ],
            [
             0.8888888888888888,
             "#fdca26"
            ],
            [
             1,
             "#f0f921"
            ]
           ]
          },
          "colorway": [
           "#636efa",
           "#EF553B",
           "#00cc96",
           "#ab63fa",
           "#FFA15A",
           "#19d3f3",
           "#FF6692",
           "#B6E880",
           "#FF97FF",
           "#FECB52"
          ],
          "font": {
           "color": "#2a3f5f"
          },
          "geo": {
           "bgcolor": "white",
           "lakecolor": "white",
           "landcolor": "#E5ECF6",
           "showlakes": true,
           "showland": true,
           "subunitcolor": "white"
          },
          "hoverlabel": {
           "align": "left"
          },
          "hovermode": "closest",
          "mapbox": {
           "style": "light"
          },
          "paper_bgcolor": "white",
          "plot_bgcolor": "#E5ECF6",
          "polar": {
           "angularaxis": {
            "gridcolor": "white",
            "linecolor": "white",
            "ticks": ""
           },
           "bgcolor": "#E5ECF6",
           "radialaxis": {
            "gridcolor": "white",
            "linecolor": "white",
            "ticks": ""
           }
          },
          "scene": {
           "xaxis": {
            "backgroundcolor": "#E5ECF6",
            "gridcolor": "white",
            "gridwidth": 2,
            "linecolor": "white",
            "showbackground": true,
            "ticks": "",
            "zerolinecolor": "white"
           },
           "yaxis": {
            "backgroundcolor": "#E5ECF6",
            "gridcolor": "white",
            "gridwidth": 2,
            "linecolor": "white",
            "showbackground": true,
            "ticks": "",
            "zerolinecolor": "white"
           },
           "zaxis": {
            "backgroundcolor": "#E5ECF6",
            "gridcolor": "white",
            "gridwidth": 2,
            "linecolor": "white",
            "showbackground": true,
            "ticks": "",
            "zerolinecolor": "white"
           }
          },
          "shapedefaults": {
           "line": {
            "color": "#2a3f5f"
           }
          },
          "ternary": {
           "aaxis": {
            "gridcolor": "white",
            "linecolor": "white",
            "ticks": ""
           },
           "baxis": {
            "gridcolor": "white",
            "linecolor": "white",
            "ticks": ""
           },
           "bgcolor": "#E5ECF6",
           "caxis": {
            "gridcolor": "white",
            "linecolor": "white",
            "ticks": ""
           }
          },
          "title": {
           "x": 0.05
          },
          "xaxis": {
           "automargin": true,
           "gridcolor": "white",
           "linecolor": "white",
           "ticks": "",
           "title": {
            "standoff": 15
           },
           "zerolinecolor": "white",
           "zerolinewidth": 2
          },
          "yaxis": {
           "automargin": true,
           "gridcolor": "white",
           "linecolor": "white",
           "ticks": "",
           "title": {
            "standoff": 15
           },
           "zerolinecolor": "white",
           "zerolinewidth": 2
          }
         }
        },
        "title": {
         "text": "DataSet01<br>Condition: <b>DOI</b><br>"
        },
        "xaxis": {
         "anchor": "y",
         "domain": [
          0,
          1
         ],
         "title": {
          "text": "pairwise_change"
         }
        },
        "yaxis": {
         "anchor": "x",
         "domain": [
          0,
          1
         ],
         "title": {
          "text": "probability density"
         }
        }
       }
      },
      "text/html": [
       "<div>                            <div id=\"892e5eb6-c52e-4ee0-90eb-512b8feea15a\" class=\"plotly-graph-div\" style=\"height:525px; width:100%;\"></div>            <script type=\"text/javascript\">                require([\"plotly\"], function(Plotly) {                    window.PLOTLYENV=window.PLOTLYENV || {};                                    if (document.getElementById(\"892e5eb6-c52e-4ee0-90eb-512b8feea15a\")) {                    Plotly.newPlot(                        \"892e5eb6-c52e-4ee0-90eb-512b8feea15a\",                        [{\"alignmentgroup\":\"True\",\"bingroup\":\"x\",\"histnorm\":\"probability density\",\"hovertemplate\":\"pairwise_change=%{x}\\u003cbr\\u003eprobability density=%{y}\\u003cextra\\u003e\\u003c\\u002fextra\\u003e\",\"legendgroup\":\"\",\"marker\":{\"color\":\"#636efa\",\"pattern\":{\"shape\":\"\"}},\"name\":\"\",\"offsetgroup\":\"\",\"orientation\":\"v\",\"showlegend\":false,\"x\":[-3,-6,-2,5,-8,8,-4,14,3,13,2,1,0,0,-7,-1,4,0,-3,-5,2,-5,1,-2,7,-15,25,4,4,-4,4,6,0,1,0,-3,-5,3,-1,7,0,17,4,1,-2,-3,4,2,4,-2,-1,-5,3,1,4,-1,30,3,3,-4,-6,5,1,2,-26,29,-20,-20,22,5,-15,6,10,5,2,-2,0,4,3,-3,1,0,-5,-1,-2,-2,1,3,-1,-2,-1,5,3,0,-3,5,-4,2,-2,5,-2,-9,-1,-1,18,4,1,-12,2,4,-8,-2,-13,-2,9,-2,-16,-3,-1,-1,2,0,-25,6,-23,19,-1,4,1,2,2,1,1,2,-1,0,3,4,-1,5,2,2,6,-3,3,3,-2,-3,-6,10,-2,8,2,3,1,1,7,-2,5,1,0,7,-1,4,-7,2,21,-21,-2,9,-6,9,3,-1,4,1,0,0,-4,8,1,0,3,0,7,7,-8,-4,12,-16,0,18,-14,4,-2,-13,-1,20],\"xaxis\":\"x\",\"yaxis\":\"y\",\"type\":\"histogram\"}],                        {\"template\":{\"data\":{\"histogram2dcontour\":[{\"type\":\"histogram2dcontour\",\"colorbar\":{\"outlinewidth\":0,\"ticks\":\"\"},\"colorscale\":[[0.0,\"#0d0887\"],[0.1111111111111111,\"#46039f\"],[0.2222222222222222,\"#7201a8\"],[0.3333333333333333,\"#9c179e\"],[0.4444444444444444,\"#bd3786\"],[0.5555555555555556,\"#d8576b\"],[0.6666666666666666,\"#ed7953\"],[0.7777777777777778,\"#fb9f3a\"],[0.8888888888888888,\"#fdca26\"],[1.0,\"#f0f921\"]]}],\"choropleth\":[{\"type\":\"choropleth\",\"colorbar\":{\"outlinewidth\":0,\"ticks\":\"\"}}],\"histogram2d\":[{\"type\":\"histogram2d\",\"colorbar\":{\"outlinewidth\":0,\"ticks\":\"\"},\"colorscale\":[[0.0,\"#0d0887\"],[0.1111111111111111,\"#46039f\"],[0.2222222222222222,\"#7201a8\"],[0.3333333333333333,\"#9c179e\"],[0.4444444444444444,\"#bd3786\"],[0.5555555555555556,\"#d8576b\"],[0.6666666666666666,\"#ed7953\"],[0.7777777777777778,\"#fb9f3a\"],[0.8888888888888888,\"#fdca26\"],[1.0,\"#f0f921\"]]}],\"heatmap\":[{\"type\":\"heatmap\",\"colorbar\":{\"outlinewidth\":0,\"ticks\":\"\"},\"colorscale\":[[0.0,\"#0d0887\"],[0.1111111111111111,\"#46039f\"],[0.2222222222222222,\"#7201a8\"],[0.3333333333333333,\"#9c179e\"],[0.4444444444444444,\"#bd3786\"],[0.5555555555555556,\"#d8576b\"],[0.6666666666666666,\"#ed7953\"],[0.7777777777777778,\"#fb9f3a\"],[0.8888888888888888,\"#fdca26\"],[1.0,\"#f0f921\"]]}],\"heatmapgl\":[{\"type\":\"heatmapgl\",\"colorbar\":{\"outlinewidth\":0,\"ticks\":\"\"},\"colorscale\":[[0.0,\"#0d0887\"],[0.1111111111111111,\"#46039f\"],[0.2222222222222222,\"#7201a8\"],[0.3333333333333333,\"#9c179e\"],[0.4444444444444444,\"#bd3786\"],[0.5555555555555556,\"#d8576b\"],[0.6666666666666666,\"#ed7953\"],[0.7777777777777778,\"#fb9f3a\"],[0.8888888888888888,\"#fdca26\"],[1.0,\"#f0f921\"]]}],\"contourcarpet\":[{\"type\":\"contourcarpet\",\"colorbar\":{\"outlinewidth\":0,\"ticks\":\"\"}}],\"contour\":[{\"type\":\"contour\",\"colorbar\":{\"outlinewidth\":0,\"ticks\":\"\"},\"colorscale\":[[0.0,\"#0d0887\"],[0.1111111111111111,\"#46039f\"],[0.2222222222222222,\"#7201a8\"],[0.3333333333333333,\"#9c179e\"],[0.4444444444444444,\"#bd3786\"],[0.5555555555555556,\"#d8576b\"],[0.6666666666666666,\"#ed7953\"],[0.7777777777777778,\"#fb9f3a\"],[0.8888888888888888,\"#fdca26\"],[1.0,\"#f0f921\"]]}],\"surface\":[{\"type\":\"surface\",\"colorbar\":{\"outlinewidth\":0,\"ticks\":\"\"},\"colorscale\":[[0.0,\"#0d0887\"],[0.1111111111111111,\"#46039f\"],[0.2222222222222222,\"#7201a8\"],[0.3333333333333333,\"#9c179e\"],[0.4444444444444444,\"#bd3786\"],[0.5555555555555556,\"#d8576b\"],[0.6666666666666666,\"#ed7953\"],[0.7777777777777778,\"#fb9f3a\"],[0.8888888888888888,\"#fdca26\"],[1.0,\"#f0f921\"]]}],\"mesh3d\":[{\"type\":\"mesh3d\",\"colorbar\":{\"outlinewidth\":0,\"ticks\":\"\"}}],\"scatter\":[{\"fillpattern\":{\"fillmode\":\"overlay\",\"size\":10,\"solidity\":0.2},\"type\":\"scatter\"}],\"parcoords\":[{\"type\":\"parcoords\",\"line\":{\"colorbar\":{\"outlinewidth\":0,\"ticks\":\"\"}}}],\"scatterpolargl\":[{\"type\":\"scatterpolargl\",\"marker\":{\"colorbar\":{\"outlinewidth\":0,\"ticks\":\"\"}}}],\"bar\":[{\"error_x\":{\"color\":\"#2a3f5f\"},\"error_y\":{\"color\":\"#2a3f5f\"},\"marker\":{\"line\":{\"color\":\"#E5ECF6\",\"width\":0.5},\"pattern\":{\"fillmode\":\"overlay\",\"size\":10,\"solidity\":0.2}},\"type\":\"bar\"}],\"scattergeo\":[{\"type\":\"scattergeo\",\"marker\":{\"colorbar\":{\"outlinewidth\":0,\"ticks\":\"\"}}}],\"scatterpolar\":[{\"type\":\"scatterpolar\",\"marker\":{\"colorbar\":{\"outlinewidth\":0,\"ticks\":\"\"}}}],\"histogram\":[{\"marker\":{\"pattern\":{\"fillmode\":\"overlay\",\"size\":10,\"solidity\":0.2}},\"type\":\"histogram\"}],\"scattergl\":[{\"type\":\"scattergl\",\"marker\":{\"colorbar\":{\"outlinewidth\":0,\"ticks\":\"\"}}}],\"scatter3d\":[{\"type\":\"scatter3d\",\"line\":{\"colorbar\":{\"outlinewidth\":0,\"ticks\":\"\"}},\"marker\":{\"colorbar\":{\"outlinewidth\":0,\"ticks\":\"\"}}}],\"scattermapbox\":[{\"type\":\"scattermapbox\",\"marker\":{\"colorbar\":{\"outlinewidth\":0,\"ticks\":\"\"}}}],\"scatterternary\":[{\"type\":\"scatterternary\",\"marker\":{\"colorbar\":{\"outlinewidth\":0,\"ticks\":\"\"}}}],\"scattercarpet\":[{\"type\":\"scattercarpet\",\"marker\":{\"colorbar\":{\"outlinewidth\":0,\"ticks\":\"\"}}}],\"carpet\":[{\"aaxis\":{\"endlinecolor\":\"#2a3f5f\",\"gridcolor\":\"white\",\"linecolor\":\"white\",\"minorgridcolor\":\"white\",\"startlinecolor\":\"#2a3f5f\"},\"baxis\":{\"endlinecolor\":\"#2a3f5f\",\"gridcolor\":\"white\",\"linecolor\":\"white\",\"minorgridcolor\":\"white\",\"startlinecolor\":\"#2a3f5f\"},\"type\":\"carpet\"}],\"table\":[{\"cells\":{\"fill\":{\"color\":\"#EBF0F8\"},\"line\":{\"color\":\"white\"}},\"header\":{\"fill\":{\"color\":\"#C8D4E3\"},\"line\":{\"color\":\"white\"}},\"type\":\"table\"}],\"barpolar\":[{\"marker\":{\"line\":{\"color\":\"#E5ECF6\",\"width\":0.5},\"pattern\":{\"fillmode\":\"overlay\",\"size\":10,\"solidity\":0.2}},\"type\":\"barpolar\"}],\"pie\":[{\"automargin\":true,\"type\":\"pie\"}]},\"layout\":{\"autotypenumbers\":\"strict\",\"colorway\":[\"#636efa\",\"#EF553B\",\"#00cc96\",\"#ab63fa\",\"#FFA15A\",\"#19d3f3\",\"#FF6692\",\"#B6E880\",\"#FF97FF\",\"#FECB52\"],\"font\":{\"color\":\"#2a3f5f\"},\"hovermode\":\"closest\",\"hoverlabel\":{\"align\":\"left\"},\"paper_bgcolor\":\"white\",\"plot_bgcolor\":\"#E5ECF6\",\"polar\":{\"bgcolor\":\"#E5ECF6\",\"angularaxis\":{\"gridcolor\":\"white\",\"linecolor\":\"white\",\"ticks\":\"\"},\"radialaxis\":{\"gridcolor\":\"white\",\"linecolor\":\"white\",\"ticks\":\"\"}},\"ternary\":{\"bgcolor\":\"#E5ECF6\",\"aaxis\":{\"gridcolor\":\"white\",\"linecolor\":\"white\",\"ticks\":\"\"},\"baxis\":{\"gridcolor\":\"white\",\"linecolor\":\"white\",\"ticks\":\"\"},\"caxis\":{\"gridcolor\":\"white\",\"linecolor\":\"white\",\"ticks\":\"\"}},\"coloraxis\":{\"colorbar\":{\"outlinewidth\":0,\"ticks\":\"\"}},\"colorscale\":{\"sequential\":[[0.0,\"#0d0887\"],[0.1111111111111111,\"#46039f\"],[0.2222222222222222,\"#7201a8\"],[0.3333333333333333,\"#9c179e\"],[0.4444444444444444,\"#bd3786\"],[0.5555555555555556,\"#d8576b\"],[0.6666666666666666,\"#ed7953\"],[0.7777777777777778,\"#fb9f3a\"],[0.8888888888888888,\"#fdca26\"],[1.0,\"#f0f921\"]],\"sequentialminus\":[[0.0,\"#0d0887\"],[0.1111111111111111,\"#46039f\"],[0.2222222222222222,\"#7201a8\"],[0.3333333333333333,\"#9c179e\"],[0.4444444444444444,\"#bd3786\"],[0.5555555555555556,\"#d8576b\"],[0.6666666666666666,\"#ed7953\"],[0.7777777777777778,\"#fb9f3a\"],[0.8888888888888888,\"#fdca26\"],[1.0,\"#f0f921\"]],\"diverging\":[[0,\"#8e0152\"],[0.1,\"#c51b7d\"],[0.2,\"#de77ae\"],[0.3,\"#f1b6da\"],[0.4,\"#fde0ef\"],[0.5,\"#f7f7f7\"],[0.6,\"#e6f5d0\"],[0.7,\"#b8e186\"],[0.8,\"#7fbc41\"],[0.9,\"#4d9221\"],[1,\"#276419\"]]},\"xaxis\":{\"gridcolor\":\"white\",\"linecolor\":\"white\",\"ticks\":\"\",\"title\":{\"standoff\":15},\"zerolinecolor\":\"white\",\"automargin\":true,\"zerolinewidth\":2},\"yaxis\":{\"gridcolor\":\"white\",\"linecolor\":\"white\",\"ticks\":\"\",\"title\":{\"standoff\":15},\"zerolinecolor\":\"white\",\"automargin\":true,\"zerolinewidth\":2},\"scene\":{\"xaxis\":{\"backgroundcolor\":\"#E5ECF6\",\"gridcolor\":\"white\",\"linecolor\":\"white\",\"showbackground\":true,\"ticks\":\"\",\"zerolinecolor\":\"white\",\"gridwidth\":2},\"yaxis\":{\"backgroundcolor\":\"#E5ECF6\",\"gridcolor\":\"white\",\"linecolor\":\"white\",\"showbackground\":true,\"ticks\":\"\",\"zerolinecolor\":\"white\",\"gridwidth\":2},\"zaxis\":{\"backgroundcolor\":\"#E5ECF6\",\"gridcolor\":\"white\",\"linecolor\":\"white\",\"showbackground\":true,\"ticks\":\"\",\"zerolinecolor\":\"white\",\"gridwidth\":2}},\"shapedefaults\":{\"line\":{\"color\":\"#2a3f5f\"}},\"annotationdefaults\":{\"arrowcolor\":\"#2a3f5f\",\"arrowhead\":0,\"arrowwidth\":1},\"geo\":{\"bgcolor\":\"white\",\"landcolor\":\"#E5ECF6\",\"subunitcolor\":\"white\",\"showland\":true,\"showlakes\":true,\"lakecolor\":\"white\"},\"title\":{\"x\":0.05},\"mapbox\":{\"style\":\"light\"}}},\"xaxis\":{\"anchor\":\"y\",\"domain\":[0.0,1.0],\"title\":{\"text\":\"pairwise_change\"}},\"yaxis\":{\"anchor\":\"x\",\"domain\":[0.0,1.0],\"title\":{\"text\":\"probability density\"}},\"legend\":{\"tracegroupgap\":0},\"margin\":{\"t\":60},\"barmode\":\"relative\",\"shapes\":[{\"line\":{\"color\":\"black\",\"dash\":\"dash\",\"width\":1},\"type\":\"line\",\"x0\":0.7272727272727273,\"x1\":0.7272727272727273,\"xref\":\"x\",\"y0\":0,\"y1\":1,\"yref\":\"y domain\"},{\"line\":{\"color\":\"red\",\"dash\":\"dash\",\"width\":1},\"type\":\"line\",\"x0\":24.090051442709637,\"x1\":24.090051442709637,\"xref\":\"x\",\"y0\":0,\"y1\":1,\"yref\":\"y domain\"},{\"line\":{\"color\":\"red\",\"dash\":\"dash\",\"width\":1},\"type\":\"line\",\"x0\":-24.090051442709637,\"x1\":-24.090051442709637,\"xref\":\"x\",\"y0\":0,\"y1\":1,\"yref\":\"y domain\"}],\"annotations\":[{\"showarrow\":false,\"text\":\"0.73\",\"x\":0.7272727272727273,\"xanchor\":\"center\",\"xref\":\"x\",\"y\":1,\"yanchor\":\"bottom\",\"yref\":\"y domain\"},{\"showarrow\":false,\"text\":\"\",\"x\":24.090051442709637,\"xanchor\":\"center\",\"xref\":\"x\",\"y\":1,\"yanchor\":\"bottom\",\"yref\":\"y domain\"},{\"showarrow\":false,\"text\":\"\",\"x\":-24.090051442709637,\"xanchor\":\"center\",\"xref\":\"x\",\"y\":1,\"yanchor\":\"bottom\",\"yref\":\"y domain\"}],\"title\":{\"text\":\"DataSet01\\u003cbr\\u003eCondition: \\u003cb\\u003eDOI\\u003c\\u002fb\\u003e\\u003cbr\\u003e\"}},                        {\"responsive\": true}                    ).then(function(){\n",
       "                            \n",
       "var gd = document.getElementById('892e5eb6-c52e-4ee0-90eb-512b8feea15a');\n",
       "var x = new MutationObserver(function (mutations, observer) {{\n",
       "        var display = window.getComputedStyle(gd).display;\n",
       "        if (!display || display === 'none') {{\n",
       "            console.log([gd, 'removed!']);\n",
       "            Plotly.purge(gd);\n",
       "            observer.disconnect();\n",
       "        }}\n",
       "}});\n",
       "\n",
       "// Listen for the removal of the full notebook cells\n",
       "var notebookContainer = gd.closest('#notebook-container');\n",
       "if (notebookContainer) {{\n",
       "    x.observe(notebookContainer, {childList: true});\n",
       "}}\n",
       "\n",
       "// Listen for the clearing of the current output cell\n",
       "var outputEl = gd.closest('.output');\n",
       "if (outputEl) {{\n",
       "    x.observe(outputEl, {childList: true});\n",
       "}}\n",
       "\n",
       "                        })                };                });            </script>        </div>"
      ]
     },
     "metadata": {},
     "output_type": "display_data"
    }
   ],
   "source": [
    "dataset = 'DataSet01'\n",
    "pairwise_change_histogram(dataset=dataset, condition='Control')\n",
    "pairwise_change_histogram(dataset=dataset, condition='DOI')"
   ]
  },
  {
   "cell_type": "code",
   "execution_count": 286,
   "metadata": {},
   "outputs": [
    {
     "data": {
      "application/vnd.plotly.v1+json": {
       "config": {
        "plotlyServerURL": "https://plot.ly"
       },
       "data": [
        {
         "alignmentgroup": "True",
         "bingroup": "x",
         "histnorm": "probability density",
         "hovertemplate": "pairwise_change=%{x}<br>probability density=%{y}<extra></extra>",
         "legendgroup": "",
         "marker": {
          "color": "#636efa",
          "pattern": {
           "shape": ""
          }
         },
         "name": "",
         "offsetgroup": "",
         "orientation": "v",
         "showlegend": false,
         "type": "histogram",
         "x": [
          -2,
          3,
          -2,
          2,
          3,
          3,
          -1,
          0,
          2,
          5,
          8,
          -1,
          -2,
          5,
          3,
          2,
          2,
          -1,
          -3,
          -3,
          10,
          -2,
          26,
          -10,
          5,
          -4,
          -10,
          3,
          -4,
          5,
          -2,
          3,
          6,
          7,
          -1,
          -10,
          6,
          10,
          -15,
          -1,
          11,
          -3,
          -4,
          9,
          7,
          -16,
          0,
          3,
          7,
          21,
          17,
          -5,
          2,
          1,
          -8,
          1,
          0,
          -3,
          2,
          1,
          1,
          -2,
          3,
          -1,
          1,
          26,
          2,
          1,
          3,
          -1,
          2,
          5,
          3,
          -25,
          22,
          -4,
          3,
          0,
          -3,
          2,
          2,
          5,
          -5,
          5,
          3,
          -2,
          -3,
          -9,
          -26,
          18,
          15,
          5,
          -1,
          4,
          7,
          1,
          5,
          1,
          -1,
          0,
          -2,
          1,
          -3,
          -1,
          -2,
          -5,
          9,
          -4,
          -12,
          7,
          1,
          14,
          29,
          1,
          -2,
          5,
          1,
          -12,
          5,
          -17,
          4,
          -12,
          0,
          7,
          -12,
          0,
          13,
          -9,
          -3,
          4,
          -4,
          -20,
          11,
          -9,
          -3,
          -12,
          -10,
          31,
          0,
          2,
          0,
          2,
          4,
          -5,
          1,
          -3,
          -1,
          -5,
          6,
          0,
          2,
          -2,
          -2,
          -15,
          -1,
          23,
          -4,
          3,
          -4,
          0,
          -1,
          -3,
          -14,
          12,
          -19,
          1,
          -5,
          2,
          -4,
          -3,
          -3,
          5,
          -5,
          0,
          1,
          -2,
          -1,
          -3,
          -4,
          2,
          2,
          0,
          -4,
          25,
          -22,
          -5,
          1,
          0,
          0,
          -12,
          4,
          -2,
          -5,
          -1,
          2,
          -1,
          1,
          3,
          11,
          -2,
          2,
          -5,
          4,
          -12,
          -1,
          -6,
          -3,
          -3,
          5,
          0,
          20,
          3,
          -5,
          9,
          -9,
          -3,
          5,
          -4,
          10,
          -1,
          -6,
          38,
          11,
          1,
          -1,
          -6,
          12,
          -12,
          -1,
          -1,
          -3,
          9,
          -2,
          0,
          -2,
          0,
          2,
          -5,
          5,
          -3,
          -3,
          0,
          2,
          3,
          -1,
          0,
          3,
          0,
          1,
          1,
          4,
          1,
          3,
          -3,
          -2,
          11,
          -3,
          -2,
          0,
          0,
          0,
          -28,
          0,
          2,
          1,
          -1,
          0,
          -8,
          1,
          -6,
          0,
          3,
          36,
          -6,
          8,
          -2,
          2,
          2,
          -1,
          2,
          0,
          2,
          1,
          1,
          -2,
          -1,
          -2,
          -4,
          -1,
          0,
          -3,
          -2,
          -3,
          -3,
          15,
          -1,
          -3,
          -2,
          4,
          1,
          0,
          -1,
          0,
          11,
          -4,
          5,
          0,
          12,
          5,
          -4,
          10,
          1,
          4,
          9,
          -1,
          3,
          1,
          6,
          1,
          3,
          12,
          1,
          4,
          1,
          -9,
          -3,
          3,
          -5,
          -2,
          -27,
          1,
          2,
          -1,
          4,
          -1,
          1,
          2,
          6,
          -2,
          6,
          1,
          -2,
          3,
          -7,
          0,
          1,
          -2,
          6,
          7,
          0,
          1,
          -4,
          -18,
          1,
          -1,
          1,
          2,
          -3,
          0,
          -9,
          -2,
          0,
          -2,
          2,
          6,
          -3,
          0,
          1,
          -1,
          -4,
          4,
          -4,
          -3,
          6,
          0,
          5,
          -1,
          -5,
          30,
          0,
          2,
          1,
          2,
          -2,
          -3,
          4,
          2,
          3,
          2,
          1,
          -8,
          2,
          4,
          -4,
          2,
          -3,
          3,
          3,
          -4,
          -3,
          -3,
          -2,
          3,
          -16,
          0,
          -28,
          6,
          0,
          -2,
          8,
          -7,
          -8,
          3,
          11,
          -10,
          7,
          11,
          6,
          1,
          -3,
          -1,
          16,
          -18,
          5,
          1,
          -3,
          8,
          4,
          3,
          36,
          8,
          0,
          7,
          6,
          2,
          5,
          10,
          1,
          33,
          -13,
          -7,
          6,
          -16,
          6,
          14,
          4,
          -6,
          8,
          5,
          5,
          0,
          -6,
          2,
          2,
          4,
          -11,
          2,
          2,
          -4,
          -17,
          -1,
          1,
          9,
          -7,
          -1,
          8,
          -7,
          -1,
          5,
          -7,
          -1,
          -18,
          2,
          2,
          -13,
          14,
          -9,
          -4,
          0,
          -11,
          -1,
          1,
          -8,
          -3,
          1,
          -2,
          -13,
          1,
          3,
          -4,
          -1,
          0,
          -2,
          3,
          -1,
          0,
          -2,
          -3,
          -3,
          1,
          0,
          4,
          -5,
          3,
          3,
          1,
          0,
          -1,
          2,
          0,
          27,
          3,
          -1,
          -3,
          3,
          -1,
          -1,
          3,
          0,
          1,
          -5,
          -2,
          3,
          2,
          -3,
          7,
          0,
          -1,
          1,
          0,
          0,
          -3,
          -3,
          -1,
          1,
          -6,
          0,
          7,
          -4,
          4,
          5,
          -7,
          2,
          -1,
          4,
          -4,
          -2,
          -7,
          -2,
          -4,
          1,
          -4,
          2,
          -2,
          -3,
          -1,
          -3,
          5,
          6,
          -1,
          4,
          1,
          2,
          1,
          -5,
          0,
          0,
          5,
          -3,
          0,
          -30,
          29,
          -4,
          -1,
          1,
          1,
          2,
          -6,
          2,
          6,
          0,
          -7,
          2,
          -6,
          -2,
          0,
          1,
          0,
          4,
          1,
          -1,
          3,
          -1,
          -3,
          0,
          -1,
          -7,
          20,
          -13,
          9,
          1,
          -3,
          0,
          8,
          3,
          -3,
          1,
          4,
          -1,
          5,
          -1,
          2,
          2,
          0,
          2,
          -2,
          3,
          -20,
          -2,
          -1,
          3,
          2,
          -1,
          -6,
          2,
          -2,
          -1,
          16,
          -1,
          -6,
          -3,
          5,
          -3,
          0,
          -2,
          -16,
          2,
          7,
          -59,
          1,
          4,
          0,
          0,
          -3,
          -30
         ],
         "xaxis": "x",
         "yaxis": "y"
        }
       ],
       "layout": {
        "annotations": [
         {
          "showarrow": false,
          "text": "0.24",
          "x": 0.23565891472868217,
          "xanchor": "center",
          "xref": "x",
          "y": 1,
          "yanchor": "bottom",
          "yref": "y domain"
         },
         {
          "showarrow": false,
          "text": "",
          "x": 24.109106600877652,
          "xanchor": "center",
          "xref": "x",
          "y": 1,
          "yanchor": "bottom",
          "yref": "y domain"
         },
         {
          "showarrow": false,
          "text": "",
          "x": -24.109106600877652,
          "xanchor": "center",
          "xref": "x",
          "y": 1,
          "yanchor": "bottom",
          "yref": "y domain"
         }
        ],
        "barmode": "relative",
        "legend": {
         "tracegroupgap": 0
        },
        "margin": {
         "t": 60
        },
        "shapes": [
         {
          "line": {
           "color": "black",
           "dash": "dash",
           "width": 1
          },
          "type": "line",
          "x0": 0.23565891472868217,
          "x1": 0.23565891472868217,
          "xref": "x",
          "y0": 0,
          "y1": 1,
          "yref": "y domain"
         },
         {
          "line": {
           "color": "red",
           "dash": "dash",
           "width": 1
          },
          "type": "line",
          "x0": 24.109106600877652,
          "x1": 24.109106600877652,
          "xref": "x",
          "y0": 0,
          "y1": 1,
          "yref": "y domain"
         },
         {
          "line": {
           "color": "red",
           "dash": "dash",
           "width": 1
          },
          "type": "line",
          "x0": -24.109106600877652,
          "x1": -24.109106600877652,
          "xref": "x",
          "y0": 0,
          "y1": 1,
          "yref": "y domain"
         }
        ],
        "template": {
         "data": {
          "bar": [
           {
            "error_x": {
             "color": "#2a3f5f"
            },
            "error_y": {
             "color": "#2a3f5f"
            },
            "marker": {
             "line": {
              "color": "#E5ECF6",
              "width": 0.5
             },
             "pattern": {
              "fillmode": "overlay",
              "size": 10,
              "solidity": 0.2
             }
            },
            "type": "bar"
           }
          ],
          "barpolar": [
           {
            "marker": {
             "line": {
              "color": "#E5ECF6",
              "width": 0.5
             },
             "pattern": {
              "fillmode": "overlay",
              "size": 10,
              "solidity": 0.2
             }
            },
            "type": "barpolar"
           }
          ],
          "carpet": [
           {
            "aaxis": {
             "endlinecolor": "#2a3f5f",
             "gridcolor": "white",
             "linecolor": "white",
             "minorgridcolor": "white",
             "startlinecolor": "#2a3f5f"
            },
            "baxis": {
             "endlinecolor": "#2a3f5f",
             "gridcolor": "white",
             "linecolor": "white",
             "minorgridcolor": "white",
             "startlinecolor": "#2a3f5f"
            },
            "type": "carpet"
           }
          ],
          "choropleth": [
           {
            "colorbar": {
             "outlinewidth": 0,
             "ticks": ""
            },
            "type": "choropleth"
           }
          ],
          "contour": [
           {
            "colorbar": {
             "outlinewidth": 0,
             "ticks": ""
            },
            "colorscale": [
             [
              0,
              "#0d0887"
             ],
             [
              0.1111111111111111,
              "#46039f"
             ],
             [
              0.2222222222222222,
              "#7201a8"
             ],
             [
              0.3333333333333333,
              "#9c179e"
             ],
             [
              0.4444444444444444,
              "#bd3786"
             ],
             [
              0.5555555555555556,
              "#d8576b"
             ],
             [
              0.6666666666666666,
              "#ed7953"
             ],
             [
              0.7777777777777778,
              "#fb9f3a"
             ],
             [
              0.8888888888888888,
              "#fdca26"
             ],
             [
              1,
              "#f0f921"
             ]
            ],
            "type": "contour"
           }
          ],
          "contourcarpet": [
           {
            "colorbar": {
             "outlinewidth": 0,
             "ticks": ""
            },
            "type": "contourcarpet"
           }
          ],
          "heatmap": [
           {
            "colorbar": {
             "outlinewidth": 0,
             "ticks": ""
            },
            "colorscale": [
             [
              0,
              "#0d0887"
             ],
             [
              0.1111111111111111,
              "#46039f"
             ],
             [
              0.2222222222222222,
              "#7201a8"
             ],
             [
              0.3333333333333333,
              "#9c179e"
             ],
             [
              0.4444444444444444,
              "#bd3786"
             ],
             [
              0.5555555555555556,
              "#d8576b"
             ],
             [
              0.6666666666666666,
              "#ed7953"
             ],
             [
              0.7777777777777778,
              "#fb9f3a"
             ],
             [
              0.8888888888888888,
              "#fdca26"
             ],
             [
              1,
              "#f0f921"
             ]
            ],
            "type": "heatmap"
           }
          ],
          "heatmapgl": [
           {
            "colorbar": {
             "outlinewidth": 0,
             "ticks": ""
            },
            "colorscale": [
             [
              0,
              "#0d0887"
             ],
             [
              0.1111111111111111,
              "#46039f"
             ],
             [
              0.2222222222222222,
              "#7201a8"
             ],
             [
              0.3333333333333333,
              "#9c179e"
             ],
             [
              0.4444444444444444,
              "#bd3786"
             ],
             [
              0.5555555555555556,
              "#d8576b"
             ],
             [
              0.6666666666666666,
              "#ed7953"
             ],
             [
              0.7777777777777778,
              "#fb9f3a"
             ],
             [
              0.8888888888888888,
              "#fdca26"
             ],
             [
              1,
              "#f0f921"
             ]
            ],
            "type": "heatmapgl"
           }
          ],
          "histogram": [
           {
            "marker": {
             "pattern": {
              "fillmode": "overlay",
              "size": 10,
              "solidity": 0.2
             }
            },
            "type": "histogram"
           }
          ],
          "histogram2d": [
           {
            "colorbar": {
             "outlinewidth": 0,
             "ticks": ""
            },
            "colorscale": [
             [
              0,
              "#0d0887"
             ],
             [
              0.1111111111111111,
              "#46039f"
             ],
             [
              0.2222222222222222,
              "#7201a8"
             ],
             [
              0.3333333333333333,
              "#9c179e"
             ],
             [
              0.4444444444444444,
              "#bd3786"
             ],
             [
              0.5555555555555556,
              "#d8576b"
             ],
             [
              0.6666666666666666,
              "#ed7953"
             ],
             [
              0.7777777777777778,
              "#fb9f3a"
             ],
             [
              0.8888888888888888,
              "#fdca26"
             ],
             [
              1,
              "#f0f921"
             ]
            ],
            "type": "histogram2d"
           }
          ],
          "histogram2dcontour": [
           {
            "colorbar": {
             "outlinewidth": 0,
             "ticks": ""
            },
            "colorscale": [
             [
              0,
              "#0d0887"
             ],
             [
              0.1111111111111111,
              "#46039f"
             ],
             [
              0.2222222222222222,
              "#7201a8"
             ],
             [
              0.3333333333333333,
              "#9c179e"
             ],
             [
              0.4444444444444444,
              "#bd3786"
             ],
             [
              0.5555555555555556,
              "#d8576b"
             ],
             [
              0.6666666666666666,
              "#ed7953"
             ],
             [
              0.7777777777777778,
              "#fb9f3a"
             ],
             [
              0.8888888888888888,
              "#fdca26"
             ],
             [
              1,
              "#f0f921"
             ]
            ],
            "type": "histogram2dcontour"
           }
          ],
          "mesh3d": [
           {
            "colorbar": {
             "outlinewidth": 0,
             "ticks": ""
            },
            "type": "mesh3d"
           }
          ],
          "parcoords": [
           {
            "line": {
             "colorbar": {
              "outlinewidth": 0,
              "ticks": ""
             }
            },
            "type": "parcoords"
           }
          ],
          "pie": [
           {
            "automargin": true,
            "type": "pie"
           }
          ],
          "scatter": [
           {
            "fillpattern": {
             "fillmode": "overlay",
             "size": 10,
             "solidity": 0.2
            },
            "type": "scatter"
           }
          ],
          "scatter3d": [
           {
            "line": {
             "colorbar": {
              "outlinewidth": 0,
              "ticks": ""
             }
            },
            "marker": {
             "colorbar": {
              "outlinewidth": 0,
              "ticks": ""
             }
            },
            "type": "scatter3d"
           }
          ],
          "scattercarpet": [
           {
            "marker": {
             "colorbar": {
              "outlinewidth": 0,
              "ticks": ""
             }
            },
            "type": "scattercarpet"
           }
          ],
          "scattergeo": [
           {
            "marker": {
             "colorbar": {
              "outlinewidth": 0,
              "ticks": ""
             }
            },
            "type": "scattergeo"
           }
          ],
          "scattergl": [
           {
            "marker": {
             "colorbar": {
              "outlinewidth": 0,
              "ticks": ""
             }
            },
            "type": "scattergl"
           }
          ],
          "scattermapbox": [
           {
            "marker": {
             "colorbar": {
              "outlinewidth": 0,
              "ticks": ""
             }
            },
            "type": "scattermapbox"
           }
          ],
          "scatterpolar": [
           {
            "marker": {
             "colorbar": {
              "outlinewidth": 0,
              "ticks": ""
             }
            },
            "type": "scatterpolar"
           }
          ],
          "scatterpolargl": [
           {
            "marker": {
             "colorbar": {
              "outlinewidth": 0,
              "ticks": ""
             }
            },
            "type": "scatterpolargl"
           }
          ],
          "scatterternary": [
           {
            "marker": {
             "colorbar": {
              "outlinewidth": 0,
              "ticks": ""
             }
            },
            "type": "scatterternary"
           }
          ],
          "surface": [
           {
            "colorbar": {
             "outlinewidth": 0,
             "ticks": ""
            },
            "colorscale": [
             [
              0,
              "#0d0887"
             ],
             [
              0.1111111111111111,
              "#46039f"
             ],
             [
              0.2222222222222222,
              "#7201a8"
             ],
             [
              0.3333333333333333,
              "#9c179e"
             ],
             [
              0.4444444444444444,
              "#bd3786"
             ],
             [
              0.5555555555555556,
              "#d8576b"
             ],
             [
              0.6666666666666666,
              "#ed7953"
             ],
             [
              0.7777777777777778,
              "#fb9f3a"
             ],
             [
              0.8888888888888888,
              "#fdca26"
             ],
             [
              1,
              "#f0f921"
             ]
            ],
            "type": "surface"
           }
          ],
          "table": [
           {
            "cells": {
             "fill": {
              "color": "#EBF0F8"
             },
             "line": {
              "color": "white"
             }
            },
            "header": {
             "fill": {
              "color": "#C8D4E3"
             },
             "line": {
              "color": "white"
             }
            },
            "type": "table"
           }
          ]
         },
         "layout": {
          "annotationdefaults": {
           "arrowcolor": "#2a3f5f",
           "arrowhead": 0,
           "arrowwidth": 1
          },
          "autotypenumbers": "strict",
          "coloraxis": {
           "colorbar": {
            "outlinewidth": 0,
            "ticks": ""
           }
          },
          "colorscale": {
           "diverging": [
            [
             0,
             "#8e0152"
            ],
            [
             0.1,
             "#c51b7d"
            ],
            [
             0.2,
             "#de77ae"
            ],
            [
             0.3,
             "#f1b6da"
            ],
            [
             0.4,
             "#fde0ef"
            ],
            [
             0.5,
             "#f7f7f7"
            ],
            [
             0.6,
             "#e6f5d0"
            ],
            [
             0.7,
             "#b8e186"
            ],
            [
             0.8,
             "#7fbc41"
            ],
            [
             0.9,
             "#4d9221"
            ],
            [
             1,
             "#276419"
            ]
           ],
           "sequential": [
            [
             0,
             "#0d0887"
            ],
            [
             0.1111111111111111,
             "#46039f"
            ],
            [
             0.2222222222222222,
             "#7201a8"
            ],
            [
             0.3333333333333333,
             "#9c179e"
            ],
            [
             0.4444444444444444,
             "#bd3786"
            ],
            [
             0.5555555555555556,
             "#d8576b"
            ],
            [
             0.6666666666666666,
             "#ed7953"
            ],
            [
             0.7777777777777778,
             "#fb9f3a"
            ],
            [
             0.8888888888888888,
             "#fdca26"
            ],
            [
             1,
             "#f0f921"
            ]
           ],
           "sequentialminus": [
            [
             0,
             "#0d0887"
            ],
            [
             0.1111111111111111,
             "#46039f"
            ],
            [
             0.2222222222222222,
             "#7201a8"
            ],
            [
             0.3333333333333333,
             "#9c179e"
            ],
            [
             0.4444444444444444,
             "#bd3786"
            ],
            [
             0.5555555555555556,
             "#d8576b"
            ],
            [
             0.6666666666666666,
             "#ed7953"
            ],
            [
             0.7777777777777778,
             "#fb9f3a"
            ],
            [
             0.8888888888888888,
             "#fdca26"
            ],
            [
             1,
             "#f0f921"
            ]
           ]
          },
          "colorway": [
           "#636efa",
           "#EF553B",
           "#00cc96",
           "#ab63fa",
           "#FFA15A",
           "#19d3f3",
           "#FF6692",
           "#B6E880",
           "#FF97FF",
           "#FECB52"
          ],
          "font": {
           "color": "#2a3f5f"
          },
          "geo": {
           "bgcolor": "white",
           "lakecolor": "white",
           "landcolor": "#E5ECF6",
           "showlakes": true,
           "showland": true,
           "subunitcolor": "white"
          },
          "hoverlabel": {
           "align": "left"
          },
          "hovermode": "closest",
          "mapbox": {
           "style": "light"
          },
          "paper_bgcolor": "white",
          "plot_bgcolor": "#E5ECF6",
          "polar": {
           "angularaxis": {
            "gridcolor": "white",
            "linecolor": "white",
            "ticks": ""
           },
           "bgcolor": "#E5ECF6",
           "radialaxis": {
            "gridcolor": "white",
            "linecolor": "white",
            "ticks": ""
           }
          },
          "scene": {
           "xaxis": {
            "backgroundcolor": "#E5ECF6",
            "gridcolor": "white",
            "gridwidth": 2,
            "linecolor": "white",
            "showbackground": true,
            "ticks": "",
            "zerolinecolor": "white"
           },
           "yaxis": {
            "backgroundcolor": "#E5ECF6",
            "gridcolor": "white",
            "gridwidth": 2,
            "linecolor": "white",
            "showbackground": true,
            "ticks": "",
            "zerolinecolor": "white"
           },
           "zaxis": {
            "backgroundcolor": "#E5ECF6",
            "gridcolor": "white",
            "gridwidth": 2,
            "linecolor": "white",
            "showbackground": true,
            "ticks": "",
            "zerolinecolor": "white"
           }
          },
          "shapedefaults": {
           "line": {
            "color": "#2a3f5f"
           }
          },
          "ternary": {
           "aaxis": {
            "gridcolor": "white",
            "linecolor": "white",
            "ticks": ""
           },
           "baxis": {
            "gridcolor": "white",
            "linecolor": "white",
            "ticks": ""
           },
           "bgcolor": "#E5ECF6",
           "caxis": {
            "gridcolor": "white",
            "linecolor": "white",
            "ticks": ""
           }
          },
          "title": {
           "x": 0.05
          },
          "xaxis": {
           "automargin": true,
           "gridcolor": "white",
           "linecolor": "white",
           "ticks": "",
           "title": {
            "standoff": 15
           },
           "zerolinecolor": "white",
           "zerolinewidth": 2
          },
          "yaxis": {
           "automargin": true,
           "gridcolor": "white",
           "linecolor": "white",
           "ticks": "",
           "title": {
            "standoff": 15
           },
           "zerolinecolor": "white",
           "zerolinewidth": 2
          }
         }
        },
        "title": {
         "text": "DataSet04<br>Condition: <b>Control</b><br>"
        },
        "xaxis": {
         "anchor": "y",
         "domain": [
          0,
          1
         ],
         "title": {
          "text": "pairwise_change"
         }
        },
        "yaxis": {
         "anchor": "x",
         "domain": [
          0,
          1
         ],
         "title": {
          "text": "probability density"
         }
        }
       }
      },
      "text/html": [
       "<div>                            <div id=\"ab6d5ef5-30b4-4b31-8963-2ac52d9eb1d6\" class=\"plotly-graph-div\" style=\"height:525px; width:100%;\"></div>            <script type=\"text/javascript\">                require([\"plotly\"], function(Plotly) {                    window.PLOTLYENV=window.PLOTLYENV || {};                                    if (document.getElementById(\"ab6d5ef5-30b4-4b31-8963-2ac52d9eb1d6\")) {                    Plotly.newPlot(                        \"ab6d5ef5-30b4-4b31-8963-2ac52d9eb1d6\",                        [{\"alignmentgroup\":\"True\",\"bingroup\":\"x\",\"histnorm\":\"probability density\",\"hovertemplate\":\"pairwise_change=%{x}\\u003cbr\\u003eprobability density=%{y}\\u003cextra\\u003e\\u003c\\u002fextra\\u003e\",\"legendgroup\":\"\",\"marker\":{\"color\":\"#636efa\",\"pattern\":{\"shape\":\"\"}},\"name\":\"\",\"offsetgroup\":\"\",\"orientation\":\"v\",\"showlegend\":false,\"x\":[-2,3,-2,2,3,3,-1,0,2,5,8,-1,-2,5,3,2,2,-1,-3,-3,10,-2,26,-10,5,-4,-10,3,-4,5,-2,3,6,7,-1,-10,6,10,-15,-1,11,-3,-4,9,7,-16,0,3,7,21,17,-5,2,1,-8,1,0,-3,2,1,1,-2,3,-1,1,26,2,1,3,-1,2,5,3,-25,22,-4,3,0,-3,2,2,5,-5,5,3,-2,-3,-9,-26,18,15,5,-1,4,7,1,5,1,-1,0,-2,1,-3,-1,-2,-5,9,-4,-12,7,1,14,29,1,-2,5,1,-12,5,-17,4,-12,0,7,-12,0,13,-9,-3,4,-4,-20,11,-9,-3,-12,-10,31,0,2,0,2,4,-5,1,-3,-1,-5,6,0,2,-2,-2,-15,-1,23,-4,3,-4,0,-1,-3,-14,12,-19,1,-5,2,-4,-3,-3,5,-5,0,1,-2,-1,-3,-4,2,2,0,-4,25,-22,-5,1,0,0,-12,4,-2,-5,-1,2,-1,1,3,11,-2,2,-5,4,-12,-1,-6,-3,-3,5,0,20,3,-5,9,-9,-3,5,-4,10,-1,-6,38,11,1,-1,-6,12,-12,-1,-1,-3,9,-2,0,-2,0,2,-5,5,-3,-3,0,2,3,-1,0,3,0,1,1,4,1,3,-3,-2,11,-3,-2,0,0,0,-28,0,2,1,-1,0,-8,1,-6,0,3,36,-6,8,-2,2,2,-1,2,0,2,1,1,-2,-1,-2,-4,-1,0,-3,-2,-3,-3,15,-1,-3,-2,4,1,0,-1,0,11,-4,5,0,12,5,-4,10,1,4,9,-1,3,1,6,1,3,12,1,4,1,-9,-3,3,-5,-2,-27,1,2,-1,4,-1,1,2,6,-2,6,1,-2,3,-7,0,1,-2,6,7,0,1,-4,-18,1,-1,1,2,-3,0,-9,-2,0,-2,2,6,-3,0,1,-1,-4,4,-4,-3,6,0,5,-1,-5,30,0,2,1,2,-2,-3,4,2,3,2,1,-8,2,4,-4,2,-3,3,3,-4,-3,-3,-2,3,-16,0,-28,6,0,-2,8,-7,-8,3,11,-10,7,11,6,1,-3,-1,16,-18,5,1,-3,8,4,3,36,8,0,7,6,2,5,10,1,33,-13,-7,6,-16,6,14,4,-6,8,5,5,0,-6,2,2,4,-11,2,2,-4,-17,-1,1,9,-7,-1,8,-7,-1,5,-7,-1,-18,2,2,-13,14,-9,-4,0,-11,-1,1,-8,-3,1,-2,-13,1,3,-4,-1,0,-2,3,-1,0,-2,-3,-3,1,0,4,-5,3,3,1,0,-1,2,0,27,3,-1,-3,3,-1,-1,3,0,1,-5,-2,3,2,-3,7,0,-1,1,0,0,-3,-3,-1,1,-6,0,7,-4,4,5,-7,2,-1,4,-4,-2,-7,-2,-4,1,-4,2,-2,-3,-1,-3,5,6,-1,4,1,2,1,-5,0,0,5,-3,0,-30,29,-4,-1,1,1,2,-6,2,6,0,-7,2,-6,-2,0,1,0,4,1,-1,3,-1,-3,0,-1,-7,20,-13,9,1,-3,0,8,3,-3,1,4,-1,5,-1,2,2,0,2,-2,3,-20,-2,-1,3,2,-1,-6,2,-2,-1,16,-1,-6,-3,5,-3,0,-2,-16,2,7,-59,1,4,0,0,-3,-30],\"xaxis\":\"x\",\"yaxis\":\"y\",\"type\":\"histogram\"}],                        {\"template\":{\"data\":{\"histogram2dcontour\":[{\"type\":\"histogram2dcontour\",\"colorbar\":{\"outlinewidth\":0,\"ticks\":\"\"},\"colorscale\":[[0.0,\"#0d0887\"],[0.1111111111111111,\"#46039f\"],[0.2222222222222222,\"#7201a8\"],[0.3333333333333333,\"#9c179e\"],[0.4444444444444444,\"#bd3786\"],[0.5555555555555556,\"#d8576b\"],[0.6666666666666666,\"#ed7953\"],[0.7777777777777778,\"#fb9f3a\"],[0.8888888888888888,\"#fdca26\"],[1.0,\"#f0f921\"]]}],\"choropleth\":[{\"type\":\"choropleth\",\"colorbar\":{\"outlinewidth\":0,\"ticks\":\"\"}}],\"histogram2d\":[{\"type\":\"histogram2d\",\"colorbar\":{\"outlinewidth\":0,\"ticks\":\"\"},\"colorscale\":[[0.0,\"#0d0887\"],[0.1111111111111111,\"#46039f\"],[0.2222222222222222,\"#7201a8\"],[0.3333333333333333,\"#9c179e\"],[0.4444444444444444,\"#bd3786\"],[0.5555555555555556,\"#d8576b\"],[0.6666666666666666,\"#ed7953\"],[0.7777777777777778,\"#fb9f3a\"],[0.8888888888888888,\"#fdca26\"],[1.0,\"#f0f921\"]]}],\"heatmap\":[{\"type\":\"heatmap\",\"colorbar\":{\"outlinewidth\":0,\"ticks\":\"\"},\"colorscale\":[[0.0,\"#0d0887\"],[0.1111111111111111,\"#46039f\"],[0.2222222222222222,\"#7201a8\"],[0.3333333333333333,\"#9c179e\"],[0.4444444444444444,\"#bd3786\"],[0.5555555555555556,\"#d8576b\"],[0.6666666666666666,\"#ed7953\"],[0.7777777777777778,\"#fb9f3a\"],[0.8888888888888888,\"#fdca26\"],[1.0,\"#f0f921\"]]}],\"heatmapgl\":[{\"type\":\"heatmapgl\",\"colorbar\":{\"outlinewidth\":0,\"ticks\":\"\"},\"colorscale\":[[0.0,\"#0d0887\"],[0.1111111111111111,\"#46039f\"],[0.2222222222222222,\"#7201a8\"],[0.3333333333333333,\"#9c179e\"],[0.4444444444444444,\"#bd3786\"],[0.5555555555555556,\"#d8576b\"],[0.6666666666666666,\"#ed7953\"],[0.7777777777777778,\"#fb9f3a\"],[0.8888888888888888,\"#fdca26\"],[1.0,\"#f0f921\"]]}],\"contourcarpet\":[{\"type\":\"contourcarpet\",\"colorbar\":{\"outlinewidth\":0,\"ticks\":\"\"}}],\"contour\":[{\"type\":\"contour\",\"colorbar\":{\"outlinewidth\":0,\"ticks\":\"\"},\"colorscale\":[[0.0,\"#0d0887\"],[0.1111111111111111,\"#46039f\"],[0.2222222222222222,\"#7201a8\"],[0.3333333333333333,\"#9c179e\"],[0.4444444444444444,\"#bd3786\"],[0.5555555555555556,\"#d8576b\"],[0.6666666666666666,\"#ed7953\"],[0.7777777777777778,\"#fb9f3a\"],[0.8888888888888888,\"#fdca26\"],[1.0,\"#f0f921\"]]}],\"surface\":[{\"type\":\"surface\",\"colorbar\":{\"outlinewidth\":0,\"ticks\":\"\"},\"colorscale\":[[0.0,\"#0d0887\"],[0.1111111111111111,\"#46039f\"],[0.2222222222222222,\"#7201a8\"],[0.3333333333333333,\"#9c179e\"],[0.4444444444444444,\"#bd3786\"],[0.5555555555555556,\"#d8576b\"],[0.6666666666666666,\"#ed7953\"],[0.7777777777777778,\"#fb9f3a\"],[0.8888888888888888,\"#fdca26\"],[1.0,\"#f0f921\"]]}],\"mesh3d\":[{\"type\":\"mesh3d\",\"colorbar\":{\"outlinewidth\":0,\"ticks\":\"\"}}],\"scatter\":[{\"fillpattern\":{\"fillmode\":\"overlay\",\"size\":10,\"solidity\":0.2},\"type\":\"scatter\"}],\"parcoords\":[{\"type\":\"parcoords\",\"line\":{\"colorbar\":{\"outlinewidth\":0,\"ticks\":\"\"}}}],\"scatterpolargl\":[{\"type\":\"scatterpolargl\",\"marker\":{\"colorbar\":{\"outlinewidth\":0,\"ticks\":\"\"}}}],\"bar\":[{\"error_x\":{\"color\":\"#2a3f5f\"},\"error_y\":{\"color\":\"#2a3f5f\"},\"marker\":{\"line\":{\"color\":\"#E5ECF6\",\"width\":0.5},\"pattern\":{\"fillmode\":\"overlay\",\"size\":10,\"solidity\":0.2}},\"type\":\"bar\"}],\"scattergeo\":[{\"type\":\"scattergeo\",\"marker\":{\"colorbar\":{\"outlinewidth\":0,\"ticks\":\"\"}}}],\"scatterpolar\":[{\"type\":\"scatterpolar\",\"marker\":{\"colorbar\":{\"outlinewidth\":0,\"ticks\":\"\"}}}],\"histogram\":[{\"marker\":{\"pattern\":{\"fillmode\":\"overlay\",\"size\":10,\"solidity\":0.2}},\"type\":\"histogram\"}],\"scattergl\":[{\"type\":\"scattergl\",\"marker\":{\"colorbar\":{\"outlinewidth\":0,\"ticks\":\"\"}}}],\"scatter3d\":[{\"type\":\"scatter3d\",\"line\":{\"colorbar\":{\"outlinewidth\":0,\"ticks\":\"\"}},\"marker\":{\"colorbar\":{\"outlinewidth\":0,\"ticks\":\"\"}}}],\"scattermapbox\":[{\"type\":\"scattermapbox\",\"marker\":{\"colorbar\":{\"outlinewidth\":0,\"ticks\":\"\"}}}],\"scatterternary\":[{\"type\":\"scatterternary\",\"marker\":{\"colorbar\":{\"outlinewidth\":0,\"ticks\":\"\"}}}],\"scattercarpet\":[{\"type\":\"scattercarpet\",\"marker\":{\"colorbar\":{\"outlinewidth\":0,\"ticks\":\"\"}}}],\"carpet\":[{\"aaxis\":{\"endlinecolor\":\"#2a3f5f\",\"gridcolor\":\"white\",\"linecolor\":\"white\",\"minorgridcolor\":\"white\",\"startlinecolor\":\"#2a3f5f\"},\"baxis\":{\"endlinecolor\":\"#2a3f5f\",\"gridcolor\":\"white\",\"linecolor\":\"white\",\"minorgridcolor\":\"white\",\"startlinecolor\":\"#2a3f5f\"},\"type\":\"carpet\"}],\"table\":[{\"cells\":{\"fill\":{\"color\":\"#EBF0F8\"},\"line\":{\"color\":\"white\"}},\"header\":{\"fill\":{\"color\":\"#C8D4E3\"},\"line\":{\"color\":\"white\"}},\"type\":\"table\"}],\"barpolar\":[{\"marker\":{\"line\":{\"color\":\"#E5ECF6\",\"width\":0.5},\"pattern\":{\"fillmode\":\"overlay\",\"size\":10,\"solidity\":0.2}},\"type\":\"barpolar\"}],\"pie\":[{\"automargin\":true,\"type\":\"pie\"}]},\"layout\":{\"autotypenumbers\":\"strict\",\"colorway\":[\"#636efa\",\"#EF553B\",\"#00cc96\",\"#ab63fa\",\"#FFA15A\",\"#19d3f3\",\"#FF6692\",\"#B6E880\",\"#FF97FF\",\"#FECB52\"],\"font\":{\"color\":\"#2a3f5f\"},\"hovermode\":\"closest\",\"hoverlabel\":{\"align\":\"left\"},\"paper_bgcolor\":\"white\",\"plot_bgcolor\":\"#E5ECF6\",\"polar\":{\"bgcolor\":\"#E5ECF6\",\"angularaxis\":{\"gridcolor\":\"white\",\"linecolor\":\"white\",\"ticks\":\"\"},\"radialaxis\":{\"gridcolor\":\"white\",\"linecolor\":\"white\",\"ticks\":\"\"}},\"ternary\":{\"bgcolor\":\"#E5ECF6\",\"aaxis\":{\"gridcolor\":\"white\",\"linecolor\":\"white\",\"ticks\":\"\"},\"baxis\":{\"gridcolor\":\"white\",\"linecolor\":\"white\",\"ticks\":\"\"},\"caxis\":{\"gridcolor\":\"white\",\"linecolor\":\"white\",\"ticks\":\"\"}},\"coloraxis\":{\"colorbar\":{\"outlinewidth\":0,\"ticks\":\"\"}},\"colorscale\":{\"sequential\":[[0.0,\"#0d0887\"],[0.1111111111111111,\"#46039f\"],[0.2222222222222222,\"#7201a8\"],[0.3333333333333333,\"#9c179e\"],[0.4444444444444444,\"#bd3786\"],[0.5555555555555556,\"#d8576b\"],[0.6666666666666666,\"#ed7953\"],[0.7777777777777778,\"#fb9f3a\"],[0.8888888888888888,\"#fdca26\"],[1.0,\"#f0f921\"]],\"sequentialminus\":[[0.0,\"#0d0887\"],[0.1111111111111111,\"#46039f\"],[0.2222222222222222,\"#7201a8\"],[0.3333333333333333,\"#9c179e\"],[0.4444444444444444,\"#bd3786\"],[0.5555555555555556,\"#d8576b\"],[0.6666666666666666,\"#ed7953\"],[0.7777777777777778,\"#fb9f3a\"],[0.8888888888888888,\"#fdca26\"],[1.0,\"#f0f921\"]],\"diverging\":[[0,\"#8e0152\"],[0.1,\"#c51b7d\"],[0.2,\"#de77ae\"],[0.3,\"#f1b6da\"],[0.4,\"#fde0ef\"],[0.5,\"#f7f7f7\"],[0.6,\"#e6f5d0\"],[0.7,\"#b8e186\"],[0.8,\"#7fbc41\"],[0.9,\"#4d9221\"],[1,\"#276419\"]]},\"xaxis\":{\"gridcolor\":\"white\",\"linecolor\":\"white\",\"ticks\":\"\",\"title\":{\"standoff\":15},\"zerolinecolor\":\"white\",\"automargin\":true,\"zerolinewidth\":2},\"yaxis\":{\"gridcolor\":\"white\",\"linecolor\":\"white\",\"ticks\":\"\",\"title\":{\"standoff\":15},\"zerolinecolor\":\"white\",\"automargin\":true,\"zerolinewidth\":2},\"scene\":{\"xaxis\":{\"backgroundcolor\":\"#E5ECF6\",\"gridcolor\":\"white\",\"linecolor\":\"white\",\"showbackground\":true,\"ticks\":\"\",\"zerolinecolor\":\"white\",\"gridwidth\":2},\"yaxis\":{\"backgroundcolor\":\"#E5ECF6\",\"gridcolor\":\"white\",\"linecolor\":\"white\",\"showbackground\":true,\"ticks\":\"\",\"zerolinecolor\":\"white\",\"gridwidth\":2},\"zaxis\":{\"backgroundcolor\":\"#E5ECF6\",\"gridcolor\":\"white\",\"linecolor\":\"white\",\"showbackground\":true,\"ticks\":\"\",\"zerolinecolor\":\"white\",\"gridwidth\":2}},\"shapedefaults\":{\"line\":{\"color\":\"#2a3f5f\"}},\"annotationdefaults\":{\"arrowcolor\":\"#2a3f5f\",\"arrowhead\":0,\"arrowwidth\":1},\"geo\":{\"bgcolor\":\"white\",\"landcolor\":\"#E5ECF6\",\"subunitcolor\":\"white\",\"showland\":true,\"showlakes\":true,\"lakecolor\":\"white\"},\"title\":{\"x\":0.05},\"mapbox\":{\"style\":\"light\"}}},\"xaxis\":{\"anchor\":\"y\",\"domain\":[0.0,1.0],\"title\":{\"text\":\"pairwise_change\"}},\"yaxis\":{\"anchor\":\"x\",\"domain\":[0.0,1.0],\"title\":{\"text\":\"probability density\"}},\"legend\":{\"tracegroupgap\":0},\"margin\":{\"t\":60},\"barmode\":\"relative\",\"shapes\":[{\"line\":{\"color\":\"black\",\"dash\":\"dash\",\"width\":1},\"type\":\"line\",\"x0\":0.23565891472868217,\"x1\":0.23565891472868217,\"xref\":\"x\",\"y0\":0,\"y1\":1,\"yref\":\"y domain\"},{\"line\":{\"color\":\"red\",\"dash\":\"dash\",\"width\":1},\"type\":\"line\",\"x0\":24.109106600877652,\"x1\":24.109106600877652,\"xref\":\"x\",\"y0\":0,\"y1\":1,\"yref\":\"y domain\"},{\"line\":{\"color\":\"red\",\"dash\":\"dash\",\"width\":1},\"type\":\"line\",\"x0\":-24.109106600877652,\"x1\":-24.109106600877652,\"xref\":\"x\",\"y0\":0,\"y1\":1,\"yref\":\"y domain\"}],\"annotations\":[{\"showarrow\":false,\"text\":\"0.24\",\"x\":0.23565891472868217,\"xanchor\":\"center\",\"xref\":\"x\",\"y\":1,\"yanchor\":\"bottom\",\"yref\":\"y domain\"},{\"showarrow\":false,\"text\":\"\",\"x\":24.109106600877652,\"xanchor\":\"center\",\"xref\":\"x\",\"y\":1,\"yanchor\":\"bottom\",\"yref\":\"y domain\"},{\"showarrow\":false,\"text\":\"\",\"x\":-24.109106600877652,\"xanchor\":\"center\",\"xref\":\"x\",\"y\":1,\"yanchor\":\"bottom\",\"yref\":\"y domain\"}],\"title\":{\"text\":\"DataSet04\\u003cbr\\u003eCondition: \\u003cb\\u003eControl\\u003c\\u002fb\\u003e\\u003cbr\\u003e\"}},                        {\"responsive\": true}                    ).then(function(){\n",
       "                            \n",
       "var gd = document.getElementById('ab6d5ef5-30b4-4b31-8963-2ac52d9eb1d6');\n",
       "var x = new MutationObserver(function (mutations, observer) {{\n",
       "        var display = window.getComputedStyle(gd).display;\n",
       "        if (!display || display === 'none') {{\n",
       "            console.log([gd, 'removed!']);\n",
       "            Plotly.purge(gd);\n",
       "            observer.disconnect();\n",
       "        }}\n",
       "}});\n",
       "\n",
       "// Listen for the removal of the full notebook cells\n",
       "var notebookContainer = gd.closest('#notebook-container');\n",
       "if (notebookContainer) {{\n",
       "    x.observe(notebookContainer, {childList: true});\n",
       "}}\n",
       "\n",
       "// Listen for the clearing of the current output cell\n",
       "var outputEl = gd.closest('.output');\n",
       "if (outputEl) {{\n",
       "    x.observe(outputEl, {childList: true});\n",
       "}}\n",
       "\n",
       "                        })                };                });            </script>        </div>"
      ]
     },
     "metadata": {},
     "output_type": "display_data"
    },
    {
     "data": {
      "application/vnd.plotly.v1+json": {
       "config": {
        "plotlyServerURL": "https://plot.ly"
       },
       "data": [
        {
         "alignmentgroup": "True",
         "bingroup": "x",
         "histnorm": "probability density",
         "hovertemplate": "pairwise_change=%{x}<br>probability density=%{y}<extra></extra>",
         "legendgroup": "",
         "marker": {
          "color": "#636efa",
          "pattern": {
           "shape": ""
          }
         },
         "name": "",
         "offsetgroup": "",
         "orientation": "v",
         "showlegend": false,
         "type": "histogram",
         "x": [
          2,
          -11,
          17,
          13,
          -9,
          -10,
          0,
          4,
          -4,
          -2,
          0,
          1,
          19,
          -9,
          -10,
          -2,
          -1,
          -1,
          1,
          -1,
          -1,
          -42,
          0,
          1,
          3,
          -8,
          6,
          -18,
          19,
          -1,
          -1,
          2,
          -1,
          -6,
          1,
          -1,
          0,
          1,
          0,
          -2,
          -5,
          4,
          12,
          2,
          -1,
          -1,
          2,
          -7,
          -3,
          9,
          -9,
          0,
          -3,
          -4,
          -7,
          6,
          -2,
          16,
          1,
          1,
          -2,
          1,
          -2,
          28,
          -24,
          26,
          -3,
          -4,
          -4,
          0,
          -3,
          -3,
          0,
          -8,
          5,
          11,
          -11,
          17,
          13,
          -9,
          -10,
          -1,
          -7,
          0,
          23,
          -20,
          12,
          4,
          -7,
          0,
          -2,
          15,
          1,
          -6,
          7,
          8,
          16,
          2,
          3,
          7,
          2,
          -7,
          7,
          0,
          2,
          8,
          7,
          0,
          -2,
          -1,
          -1,
          0,
          -1,
          -3,
          1,
          1,
          -9,
          6,
          3,
          6,
          -2,
          3,
          2,
          36,
          -4,
          9,
          1,
          1,
          -19,
          2,
          -8,
          2,
          -1,
          -1,
          0,
          11,
          0,
          -2,
          -2,
          5,
          3,
          -9,
          1,
          11,
          4,
          0,
          -1,
          3,
          -1,
          -3,
          5,
          -20,
          12,
          3,
          -6,
          4,
          30,
          5,
          -27,
          5,
          -1,
          0,
          -6,
          -1,
          -8,
          -18,
          15,
          1,
          -7,
          -3,
          0,
          2,
          -14,
          0,
          1,
          0,
          1,
          -10,
          -1,
          1,
          1,
          -15,
          10,
          -7,
          -1,
          2,
          -1,
          0,
          1,
          4,
          -2,
          -1,
          3,
          -2,
          15,
          0,
          5,
          -1,
          2,
          -1,
          -4,
          13,
          -1,
          0,
          4,
          2,
          -6,
          -3,
          -1,
          2,
          3,
          1,
          1,
          4,
          -3,
          1,
          4,
          3,
          0,
          16,
          0,
          0,
          8,
          -3,
          1,
          -2,
          0,
          0,
          -6,
          7,
          -1,
          1,
          -1,
          5,
          7,
          2,
          2,
          3,
          33,
          -28,
          -2,
          -19,
          15,
          11,
          -11,
          0,
          0,
          -3,
          0,
          -5,
          -4,
          -1,
          -31,
          17,
          2,
          -26,
          24,
          3,
          2,
          0,
          28,
          -5,
          1,
          -12,
          -2,
          6,
          -1,
          -2,
          -7,
          2,
          -6,
          -3,
          2,
          5,
          -10,
          3,
          -5,
          2,
          -3,
          7,
          0,
          0,
          -2,
          -5,
          -3,
          13,
          -17,
          10,
          1,
          1,
          0,
          2,
          32,
          3,
          3,
          -3,
          1,
          -6,
          3,
          7,
          2,
          -3,
          1,
          12,
          3,
          7,
          -2,
          1,
          -5,
          0,
          0,
          -1,
          1,
          -22,
          21,
          3,
          -4,
          -4,
          26,
          0,
          0,
          0,
          -2,
          1,
          -1,
          1,
          -1,
          1,
          1,
          -2,
          3,
          -12,
          -2,
          -3,
          -4,
          5,
          0,
          0,
          -1,
          -7,
          0,
          -2,
          -14,
          -5,
          5,
          0,
          -12,
          4,
          2,
          2,
          0,
          5,
          -9,
          8,
          19,
          -1,
          -4,
          -2,
          0,
          0,
          29,
          2,
          -5,
          -13,
          -24,
          33,
          -9,
          -10,
          11,
          -3,
          -1,
          1,
          -5,
          -2,
          -1,
          3,
          3,
          2,
          1,
          -9,
          2,
          -9,
          -2,
          -7,
          -5,
          3,
          2,
          1,
          0,
          6,
          -1,
          2,
          2,
          6,
          4,
          -4,
          -9,
          0,
          -2,
          3,
          1,
          9,
          1,
          1,
          3,
          1,
          1,
          5,
          -3,
          -2,
          7,
          1,
          0,
          0,
          -2,
          4,
          -5,
          7,
          -7,
          1,
          14,
          -2,
          2,
          -4,
          -1,
          1,
          6,
          3,
          2,
          -9,
          9,
          -3,
          5,
          -2,
          -8,
          3,
          14,
          -17,
          3,
          -4,
          -1,
          0,
          -5,
          0,
          6,
          8,
          -1,
          3,
          10,
          -1,
          9,
          0,
          -1,
          -2,
          0,
          1,
          6,
          0,
          0,
          6,
          5,
          -1,
          4,
          -2,
          10,
          5,
          3,
          7,
          -1,
          -1,
          1,
          -5,
          0,
          -5,
          -1,
          2,
          -1,
          -3,
          3,
          5,
          20,
          -3,
          3,
          5,
          -5,
          3,
          -5,
          12,
          -4,
          -3,
          0,
          1,
          2,
          0,
          -1,
          -10,
          0,
          8,
          -3,
          11,
          2,
          -4,
          0,
          4,
          -31,
          3,
          5,
          -5,
          3,
          3,
          0,
          -2,
          3,
          4,
          1,
          0,
          -1,
          5,
          1,
          -2,
          3,
          -1,
          -13,
          6,
          0,
          -8,
          14,
          8,
          -9,
          14,
          8,
          -22,
          10,
          3,
          2,
          1,
          -1,
          -8,
          3,
          3,
          15,
          -3,
          -10,
          0,
          0,
          -5,
          2,
          -1,
          -1,
          -1,
          0,
          -1,
          3,
          -3,
          3,
          6,
          -2,
          1,
          -1,
          0,
          3,
          -1,
          0,
          5,
          7,
          -1,
          -3,
          -2,
          -2,
          -1,
          2,
          -3,
          -1,
          9,
          1,
          -1,
          -6,
          -5,
          -1,
          -37,
          4,
          28,
          11,
          21,
          1,
          2,
          14,
          8,
          5,
          4,
          0,
          12,
          -18,
          4,
          -2,
          -1,
          2,
          6,
          1,
          -1,
          -3,
          4,
          -6,
          -13,
          14,
          8,
          -6,
          14,
          8,
          1,
          -1,
          -1,
          3,
          -2,
          -1,
          -4,
          3,
          2,
          0,
          3,
          0,
          1,
          4,
          -7,
          -4,
          10,
          -1,
          -1,
          0,
          3,
          4,
          14,
          -28,
          3,
          -2,
          4,
          -1,
          1,
          0,
          -3,
          -11,
          0,
          -4,
          9,
          -5,
          -5,
          3,
          1,
          -5,
          2,
          0,
          5,
          -7,
          8,
          3,
          -7,
          5,
          -1,
          0,
          0,
          -7,
          10,
          3,
          33,
          3,
          0,
          -12,
          -9,
          6,
          3,
          -2,
          6,
          0,
          -4,
          1,
          1,
          0,
          -3,
          2,
          -6,
          12,
          -6,
          8,
          -6,
          -2,
          -1,
          -5,
          -5,
          6,
          5,
          1,
          4,
          5,
          -1,
          15,
          3,
          6,
          1,
          3,
          5,
          -4,
          1,
          3,
          1,
          6,
          -9,
          -8,
          -5,
          -27,
          3,
          -3,
          3,
          6,
          0,
          -4,
          0,
          -1,
          -11,
          1,
          3,
          -2,
          8,
          -3,
          -5,
          17,
          1,
          -1,
          -32,
          27,
          0,
          -1,
          6,
          7,
          9,
          13,
          5,
          -6,
          2,
          -6,
          1,
          6,
          4,
          -3,
          4,
          -30,
          31,
          -12,
          -4,
          4,
          -21,
          1,
          5,
          -6,
          3,
          -4,
          1,
          3,
          0,
          0,
          0,
          -2,
          4,
          -1,
          1,
          -1,
          -15,
          1,
          6,
          -1,
          -1,
          1,
          -10,
          0,
          6,
          2,
          0,
          -1,
          12,
          -2,
          -4,
          -3,
          -2,
          1,
          -1,
          -2,
          26,
          2,
          2,
          4,
          -3,
          1,
          -3,
          -19,
          1,
          -3,
          0,
          -4,
          3,
          2,
          -9,
          8,
          1,
          -5,
          7,
          -2,
          1,
          5,
          -3,
          3,
          -2,
          -11,
          14,
          0,
          -2,
          7,
          -1,
          -4,
          8,
          22,
          2,
          1,
          0,
          -5,
          40,
          -24,
          1,
          1,
          -1,
          2,
          -2,
          1,
          -1,
          -1,
          -1,
          -4,
          -1,
          -4,
          -4,
          0,
          -5,
          -5,
          -2,
          0,
          0,
          1,
          -1,
          -4,
          1,
          -1,
          5,
          0,
          3,
          -2,
          -7,
          3,
          3,
          -5,
          1,
          5,
          -2,
          2,
          1,
          0,
          1,
          -3,
          -2,
          2,
          -5,
          -3,
          -9,
          3,
          3,
          -3,
          0,
          2,
          -2,
          -2,
          6,
          0,
          11,
          -6,
          -4,
          0,
          -2,
          3,
          4,
          3,
          1,
          0,
          -2,
          -1,
          3,
          0,
          -1,
          3,
          0,
          -1,
          0,
          0,
          -1,
          16,
          -7,
          5,
          0,
          4,
          1,
          2,
          1,
          -6,
          4,
          -3,
          -1,
          -1,
          -2,
          1,
          13,
          -13,
          12,
          -13,
          0,
          -1,
          -4,
          3,
          -1,
          2,
          -3,
          -2,
          10,
          -2,
          -3,
          0,
          -1,
          -2,
          1,
          5,
          0,
          -6,
          -1,
          -2,
          -18,
          29,
          -16,
          -23,
          3,
          -6,
          1,
          18,
          9,
          2,
          7,
          -14,
          -9,
          8,
          12,
          -1,
          26,
          -11,
          1,
          1,
          3,
          3,
          -1,
          -11,
          -1,
          -1,
          -1,
          5,
          -2,
          0,
          -1,
          2,
          -3,
          -8,
          1,
          -6,
          1,
          -14,
          14,
          1,
          0,
          -1,
          4,
          -1,
          3,
          2,
          -1,
          2,
          3,
          -1,
          1,
          -2,
          1,
          -1,
          -3,
          3,
          -6,
          1,
          0,
          3,
          3,
          -2,
          0,
          -1,
          -2,
          0,
          1,
          3,
          -8,
          -9,
          18,
          9,
          -4,
          2,
          -1,
          2,
          -2,
          0,
          -7,
          8,
          -2,
          5,
          0,
          2,
          0,
          0,
          0,
          -6,
          0,
          12,
          16,
          -11,
          15,
          -8,
          2,
          1,
          -24,
          -7,
          10,
          1,
          0,
          9,
          -1,
          -1,
          -7,
          -3,
          -2,
          1,
          -5,
          -3,
          2,
          -4,
          -4,
          0,
          1,
          -1,
          0,
          0,
          -1,
          -2,
          -2,
          0,
          -1,
          3,
          -1,
          6,
          0,
          2,
          -1,
          0,
          2,
          3,
          -28,
          -2,
          -1,
          -5,
          1,
          -4,
          3,
          -1,
          -3,
          -5,
          7,
          -8,
          2,
          -5,
          1,
          0,
          0,
          -1,
          3,
          1,
          0,
          -8,
          -6,
          4,
          7,
          25,
          -19,
          -3,
          0,
          1,
          0,
          1,
          -4,
          -3,
          3,
          -4,
          3,
          -6,
          -3,
          0,
          -1,
          -1,
          0,
          2,
          0,
          3,
          -3,
          3,
          -4,
          2,
          3,
          5,
          2,
          -3,
          -6,
          0,
          4,
          1,
          0,
          2,
          -5,
          3,
          -5,
          -1,
          25,
          -2,
          -24,
          -1,
          -7,
          5,
          1,
          -8,
          2,
          -9,
          7,
          -25,
          16,
          10,
          -5,
          15,
          -3,
          -3,
          5,
          -4,
          12,
          -4,
          -5,
          1,
          -3,
          -4,
          20,
          -5,
          -5,
          1,
          -5,
          12,
          2,
          -3,
          2,
          5,
          1,
          -6,
          1,
          -2,
          0,
          -2,
          0,
          1,
          7,
          -1,
          -8,
          -1,
          -7,
          -1,
          2,
          -3,
          0,
          2,
          3,
          6,
          4,
          -27,
          25,
          -1,
          1,
          -7,
          9,
          -5,
          -4
         ],
         "xaxis": "x",
         "yaxis": "y"
        }
       ],
       "layout": {
        "annotations": [
         {
          "showarrow": false,
          "text": "0.33",
          "x": 0.32916666666666666,
          "xanchor": "center",
          "xref": "x",
          "y": 1,
          "yanchor": "bottom",
          "yref": "y domain"
         },
         {
          "showarrow": false,
          "text": "",
          "x": 23.844964746251986,
          "xanchor": "center",
          "xref": "x",
          "y": 1,
          "yanchor": "bottom",
          "yref": "y domain"
         },
         {
          "showarrow": false,
          "text": "",
          "x": -23.844964746251986,
          "xanchor": "center",
          "xref": "x",
          "y": 1,
          "yanchor": "bottom",
          "yref": "y domain"
         }
        ],
        "barmode": "relative",
        "legend": {
         "tracegroupgap": 0
        },
        "margin": {
         "t": 60
        },
        "shapes": [
         {
          "line": {
           "color": "black",
           "dash": "dash",
           "width": 1
          },
          "type": "line",
          "x0": 0.32916666666666666,
          "x1": 0.32916666666666666,
          "xref": "x",
          "y0": 0,
          "y1": 1,
          "yref": "y domain"
         },
         {
          "line": {
           "color": "red",
           "dash": "dash",
           "width": 1
          },
          "type": "line",
          "x0": 23.844964746251986,
          "x1": 23.844964746251986,
          "xref": "x",
          "y0": 0,
          "y1": 1,
          "yref": "y domain"
         },
         {
          "line": {
           "color": "red",
           "dash": "dash",
           "width": 1
          },
          "type": "line",
          "x0": -23.844964746251986,
          "x1": -23.844964746251986,
          "xref": "x",
          "y0": 0,
          "y1": 1,
          "yref": "y domain"
         }
        ],
        "template": {
         "data": {
          "bar": [
           {
            "error_x": {
             "color": "#2a3f5f"
            },
            "error_y": {
             "color": "#2a3f5f"
            },
            "marker": {
             "line": {
              "color": "#E5ECF6",
              "width": 0.5
             },
             "pattern": {
              "fillmode": "overlay",
              "size": 10,
              "solidity": 0.2
             }
            },
            "type": "bar"
           }
          ],
          "barpolar": [
           {
            "marker": {
             "line": {
              "color": "#E5ECF6",
              "width": 0.5
             },
             "pattern": {
              "fillmode": "overlay",
              "size": 10,
              "solidity": 0.2
             }
            },
            "type": "barpolar"
           }
          ],
          "carpet": [
           {
            "aaxis": {
             "endlinecolor": "#2a3f5f",
             "gridcolor": "white",
             "linecolor": "white",
             "minorgridcolor": "white",
             "startlinecolor": "#2a3f5f"
            },
            "baxis": {
             "endlinecolor": "#2a3f5f",
             "gridcolor": "white",
             "linecolor": "white",
             "minorgridcolor": "white",
             "startlinecolor": "#2a3f5f"
            },
            "type": "carpet"
           }
          ],
          "choropleth": [
           {
            "colorbar": {
             "outlinewidth": 0,
             "ticks": ""
            },
            "type": "choropleth"
           }
          ],
          "contour": [
           {
            "colorbar": {
             "outlinewidth": 0,
             "ticks": ""
            },
            "colorscale": [
             [
              0,
              "#0d0887"
             ],
             [
              0.1111111111111111,
              "#46039f"
             ],
             [
              0.2222222222222222,
              "#7201a8"
             ],
             [
              0.3333333333333333,
              "#9c179e"
             ],
             [
              0.4444444444444444,
              "#bd3786"
             ],
             [
              0.5555555555555556,
              "#d8576b"
             ],
             [
              0.6666666666666666,
              "#ed7953"
             ],
             [
              0.7777777777777778,
              "#fb9f3a"
             ],
             [
              0.8888888888888888,
              "#fdca26"
             ],
             [
              1,
              "#f0f921"
             ]
            ],
            "type": "contour"
           }
          ],
          "contourcarpet": [
           {
            "colorbar": {
             "outlinewidth": 0,
             "ticks": ""
            },
            "type": "contourcarpet"
           }
          ],
          "heatmap": [
           {
            "colorbar": {
             "outlinewidth": 0,
             "ticks": ""
            },
            "colorscale": [
             [
              0,
              "#0d0887"
             ],
             [
              0.1111111111111111,
              "#46039f"
             ],
             [
              0.2222222222222222,
              "#7201a8"
             ],
             [
              0.3333333333333333,
              "#9c179e"
             ],
             [
              0.4444444444444444,
              "#bd3786"
             ],
             [
              0.5555555555555556,
              "#d8576b"
             ],
             [
              0.6666666666666666,
              "#ed7953"
             ],
             [
              0.7777777777777778,
              "#fb9f3a"
             ],
             [
              0.8888888888888888,
              "#fdca26"
             ],
             [
              1,
              "#f0f921"
             ]
            ],
            "type": "heatmap"
           }
          ],
          "heatmapgl": [
           {
            "colorbar": {
             "outlinewidth": 0,
             "ticks": ""
            },
            "colorscale": [
             [
              0,
              "#0d0887"
             ],
             [
              0.1111111111111111,
              "#46039f"
             ],
             [
              0.2222222222222222,
              "#7201a8"
             ],
             [
              0.3333333333333333,
              "#9c179e"
             ],
             [
              0.4444444444444444,
              "#bd3786"
             ],
             [
              0.5555555555555556,
              "#d8576b"
             ],
             [
              0.6666666666666666,
              "#ed7953"
             ],
             [
              0.7777777777777778,
              "#fb9f3a"
             ],
             [
              0.8888888888888888,
              "#fdca26"
             ],
             [
              1,
              "#f0f921"
             ]
            ],
            "type": "heatmapgl"
           }
          ],
          "histogram": [
           {
            "marker": {
             "pattern": {
              "fillmode": "overlay",
              "size": 10,
              "solidity": 0.2
             }
            },
            "type": "histogram"
           }
          ],
          "histogram2d": [
           {
            "colorbar": {
             "outlinewidth": 0,
             "ticks": ""
            },
            "colorscale": [
             [
              0,
              "#0d0887"
             ],
             [
              0.1111111111111111,
              "#46039f"
             ],
             [
              0.2222222222222222,
              "#7201a8"
             ],
             [
              0.3333333333333333,
              "#9c179e"
             ],
             [
              0.4444444444444444,
              "#bd3786"
             ],
             [
              0.5555555555555556,
              "#d8576b"
             ],
             [
              0.6666666666666666,
              "#ed7953"
             ],
             [
              0.7777777777777778,
              "#fb9f3a"
             ],
             [
              0.8888888888888888,
              "#fdca26"
             ],
             [
              1,
              "#f0f921"
             ]
            ],
            "type": "histogram2d"
           }
          ],
          "histogram2dcontour": [
           {
            "colorbar": {
             "outlinewidth": 0,
             "ticks": ""
            },
            "colorscale": [
             [
              0,
              "#0d0887"
             ],
             [
              0.1111111111111111,
              "#46039f"
             ],
             [
              0.2222222222222222,
              "#7201a8"
             ],
             [
              0.3333333333333333,
              "#9c179e"
             ],
             [
              0.4444444444444444,
              "#bd3786"
             ],
             [
              0.5555555555555556,
              "#d8576b"
             ],
             [
              0.6666666666666666,
              "#ed7953"
             ],
             [
              0.7777777777777778,
              "#fb9f3a"
             ],
             [
              0.8888888888888888,
              "#fdca26"
             ],
             [
              1,
              "#f0f921"
             ]
            ],
            "type": "histogram2dcontour"
           }
          ],
          "mesh3d": [
           {
            "colorbar": {
             "outlinewidth": 0,
             "ticks": ""
            },
            "type": "mesh3d"
           }
          ],
          "parcoords": [
           {
            "line": {
             "colorbar": {
              "outlinewidth": 0,
              "ticks": ""
             }
            },
            "type": "parcoords"
           }
          ],
          "pie": [
           {
            "automargin": true,
            "type": "pie"
           }
          ],
          "scatter": [
           {
            "fillpattern": {
             "fillmode": "overlay",
             "size": 10,
             "solidity": 0.2
            },
            "type": "scatter"
           }
          ],
          "scatter3d": [
           {
            "line": {
             "colorbar": {
              "outlinewidth": 0,
              "ticks": ""
             }
            },
            "marker": {
             "colorbar": {
              "outlinewidth": 0,
              "ticks": ""
             }
            },
            "type": "scatter3d"
           }
          ],
          "scattercarpet": [
           {
            "marker": {
             "colorbar": {
              "outlinewidth": 0,
              "ticks": ""
             }
            },
            "type": "scattercarpet"
           }
          ],
          "scattergeo": [
           {
            "marker": {
             "colorbar": {
              "outlinewidth": 0,
              "ticks": ""
             }
            },
            "type": "scattergeo"
           }
          ],
          "scattergl": [
           {
            "marker": {
             "colorbar": {
              "outlinewidth": 0,
              "ticks": ""
             }
            },
            "type": "scattergl"
           }
          ],
          "scattermapbox": [
           {
            "marker": {
             "colorbar": {
              "outlinewidth": 0,
              "ticks": ""
             }
            },
            "type": "scattermapbox"
           }
          ],
          "scatterpolar": [
           {
            "marker": {
             "colorbar": {
              "outlinewidth": 0,
              "ticks": ""
             }
            },
            "type": "scatterpolar"
           }
          ],
          "scatterpolargl": [
           {
            "marker": {
             "colorbar": {
              "outlinewidth": 0,
              "ticks": ""
             }
            },
            "type": "scatterpolargl"
           }
          ],
          "scatterternary": [
           {
            "marker": {
             "colorbar": {
              "outlinewidth": 0,
              "ticks": ""
             }
            },
            "type": "scatterternary"
           }
          ],
          "surface": [
           {
            "colorbar": {
             "outlinewidth": 0,
             "ticks": ""
            },
            "colorscale": [
             [
              0,
              "#0d0887"
             ],
             [
              0.1111111111111111,
              "#46039f"
             ],
             [
              0.2222222222222222,
              "#7201a8"
             ],
             [
              0.3333333333333333,
              "#9c179e"
             ],
             [
              0.4444444444444444,
              "#bd3786"
             ],
             [
              0.5555555555555556,
              "#d8576b"
             ],
             [
              0.6666666666666666,
              "#ed7953"
             ],
             [
              0.7777777777777778,
              "#fb9f3a"
             ],
             [
              0.8888888888888888,
              "#fdca26"
             ],
             [
              1,
              "#f0f921"
             ]
            ],
            "type": "surface"
           }
          ],
          "table": [
           {
            "cells": {
             "fill": {
              "color": "#EBF0F8"
             },
             "line": {
              "color": "white"
             }
            },
            "header": {
             "fill": {
              "color": "#C8D4E3"
             },
             "line": {
              "color": "white"
             }
            },
            "type": "table"
           }
          ]
         },
         "layout": {
          "annotationdefaults": {
           "arrowcolor": "#2a3f5f",
           "arrowhead": 0,
           "arrowwidth": 1
          },
          "autotypenumbers": "strict",
          "coloraxis": {
           "colorbar": {
            "outlinewidth": 0,
            "ticks": ""
           }
          },
          "colorscale": {
           "diverging": [
            [
             0,
             "#8e0152"
            ],
            [
             0.1,
             "#c51b7d"
            ],
            [
             0.2,
             "#de77ae"
            ],
            [
             0.3,
             "#f1b6da"
            ],
            [
             0.4,
             "#fde0ef"
            ],
            [
             0.5,
             "#f7f7f7"
            ],
            [
             0.6,
             "#e6f5d0"
            ],
            [
             0.7,
             "#b8e186"
            ],
            [
             0.8,
             "#7fbc41"
            ],
            [
             0.9,
             "#4d9221"
            ],
            [
             1,
             "#276419"
            ]
           ],
           "sequential": [
            [
             0,
             "#0d0887"
            ],
            [
             0.1111111111111111,
             "#46039f"
            ],
            [
             0.2222222222222222,
             "#7201a8"
            ],
            [
             0.3333333333333333,
             "#9c179e"
            ],
            [
             0.4444444444444444,
             "#bd3786"
            ],
            [
             0.5555555555555556,
             "#d8576b"
            ],
            [
             0.6666666666666666,
             "#ed7953"
            ],
            [
             0.7777777777777778,
             "#fb9f3a"
            ],
            [
             0.8888888888888888,
             "#fdca26"
            ],
            [
             1,
             "#f0f921"
            ]
           ],
           "sequentialminus": [
            [
             0,
             "#0d0887"
            ],
            [
             0.1111111111111111,
             "#46039f"
            ],
            [
             0.2222222222222222,
             "#7201a8"
            ],
            [
             0.3333333333333333,
             "#9c179e"
            ],
            [
             0.4444444444444444,
             "#bd3786"
            ],
            [
             0.5555555555555556,
             "#d8576b"
            ],
            [
             0.6666666666666666,
             "#ed7953"
            ],
            [
             0.7777777777777778,
             "#fb9f3a"
            ],
            [
             0.8888888888888888,
             "#fdca26"
            ],
            [
             1,
             "#f0f921"
            ]
           ]
          },
          "colorway": [
           "#636efa",
           "#EF553B",
           "#00cc96",
           "#ab63fa",
           "#FFA15A",
           "#19d3f3",
           "#FF6692",
           "#B6E880",
           "#FF97FF",
           "#FECB52"
          ],
          "font": {
           "color": "#2a3f5f"
          },
          "geo": {
           "bgcolor": "white",
           "lakecolor": "white",
           "landcolor": "#E5ECF6",
           "showlakes": true,
           "showland": true,
           "subunitcolor": "white"
          },
          "hoverlabel": {
           "align": "left"
          },
          "hovermode": "closest",
          "mapbox": {
           "style": "light"
          },
          "paper_bgcolor": "white",
          "plot_bgcolor": "#E5ECF6",
          "polar": {
           "angularaxis": {
            "gridcolor": "white",
            "linecolor": "white",
            "ticks": ""
           },
           "bgcolor": "#E5ECF6",
           "radialaxis": {
            "gridcolor": "white",
            "linecolor": "white",
            "ticks": ""
           }
          },
          "scene": {
           "xaxis": {
            "backgroundcolor": "#E5ECF6",
            "gridcolor": "white",
            "gridwidth": 2,
            "linecolor": "white",
            "showbackground": true,
            "ticks": "",
            "zerolinecolor": "white"
           },
           "yaxis": {
            "backgroundcolor": "#E5ECF6",
            "gridcolor": "white",
            "gridwidth": 2,
            "linecolor": "white",
            "showbackground": true,
            "ticks": "",
            "zerolinecolor": "white"
           },
           "zaxis": {
            "backgroundcolor": "#E5ECF6",
            "gridcolor": "white",
            "gridwidth": 2,
            "linecolor": "white",
            "showbackground": true,
            "ticks": "",
            "zerolinecolor": "white"
           }
          },
          "shapedefaults": {
           "line": {
            "color": "#2a3f5f"
           }
          },
          "ternary": {
           "aaxis": {
            "gridcolor": "white",
            "linecolor": "white",
            "ticks": ""
           },
           "baxis": {
            "gridcolor": "white",
            "linecolor": "white",
            "ticks": ""
           },
           "bgcolor": "#E5ECF6",
           "caxis": {
            "gridcolor": "white",
            "linecolor": "white",
            "ticks": ""
           }
          },
          "title": {
           "x": 0.05
          },
          "xaxis": {
           "automargin": true,
           "gridcolor": "white",
           "linecolor": "white",
           "ticks": "",
           "title": {
            "standoff": 15
           },
           "zerolinecolor": "white",
           "zerolinewidth": 2
          },
          "yaxis": {
           "automargin": true,
           "gridcolor": "white",
           "linecolor": "white",
           "ticks": "",
           "title": {
            "standoff": 15
           },
           "zerolinecolor": "white",
           "zerolinewidth": 2
          }
         }
        },
        "title": {
         "text": "DataSet04<br>Condition: <b>DOI</b><br>"
        },
        "xaxis": {
         "anchor": "y",
         "domain": [
          0,
          1
         ],
         "title": {
          "text": "pairwise_change"
         }
        },
        "yaxis": {
         "anchor": "x",
         "domain": [
          0,
          1
         ],
         "title": {
          "text": "probability density"
         }
        }
       }
      },
      "text/html": [
       "<div>                            <div id=\"827a3537-480e-403c-a5b2-574d08144505\" class=\"plotly-graph-div\" style=\"height:525px; width:100%;\"></div>            <script type=\"text/javascript\">                require([\"plotly\"], function(Plotly) {                    window.PLOTLYENV=window.PLOTLYENV || {};                                    if (document.getElementById(\"827a3537-480e-403c-a5b2-574d08144505\")) {                    Plotly.newPlot(                        \"827a3537-480e-403c-a5b2-574d08144505\",                        [{\"alignmentgroup\":\"True\",\"bingroup\":\"x\",\"histnorm\":\"probability density\",\"hovertemplate\":\"pairwise_change=%{x}\\u003cbr\\u003eprobability density=%{y}\\u003cextra\\u003e\\u003c\\u002fextra\\u003e\",\"legendgroup\":\"\",\"marker\":{\"color\":\"#636efa\",\"pattern\":{\"shape\":\"\"}},\"name\":\"\",\"offsetgroup\":\"\",\"orientation\":\"v\",\"showlegend\":false,\"x\":[2,-11,17,13,-9,-10,0,4,-4,-2,0,1,19,-9,-10,-2,-1,-1,1,-1,-1,-42,0,1,3,-8,6,-18,19,-1,-1,2,-1,-6,1,-1,0,1,0,-2,-5,4,12,2,-1,-1,2,-7,-3,9,-9,0,-3,-4,-7,6,-2,16,1,1,-2,1,-2,28,-24,26,-3,-4,-4,0,-3,-3,0,-8,5,11,-11,17,13,-9,-10,-1,-7,0,23,-20,12,4,-7,0,-2,15,1,-6,7,8,16,2,3,7,2,-7,7,0,2,8,7,0,-2,-1,-1,0,-1,-3,1,1,-9,6,3,6,-2,3,2,36,-4,9,1,1,-19,2,-8,2,-1,-1,0,11,0,-2,-2,5,3,-9,1,11,4,0,-1,3,-1,-3,5,-20,12,3,-6,4,30,5,-27,5,-1,0,-6,-1,-8,-18,15,1,-7,-3,0,2,-14,0,1,0,1,-10,-1,1,1,-15,10,-7,-1,2,-1,0,1,4,-2,-1,3,-2,15,0,5,-1,2,-1,-4,13,-1,0,4,2,-6,-3,-1,2,3,1,1,4,-3,1,4,3,0,16,0,0,8,-3,1,-2,0,0,-6,7,-1,1,-1,5,7,2,2,3,33,-28,-2,-19,15,11,-11,0,0,-3,0,-5,-4,-1,-31,17,2,-26,24,3,2,0,28,-5,1,-12,-2,6,-1,-2,-7,2,-6,-3,2,5,-10,3,-5,2,-3,7,0,0,-2,-5,-3,13,-17,10,1,1,0,2,32,3,3,-3,1,-6,3,7,2,-3,1,12,3,7,-2,1,-5,0,0,-1,1,-22,21,3,-4,-4,26,0,0,0,-2,1,-1,1,-1,1,1,-2,3,-12,-2,-3,-4,5,0,0,-1,-7,0,-2,-14,-5,5,0,-12,4,2,2,0,5,-9,8,19,-1,-4,-2,0,0,29,2,-5,-13,-24,33,-9,-10,11,-3,-1,1,-5,-2,-1,3,3,2,1,-9,2,-9,-2,-7,-5,3,2,1,0,6,-1,2,2,6,4,-4,-9,0,-2,3,1,9,1,1,3,1,1,5,-3,-2,7,1,0,0,-2,4,-5,7,-7,1,14,-2,2,-4,-1,1,6,3,2,-9,9,-3,5,-2,-8,3,14,-17,3,-4,-1,0,-5,0,6,8,-1,3,10,-1,9,0,-1,-2,0,1,6,0,0,6,5,-1,4,-2,10,5,3,7,-1,-1,1,-5,0,-5,-1,2,-1,-3,3,5,20,-3,3,5,-5,3,-5,12,-4,-3,0,1,2,0,-1,-10,0,8,-3,11,2,-4,0,4,-31,3,5,-5,3,3,0,-2,3,4,1,0,-1,5,1,-2,3,-1,-13,6,0,-8,14,8,-9,14,8,-22,10,3,2,1,-1,-8,3,3,15,-3,-10,0,0,-5,2,-1,-1,-1,0,-1,3,-3,3,6,-2,1,-1,0,3,-1,0,5,7,-1,-3,-2,-2,-1,2,-3,-1,9,1,-1,-6,-5,-1,-37,4,28,11,21,1,2,14,8,5,4,0,12,-18,4,-2,-1,2,6,1,-1,-3,4,-6,-13,14,8,-6,14,8,1,-1,-1,3,-2,-1,-4,3,2,0,3,0,1,4,-7,-4,10,-1,-1,0,3,4,14,-28,3,-2,4,-1,1,0,-3,-11,0,-4,9,-5,-5,3,1,-5,2,0,5,-7,8,3,-7,5,-1,0,0,-7,10,3,33,3,0,-12,-9,6,3,-2,6,0,-4,1,1,0,-3,2,-6,12,-6,8,-6,-2,-1,-5,-5,6,5,1,4,5,-1,15,3,6,1,3,5,-4,1,3,1,6,-9,-8,-5,-27,3,-3,3,6,0,-4,0,-1,-11,1,3,-2,8,-3,-5,17,1,-1,-32,27,0,-1,6,7,9,13,5,-6,2,-6,1,6,4,-3,4,-30,31,-12,-4,4,-21,1,5,-6,3,-4,1,3,0,0,0,-2,4,-1,1,-1,-15,1,6,-1,-1,1,-10,0,6,2,0,-1,12,-2,-4,-3,-2,1,-1,-2,26,2,2,4,-3,1,-3,-19,1,-3,0,-4,3,2,-9,8,1,-5,7,-2,1,5,-3,3,-2,-11,14,0,-2,7,-1,-4,8,22,2,1,0,-5,40,-24,1,1,-1,2,-2,1,-1,-1,-1,-4,-1,-4,-4,0,-5,-5,-2,0,0,1,-1,-4,1,-1,5,0,3,-2,-7,3,3,-5,1,5,-2,2,1,0,1,-3,-2,2,-5,-3,-9,3,3,-3,0,2,-2,-2,6,0,11,-6,-4,0,-2,3,4,3,1,0,-2,-1,3,0,-1,3,0,-1,0,0,-1,16,-7,5,0,4,1,2,1,-6,4,-3,-1,-1,-2,1,13,-13,12,-13,0,-1,-4,3,-1,2,-3,-2,10,-2,-3,0,-1,-2,1,5,0,-6,-1,-2,-18,29,-16,-23,3,-6,1,18,9,2,7,-14,-9,8,12,-1,26,-11,1,1,3,3,-1,-11,-1,-1,-1,5,-2,0,-1,2,-3,-8,1,-6,1,-14,14,1,0,-1,4,-1,3,2,-1,2,3,-1,1,-2,1,-1,-3,3,-6,1,0,3,3,-2,0,-1,-2,0,1,3,-8,-9,18,9,-4,2,-1,2,-2,0,-7,8,-2,5,0,2,0,0,0,-6,0,12,16,-11,15,-8,2,1,-24,-7,10,1,0,9,-1,-1,-7,-3,-2,1,-5,-3,2,-4,-4,0,1,-1,0,0,-1,-2,-2,0,-1,3,-1,6,0,2,-1,0,2,3,-28,-2,-1,-5,1,-4,3,-1,-3,-5,7,-8,2,-5,1,0,0,-1,3,1,0,-8,-6,4,7,25,-19,-3,0,1,0,1,-4,-3,3,-4,3,-6,-3,0,-1,-1,0,2,0,3,-3,3,-4,2,3,5,2,-3,-6,0,4,1,0,2,-5,3,-5,-1,25,-2,-24,-1,-7,5,1,-8,2,-9,7,-25,16,10,-5,15,-3,-3,5,-4,12,-4,-5,1,-3,-4,20,-5,-5,1,-5,12,2,-3,2,5,1,-6,1,-2,0,-2,0,1,7,-1,-8,-1,-7,-1,2,-3,0,2,3,6,4,-27,25,-1,1,-7,9,-5,-4],\"xaxis\":\"x\",\"yaxis\":\"y\",\"type\":\"histogram\"}],                        {\"template\":{\"data\":{\"histogram2dcontour\":[{\"type\":\"histogram2dcontour\",\"colorbar\":{\"outlinewidth\":0,\"ticks\":\"\"},\"colorscale\":[[0.0,\"#0d0887\"],[0.1111111111111111,\"#46039f\"],[0.2222222222222222,\"#7201a8\"],[0.3333333333333333,\"#9c179e\"],[0.4444444444444444,\"#bd3786\"],[0.5555555555555556,\"#d8576b\"],[0.6666666666666666,\"#ed7953\"],[0.7777777777777778,\"#fb9f3a\"],[0.8888888888888888,\"#fdca26\"],[1.0,\"#f0f921\"]]}],\"choropleth\":[{\"type\":\"choropleth\",\"colorbar\":{\"outlinewidth\":0,\"ticks\":\"\"}}],\"histogram2d\":[{\"type\":\"histogram2d\",\"colorbar\":{\"outlinewidth\":0,\"ticks\":\"\"},\"colorscale\":[[0.0,\"#0d0887\"],[0.1111111111111111,\"#46039f\"],[0.2222222222222222,\"#7201a8\"],[0.3333333333333333,\"#9c179e\"],[0.4444444444444444,\"#bd3786\"],[0.5555555555555556,\"#d8576b\"],[0.6666666666666666,\"#ed7953\"],[0.7777777777777778,\"#fb9f3a\"],[0.8888888888888888,\"#fdca26\"],[1.0,\"#f0f921\"]]}],\"heatmap\":[{\"type\":\"heatmap\",\"colorbar\":{\"outlinewidth\":0,\"ticks\":\"\"},\"colorscale\":[[0.0,\"#0d0887\"],[0.1111111111111111,\"#46039f\"],[0.2222222222222222,\"#7201a8\"],[0.3333333333333333,\"#9c179e\"],[0.4444444444444444,\"#bd3786\"],[0.5555555555555556,\"#d8576b\"],[0.6666666666666666,\"#ed7953\"],[0.7777777777777778,\"#fb9f3a\"],[0.8888888888888888,\"#fdca26\"],[1.0,\"#f0f921\"]]}],\"heatmapgl\":[{\"type\":\"heatmapgl\",\"colorbar\":{\"outlinewidth\":0,\"ticks\":\"\"},\"colorscale\":[[0.0,\"#0d0887\"],[0.1111111111111111,\"#46039f\"],[0.2222222222222222,\"#7201a8\"],[0.3333333333333333,\"#9c179e\"],[0.4444444444444444,\"#bd3786\"],[0.5555555555555556,\"#d8576b\"],[0.6666666666666666,\"#ed7953\"],[0.7777777777777778,\"#fb9f3a\"],[0.8888888888888888,\"#fdca26\"],[1.0,\"#f0f921\"]]}],\"contourcarpet\":[{\"type\":\"contourcarpet\",\"colorbar\":{\"outlinewidth\":0,\"ticks\":\"\"}}],\"contour\":[{\"type\":\"contour\",\"colorbar\":{\"outlinewidth\":0,\"ticks\":\"\"},\"colorscale\":[[0.0,\"#0d0887\"],[0.1111111111111111,\"#46039f\"],[0.2222222222222222,\"#7201a8\"],[0.3333333333333333,\"#9c179e\"],[0.4444444444444444,\"#bd3786\"],[0.5555555555555556,\"#d8576b\"],[0.6666666666666666,\"#ed7953\"],[0.7777777777777778,\"#fb9f3a\"],[0.8888888888888888,\"#fdca26\"],[1.0,\"#f0f921\"]]}],\"surface\":[{\"type\":\"surface\",\"colorbar\":{\"outlinewidth\":0,\"ticks\":\"\"},\"colorscale\":[[0.0,\"#0d0887\"],[0.1111111111111111,\"#46039f\"],[0.2222222222222222,\"#7201a8\"],[0.3333333333333333,\"#9c179e\"],[0.4444444444444444,\"#bd3786\"],[0.5555555555555556,\"#d8576b\"],[0.6666666666666666,\"#ed7953\"],[0.7777777777777778,\"#fb9f3a\"],[0.8888888888888888,\"#fdca26\"],[1.0,\"#f0f921\"]]}],\"mesh3d\":[{\"type\":\"mesh3d\",\"colorbar\":{\"outlinewidth\":0,\"ticks\":\"\"}}],\"scatter\":[{\"fillpattern\":{\"fillmode\":\"overlay\",\"size\":10,\"solidity\":0.2},\"type\":\"scatter\"}],\"parcoords\":[{\"type\":\"parcoords\",\"line\":{\"colorbar\":{\"outlinewidth\":0,\"ticks\":\"\"}}}],\"scatterpolargl\":[{\"type\":\"scatterpolargl\",\"marker\":{\"colorbar\":{\"outlinewidth\":0,\"ticks\":\"\"}}}],\"bar\":[{\"error_x\":{\"color\":\"#2a3f5f\"},\"error_y\":{\"color\":\"#2a3f5f\"},\"marker\":{\"line\":{\"color\":\"#E5ECF6\",\"width\":0.5},\"pattern\":{\"fillmode\":\"overlay\",\"size\":10,\"solidity\":0.2}},\"type\":\"bar\"}],\"scattergeo\":[{\"type\":\"scattergeo\",\"marker\":{\"colorbar\":{\"outlinewidth\":0,\"ticks\":\"\"}}}],\"scatterpolar\":[{\"type\":\"scatterpolar\",\"marker\":{\"colorbar\":{\"outlinewidth\":0,\"ticks\":\"\"}}}],\"histogram\":[{\"marker\":{\"pattern\":{\"fillmode\":\"overlay\",\"size\":10,\"solidity\":0.2}},\"type\":\"histogram\"}],\"scattergl\":[{\"type\":\"scattergl\",\"marker\":{\"colorbar\":{\"outlinewidth\":0,\"ticks\":\"\"}}}],\"scatter3d\":[{\"type\":\"scatter3d\",\"line\":{\"colorbar\":{\"outlinewidth\":0,\"ticks\":\"\"}},\"marker\":{\"colorbar\":{\"outlinewidth\":0,\"ticks\":\"\"}}}],\"scattermapbox\":[{\"type\":\"scattermapbox\",\"marker\":{\"colorbar\":{\"outlinewidth\":0,\"ticks\":\"\"}}}],\"scatterternary\":[{\"type\":\"scatterternary\",\"marker\":{\"colorbar\":{\"outlinewidth\":0,\"ticks\":\"\"}}}],\"scattercarpet\":[{\"type\":\"scattercarpet\",\"marker\":{\"colorbar\":{\"outlinewidth\":0,\"ticks\":\"\"}}}],\"carpet\":[{\"aaxis\":{\"endlinecolor\":\"#2a3f5f\",\"gridcolor\":\"white\",\"linecolor\":\"white\",\"minorgridcolor\":\"white\",\"startlinecolor\":\"#2a3f5f\"},\"baxis\":{\"endlinecolor\":\"#2a3f5f\",\"gridcolor\":\"white\",\"linecolor\":\"white\",\"minorgridcolor\":\"white\",\"startlinecolor\":\"#2a3f5f\"},\"type\":\"carpet\"}],\"table\":[{\"cells\":{\"fill\":{\"color\":\"#EBF0F8\"},\"line\":{\"color\":\"white\"}},\"header\":{\"fill\":{\"color\":\"#C8D4E3\"},\"line\":{\"color\":\"white\"}},\"type\":\"table\"}],\"barpolar\":[{\"marker\":{\"line\":{\"color\":\"#E5ECF6\",\"width\":0.5},\"pattern\":{\"fillmode\":\"overlay\",\"size\":10,\"solidity\":0.2}},\"type\":\"barpolar\"}],\"pie\":[{\"automargin\":true,\"type\":\"pie\"}]},\"layout\":{\"autotypenumbers\":\"strict\",\"colorway\":[\"#636efa\",\"#EF553B\",\"#00cc96\",\"#ab63fa\",\"#FFA15A\",\"#19d3f3\",\"#FF6692\",\"#B6E880\",\"#FF97FF\",\"#FECB52\"],\"font\":{\"color\":\"#2a3f5f\"},\"hovermode\":\"closest\",\"hoverlabel\":{\"align\":\"left\"},\"paper_bgcolor\":\"white\",\"plot_bgcolor\":\"#E5ECF6\",\"polar\":{\"bgcolor\":\"#E5ECF6\",\"angularaxis\":{\"gridcolor\":\"white\",\"linecolor\":\"white\",\"ticks\":\"\"},\"radialaxis\":{\"gridcolor\":\"white\",\"linecolor\":\"white\",\"ticks\":\"\"}},\"ternary\":{\"bgcolor\":\"#E5ECF6\",\"aaxis\":{\"gridcolor\":\"white\",\"linecolor\":\"white\",\"ticks\":\"\"},\"baxis\":{\"gridcolor\":\"white\",\"linecolor\":\"white\",\"ticks\":\"\"},\"caxis\":{\"gridcolor\":\"white\",\"linecolor\":\"white\",\"ticks\":\"\"}},\"coloraxis\":{\"colorbar\":{\"outlinewidth\":0,\"ticks\":\"\"}},\"colorscale\":{\"sequential\":[[0.0,\"#0d0887\"],[0.1111111111111111,\"#46039f\"],[0.2222222222222222,\"#7201a8\"],[0.3333333333333333,\"#9c179e\"],[0.4444444444444444,\"#bd3786\"],[0.5555555555555556,\"#d8576b\"],[0.6666666666666666,\"#ed7953\"],[0.7777777777777778,\"#fb9f3a\"],[0.8888888888888888,\"#fdca26\"],[1.0,\"#f0f921\"]],\"sequentialminus\":[[0.0,\"#0d0887\"],[0.1111111111111111,\"#46039f\"],[0.2222222222222222,\"#7201a8\"],[0.3333333333333333,\"#9c179e\"],[0.4444444444444444,\"#bd3786\"],[0.5555555555555556,\"#d8576b\"],[0.6666666666666666,\"#ed7953\"],[0.7777777777777778,\"#fb9f3a\"],[0.8888888888888888,\"#fdca26\"],[1.0,\"#f0f921\"]],\"diverging\":[[0,\"#8e0152\"],[0.1,\"#c51b7d\"],[0.2,\"#de77ae\"],[0.3,\"#f1b6da\"],[0.4,\"#fde0ef\"],[0.5,\"#f7f7f7\"],[0.6,\"#e6f5d0\"],[0.7,\"#b8e186\"],[0.8,\"#7fbc41\"],[0.9,\"#4d9221\"],[1,\"#276419\"]]},\"xaxis\":{\"gridcolor\":\"white\",\"linecolor\":\"white\",\"ticks\":\"\",\"title\":{\"standoff\":15},\"zerolinecolor\":\"white\",\"automargin\":true,\"zerolinewidth\":2},\"yaxis\":{\"gridcolor\":\"white\",\"linecolor\":\"white\",\"ticks\":\"\",\"title\":{\"standoff\":15},\"zerolinecolor\":\"white\",\"automargin\":true,\"zerolinewidth\":2},\"scene\":{\"xaxis\":{\"backgroundcolor\":\"#E5ECF6\",\"gridcolor\":\"white\",\"linecolor\":\"white\",\"showbackground\":true,\"ticks\":\"\",\"zerolinecolor\":\"white\",\"gridwidth\":2},\"yaxis\":{\"backgroundcolor\":\"#E5ECF6\",\"gridcolor\":\"white\",\"linecolor\":\"white\",\"showbackground\":true,\"ticks\":\"\",\"zerolinecolor\":\"white\",\"gridwidth\":2},\"zaxis\":{\"backgroundcolor\":\"#E5ECF6\",\"gridcolor\":\"white\",\"linecolor\":\"white\",\"showbackground\":true,\"ticks\":\"\",\"zerolinecolor\":\"white\",\"gridwidth\":2}},\"shapedefaults\":{\"line\":{\"color\":\"#2a3f5f\"}},\"annotationdefaults\":{\"arrowcolor\":\"#2a3f5f\",\"arrowhead\":0,\"arrowwidth\":1},\"geo\":{\"bgcolor\":\"white\",\"landcolor\":\"#E5ECF6\",\"subunitcolor\":\"white\",\"showland\":true,\"showlakes\":true,\"lakecolor\":\"white\"},\"title\":{\"x\":0.05},\"mapbox\":{\"style\":\"light\"}}},\"xaxis\":{\"anchor\":\"y\",\"domain\":[0.0,1.0],\"title\":{\"text\":\"pairwise_change\"}},\"yaxis\":{\"anchor\":\"x\",\"domain\":[0.0,1.0],\"title\":{\"text\":\"probability density\"}},\"legend\":{\"tracegroupgap\":0},\"margin\":{\"t\":60},\"barmode\":\"relative\",\"shapes\":[{\"line\":{\"color\":\"black\",\"dash\":\"dash\",\"width\":1},\"type\":\"line\",\"x0\":0.32916666666666666,\"x1\":0.32916666666666666,\"xref\":\"x\",\"y0\":0,\"y1\":1,\"yref\":\"y domain\"},{\"line\":{\"color\":\"red\",\"dash\":\"dash\",\"width\":1},\"type\":\"line\",\"x0\":23.844964746251986,\"x1\":23.844964746251986,\"xref\":\"x\",\"y0\":0,\"y1\":1,\"yref\":\"y domain\"},{\"line\":{\"color\":\"red\",\"dash\":\"dash\",\"width\":1},\"type\":\"line\",\"x0\":-23.844964746251986,\"x1\":-23.844964746251986,\"xref\":\"x\",\"y0\":0,\"y1\":1,\"yref\":\"y domain\"}],\"annotations\":[{\"showarrow\":false,\"text\":\"0.33\",\"x\":0.32916666666666666,\"xanchor\":\"center\",\"xref\":\"x\",\"y\":1,\"yanchor\":\"bottom\",\"yref\":\"y domain\"},{\"showarrow\":false,\"text\":\"\",\"x\":23.844964746251986,\"xanchor\":\"center\",\"xref\":\"x\",\"y\":1,\"yanchor\":\"bottom\",\"yref\":\"y domain\"},{\"showarrow\":false,\"text\":\"\",\"x\":-23.844964746251986,\"xanchor\":\"center\",\"xref\":\"x\",\"y\":1,\"yanchor\":\"bottom\",\"yref\":\"y domain\"}],\"title\":{\"text\":\"DataSet04\\u003cbr\\u003eCondition: \\u003cb\\u003eDOI\\u003c\\u002fb\\u003e\\u003cbr\\u003e\"}},                        {\"responsive\": true}                    ).then(function(){\n",
       "                            \n",
       "var gd = document.getElementById('827a3537-480e-403c-a5b2-574d08144505');\n",
       "var x = new MutationObserver(function (mutations, observer) {{\n",
       "        var display = window.getComputedStyle(gd).display;\n",
       "        if (!display || display === 'none') {{\n",
       "            console.log([gd, 'removed!']);\n",
       "            Plotly.purge(gd);\n",
       "            observer.disconnect();\n",
       "        }}\n",
       "}});\n",
       "\n",
       "// Listen for the removal of the full notebook cells\n",
       "var notebookContainer = gd.closest('#notebook-container');\n",
       "if (notebookContainer) {{\n",
       "    x.observe(notebookContainer, {childList: true});\n",
       "}}\n",
       "\n",
       "// Listen for the clearing of the current output cell\n",
       "var outputEl = gd.closest('.output');\n",
       "if (outputEl) {{\n",
       "    x.observe(outputEl, {childList: true});\n",
       "}}\n",
       "\n",
       "                        })                };                });            </script>        </div>"
      ]
     },
     "metadata": {},
     "output_type": "display_data"
    }
   ],
   "source": [
    "dataset = 'DataSet04'\n",
    "pairwise_change_histogram(dataset=dataset, condition='Control')\n",
    "pairwise_change_histogram(dataset=dataset, condition='DOI')"
   ]
  },
  {
   "cell_type": "markdown",
   "metadata": {},
   "source": [
    "### Statistics"
   ]
  },
  {
   "cell_type": "code",
   "execution_count": 287,
   "metadata": {},
   "outputs": [],
   "source": [
    "from scipy import stats\n",
    "\n",
    "dataset = 'DataSet04'\n",
    "control_data = seg_change_df[(seg_change_df['condition'] == 'Control' ) & (seg_change_df['dataset'] == dataset)]\n",
    "control_data = control_data['pairwise_change']\n",
    "doi_data = seg_change_df[(seg_change_df['condition'] == 'DOI' ) & (seg_change_df['dataset'] == dataset)]\n",
    "doi_data = doi_data['pairwise_change']"
   ]
  },
  {
   "cell_type": "code",
   "execution_count": 288,
   "metadata": {},
   "outputs": [
    {
     "name": "stdout",
     "output_type": "stream",
     "text": [
      "Levene's test statistic: 0.026939734169747\n",
      "p-value: 0.8696442197366224\n",
      "Fail to reject the null hypothesis. The variances are likely equal.\n"
     ]
    }
   ],
   "source": [
    "# Perform Levene's test\n",
    "statistic, p_value = stats.levene(control_data, doi_data)\n",
    "print(f\"Levene's test statistic: {statistic}\")\n",
    "print(f\"p-value: {p_value}\")\n",
    "\n",
    "# Interpret the results\n",
    "alpha = 0.05  # common significance level\n",
    "if p_value > alpha:\n",
    "    print(\"Fail to reject the null hypothesis. The variances are likely equal.\")\n",
    "else:\n",
    "    print(\"Reject the null hypothesis. The variances are likely not equal.\")"
   ]
  },
  {
   "cell_type": "code",
   "execution_count": 289,
   "metadata": {},
   "outputs": [
    {
     "name": "stdout",
     "output_type": "stream",
     "text": [
      "Observed difference in means: -0.0935077519379845\n",
      "Bootstrap p-value: 0.8111\n",
      "95% Confidence Interval: (-0.7663401162790698, 0.7570038759689921)\n"
     ]
    }
   ],
   "source": [
    "def bootstrap_mean_diff(group1, group2, num_bootstraps=10000):\n",
    "    n1, n2 = len(group1), len(group2)\n",
    "    combined = np.concatenate([group1, group2])\n",
    "    bootstrap_diffs = []\n",
    "    for _ in range(num_bootstraps):\n",
    "        boot_sample = np.random.choice(combined, size=n1+n2, replace=True)\n",
    "        boot_group1 = boot_sample[:n1]\n",
    "        boot_group2 = boot_sample[n1:]\n",
    "        bootstrap_diffs.append(np.mean(boot_group1) - np.mean(boot_group2))\n",
    "    return bootstrap_diffs\n",
    "\n",
    "bootstrap_diffs = bootstrap_mean_diff(control_data, doi_data)\n",
    "observed_diff = np.mean(control_data) - np.mean(doi_data)\n",
    "\n",
    "# Calculate p-value\n",
    "p_value = np.mean(np.abs(bootstrap_diffs) >= np.abs(observed_diff))\n",
    "\n",
    "print(f\"Observed difference in means: {observed_diff}\")\n",
    "print(f\"Bootstrap p-value: {p_value}\")\n",
    "\n",
    "# Calculate confidence interval\n",
    "ci_lower, ci_upper = np.percentile(bootstrap_diffs, [2.5, 97.5])\n",
    "print(f\"95% Confidence Interval: ({ci_lower}, {ci_upper})\")"
   ]
  }
 ],
 "metadata": {
  "kernelspec": {
   "display_name": "base",
   "language": "python",
   "name": "python3"
  },
  "language_info": {
   "codemirror_mode": {
    "name": "ipython",
    "version": 3
   },
   "file_extension": ".py",
   "mimetype": "text/x-python",
   "name": "python",
   "nbconvert_exporter": "python",
   "pygments_lexer": "ipython3",
   "version": "3.11.5"
  }
 },
 "nbformat": 4,
 "nbformat_minor": 2
}
