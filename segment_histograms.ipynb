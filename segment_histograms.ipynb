{
 "cells": [
  {
   "cell_type": "code",
   "execution_count": 6,
   "metadata": {},
   "outputs": [],
   "source": [
    "from pvd_io import *\n",
    "import pickle"
   ]
  },
  {
   "cell_type": "code",
   "execution_count": 10,
   "metadata": {},
   "outputs": [
    {
     "name": "stdout",
     "output_type": "stream",
     "text": [
      "Located 95 matched segment lists.\n"
     ]
    }
   ],
   "source": [
    "data_dir = 'pvd_analysis/'\n",
    "min_file_size = 1e3  # 1 kb\n",
    "datasets, sessions, files = scan_directories(data_dir, min_file_size, filetype='.pkl')\n",
    "print(f\"Located {len(files)} matched segment lists.\")"
   ]
  },
  {
   "cell_type": "code",
   "execution_count": 11,
   "metadata": {},
   "outputs": [],
   "source": [
    "matched_segments_vx = []\n",
    "\n",
    "for ii, session in enumerate(sessions):\n",
    "    file_path = f\"{data_dir}/{datasets[ii]}/{session}/length_change_voxels.pkl\"\n",
    "    with open(file_path, 'rb') as file:\n",
    "        session_segments_vx = pickle.load(file)\n",
    "\n",
    "    matched_segments_vx.append(session_segments_vx)"
   ]
  },
  {
   "cell_type": "code",
   "execution_count": 13,
   "metadata": {},
   "outputs": [
    {
     "data": {
      "text/plain": [
       "9"
      ]
     },
     "execution_count": 13,
     "metadata": {},
     "output_type": "execute_result"
    }
   ],
   "source": [
    "len(matched_segments_vx[1])"
   ]
  },
  {
   "cell_type": "code",
   "execution_count": 5,
   "metadata": {},
   "outputs": [
    {
     "data": {
      "text/plain": [
       "['length_change_spline.pkl',\n",
       " 'length_change_voxels.pkl',\n",
       " 'length_change_spline.pkl',\n",
       " 'length_change_voxels.pkl',\n",
       " 'length_change_spline.pkl',\n",
       " 'length_change_voxels.pkl',\n",
       " 'length_change_spline.pkl',\n",
       " 'length_change_voxels.pkl',\n",
       " 'length_change_spline.pkl',\n",
       " 'length_change_voxels.pkl',\n",
       " 'length_change_spline.pkl',\n",
       " 'length_change_voxels.pkl',\n",
       " 'length_change_spline.pkl',\n",
       " 'length_change_voxels.pkl',\n",
       " 'length_change_spline.pkl',\n",
       " 'length_change_voxels.pkl',\n",
       " 'length_change_spline.pkl',\n",
       " 'length_change_voxels.pkl',\n",
       " 'length_change_spline.pkl',\n",
       " 'length_change_voxels.pkl',\n",
       " 'length_change_spline.pkl',\n",
       " 'length_change_voxels.pkl',\n",
       " 'length_change_spline.pkl',\n",
       " 'length_change_voxels.pkl',\n",
       " 'length_change_spline.pkl',\n",
       " 'length_change_voxels.pkl',\n",
       " 'length_change_spline.pkl',\n",
       " 'length_change_voxels.pkl',\n",
       " 'length_change_spline.pkl',\n",
       " 'length_change_voxels.pkl',\n",
       " 'length_change_raw.pkl',\n",
       " 'length_change_spline.pkl',\n",
       " 'length_change_voxels.pkl',\n",
       " 'length_change_spline.pkl',\n",
       " 'length_change_voxels.pkl',\n",
       " 'length_change_spline.pkl',\n",
       " 'length_change_voxels.pkl',\n",
       " 'length_change_spline.pkl',\n",
       " 'length_change_voxels.pkl',\n",
       " 'length_change_spline.pkl',\n",
       " 'length_change_voxels.pkl',\n",
       " 'length_change_spline.pkl',\n",
       " 'length_change_voxels.pkl',\n",
       " 'length_change_spline.pkl',\n",
       " 'length_change_voxels.pkl',\n",
       " 'length_change_spline.pkl',\n",
       " 'length_change_voxels.pkl',\n",
       " 'length_change_spline.pkl',\n",
       " 'length_change_voxels.pkl',\n",
       " 'length_change_spline.pkl',\n",
       " 'length_change_voxels.pkl',\n",
       " 'length_change_spline.pkl',\n",
       " 'length_change_voxels.pkl',\n",
       " 'length_change_spline.pkl',\n",
       " 'length_change_voxels.pkl',\n",
       " 'length_change_spline.pkl',\n",
       " 'length_change_voxels.pkl',\n",
       " 'length_change_spline.pkl',\n",
       " 'length_change_voxels.pkl',\n",
       " 'length_change_spline.pkl',\n",
       " 'length_change_voxels.pkl',\n",
       " 'length_change_spline.pkl',\n",
       " 'length_change_voxels.pkl',\n",
       " 'length_change_spline.pkl',\n",
       " 'length_change_voxels.pkl',\n",
       " 'length_change_spline.pkl',\n",
       " 'length_change_voxels.pkl',\n",
       " 'length_change_spline.pkl',\n",
       " 'length_change_voxels.pkl',\n",
       " 'length_change_spline.pkl',\n",
       " 'length_change_voxels.pkl',\n",
       " 'length_change_spline.pkl',\n",
       " 'length_change_voxels.pkl',\n",
       " 'length_change_spline.pkl',\n",
       " 'length_change_voxels.pkl',\n",
       " 'length_change_spline.pkl',\n",
       " 'length_change_voxels.pkl',\n",
       " 'length_change_spline.pkl',\n",
       " 'length_change_voxels.pkl',\n",
       " 'length_change_spline.pkl',\n",
       " 'length_change_voxels.pkl',\n",
       " 'length_change_spline.pkl',\n",
       " 'length_change_voxels.pkl',\n",
       " 'length_change_spline.pkl',\n",
       " 'length_change_voxels.pkl',\n",
       " 'length_change_spline.pkl',\n",
       " 'length_change_voxels.pkl',\n",
       " 'length_change_spline.pkl',\n",
       " 'length_change_voxels.pkl',\n",
       " 'length_change_spline.pkl',\n",
       " 'length_change_voxels.pkl',\n",
       " 'length_change_spline.pkl',\n",
       " 'length_change_voxels.pkl',\n",
       " 'length_change_spline.pkl',\n",
       " 'length_change_voxels.pkl']"
      ]
     },
     "execution_count": 5,
     "metadata": {},
     "output_type": "execute_result"
    }
   ],
   "source": [
    "files"
   ]
  }
 ],
 "metadata": {
  "kernelspec": {
   "display_name": "base",
   "language": "python",
   "name": "python3"
  },
  "language_info": {
   "codemirror_mode": {
    "name": "ipython",
    "version": 3
   },
   "file_extension": ".py",
   "mimetype": "text/x-python",
   "name": "python",
   "nbconvert_exporter": "python",
   "pygments_lexer": "ipython3",
   "version": "3.11.5"
  }
 },
 "nbformat": 4,
 "nbformat_minor": 2
}
