{
 "cells": [
  {
   "cell_type": "markdown",
   "metadata": {},
   "source": [
    "### Process Tiff Stack"
   ]
  },
  {
   "cell_type": "code",
   "execution_count": null,
   "metadata": {},
   "outputs": [],
   "source": [
    "import time\n",
    "from pvd_io import *\n",
    "from pvd_par import PVD\n",
    "from pvd_metrics import data_summary\n",
    "from IPython.display import clear_output"
   ]
  },
  {
   "cell_type": "markdown",
   "metadata": {},
   "source": [
    "### Get data paths"
   ]
  },
  {
   "cell_type": "code",
   "execution_count": null,
   "metadata": {},
   "outputs": [],
   "source": [
    "# Get all tiff stacks and their paths\n",
    "data_dir = 'pvd_data/'\n",
    "min_file_size = 1e8  # 100 MB\n",
    "datasets, sessions, files = scan_directories(data_dir, min_file_size)\n",
    "print(f\"Located {len(files)} tiff stacks\")"
   ]
  },
  {
   "cell_type": "markdown",
   "metadata": {},
   "source": [
    "### Batch Process Data"
   ]
  },
  {
   "cell_type": "code",
   "execution_count": null,
   "metadata": {},
   "outputs": [],
   "source": [
    "# Execute pipeline\n",
    "for ii, file in enumerate(files):  # Slice like so to get a range of files[:1]\n",
    "    clear_output(wait=True)\n",
    "\n",
    "    # Set path\n",
    "    data_path = 'pvd_data'\n",
    "    results_path = 'pvd_analysis'\n",
    "    dataset = datasets[ii]\n",
    "    session = sessions[ii]\n",
    "    output_path = f\"{results_path}/{dataset}/{session}/\"\n",
    "\n",
    "    # Capture and display output\n",
    "    output_capture = OutputCapture()\n",
    "    sys.stdout = output_capture\n",
    "\n",
    "    try:\n",
    "        print(f\"Processing tiff stack {ii}/{len(files)}\")\n",
    "        print(f\"{datasets[ii]} {sessions[ii]}\")\n",
    "        pvd = PVD(data_path, dataset, session, file)\n",
    "        pvd.run_pipeline()\n",
    "\n",
    "        print(f\"Saving data to drive...\")\n",
    "        pvd.save_results(output_path, save_tiff=False, save_numpy=False, save_plotly=False, save_labeled_tiff=False)\n",
    "\n",
    "    finally:\n",
    "        sys.stdout = output_capture.original_stdout\n",
    "\n",
    "    # Save cell output\n",
    "    with open(f\"{output_path}output.txt\", 'w') as f:\n",
    "        f.write(str(output_capture.get_output()))\n",
    "\n",
    "    # Clear memory\n",
    "    del pvd\n",
    "\n",
    "    time.sleep(1)\n",
    "\n",
    "# Create summary file recording MIP similarity between timepoints and segments matched\n",
    "data_summary(files, datasets, sessions)"
   ]
  },
  {
   "cell_type": "markdown",
   "metadata": {},
   "source": [
    "### Single Stack"
   ]
  },
  {
   "cell_type": "code",
   "execution_count": null,
   "metadata": {},
   "outputs": [],
   "source": [
    "# Set path to zero-match file\n",
    "data_path = 'pvd_data'\n",
    "results_path = 'pvd_analysis'\n",
    "dataset = 'DataSet00'\n",
    "session = 'exp240104_00_01_'\n",
    "file = 'exp240104_00_01.tif'\n",
    "tiff_stack_path = f\"{data_path}/{dataset}/{session}_/{file}\"\n",
    "output_path = f\"{results_path}/{dataset}/{session}/\"\n",
    "\n",
    "# Capture and display output\n",
    "output_capture = OutputCapture()\n",
    "sys.stdout = output_capture\n",
    "\n",
    "try:\n",
    "    pvd = PVD(data_path, dataset, session, file)\n",
    "    pvd.run_pipeline()\n",
    "\n",
    "    print(f\"Saving data to drive...\")\n",
    "    pvd.save_results(output_path, save_tiff=False, save_numpy=False, save_plotly=True, save_labeled_tiff=False)\n",
    "\n",
    "finally:\n",
    "    sys.stdout = output_capture.original_stdout\n",
    "\n",
    "# Save cell output\n",
    "with open(f\"{output_path}pipeline_log.txt\", 'w') as f:\n",
    "    f.write(str(output_capture.get_output()))\n",
    "\n",
    "time.sleep(1)"
   ]
  },
  {
   "cell_type": "code",
   "execution_count": null,
   "metadata": {},
   "outputs": [],
   "source": [
    "# # Set path to original test file\n",
    "# data_path = 'pvd_data'\n",
    "# results_path = 'pvd_analysis'\n",
    "# dataset = 'DataSet01'\n",
    "# session = 'exp240202_01_E_'\n",
    "# file = 'exp240202_01_E.tif'\n",
    "# tiff_stack_path = f\"{data_path}/{dataset}/{session}_/{file}\"\n",
    "# output_path = f\"{results_path}/{dataset}/{session}/\"\n",
    "\n",
    "# # Process stack\n",
    "# pvd = PVD(data_path, dataset, session, file)\n",
    "# pvd.run_pipeline()\n",
    "\n",
    "# # Save relevant numpy arrays\n",
    "# print(f\"Saving data to drive...\")\n",
    "# pvd.save_results(output_path, save_tiff=False, save_numpy=False, save_plotly=False, save_labeled_tiff=False)\n",
    "\n",
    "# time.sleep(1)"
   ]
  },
  {
   "cell_type": "markdown",
   "metadata": {},
   "source": [
    "### Matched Segment Summary"
   ]
  },
  {
   "cell_type": "code",
   "execution_count": null,
   "metadata": {},
   "outputs": [],
   "source": [
    "# # add a line to extract the quality score <-- add this to pvd_metrics.py\n",
    "# import pandas as pd\n",
    "\n",
    "# # Create a file with a tally of matched segments per tiff stack\n",
    "\n",
    "# def data_summary(files, datasets, sessions, summary_file = \"data_summary.txt\"):\n",
    "#     # Summary Report\n",
    "#     for ii, file in enumerate(files):\n",
    "#         results_path = 'pvd_analysis'\n",
    "#         dataset = datasets[ii]\n",
    "#         session = sessions[ii]\n",
    "#         output_path = f\"{results_path}/{dataset}/{session}/\"\n",
    "\n",
    "#         segment_csv = pd.read_csv(f\"{output_path}segment_change.csv\")\n",
    "#         quality_csv = pd.read_csv(f\"{output_path}mip_cosine_similarity.csv'\")\n",
    "#         csv_length = segment_csv.shape[1]-3  # Subtract 3 for index and core segment\n",
    "#         quality_score = quality_csv.loc[5,'t1']  # Get avg. cosine similarity score from csv\n",
    "\n",
    "#         with open(summary_file, 'a') as file:\n",
    "#             file.write(f\"{dataset} - {session} -- Segments: {csv_length}  Quality: {float(quality_score):.2f}\\n\")"
   ]
  }
 ],
 "metadata": {
  "kernelspec": {
   "display_name": "base",
   "language": "python",
   "name": "python3"
  },
  "language_info": {
   "codemirror_mode": {
    "name": "ipython",
    "version": 3
   },
   "file_extension": ".py",
   "mimetype": "text/x-python",
   "name": "python",
   "nbconvert_exporter": "python",
   "pygments_lexer": "ipython3",
   "version": "3.11.5"
  }
 },
 "nbformat": 4,
 "nbformat_minor": 2
}
