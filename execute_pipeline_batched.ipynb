{
 "cells": [
  {
   "cell_type": "markdown",
   "metadata": {},
   "source": [
    "### Process Tiff Stack"
   ]
  },
  {
   "cell_type": "code",
   "execution_count": 5,
   "metadata": {},
   "outputs": [],
   "source": [
    "from pvd_par import PVD\n",
    "import os"
   ]
  },
  {
   "cell_type": "code",
   "execution_count": 6,
   "metadata": {},
   "outputs": [],
   "source": [
    "import matplotlib.pyplot as plt\n",
    "import plotly.graph_objects as go\n",
    "import plotly.io as pio\n",
    "import numpy as np"
   ]
  },
  {
   "cell_type": "code",
   "execution_count": 7,
   "metadata": {},
   "outputs": [],
   "source": [
    "def create_skeleton_plot(timepoints=4):\n",
    "    # Timepoint of interest (0 to 3)\n",
    "    for timepoint in range(timepoints):\n",
    "        # Prepare skeleton data for plotting\n",
    "        image_stack = np.transpose(pvd.skeletonized_data[timepoint], (1, 2, 0))\n",
    "        x, y, z = image_stack.shape\n",
    "        Y, X, Z = np.meshgrid(np.arange(y), np.arange(x), np.arange(z))\n",
    "        colors = image_stack.ravel()\n",
    "\n",
    "        # Omit background (0-valued) voxels\n",
    "        visible_mask = colors != 0\n",
    "\n",
    "        # Extract coordinates for skeleton tips\n",
    "        tips_z = [point[0] for point in pvd.tips[timepoint]]\n",
    "        tips_x = [point[1] for point in pvd.tips[timepoint]]\n",
    "        tips_y = [point[2] for point in pvd.tips[timepoint]]\n",
    "\n",
    "        # Extract coordinates for skeleton knots\n",
    "        knot_z = [point[0] for point in pvd.knots[timepoint]]\n",
    "        knot_x = [point[1] for point in pvd.knots[timepoint]]\n",
    "        knot_y = [point[2] for point in pvd.knots[timepoint]]\n",
    "\n",
    "        # Plotly figure\n",
    "        fig = go.Figure()\n",
    "\n",
    "        # Skeleton tips\n",
    "        fig.add_trace(go.Scatter3d(\n",
    "            x=tips_x,\n",
    "            y=tips_y,\n",
    "            z=tips_z,\n",
    "            mode='markers',  # Use 'lines' for a line plot or 'markers+lines' for both\n",
    "            marker=dict(\n",
    "                size=5,\n",
    "                color='red',  # You can customize the color\n",
    "                opacity=.9\n",
    "            )\n",
    "        ))\n",
    "\n",
    "        # Skeleton knots\n",
    "        fig.add_trace(go.Scatter3d(\n",
    "            x=knot_x,\n",
    "            y=knot_y,\n",
    "            z=knot_z,\n",
    "            mode='markers',  # Use 'lines' for a line plot or 'markers+lines' for both\n",
    "            marker=dict(\n",
    "                size=4,\n",
    "                color='blue',  # You can customize the color\n",
    "                opacity=.9\n",
    "            )\n",
    "        ))\n",
    "\n",
    "        # Skeleton structure\n",
    "        fig.add_trace(go.Scatter3d(\n",
    "            x=X.ravel()[visible_mask],\n",
    "            y=Y.ravel()[visible_mask],\n",
    "            z=Z.ravel()[visible_mask],\n",
    "            mode='markers',\n",
    "            marker=dict(\n",
    "                size=2,\n",
    "                color='black',\n",
    "                colorscale='Viridis',\n",
    "                opacity=.1\n",
    "            )\n",
    "        ))\n",
    "\n",
    "        # Update layout\n",
    "        fig.update_layout(\n",
    "            title=f\"C. Elegans PVD Neuron: <b>{session}</b><br>Timepoint: <b>{timepoint}</b>\",\n",
    "            scene=dict(\n",
    "                xaxis_title='X (pixels)',\n",
    "                yaxis_title='Y (pixels)',\n",
    "                zaxis_title='Z (image index)',\n",
    "                aspectmode='manual',\n",
    "                aspectratio=dict(x=1, y=1, z=.2),  # Adjust z-axis scale if desired\n",
    "                zaxis=dict(range=[0, pvd.skeletonized_data[timepoint].shape[0]]),  # Set z-axis bounds\n",
    "                xaxis=dict(range=[0, pvd.skeletonized_data[timepoint].shape[1]]),  # Set x-axis bounds\n",
    "                yaxis=dict(range=[0, pvd.skeletonized_data[timepoint].shape[2]]),  # Set y-axis bounds\n",
    "\n",
    "            ),\n",
    "            autosize=True\n",
    "\n",
    "        )\n",
    "\n",
    "        # Save the plot to an HTML file\n",
    "        pio.write_html(fig, file=f'plots/{session}_skeleton_{timepoint}.html', auto_open=False)"
   ]
  },
  {
   "cell_type": "code",
   "execution_count": 8,
   "metadata": {},
   "outputs": [],
   "source": [
    "# Function to get files and paths\n",
    "def scan_directories(data_directory):\n",
    "    dataset_list = []\n",
    "    session_list = []\n",
    "    file_list = []\n",
    "\n",
    "    for root, dirs, files in os.walk(data_directory):\n",
    "        # Check if the current path contains \"exclude\" or \"movement\"\n",
    "        if \"exclude\" in root.lower() or \"movement\" in root.lower():\n",
    "            continue  # Skip this directory\n",
    "\n",
    "        for file in files:\n",
    "            if file.endswith('.tif'):\n",
    "                path_parts = os.path.normpath(root).split(os.sep)\n",
    "                if len(path_parts) >= 3:\n",
    "                    dataset = path_parts[-2]\n",
    "                    session = path_parts[-1]\n",
    "                    dataset_list.append(dataset)\n",
    "                    session_list.append(session)\n",
    "                    file_list.append(file)\n",
    "\n",
    "    return dataset_list, session_list, file_list"
   ]
  },
  {
   "cell_type": "code",
   "execution_count": 9,
   "metadata": {},
   "outputs": [
    {
     "name": "stdout",
     "output_type": "stream",
     "text": [
      "Located 55 tiff stacks\n"
     ]
    }
   ],
   "source": [
    "# Get all tiff stacks and their paths\n",
    "data_dir = 'S:/pvd_data/'\n",
    "datasets, sessions, files = scan_directories(data_dir)\n",
    "print(f\"Located {len(files)} tiff stacks\")"
   ]
  },
  {
   "cell_type": "code",
   "execution_count": 10,
   "metadata": {},
   "outputs": [
    {
     "name": "stdout",
     "output_type": "stream",
     "text": [
      "Processing tiff stack 0/55...\n",
      "Starting pipeline\n",
      "Loaded raw data with shape: (4, 92, 2044, 2042)\n",
      "Cropped raw data to shape: (4, 92, 2000, 2000)\n",
      "Skeletonizing timepoint 0Skeletonizing timepoint 1\n",
      "\n",
      "Skeletonizing timepoint 2\n",
      "Skeletonizing timepoint 3\n",
      "Completed skeletonizing timepoint 3\n",
      "Completed skeletonizing timepoint 0\n",
      "Completed skeletonizing timepoint 2\n",
      "Completed skeletonizing timepoint 1\n",
      "Skeletonized data shape: [(92, 2000, 2000), (92, 2000, 2000), (92, 2000, 2000), (92, 2000, 2000)]\n",
      "Number of tips per timepoint: [214, 186, 136, 98]\n",
      "Number of knots per timepoint: [475, 452, 311, 246]\n",
      "Pipeline completed\n",
      "Processing tiff stack 1/55...\n",
      "Starting pipeline\n",
      "Loaded raw data with shape: (4, 92, 2044, 2042)\n",
      "Cropped raw data to shape: (4, 92, 2000, 2000)\n"
     ]
    }
   ],
   "source": [
    "# Execute pipeline\n",
    "for ii, file in enumerate(files):\n",
    "    # Set paths\n",
    "    data_path = 'S:/pvd_data'\n",
    "    dataset = datasets[ii]\n",
    "    session = sessions[ii]\n",
    "    tiff_stack_path = f\"{data_path}/{dataset}/{session}/{file}\"\n",
    "    output_path = f\"{data_path}/{dataset}/{session}/\"\n",
    "\n",
    "    # Process stack\n",
    "    print(f\"Processing tiff stack {ii}/{len(files)}...\")\n",
    "    pvd = PVD(tiff_stack_path)\n",
    "    pvd.run_pipeline()\n",
    "    \n",
    "    # Save relevant numpy arrays\n",
    "    print(f\"Saving numpy arrays to disk...\")\n",
    "    pvd.save_results(output_path, save_tiff=False)\n",
    "    # Save plots\n",
    "    print(f\"Creating skeleton visualizations...\")\n",
    "    create_skeleton_plot()"
   ]
  }
 ],
 "metadata": {
  "kernelspec": {
   "display_name": "base",
   "language": "python",
   "name": "python3"
  },
  "language_info": {
   "codemirror_mode": {
    "name": "ipython",
    "version": 3
   },
   "file_extension": ".py",
   "mimetype": "text/x-python",
   "name": "python",
   "nbconvert_exporter": "python",
   "pygments_lexer": "ipython3",
   "version": "3.11.4"
  }
 },
 "nbformat": 4,
 "nbformat_minor": 2
}
