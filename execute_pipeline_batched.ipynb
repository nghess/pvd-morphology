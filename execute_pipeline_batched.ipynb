{
 "cells": [
  {
   "cell_type": "markdown",
   "metadata": {},
   "source": [
    "### Process Tiff Stack"
   ]
  },
  {
   "cell_type": "code",
   "execution_count": 31,
   "metadata": {},
   "outputs": [],
   "source": [
    "import time\n",
    "import pandas as pd\n",
    "from pvd_io import *\n",
    "from pvd_par import PVD\n",
    "from IPython.display import clear_output"
   ]
  },
  {
   "cell_type": "markdown",
   "metadata": {},
   "source": [
    "### Get data paths"
   ]
  },
  {
   "cell_type": "code",
   "execution_count": 3,
   "metadata": {},
   "outputs": [
    {
     "name": "stdout",
     "output_type": "stream",
     "text": [
      "Located 53 tiff stacks\n"
     ]
    }
   ],
   "source": [
    "# Get all tiff stacks and their paths\n",
    "data_dir = 'pvd_data/'\n",
    "min_file_size = 1e8  # 100 MB\n",
    "datasets, sessions, files = scan_directories(data_dir, min_file_size)\n",
    "print(f\"Located {len(files)} tiff stacks\")"
   ]
  },
  {
   "cell_type": "markdown",
   "metadata": {},
   "source": [
    "### Batch Process Data"
   ]
  },
  {
   "cell_type": "code",
   "execution_count": 8,
   "metadata": {},
   "outputs": [
    {
     "name": "stdout",
     "output_type": "stream",
     "text": [
      "Processing tiff stack 52/53\n",
      "DataSet04 expDS4_13\n",
      "Starting pipeline.\n",
      "Data loaded. Shape: (4, 103, 2048, 2048): 2.49 seconds\n",
      "Data cropped. Shape: (4, 103, 2000, 2000): 4.92 seconds\n",
      "Preprocessing complete: 68.97 seconds\n",
      "Data skeletonized: 184.48 seconds\n",
      "Number of tips per timepoint: [128, 143, 160, 217]\n",
      "Number of knots per timepoint: [353, 350, 368, 459]\n",
      "Outer segments found. Number of outer segments per timepoint: [41, 36, 33, 85]: 3.02 seconds\n",
      "Matched 0 segments across all timepoints.\n",
      "Segments matched. Number of matched segments per timepoint: [0, 0, 0, 0]: 0.07 seconds\n",
      "Unmatched segments grouped: 5.16 seconds\n",
      "All timepoints labeled successfully\n",
      "Number of unique labels: 1\n",
      "Processed data labeled: 22.88 seconds\n",
      "Volume changes DataFrame generated: 23.43 seconds\n",
      "Pipeline complete. Total time: 315.43 seconds\n",
      "Saving data to drive...\n",
      "Skeleton visualizations saved to pvd_analysis/DataSet04/expDS4_13//visualizations\n",
      "Outer segment visualizations saved to pvd_analysis/DataSet04/expDS4_13//visualizations\n",
      "Labeled data saved as color TIFF files in pvd_analysis/DataSet04/expDS4_13/\n",
      "Volume changes DataFrame saved to pvd_analysis/DataSet04/expDS4_13//segment_change.csv\n"
     ]
    }
   ],
   "source": [
    "# Execute pipeline\n",
    "for ii, file in enumerate(files):  # Slice like so to get a range of files[:1]\n",
    "    clear_output(wait=True)\n",
    "\n",
    "    # Set path\n",
    "    data_path = 'pvd_data'\n",
    "    results_path = 'pvd_analysis'\n",
    "    dataset = datasets[ii]\n",
    "    session = sessions[ii]\n",
    "    output_path = f\"{results_path}/{dataset}/{session}/\"\n",
    "\n",
    "    # Capture and display output\n",
    "    output_capture = OutputCapture()\n",
    "    sys.stdout = output_capture\n",
    "\n",
    "    try:\n",
    "        print(f\"Processing tiff stack {ii}/{len(files)}\")\n",
    "        print(f\"{datasets[ii]} {sessions[ii]}\")\n",
    "        pvd = PVD(data_path, dataset, session, file)\n",
    "        pvd.run_pipeline()\n",
    "\n",
    "        print(f\"Saving data to drive...\")\n",
    "        pvd.save_results(output_path, save_tiff=False, save_numpy=False, save_plotly=False, save_labeled_tiff=False)\n",
    "\n",
    "    finally:\n",
    "        sys.stdout = output_capture.original_stdout\n",
    "\n",
    "    # Save cell output\n",
    "    with open(f\"{output_path}output.txt\", 'w') as f:\n",
    "        f.write(str(output_capture.get_output()))\n",
    "\n",
    "    # Clear memory\n",
    "    del pvd\n",
    "\n",
    "    time.sleep(1)"
   ]
  },
  {
   "cell_type": "markdown",
   "metadata": {},
   "source": [
    "### Single Stack"
   ]
  },
  {
   "cell_type": "code",
   "execution_count": 29,
   "metadata": {},
   "outputs": [
    {
     "name": "stdout",
     "output_type": "stream",
     "text": [
      "Starting pipeline.\n",
      "Data loaded. Shape: (4, 92, 2044, 2042): 7.88 seconds\n",
      "Data cropped. Shape: (4, 92, 2000, 2000): 4.69 seconds\n",
      "Preprocessing complete: 65.34 seconds\n",
      "Data skeletonized: 160.59 seconds\n",
      "Number of tips per timepoint: [214, 186, 136, 98]\n",
      "Number of knots per timepoint: [475, 452, 311, 246]\n",
      "Outer segments found. Number of outer segments per timepoint: [130, 109, 78, 52]: 2.73 seconds\n",
      "Matched 7 segments across all timepoints.\n",
      "Segments matched. Number of matched segments per timepoint: [7, 7, 7, 7]: 0.40 seconds\n",
      "Unmatched segments grouped: 5.07 seconds\n",
      "All timepoints labeled successfully\n",
      "Number of unique labels: 8\n",
      "Processed data labeled: 21.68 seconds\n",
      "Volume changes DataFrame generated: 22.63 seconds\n",
      "Pipeline complete. Total time: 291.02 seconds\n",
      "Saving data to drive...\n",
      "Volume changes DataFrame saved to pvd_analysis/DataSet00/exp240104_00_01_//segment_change.csv\n"
     ]
    }
   ],
   "source": [
    "# Set path to zero-match file\n",
    "data_path = 'pvd_data'\n",
    "results_path = 'pvd_analysis'\n",
    "dataset = 'DataSet00'\n",
    "session = 'exp240104_00_01_'\n",
    "file = 'exp240104_00_01.tif'\n",
    "tiff_stack_path = f\"{data_path}/{dataset}/{session}_/{file}\"\n",
    "output_path = f\"{results_path}/{dataset}/{session}/\"\n",
    "\n",
    "# Capture and display output\n",
    "output_capture = OutputCapture()\n",
    "sys.stdout = output_capture\n",
    "\n",
    "try:\n",
    "    pvd = PVD(data_path, dataset, session, file)\n",
    "    pvd.run_pipeline()\n",
    "\n",
    "    print(f\"Saving data to drive...\")\n",
    "    pvd.save_results(output_path, save_tiff=False, save_numpy=False, save_plotly=False, save_labeled_tiff=False)\n",
    "\n",
    "finally:\n",
    "    sys.stdout = output_capture.original_stdout\n",
    "\n",
    "# Save cell output\n",
    "with open(f\"{output_path}output.txt\", 'w') as f:\n",
    "    f.write(str(output_capture.get_output()))\n",
    "\n",
    "time.sleep(1)"
   ]
  },
  {
   "cell_type": "code",
   "execution_count": 7,
   "metadata": {},
   "outputs": [
    {
     "name": "stdout",
     "output_type": "stream",
     "text": [
      "Starting pipeline.\n",
      "Data loaded. Shape: (4, 188, 2044, 2042): 4.67 seconds\n",
      "Data cropped. Shape: (4, 188, 2000, 2000): 8.96 seconds\n",
      "Preprocessing complete: 130.76 seconds\n",
      "Data skeletonized: 285.89 seconds\n",
      "Number of tips per timepoint: [117, 112, 117, 122]\n",
      "Number of knots per timepoint: [342, 345, 335, 340]\n",
      "Outer segments found. Number of outer segments per timepoint: [34, 32, 32, 35]: 4.95 seconds\n",
      "Matched 19 segments across all timepoints.\n",
      "Segments matched. Number of matched segments per timepoint: [19, 19, 19, 19]: 0.05 seconds\n",
      "Unmatched segments grouped: 9.47 seconds\n",
      "All timepoints labeled successfully\n",
      "Number of unique labels: 20\n",
      "Processed data labeled: 37.72 seconds\n",
      "Volume changes DataFrame generated: 44.45 seconds\n",
      "Pipeline complete. Total time: 526.93 seconds\n",
      "Saving data to drive...\n",
      "Skeleton visualizations saved to pvd_analysis/DataSet01/exp240202_01_E_//visualizations\n",
      "Outer segment visualizations saved to pvd_analysis/DataSet01/exp240202_01_E_//visualizations\n",
      "Labeled data saved as color TIFF files in pvd_analysis/DataSet01/exp240202_01_E_/\n",
      "Volume changes DataFrame saved to pvd_analysis/DataSet01/exp240202_01_E_//segment_change.csv\n"
     ]
    }
   ],
   "source": [
    "# # Set path to original test file\n",
    "# data_path = 'pvd_data'\n",
    "# results_path = 'pvd_analysis'\n",
    "# dataset = 'DataSet01'\n",
    "# session = 'exp240202_01_E_'\n",
    "# file = 'exp240202_01_E.tif'\n",
    "# tiff_stack_path = f\"{data_path}/{dataset}/{session}_/{file}\"\n",
    "# output_path = f\"{results_path}/{dataset}/{session}/\"\n",
    "\n",
    "# # Process stack\n",
    "# pvd = PVD(data_path, dataset, session, file)\n",
    "# pvd.run_pipeline()\n",
    "\n",
    "# # Save relevant numpy arrays\n",
    "# print(f\"Saving data to drive...\")\n",
    "# pvd.save_results(output_path, save_tiff=False, save_numpy=False, save_plotly=True, save_labeled_tiff=True)\n",
    "\n",
    "# time.sleep(1)"
   ]
  },
  {
   "cell_type": "markdown",
   "metadata": {},
   "source": [
    "### Matched Segment Summary"
   ]
  },
  {
   "cell_type": "code",
   "execution_count": 9,
   "metadata": {},
   "outputs": [],
   "source": [
    "# Create a file with a tally of matched segments per tiff stack\n",
    "summary_file = \"summary_talapas.txt\"\n",
    "\n",
    "# Summary Report\n",
    "for ii, file in enumerate(files):\n",
    "    results_path = 'pvd_analysis'\n",
    "    dataset = datasets[ii]\n",
    "    session = sessions[ii]\n",
    "    output_path = f\"{results_path}/{dataset}/{session}/\"\n",
    "\n",
    "    csv = pd.read_csv(f\"{output_path}segment_change.csv\")\n",
    "    csv_length = csv.shape[1]-3  # Subtract 3 for index and core segment\n",
    "\n",
    "    with open(summary_file, 'a') as file:\n",
    "        file.write(f\"{dataset} - {session}: {csv_length}\\n\")"
   ]
  }
 ],
 "metadata": {
  "kernelspec": {
   "display_name": "base",
   "language": "python",
   "name": "python3"
  },
  "language_info": {
   "codemirror_mode": {
    "name": "ipython",
    "version": 3
   },
   "file_extension": ".py",
   "mimetype": "text/x-python",
   "name": "python",
   "nbconvert_exporter": "python",
   "pygments_lexer": "ipython3",
   "version": "3.11.5"
  }
 },
 "nbformat": 4,
 "nbformat_minor": 2
}
